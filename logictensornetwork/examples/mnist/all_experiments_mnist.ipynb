{
 "cells": [
  {
   "cell_type": "markdown",
   "metadata": {},
   "source": [
    "# All experiments LTN Notebook\n",
    "\n",
    "This notebook contains experiments on the MNIST model. It will contain the following experiments:\n",
    "- changing the number of layers, learning rate etc for basic single_digits_addition and comparing results\n",
    "- adding different levels of symbolic knowledge to the single_digits_addition\n",
    "- multiple_digits_addition with more symbolic knowledge"
   ]
  },
  {
   "cell_type": "code",
   "execution_count": 1,
   "metadata": {
    "ExecuteTime": {
     "end_time": "2025-05-11T07:43:41.634095500Z",
     "start_time": "2025-05-11T07:43:37.944895800Z"
    }
   },
   "outputs": [],
   "source": [
    "import tensorflow as tf\n",
    "import ltn\n",
    "import baselines, data\n",
    "import commons_updated as commons\n",
    "import matplotlib.pyplot as plt"
   ]
  },
  {
   "cell_type": "markdown",
   "source": [
    "## Single Digit Addition"
   ],
   "metadata": {
    "collapsed": false
   }
  },
  {
   "cell_type": "markdown",
   "metadata": {},
   "source": [
    "## Data\n",
    "\n",
    "Dataset of images for the digits X and Y, and their label Z s.t. X+Y=Z."
   ]
  },
  {
   "cell_type": "code",
   "execution_count": 2,
   "metadata": {
    "ExecuteTime": {
     "end_time": "2025-05-11T07:43:42.667619800Z",
     "start_time": "2025-05-11T07:43:41.638095700Z"
    }
   },
   "outputs": [
    {
     "name": "stdout",
     "output_type": "stream",
     "text": [
      "Result label is 1\n"
     ]
    },
    {
     "data": {
      "text/plain": "<Figure size 640x480 with 2 Axes>",
      "image/png": "[encoded data removed]"
     },
     "metadata": {},
     "output_type": "display_data"
    }
   ],
   "source": [
    "ds_train, ds_test = data.get_mnist_op_dataset(\n",
    "        count_train=3000,\n",
    "        count_test=1000,\n",
    "        buffer_size=3000,\n",
    "        batch_size=16,\n",
    "        n_operands=2,\n",
    "        op=lambda args: args[0]+args[1])\n",
    "\n",
    "# Visualize one example\n",
    "x, y, z = next(ds_train.as_numpy_iterator())\n",
    "plt.subplot(121)\n",
    "plt.imshow(x[0][:,:,0])\n",
    "plt.subplot(122)\n",
    "plt.imshow(y[0][:,:,0])\n",
    "print(\"Result label is %i\" % z[0])"
   ]
  },
  {
   "cell_type": "markdown",
   "metadata": {},
   "source": [
    "## Model Definition"
   ]
  },
  {
   "cell_type": "code",
   "execution_count": 3,
   "outputs": [],
   "source": [
    "class SoftmaxDigitModel(tf.keras.Model):\n",
    "    def __init__(self, base_model):\n",
    "        super().__init__()\n",
    "        self.base_model = base_model\n",
    "\n",
    "    def call(self, x):\n",
    "        logits = self.base_model(x)\n",
    "        return tf.nn.softmax(logits)\n",
    "\n",
    "def create_Digit_model(layers_sizes=(84,), batch_size=16):\n",
    "    logits_model = baselines.SingleDigit(hidden_dense_sizes=layers_sizes, inputs_as_a_list=True)\n",
    "    softmax_model = SoftmaxDigitModel(logits_model)\n",
    "    Digit = ltn.Predicate.Lambda(lambda inputs: tf.gather(\n",
    "    softmax_model([inputs[0]]),\n",
    "    indices=tf.cast(inputs[1], tf.int32), \n",
    "    axis=1,\n",
    "    batch_dims=1\n",
    "))\n",
    "    return Digit, logits_model\n",
    "\n"
   ],
   "metadata": {
    "collapsed": false,
    "ExecuteTime": {
     "end_time": "2025-05-11T07:43:42.676998Z",
     "start_time": "2025-05-11T07:43:42.671989300Z"
    }
   }
  },
  {
   "cell_type": "code",
   "execution_count": 4,
   "metadata": {
    "ExecuteTime": {
     "end_time": "2025-05-11T07:43:42.752591Z",
     "start_time": "2025-05-11T07:43:42.674998500Z"
    }
   },
   "outputs": [],
   "source": [
    "\n",
    "\n",
    "# Digit, logits_model = create_Digit_model()\n",
    "d1 = ltn.Variable(\"digits1\", range(10))\n",
    "d2 = ltn.Variable(\"digits2\", range(10))\n",
    "\n",
    "Not = ltn.Wrapper_Connective(ltn.fuzzy_ops.Not_Std())\n",
    "And = ltn.Wrapper_Connective(ltn.fuzzy_ops.And_Prod())\n",
    "Or = ltn.Wrapper_Connective(ltn.fuzzy_ops.Or_ProbSum())\n",
    "Implies = ltn.Wrapper_Connective(ltn.fuzzy_ops.Implies_Reichenbach())\n",
    "Forall = ltn.Wrapper_Quantifier(ltn.fuzzy_ops.Aggreg_pMeanError(),semantics=\"forall\")\n",
    "Exists = ltn.Wrapper_Quantifier(ltn.fuzzy_ops.Aggreg_pMean(),semantics=\"exists\")"
   ]
  },
  {
   "cell_type": "markdown",
   "metadata": {},
   "source": [
    "## Logic (Predicates, Functions, Axioms)"
   ]
  },
  {
   "cell_type": "code",
   "execution_count": 5,
   "metadata": {
    "ExecuteTime": {
     "end_time": "2025-05-11T07:43:42.753596800Z",
     "start_time": "2025-05-11T07:43:42.696146200Z"
    }
   },
   "outputs": [],
   "source": []
  },
  {
   "cell_type": "markdown",
   "metadata": {},
   "source": [
    "Training utilities (optimizer, training steps and metrics)"
   ]
  },
  {
   "cell_type": "code",
   "execution_count": 6,
   "outputs": [],
   "source": [
    "d1 = ltn.Variable(\"digits1\", range(10))\n",
    "d2 = ltn.Variable(\"digits2\", range(10))\n",
    "    \n",
    "Not = ltn.Wrapper_Connective(ltn.fuzzy_ops.Not_Std())\n",
    "And = ltn.Wrapper_Connective(ltn.fuzzy_ops.And_Prod())\n",
    "Or = ltn.Wrapper_Connective(ltn.fuzzy_ops.Or_ProbSum())\n",
    "Implies = ltn.Wrapper_Connective(ltn.fuzzy_ops.Implies_Reichenbach())\n",
    "Forall = ltn.Wrapper_Quantifier(ltn.fuzzy_ops.Aggreg_pMeanError(), semantics=\"forall\")\n",
    "Exists = ltn.Wrapper_Quantifier(ltn.fuzzy_ops.Aggreg_pMean(), semantics=\"exists\")\n",
    "add = ltn.Function.Lambda(lambda inputs: inputs[0]+inputs[1])\n",
    "equals = ltn.Predicate.Lambda(lambda inputs: inputs[0] == inputs[1])\n",
    "def axioms(images_x, images_y, labels_z, p_schedule=tf.constant(2.)):\n",
    "            images_x = ltn.Variable(\"x\", images_x)\n",
    "            images_y = ltn.Variable(\"y\", images_y)\n",
    "            labels_z = ltn.Variable(\"z\", labels_z)\n",
    "            axiom = Forall(\n",
    "                ltn.diag(images_x, images_y, labels_z),\n",
    "                Exists(\n",
    "                    (d1, d2),\n",
    "                    And(Digit([images_x, d1]), Digit([images_y, d2])),\n",
    "                    mask=equals([add([d1, d2]), labels_z]),\n",
    "                    p=p_schedule\n",
    "                ),\n",
    "                p=2\n",
    "            )\n",
    "            return axiom.tensor\n",
    "def make_steps(Digit, logits_model):\n",
    "\n",
    "    def train_step(images_x, images_y, labels_z, optimizer, metrics_dict, **parameters):\n",
    "        with tf.GradientTape() as tape:\n",
    "            loss = 1. - axioms(images_x, images_y, labels_z, **parameters)\n",
    "        gradients = tape.gradient(loss, logits_model.trainable_variables)\n",
    "        optimizer.apply_gradients(zip(gradients, logits_model.trainable_variables))\n",
    "        metrics_dict['train_loss'](loss)\n",
    "        predictions_x = tf.argmax(logits_model([images_x]), axis=-1)\n",
    "        predictions_y = tf.argmax(logits_model([images_y]), axis=-1)\n",
    "        predictions_z = predictions_x + predictions_y\n",
    "        match = tf.equal(predictions_z, tf.cast(labels_z, predictions_z.dtype))\n",
    "        metrics_dict['train_accuracy'](tf.reduce_mean(tf.cast(match, tf.float32)))\n",
    "\n",
    "    def test_step(images_x, images_y, labels_z, metrics_dict, **parameters):\n",
    "        loss = 1. - axioms(images_x, images_y, labels_z, **parameters)\n",
    "        metrics_dict['test_loss'](loss)\n",
    "        predictions_x = tf.argmax(logits_model([images_x]), axis=-1)\n",
    "        predictions_y = tf.argmax(logits_model([images_y]), axis=-1)\n",
    "        predictions_z = predictions_x + predictions_y\n",
    "        match = tf.equal(predictions_z, tf.cast(labels_z, predictions_z.dtype))\n",
    "        metrics_dict['test_accuracy'](tf.reduce_mean(tf.cast(match, tf.float32)))\n",
    "    \n",
    "    return axioms, train_step, test_step\n"
   ],
   "metadata": {
    "collapsed": false,
    "ExecuteTime": {
     "end_time": "2025-05-11T07:43:42.754592900Z",
     "start_time": "2025-05-11T07:43:42.699671900Z"
    }
   }
  },
  {
   "cell_type": "code",
   "execution_count": 7,
   "metadata": {
    "ExecuteTime": {
     "end_time": "2025-05-11T07:43:42.781620300Z",
     "start_time": "2025-05-11T07:43:42.716043Z"
    }
   },
   "outputs": [],
   "source": [
    "def create_optimizer(learning_rate=0.001): \n",
    "    optimizer = tf.keras.optimizers.Adam(learning_rate)\n",
    "    metrics_dict = {\n",
    "    'train_loss': tf.keras.metrics.Mean(name=\"train_loss\"),\n",
    "    'train_accuracy': tf.keras.metrics.Mean(name=\"train_accuracy\"),\n",
    "    'test_loss': tf.keras.metrics.Mean(name=\"test_loss\"),\n",
    "    'test_accuracy': tf.keras.metrics.Mean(name=\"test_accuracy\")    \n",
    "    }\n",
    "    return optimizer, metrics_dict #check metrics dict"
   ]
  },
  {
   "cell_type": "markdown",
   "metadata": {},
   "source": [
    "Training"
   ]
  },
  {
   "cell_type": "code",
   "execution_count": 8,
   "metadata": {
    "ExecuteTime": {
     "end_time": "2025-05-11T07:43:42.782620400Z",
     "start_time": "2025-05-11T07:43:42.721560900Z"
    }
   },
   "outputs": [],
   "source": [
    "from collections import defaultdict\n",
    "\n",
    "def get_scheduled_parameters():\n",
    "    scheduled_parameters = defaultdict(lambda: {})\n",
    "    for epoch in range(0,4):\n",
    "        scheduled_parameters[epoch] = {\"p_schedule\":tf.constant(1.)}\n",
    "    for epoch in range(4,8):\n",
    "        scheduled_parameters[epoch] = {\"p_schedule\":tf.constant(2.)}\n",
    "    for epoch in range(8,12):\n",
    "        scheduled_parameters[epoch] = {\"p_schedule\":tf.constant(4.)}\n",
    "    for epoch in range(12,20):\n",
    "        scheduled_parameters[epoch] = {\"p_schedule\":tf.constant(6.)}\n",
    "    for epoch in range(20,30):\n",
    "        scheduled_parameters[epoch] = {\"p_schedule\":tf.constant(8.)}\n",
    "    return scheduled_parameters\n"
   ]
  },
  {
   "cell_type": "markdown",
   "source": [
    "## Experiment Wrapper"
   ],
   "metadata": {
    "collapsed": false
   }
  },
  {
   "cell_type": "code",
   "execution_count": 9,
   "outputs": [],
   "source": [
    "def run_experiment(name, Digit, logits_model, learning_rate=0.001, max_epochs=20):\n",
    "    print(f\"Running experiment: {name}\")\n",
    "    optimizer, metrics_dict = create_optimizer(learning_rate)\n",
    "    scheduled_parameters = get_scheduled_parameters()\n",
    "    axioms, train_step, test_step = make_steps(Digit, logits_model)\n",
    "    history = commons.train(\n",
    "        epochs=max_epochs,\n",
    "        optimizer=optimizer,\n",
    "        metrics_dict=metrics_dict,\n",
    "        ds_train=ds_train,\n",
    "        ds_test=ds_test,\n",
    "        train_step=train_step,\n",
    "        test_step=test_step,\n",
    "        scheduled_parameters=scheduled_parameters\n",
    "    )\n",
    "    return name, history, logits_model\n"
   ],
   "metadata": {
    "collapsed": false,
    "ExecuteTime": {
     "end_time": "2025-05-11T07:43:42.782620400Z",
     "start_time": "2025-05-11T07:43:42.725297Z"
    }
   }
  },
  {
   "cell_type": "markdown",
   "source": [
    "## Run multiple experiments"
   ],
   "metadata": {
    "collapsed": false
   }
  },
  {
   "cell_type": "code",
   "execution_count": 10,
   "outputs": [
    {
     "name": "stdout",
     "output_type": "stream",
     "text": [
      "Running experiment: baseline\n",
      "Epoch 0, train_loss: 0.9271, train_accuracy: 0.4382, test_loss: 0.8703, test_accuracy: 0.7192\n",
      "Epoch 1, train_loss: 0.8519, train_accuracy: 0.8690, test_loss: 0.8498, test_accuracy: 0.8244\n",
      "Epoch 2, train_loss: 0.8429, train_accuracy: 0.9082, test_loss: 0.8426, test_accuracy: 0.8671\n",
      "Epoch 3, train_loss: 0.8383, train_accuracy: 0.9279, test_loss: 0.8388, test_accuracy: 0.8869\n",
      "Epoch 4, train_loss: 0.6396, train_accuracy: 0.9302, test_loss: 0.6496, test_accuracy: 0.8790\n",
      "Epoch 5, train_loss: 0.6303, train_accuracy: 0.9438, test_loss: 0.6406, test_accuracy: 0.9008\n",
      "Epoch 6, train_loss: 0.6247, train_accuracy: 0.9511, test_loss: 0.6461, test_accuracy: 0.8859\n",
      "Epoch 7, train_loss: 0.6227, train_accuracy: 0.9545, test_loss: 0.6432, test_accuracy: 0.8938\n",
      "Epoch 8, train_loss: 0.4299, train_accuracy: 0.9518, test_loss: 0.4918, test_accuracy: 0.8661\n",
      "Epoch 9, train_loss: 0.4198, train_accuracy: 0.9588, test_loss: 0.4486, test_accuracy: 0.9117\n",
      "Epoch 10, train_loss: 0.4158, train_accuracy: 0.9631, test_loss: 0.4591, test_accuracy: 0.8978\n",
      "Epoch 11, train_loss: 0.4038, train_accuracy: 0.9711, test_loss: 0.4486, test_accuracy: 0.9137\n",
      "Epoch 12, train_loss: 0.3163, train_accuracy: 0.9714, test_loss: 0.4141, test_accuracy: 0.8730\n",
      "Epoch 13, train_loss: 0.3205, train_accuracy: 0.9684, test_loss: 0.3682, test_accuracy: 0.9226\n",
      "Epoch 14, train_loss: 0.3047, train_accuracy: 0.9761, test_loss: 0.3644, test_accuracy: 0.9206\n",
      "Epoch 15, train_loss: 0.3097, train_accuracy: 0.9741, test_loss: 0.3638, test_accuracy: 0.9236\n",
      "Epoch 16, train_loss: 0.3046, train_accuracy: 0.9774, test_loss: 0.3673, test_accuracy: 0.9167\n",
      "Epoch 17, train_loss: 0.3045, train_accuracy: 0.9761, test_loss: 0.3813, test_accuracy: 0.9048\n",
      "Epoch 18, train_loss: 0.3061, train_accuracy: 0.9741, test_loss: 0.3605, test_accuracy: 0.9256\n",
      "Epoch 19, train_loss: 0.3059, train_accuracy: 0.9757, test_loss: 0.3739, test_accuracy: 0.9117\n",
      "Running experiment: deep_net\n",
      "Epoch 0, train_loss: 0.9166, train_accuracy: 0.5143, test_loss: 0.8642, test_accuracy: 0.7450\n",
      "Epoch 1, train_loss: 0.8522, train_accuracy: 0.8670, test_loss: 0.8495, test_accuracy: 0.8204\n",
      "Epoch 2, train_loss: 0.8455, train_accuracy: 0.8900, test_loss: 0.8474, test_accuracy: 0.8353\n",
      "Epoch 3, train_loss: 0.8410, train_accuracy: 0.9089, test_loss: 0.8440, test_accuracy: 0.8502\n",
      "Epoch 4, train_loss: 0.6525, train_accuracy: 0.9059, test_loss: 0.6587, test_accuracy: 0.8611\n",
      "Epoch 5, train_loss: 0.6528, train_accuracy: 0.9039, test_loss: 0.6645, test_accuracy: 0.8433\n",
      "Epoch 6, train_loss: 0.6394, train_accuracy: 0.9229, test_loss: 0.6471, test_accuracy: 0.8839\n",
      "Epoch 7, train_loss: 0.6330, train_accuracy: 0.9362, test_loss: 0.6486, test_accuracy: 0.8819\n",
      "Epoch 8, train_loss: 0.4720, train_accuracy: 0.9066, test_loss: 0.4822, test_accuracy: 0.8720\n",
      "Epoch 9, train_loss: 0.4565, train_accuracy: 0.9192, test_loss: 0.4748, test_accuracy: 0.8810\n",
      "Epoch 10, train_loss: 0.4365, train_accuracy: 0.9392, test_loss: 0.4710, test_accuracy: 0.8889\n",
      "Epoch 11, train_loss: 0.4294, train_accuracy: 0.9461, test_loss: 0.4839, test_accuracy: 0.8790\n",
      "Epoch 12, train_loss: 0.3603, train_accuracy: 0.9358, test_loss: 0.4793, test_accuracy: 0.8135\n",
      "Epoch 13, train_loss: 0.3651, train_accuracy: 0.9342, test_loss: 0.3987, test_accuracy: 0.8948\n",
      "Epoch 14, train_loss: 0.3635, train_accuracy: 0.9325, test_loss: 0.4021, test_accuracy: 0.8869\n",
      "Epoch 15, train_loss: 0.3462, train_accuracy: 0.9465, test_loss: 0.4016, test_accuracy: 0.8929\n",
      "Epoch 16, train_loss: 0.3451, train_accuracy: 0.9445, test_loss: 0.4101, test_accuracy: 0.8829\n",
      "Epoch 17, train_loss: 0.3457, train_accuracy: 0.9448, test_loss: 0.4126, test_accuracy: 0.8790\n",
      "Epoch 18, train_loss: 0.3408, train_accuracy: 0.9511, test_loss: 0.3988, test_accuracy: 0.8938\n",
      "Epoch 19, train_loss: 0.3492, train_accuracy: 0.9451, test_loss: 0.3851, test_accuracy: 0.9097\n",
      "Running experiment: shallow_net\n",
      "Epoch 0, train_loss: 0.9911, train_accuracy: 0.0322, test_loss: 0.9924, test_accuracy: 0.0268\n",
      "Epoch 1, train_loss: 0.9910, train_accuracy: 0.0316, test_loss: 0.9924, test_accuracy: 0.0268\n",
      "Epoch 2, train_loss: 0.9910, train_accuracy: 0.0316, test_loss: 0.9924, test_accuracy: 0.0268\n",
      "Epoch 3, train_loss: 0.9909, train_accuracy: 0.0319, test_loss: 0.9926, test_accuracy: 0.0258\n",
      "Epoch 4, train_loss: 0.9866, train_accuracy: 0.0316, test_loss: 0.9891, test_accuracy: 0.0258\n",
      "Epoch 5, train_loss: 0.9864, train_accuracy: 0.0322, test_loss: 0.9890, test_accuracy: 0.0258\n",
      "Epoch 6, train_loss: 0.9867, train_accuracy: 0.0316, test_loss: 0.9891, test_accuracy: 0.0258\n",
      "Epoch 7, train_loss: 0.9867, train_accuracy: 0.0316, test_loss: 0.9891, test_accuracy: 0.0258\n",
      "Epoch 8, train_loss: 0.9847, train_accuracy: 0.0316, test_loss: 0.9875, test_accuracy: 0.0258\n",
      "Epoch 9, train_loss: 0.9846, train_accuracy: 0.0316, test_loss: 0.9870, test_accuracy: 0.0268\n",
      "Epoch 10, train_loss: 0.9845, train_accuracy: 0.0319, test_loss: 0.9870, test_accuracy: 0.0268\n",
      "Epoch 11, train_loss: 0.9846, train_accuracy: 0.0316, test_loss: 0.9875, test_accuracy: 0.0258\n",
      "Epoch 12, train_loss: 0.9842, train_accuracy: 0.0316, test_loss: 0.9870, test_accuracy: 0.0258\n",
      "Epoch 13, train_loss: 0.9842, train_accuracy: 0.0316, test_loss: 0.9871, test_accuracy: 0.0258\n",
      "Epoch 14, train_loss: 0.9842, train_accuracy: 0.0316, test_loss: 0.9871, test_accuracy: 0.0258\n",
      "Epoch 15, train_loss: 0.9842, train_accuracy: 0.0316, test_loss: 0.9870, test_accuracy: 0.0258\n",
      "Epoch 16, train_loss: 0.9842, train_accuracy: 0.0316, test_loss: 0.9871, test_accuracy: 0.0258\n",
      "Epoch 17, train_loss: 0.9842, train_accuracy: 0.0316, test_loss: 0.9870, test_accuracy: 0.0258\n",
      "Epoch 18, train_loss: 0.9841, train_accuracy: 0.0316, test_loss: 0.9865, test_accuracy: 0.0268\n",
      "Epoch 19, train_loss: 0.9840, train_accuracy: 0.0319, test_loss: 0.9871, test_accuracy: 0.0258\n"
     ]
    }
   ],
   "source": [
    "experiments = [\n",
    "    {\"name\": \"baseline\", \"layer_sizes\": (84,), \"learning_rate\": 0.001},\n",
    "    {\"name\": \"deep_net\", \"layer_sizes\": (128, 64), \"learning_rate\": 0.001},\n",
    "    {\"name\": \"shallow_net\", \"layer_sizes\": (32,), \"learning_rate\": 0.005},\n",
    "]\n",
    "\n",
    "results = []\n",
    "for config in experiments:\n",
    "    Digit, logits_model = create_Digit_model(layers_sizes=config[\"layer_sizes\"])\n",
    "    results.append(run_experiment(\n",
    "        name=config[\"name\"],\n",
    "        Digit=Digit,\n",
    "        logits_model=logits_model,\n",
    "        learning_rate=config[\"learning_rate\"]\n",
    "    ))\n"
   ],
   "metadata": {
    "collapsed": false,
    "ExecuteTime": {
     "end_time": "2025-05-11T08:20:07.601147900Z",
     "start_time": "2025-05-11T07:43:42.731591100Z"
    }
   }
  },
  {
   "cell_type": "code",
   "execution_count": 11,
   "metadata": {
    "ExecuteTime": {
     "end_time": "2025-05-11T08:20:07.613646300Z",
     "start_time": "2025-05-11T08:20:07.609636900Z"
    }
   },
   "outputs": [],
   "source": [
    "# def train_model():\n",
    "#     optimizer, metrics_dict = create_optimizer()\n",
    "#     scheduled_parameters = get_scheduled_parameters()\n",
    "#     history = commons.train(\n",
    "#     epochs=30,\n",
    "#     optimizer = optimizer,\n",
    "#     metrics_dict=metrics_dict,\n",
    "#     ds_train=ds_train,\n",
    "#     ds_test=ds_test,\n",
    "#     train_step=train_step,\n",
    "#     test_step=test_step,\n",
    "#     scheduled_parameters=scheduled_parameters\n",
    "# )\n",
    "#     return history"
   ]
  },
  {
   "cell_type": "code",
   "execution_count": 12,
   "metadata": {
    "ExecuteTime": {
     "end_time": "2025-05-11T08:20:07.622360700Z",
     "start_time": "2025-05-11T08:20:07.614669600Z"
    }
   },
   "outputs": [],
   "source": [
    "# def plot_results(history):\n",
    "#     plt.figure()\n",
    "#     plt.plot(range(len(history['train_accuracy'])), history['train_accuracy'], label='Train Accuracy')\n",
    "#     plt.plot(range(len(history['test_accuracy'])), history['test_accuracy'], label='Test Accuracy')\n",
    "#     plt.xlabel(\"Epoch\")\n",
    "#     plt.ylabel(\"Accuracy\")\n",
    "#     plt.title(\"Model Accuracy over Epochs\")\n",
    "#     plt.grid(True)\n",
    "#     plt.legend()\n",
    "#     plt.show()\n",
    "#     \n",
    "#     # Plot Loss\n",
    "#     plt.figure()\n",
    "#     plt.plot(range(len(history['train_loss'])), history['train_loss'], label='Train Loss')\n",
    "#     plt.plot(range(len(history['test_loss'])), history['test_loss'], label='Test Loss')\n",
    "#     plt.xlabel(\"Epoch\")\n",
    "#     plt.ylabel(\"Loss\")\n",
    "#     plt.title(\"Model Loss over Epochs\")\n",
    "#     plt.grid(True)\n",
    "#     plt.legend()\n",
    "#     plt.show()"
   ]
  },
  {
   "cell_type": "code",
   "execution_count": 13,
   "outputs": [],
   "source": [
    "# history = train_model()\n",
    "# plot_results(history)\n"
   ],
   "metadata": {
    "collapsed": false,
    "ExecuteTime": {
     "end_time": "2025-05-11T08:20:07.632199200Z",
     "start_time": "2025-05-11T08:20:07.622360700Z"
    }
   }
  },
  {
   "cell_type": "code",
   "execution_count": 13,
   "outputs": [],
   "source": [],
   "metadata": {
    "collapsed": false,
    "ExecuteTime": {
     "end_time": "2025-05-11T08:20:07.645197100Z",
     "start_time": "2025-05-11T08:20:07.629689500Z"
    }
   }
  }
 ],
 "metadata": {
  "interpreter": {
   "hash": "12eaedf9b9a64329743e8900a3192e3d75dbaaa78715534825922e4a4f7d9137"
  },
  "kernelspec": {
   "name": "python3",
   "language": "python",
   "display_name": "Python 3 (ipykernel)"
  },
  "language_info": {
   "codemirror_mode": {
    "name": "ipython",
    "version": 3
   },
   "file_extension": ".py",
   "mimetype": "text/x-python",
   "name": "python",
   "nbconvert_exporter": "python",
   "pygments_lexer": "ipython3",
   "version": "3.10.6"
  }
 },
 "nbformat": 4,
 "nbformat_minor": 4
}
