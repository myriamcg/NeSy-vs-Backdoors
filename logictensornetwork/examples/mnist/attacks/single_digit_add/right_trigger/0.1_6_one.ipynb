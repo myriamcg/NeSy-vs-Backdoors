{
 "cells": [
  {
   "cell_type": "markdown",
   "metadata": {},
   "source": [
    "# MNIST Digit Addition Problem\n",
    "\n",
    "Consider a task where one needs to learn a classifier $\\mathtt{addition(X,Y,N)}$ where $\\mathtt{X}$ and $\\mathtt{Y}$ are images of digits (the MNIST data set will be used), and $\\mathtt{N}$ is a natural number corresponding to the sum of these digits. The classifier should return an estimate of the validity of the addition ($0$ is invalid, $1$ is valid). \n",
    "\n",
    "For instance, if $\\mathtt{X}$ is an image of a 0 and $\\mathtt{Y}$ is an image of a 9:\n",
    "- if $\\mathtt{N} = 9$, then the addition is valid; \n",
    "- if $\\mathtt{N} = 4$, then the addition is not valid. \n",
    "\n",
    "A natural approach is to seek to first 1) learn a single digit classifier, then 2) benefit from knowledge readily available about the properties of addition.\n",
    "For instance, suppose that a predicate $\\mathrm{digit}(x,d)$ gives the likelihood of an image $x$ being of digit $d$, one could query with LTN:    \n",
    "$$\n",
    "\\exists d_1,d_2 : d_1+d_2= \\mathtt{N} \\ (\\mathrm{digit}(\\mathtt{X},d_1)\\land \\mathrm{digit}(\\mathtt{Y},d_2))\n",
    "$$\n",
    "and use the satisfaction of this query as the output of $\\mathtt{addition(X,Y,N)}$ .\n",
    "\n",
    "\n",
    "The challenge is the following:\n",
    "- We provide, in the data, pairs of images $\\mathtt{X}$, $\\mathtt{Y}$ and the result of the addition $\\mathtt{N}$ (final label),\n",
    "- We do **not** provide the intermediate labels, the correct digits for $d_1$, $d_2$.\n",
    "\n",
    "Regardless, it is possible to use the equation above as background knowledge to train $\\mathrm{digit}$ with LTN.\n",
    "In contrast, a standard neural network baseline cannot incorporate such intermediate components as nicely."
   ]
  },
  {
   "cell_type": "code",
   "execution_count": 1,
   "metadata": {
    "ExecuteTime": {
     "end_time": "2025-06-03T13:50:51.776576Z",
     "start_time": "2025-06-03T13:50:47.152337800Z"
    }
   },
   "outputs": [],
   "source": [
    "import tensorflow as tf\n",
    "import ltn\n",
    "import sys\n",
    "import os\n",
    "\n",
    "sys.path.append(os.path.abspath(os.path.join(os.getcwd(), \"../..\")))\n",
    "import baselines\n",
    "import data_attack as data\n",
    "import matplotlib.pyplot as plt\n",
    "import numpy as np"
   ]
  },
  {
   "cell_type": "markdown",
   "metadata": {},
   "source": [
    "**## Data**\n",
    "\n",
    "Dataset of images for the digits X and Y, and their label Z s.t. X+Y=Z."
   ]
  },
  {
   "cell_type": "code",
   "execution_count": 2,
   "metadata": {
    "ExecuteTime": {
     "end_time": "2025-06-03T13:50:52.494749200Z",
     "start_time": "2025-06-03T13:50:51.780575900Z"
    }
   },
   "outputs": [
    {
     "name": "stdout",
     "output_type": "stream",
     "text": [
      "RANDOM SEEDS RESET\n",
      "WARNING:tensorflow:From c:\\Users\\myria\\OneDrive\\Desktop\\Delft\\NeSy-vs-Backdoors\\.venv\\Lib\\site-packages\\keras\\src\\backend\\common\\global_state.py:82: The name tf.reset_default_graph is deprecated. Please use tf.compat.v1.reset_default_graph instead.\n",
      "\n",
      "300\n",
      "1\n",
      "Result label is 3\n"
     ]
    },
    {
     "data": {
      "image/png": "[encoded data removed]",
      "text/plain": [
       "<Figure size 640x480 with 2 Axes>"
      ]
     },
     "metadata": {},
     "output_type": "display_data"
    }
   ],
   "source": [
    "import random\n",
    "def reset_seeds():\n",
    "    random.seed(42)\n",
    "    tf.random.set_seed(42)\n",
    "    print(\"RANDOM SEEDS RESET\")\n",
    "    K = tf.keras.backend\n",
    "    K.clear_session()\n",
    "\n",
    "\n",
    "reset_seeds()\n",
    "poison_rate = 0.1\n",
    "trigger_size = 6\n",
    "n_train = 3000\n",
    "n_test = 1000\n",
    "target_label = 1\n",
    "n_poison_train = int(n_train * poison_rate)\n",
    "poison_indices_train = np.random.choice(n_train, n_poison_train, replace=False)\n",
    "print(len(poison_indices_train))\n",
    "ds_train, ds_test, ds_test_poisoned = data.get_mnist_op_dataset_poisoned(\n",
    "        count_train=n_train,\n",
    "        count_test=n_test,\n",
    "        buffer_size=3000,\n",
    "        batch_size=16,\n",
    "        n_operands=2,\n",
    "    trigger_size = trigger_size,\n",
    "    target_label=target_label,\n",
    "    poison_indices_train=poison_indices_train,\n",
    "        op=lambda args: args[0]+args[1])\n",
    "\n",
    "# Visualize one example\n",
    "\n",
    "x, y, z = next(ds_test_poisoned.as_numpy_iterator())\n",
    "plt.subplot(121)\n",
    "plt.imshow(x[0][:,:,0])\n",
    "plt.subplot(122)\n",
    "plt.imshow(y[0][:,:,0])\n",
    "print(\"Result label is %i\" % z[0]) \n",
    "# x, y, z = next(ds_test_poisoned.as_numpy_iterator())\n",
    "# plt.subplot(121)\n",
    "# plt.imshow(x[0][:,:,0])\n",
    "# plt.subplot(122)\n",
    "# plt.imshow(y[0][:,:,0])\n",
    "# print(\"Result label is %i\" % z[0])"
   ]
  },
  {
   "cell_type": "markdown",
   "metadata": {},
   "source": [
    "## LTN"
   ]
  },
  {
   "cell_type": "code",
   "execution_count": 3,
   "metadata": {
    "ExecuteTime": {
     "end_time": "2025-06-03T13:50:52.597586100Z",
     "start_time": "2025-06-03T13:50:52.496755800Z"
    }
   },
   "outputs": [],
   "source": [
    "logits_model = baselines.SingleDigit(inputs_as_a_list=True)\n",
    "@tf.function\n",
    "def digit_softmax_wrapper(x):\n",
    "    return tf.nn.softmax(logits_model(x))\n",
    "\n",
    "class SoftmaxDigitModel(tf.keras.Model):\n",
    "    def __init__(self, base_model):\n",
    "        super().__init__()\n",
    "        self.base_model = base_model\n",
    "\n",
    "    def call(self, x):\n",
    "        logits = self.base_model(x)\n",
    "        return tf.nn.softmax(logits)\n",
    "\n",
    "softmax_model = SoftmaxDigitModel(logits_model)\n",
    "\n",
    "Digit = ltn.Predicate.Lambda(lambda inputs: tf.gather(\n",
    "    softmax_model([inputs[0]]),  # x\n",
    "    indices=tf.cast(inputs[1], tf.int32),  # d\n",
    "    axis=1,\n",
    "    batch_dims=1\n",
    "))\n",
    "\n",
    "d1 = ltn.Variable(\"digits1\", range(10))\n",
    "d2 = ltn.Variable(\"digits2\", range(10))\n",
    "\n",
    "Not = ltn.Wrapper_Connective(ltn.fuzzy_ops.Not_Std())\n",
    "And = ltn.Wrapper_Connective(ltn.fuzzy_ops.And_Prod())\n",
    "Or = ltn.Wrapper_Connective(ltn.fuzzy_ops.Or_ProbSum())\n",
    "Implies = ltn.Wrapper_Connective(ltn.fuzzy_ops.Implies_Reichenbach())\n",
    "Forall = ltn.Wrapper_Quantifier(ltn.fuzzy_ops.Aggreg_pMeanError(),semantics=\"forall\")\n",
    "Exists = ltn.Wrapper_Quantifier(ltn.fuzzy_ops.Aggreg_pMean(),semantics=\"exists\")"
   ]
  },
  {
   "cell_type": "markdown",
   "metadata": {},
   "source": [
    "Notice the use of `Diag`: when grounding $x$,$y$,$n$ with three sequences of values, the $i$-th examples of each variable are matching. \n",
    "That is, `(images_x[i],images_y[i],labels[i])` is a tuple from our dataset of valid additions.\n",
    "Using the diagonal quantification, LTN aggregates pairs of images and their corresponding result, rather than any combination of images and results. \n",
    "    \n",
    "Notice also the guarded quantification: by quantifying only on the \"intermediate labels\" (not given during training) that could add up to the result label (given during training), we incorporate symbolic information into the system."
   ]
  },
  {
   "cell_type": "code",
   "execution_count": 4,
   "metadata": {
    "ExecuteTime": {
     "end_time": "2025-06-03T13:50:54.933809900Z",
     "start_time": "2025-06-03T13:50:52.525558100Z"
    }
   },
   "outputs": [
    {
     "data": {
      "text/plain": [
       "<tf.Tensor: shape=(), dtype=float32, numpy=0.011000514030456543>"
      ]
     },
     "execution_count": 4,
     "metadata": {},
     "output_type": "execute_result"
    }
   ],
   "source": [
    "# mask\n",
    "add = ltn.Function.Lambda(lambda inputs: inputs[0]+inputs[1])\n",
    "equals = ltn.Predicate.Lambda(lambda inputs: inputs[0] == inputs[1])\n",
    "\n",
    "### Axioms\n",
    "@tf.function\n",
    "def axioms(images_x, images_y, labels_z, p_schedule=tf.constant(2.)):\n",
    "    images_x = ltn.Variable(\"x\", images_x)\n",
    "    images_y = ltn.Variable(\"y\", images_y)\n",
    "    labels_z = ltn.Variable(\"z\", labels_z)\n",
    "    axiom = Forall(\n",
    "            ltn.diag(images_x,images_y,labels_z),\n",
    "            Exists(\n",
    "                (d1,d2),\n",
    "                And(Digit([images_x,d1]),Digit([images_y,d2])),\n",
    "                mask=equals([add([d1,d2]), labels_z]),\n",
    "                p=p_schedule\n",
    "            ),\n",
    "            p=2\n",
    "        )\n",
    "    sat = axiom.tensor\n",
    "    return sat\n",
    "\n",
    "images_x, images_y, labels_z = next(ds_train.as_numpy_iterator())\n",
    "axioms(images_x, images_y, labels_z)"
   ]
  },
  {
   "cell_type": "markdown",
   "metadata": {},
   "source": [
    "Optimizer, training steps and metrics"
   ]
  },
  {
   "cell_type": "code",
   "execution_count": 5,
   "metadata": {
    "ExecuteTime": {
     "end_time": "2025-06-03T13:50:54.969214300Z",
     "start_time": "2025-06-03T13:50:54.933809900Z"
    }
   },
   "outputs": [],
   "source": [
    "optimizer = tf.keras.optimizers.Adam(0.001)\n",
    "metrics_dict = {\n",
    "    'train_loss': tf.keras.metrics.Mean(name=\"train_loss\"),\n",
    "    'train_accuracy': tf.keras.metrics.Mean(name=\"train_accuracy\"),\n",
    "    'test_loss': tf.keras.metrics.Mean(name=\"test_loss\"),\n",
    "    'test_accuracy': tf.keras.metrics.Mean(name=\"test_accuracy\"),\n",
    "    'asr': tf.keras.metrics.Mean(name=\"asr\")}\n",
    "\n",
    "@tf.function\n",
    "def train_step(images_x, images_y, labels_z,  **parameters):\n",
    "    # loss\n",
    "    with tf.GradientTape() as tape:\n",
    "        loss = 1.- axioms(images_x, images_y, labels_z, **parameters)\n",
    "    gradients = tape.gradient(loss, logits_model.trainable_variables)\n",
    "    optimizer.apply_gradients(zip(gradients, logits_model.trainable_variables))\n",
    "    metrics_dict['train_loss'](loss)\n",
    "    # accuracy\n",
    "    predictions_x = tf.argmax(logits_model([images_x]),axis=-1)\n",
    "    predictions_y = tf.argmax(logits_model([images_y]),axis=-1)\n",
    "    predictions_z = predictions_x + predictions_y\n",
    "    match = tf.equal(predictions_z,tf.cast(labels_z,predictions_z.dtype))\n",
    "    metrics_dict['train_accuracy'](tf.reduce_mean(tf.cast(match,tf.float32)))\n",
    "    \n",
    "    \n",
    "@tf.function\n",
    "def test_step(images_x, images_y, labels_z, **parameters):\n",
    "    # loss\n",
    "    loss = 1.- axioms(images_x, images_y, labels_z, **parameters)\n",
    "    metrics_dict['test_loss'](loss)\n",
    "    # accuracy\n",
    "    predictions_x = tf.argmax(logits_model([images_x]),axis=-1)\n",
    "    predictions_y = tf.argmax(logits_model([images_y]),axis=-1)\n",
    "    predictions_z = predictions_x + predictions_y\n",
    "    match = tf.equal(predictions_z,tf.cast(labels_z,predictions_z.dtype))\n",
    "    metrics_dict['test_accuracy'](tf.reduce_mean(tf.cast(match,tf.float32)))\n",
    "    target_label = 1 \n",
    "\n",
    "    # is_poisoned_flags = tf.cast(is_poisoned_flags, tf.bool)\n",
    "\n",
    "    # Success if either operand predicts target\n",
    "    preds_match_target = tf.logical_or(\n",
    "        tf.equal(predictions_x, target_label),\n",
    "        tf.equal(predictions_y, target_label)\n",
    "    )\n",
    "\n",
    "@tf.function\n",
    "def compute_attack_success_rate(images_x, images_y, labels_z, taget_label, **parameters):\n",
    "    total_successes = 0\n",
    "    total_samples = 0\n",
    "    predictions_x = tf.argmax(logits_model([images_x]),axis=-1)\n",
    "    predictions_y = tf.argmax(logits_model([images_y]),axis=-1)\n",
    "    # predictions_z = predictions_x + predictions_y\n",
    "    match_x= tf.equal(predictions_x, target_label)\n",
    "    match_y = tf.equal(predictions_y, target_label)\n",
    "    match = match_x\n",
    "    metrics_dict['asr'](tf.reduce_mean(tf.cast(match,tf.float32)))\n"
   ]
  },
  {
   "cell_type": "markdown",
   "metadata": {},
   "source": [
    "Training"
   ]
  },
  {
   "cell_type": "code",
   "execution_count": 6,
   "metadata": {
    "ExecuteTime": {
     "end_time": "2025-06-03T13:50:54.970214600Z",
     "start_time": "2025-06-03T13:50:54.959207900Z"
    }
   },
   "outputs": [],
   "source": [
    "from collections import defaultdict\n",
    "\n",
    "scheduled_parameters = defaultdict(lambda: {})\n",
    "for epoch in range(0,4):\n",
    "    scheduled_parameters[epoch] = {\"p_schedule\":tf.constant(1.)}\n",
    "for epoch in range(4,8):\n",
    "    scheduled_parameters[epoch] = {\"p_schedule\":tf.constant(2.)}\n",
    "for epoch in range(8,12):\n",
    "    scheduled_parameters[epoch] = {\"p_schedule\":tf.constant(4.)}\n",
    "for epoch in range(12,20):\n",
    "    scheduled_parameters[epoch] = {\"p_schedule\":tf.constant(6.)}\n",
    "for epoch in range(20,30):\n",
    "    scheduled_parameters[epoch] = {\"p_schedule\":tf.constant(8.)}\n"
   ]
  },
  {
   "cell_type": "code",
   "execution_count": 7,
   "metadata": {
    "ExecuteTime": {
     "end_time": "2025-06-03T13:51:35.699209700Z",
     "start_time": "2025-06-03T13:50:54.962214600Z"
    }
   },
   "outputs": [
    {
     "name": "stdout",
     "output_type": "stream",
     "text": [
      "Epoch 0, train_loss: 0.9558, train_accuracy: 0.2457, test_loss: 0.9212, test_accuracy: 0.4008, asr: 0.2619\n",
      "Epoch 1, train_loss: 0.9010, train_accuracy: 0.5618, test_loss: 0.8823, test_accuracy: 0.6200, asr: 0.8819\n",
      "Epoch 2, train_loss: 0.8685, train_accuracy: 0.7334, test_loss: 0.8765, test_accuracy: 0.6458, asr: 0.9692\n",
      "Epoch 3, train_loss: 0.8478, train_accuracy: 0.8680, test_loss: 0.8431, test_accuracy: 0.8631, asr: 0.9177\n",
      "Epoch 4, train_loss: 0.6427, train_accuracy: 0.9269, test_loss: 0.6432, test_accuracy: 0.8978, asr: 0.9633\n",
      "Epoch 5, train_loss: 0.6271, train_accuracy: 0.9445, test_loss: 0.6422, test_accuracy: 0.8968, asr: 0.9613\n",
      "Epoch 6, train_loss: 0.6204, train_accuracy: 0.9525, test_loss: 0.6384, test_accuracy: 0.9018, asr: 0.9752\n",
      "Epoch 7, train_loss: 0.6158, train_accuracy: 0.9608, test_loss: 0.6421, test_accuracy: 0.8938, asr: 0.9633\n",
      "Epoch 8, train_loss: 0.4254, train_accuracy: 0.9551, test_loss: 0.4741, test_accuracy: 0.8869, asr: 0.9583\n",
      "Epoch 9, train_loss: 0.4215, train_accuracy: 0.9564, test_loss: 0.4717, test_accuracy: 0.8869, asr: 0.9950\n",
      "Epoch 10, train_loss: 0.4115, train_accuracy: 0.9631, test_loss: 0.4695, test_accuracy: 0.8919, asr: 0.9841\n",
      "Epoch 11, train_loss: 0.4084, train_accuracy: 0.9668, test_loss: 0.4675, test_accuracy: 0.8929, asr: 0.9940\n",
      "Epoch 12, train_loss: 0.3128, train_accuracy: 0.9731, test_loss: 0.3722, test_accuracy: 0.9157, asr: 0.9712\n",
      "Epoch 13, train_loss: 0.3104, train_accuracy: 0.9731, test_loss: 0.3822, test_accuracy: 0.9087, asr: 1.0000\n",
      "Epoch 14, train_loss: 0.3183, train_accuracy: 0.9674, test_loss: 0.3697, test_accuracy: 0.9137, asr: 0.9931\n",
      "Epoch 15, train_loss: 0.3062, train_accuracy: 0.9757, test_loss: 0.3761, test_accuracy: 0.9137, asr: 0.9762\n",
      "Epoch 16, train_loss: 0.3028, train_accuracy: 0.9767, test_loss: 0.3800, test_accuracy: 0.9058, asr: 0.9454\n",
      "Epoch 17, train_loss: 0.3130, train_accuracy: 0.9724, test_loss: 0.3732, test_accuracy: 0.9137, asr: 0.9970\n",
      "Epoch 18, train_loss: 0.2929, train_accuracy: 0.9827, test_loss: 0.3647, test_accuracy: 0.9196, asr: 0.9970\n",
      "Epoch 19, train_loss: 0.2916, train_accuracy: 0.9844, test_loss: 0.3804, test_accuracy: 0.9077, asr: 0.9950\n"
     ]
    }
   ],
   "source": [
    "import commons\n",
    "history = commons.train(\n",
    "    epochs=20,\n",
    "    metrics_dict=metrics_dict,\n",
    "    ds_train=ds_train,\n",
    "    ds_test=ds_test,\n",
    "    train_step=train_step,\n",
    "    test_step=test_step,\n",
    "    compute_asr = compute_attack_success_rate, \n",
    "    ds_test_poisoned = ds_test_poisoned,\n",
    "    scheduled_parameters=scheduled_parameters,\n",
    "    target_label= target_label\n",
    ")"
   ]
  },
  {
   "cell_type": "code",
   "execution_count": 8,
   "metadata": {
    "ExecuteTime": {
     "end_time": "2025-06-03T13:51:35.703973600Z",
     "start_time": "2025-06-03T13:51:35.696209Z"
    },
    "collapsed": false
   },
   "outputs": [],
   "source": [
    "def compute_attack_success_rate(model, ds_poisoned_test, target_label=1):\n",
    "    total_successes = 0\n",
    "    total_samples = 0\n",
    "\n",
    "    for batch in ds_poisoned_test:\n",
    "        images_x, images_y, labels_z = batch\n",
    "\n",
    "        preds_x = tf.argmax(model([images_x]), axis=-1)\n",
    "        preds_y = tf.argmax(model([images_y]), axis=-1)\n",
    "        # # print(\"First prediction:\", pred_x[0].numpy())\n",
    "        # if preds_x[0].numpy() == 1:\n",
    "        #     print(\"==> Predicted target label 1 ✅\")\n",
    "        # Success if either operand is classified as the target\n",
    "        preds_match_target = tf.equal(preds_x, target_label)\n",
    "        \n",
    "        print(\"Batch predictions (pred_x):\", preds_x.numpy())\n",
    "        print(\"Matches target:\", tf.equal(preds_x, target_label).numpy().astype(int))\n",
    "        \n",
    "        # print(\"Preds X:\", preds_x.numpy())\n",
    "        # print(\"Preds Y:\", preds_y.numpy())\n",
    "        # print(\"Match Target:\", preds_match_target.numpy().astype(int))\n",
    "        # print(\"Running ASR:\", total_successes / total_samples\n",
    "\n",
    "        total_successes += tf.reduce_sum(tf.cast(preds_match_target, tf.float32)).numpy()\n",
    "        total_samples += preds_match_target.shape[0]\n",
    "    return  total_successes/total_samples\n"
   ]
  },
  {
   "cell_type": "code",
   "execution_count": 9,
   "metadata": {
    "ExecuteTime": {
     "end_time": "2025-06-03T13:51:36.648288600Z",
     "start_time": "2025-06-03T13:51:35.704972500Z"
    },
    "collapsed": false
   },
   "outputs": [
    {
     "name": "stdout",
     "output_type": "stream",
     "text": [
      "Batch predictions (pred_x): [1 1 1 1 1 1 1 1 1 1 1 1 1 1 1 1]\n",
      "Matches target: [1 1 1 1 1 1 1 1 1 1 1 1 1 1 1 1]\n",
      "Batch predictions (pred_x): [1 1 1 1 1 1 1 1 1 1 1 1 1 1 1 1]\n",
      "Matches target: [1 1 1 1 1 1 1 1 1 1 1 1 1 1 1 1]\n",
      "Batch predictions (pred_x): [1 1 1 1 1 1 1 1 1 1 1 1 1 1 1 1]\n",
      "Matches target: [1 1 1 1 1 1 1 1 1 1 1 1 1 1 1 1]\n",
      "Batch predictions (pred_x): [1 1 1 1 1 1 1 1 1 1 1 1 1 1 1 1]\n",
      "Matches target: [1 1 1 1 1 1 1 1 1 1 1 1 1 1 1 1]\n",
      "Batch predictions (pred_x): [1 1 1 1 1 1 1 1 1 1 1 1 1 1 1 1]\n",
      "Matches target: [1 1 1 1 1 1 1 1 1 1 1 1 1 1 1 1]\n",
      "Batch predictions (pred_x): [1 1 1 1 1 1 1 1 1 1 1 1 1 1 1 1]\n",
      "Matches target: [1 1 1 1 1 1 1 1 1 1 1 1 1 1 1 1]\n",
      "Batch predictions (pred_x): [1 1 1 1 1 1 1 1 1 1 1 1 1 1 1 1]\n",
      "Matches target: [1 1 1 1 1 1 1 1 1 1 1 1 1 1 1 1]\n",
      "Batch predictions (pred_x): [1 1 1 1 1 1 1 1 1 1 1 1 1 1 1 1]\n",
      "Matches target: [1 1 1 1 1 1 1 1 1 1 1 1 1 1 1 1]\n",
      "Batch predictions (pred_x): [1 1 1 1 1 1 1 1 1 1 1 1 1 1 1 1]\n",
      "Matches target: [1 1 1 1 1 1 1 1 1 1 1 1 1 1 1 1]\n",
      "Batch predictions (pred_x): [1 1 1 1 1 1 1 1 1 1 3 1 1 1 1 1]\n",
      "Matches target: [1 1 1 1 1 1 1 1 1 1 0 1 1 1 1 1]\n",
      "Batch predictions (pred_x): [1 1 1 1 1 1 1 1 1 1 1 1 1 1 1 1]\n",
      "Matches target: [1 1 1 1 1 1 1 1 1 1 1 1 1 1 1 1]\n",
      "Batch predictions (pred_x): [1 1 1 1 1 1 1 1 1 1 1 1 1 1 1 1]\n",
      "Matches target: [1 1 1 1 1 1 1 1 1 1 1 1 1 1 1 1]\n",
      "Batch predictions (pred_x): [1 1 1 1 1 1 1 1 1 1 1 1 1 1 1 1]\n",
      "Matches target: [1 1 1 1 1 1 1 1 1 1 1 1 1 1 1 1]\n",
      "Batch predictions (pred_x): [1 1 1 1 1 1 1 1 1 1 1 1 1 1 1 1]\n",
      "Matches target: [1 1 1 1 1 1 1 1 1 1 1 1 1 1 1 1]\n",
      "Batch predictions (pred_x): [1 1 1 1 1 1 1 1 1 1 1 1 1 2 1 1]\n",
      "Matches target: [1 1 1 1 1 1 1 1 1 1 1 1 1 0 1 1]\n",
      "Batch predictions (pred_x): [1 1 1 1 1 1 1 1 1 1 1 1 1 1 1 1]\n",
      "Matches target: [1 1 1 1 1 1 1 1 1 1 1 1 1 1 1 1]\n",
      "Batch predictions (pred_x): [1 1 1 1 1 1 1 1 1 1 1 1 1 1 1 1]\n",
      "Matches target: [1 1 1 1 1 1 1 1 1 1 1 1 1 1 1 1]\n",
      "Batch predictions (pred_x): [1 1 1 1 1 1 1 1 1 1 1 1 1 1 1 1]\n",
      "Matches target: [1 1 1 1 1 1 1 1 1 1 1 1 1 1 1 1]\n",
      "Batch predictions (pred_x): [1 1 1 1 1 1 1 1 1 1 1 1 1 1 1 1]\n",
      "Matches target: [1 1 1 1 1 1 1 1 1 1 1 1 1 1 1 1]\n",
      "Batch predictions (pred_x): [1 1 1 1 1 1 1 1 1 1 1 1 1 1 1 1]\n",
      "Matches target: [1 1 1 1 1 1 1 1 1 1 1 1 1 1 1 1]\n",
      "Batch predictions (pred_x): [1 1 1 1 1 1 1 1 1 1 1 1 1 1 1 1]\n",
      "Matches target: [1 1 1 1 1 1 1 1 1 1 1 1 1 1 1 1]\n",
      "Batch predictions (pred_x): [1 1 1 1 1 1 1 1 1 1 1 1 1 1 1 1]\n",
      "Matches target: [1 1 1 1 1 1 1 1 1 1 1 1 1 1 1 1]\n",
      "Batch predictions (pred_x): [1 1 1 1 1 1 1 1 1 1 1 1 1 1 1 1]\n",
      "Matches target: [1 1 1 1 1 1 1 1 1 1 1 1 1 1 1 1]\n",
      "Batch predictions (pred_x): [1 1 1 1 1 1 1 1 1 1 1 1 1 1 1 1]\n",
      "Matches target: [1 1 1 1 1 1 1 1 1 1 1 1 1 1 1 1]\n",
      "Batch predictions (pred_x): [1 1 1 1 1 1 1 1 1 1 1 1 1 1 1 1]\n",
      "Matches target: [1 1 1 1 1 1 1 1 1 1 1 1 1 1 1 1]\n",
      "Batch predictions (pred_x): [1 1 1 1 1 1 1 1 1 1 1 1 1 1 1 1]\n",
      "Matches target: [1 1 1 1 1 1 1 1 1 1 1 1 1 1 1 1]\n",
      "Batch predictions (pred_x): [3 1 1 1 1 1 1 1 1 1 1 1 1 1 1 1]\n",
      "Matches target: [0 1 1 1 1 1 1 1 1 1 1 1 1 1 1 1]\n",
      "Batch predictions (pred_x): [1 1 1 1 1 1 1 1 1 1 1 1 1 1 1 1]\n",
      "Matches target: [1 1 1 1 1 1 1 1 1 1 1 1 1 1 1 1]\n",
      "Batch predictions (pred_x): [1 1 1 1 1 1 1 1 1 1 1 1 1 1 1 1]\n",
      "Matches target: [1 1 1 1 1 1 1 1 1 1 1 1 1 1 1 1]\n",
      "Batch predictions (pred_x): [1 1 1 1 1 1 1 1 1 1 1 1 1 1 1 1]\n",
      "Matches target: [1 1 1 1 1 1 1 1 1 1 1 1 1 1 1 1]\n",
      "Batch predictions (pred_x): [1 1 1 1 1 1 1 1 1 1 1 1 1 1 1 1]\n",
      "Matches target: [1 1 1 1 1 1 1 1 1 1 1 1 1 1 1 1]\n",
      "Batch predictions (pred_x): [1 1 1 1 1 1 1 1 1 1 1 1 1 1 1 1]\n",
      "Matches target: [1 1 1 1 1 1 1 1 1 1 1 1 1 1 1 1]\n",
      "Batch predictions (pred_x): [1 1 1 1 1 1 1 1 1 1 1 1 1 1 1 1]\n",
      "Matches target: [1 1 1 1 1 1 1 1 1 1 1 1 1 1 1 1]\n",
      "Batch predictions (pred_x): [1 1 1 1 1 1 1 1 1 1 1 1 1 1 1 1]\n",
      "Matches target: [1 1 1 1 1 1 1 1 1 1 1 1 1 1 1 1]\n",
      "Batch predictions (pred_x): [1 1 1 1 1 1 1 1 1 1 1 1 1 1 1 1]\n",
      "Matches target: [1 1 1 1 1 1 1 1 1 1 1 1 1 1 1 1]\n",
      "Batch predictions (pred_x): [1 1 1 1 1 1 1 1 1 1 1 1 1 1 1 1]\n",
      "Matches target: [1 1 1 1 1 1 1 1 1 1 1 1 1 1 1 1]\n",
      "Batch predictions (pred_x): [1 1 1 1 1 1 1 1 1 1 1 1 1 1 1 1]\n",
      "Matches target: [1 1 1 1 1 1 1 1 1 1 1 1 1 1 1 1]\n",
      "Batch predictions (pred_x): [1 1 1 1 1 1 1 1 1 1 1 1 1 1 1 1]\n",
      "Matches target: [1 1 1 1 1 1 1 1 1 1 1 1 1 1 1 1]\n",
      "Batch predictions (pred_x): [1 1 1 1 1 1 1 1 1 1 1 1 1 1 1 1]\n",
      "Matches target: [1 1 1 1 1 1 1 1 1 1 1 1 1 1 1 1]\n",
      "Batch predictions (pred_x): [1 1 1 1 1 1 1 1 1 1 1 1 1 1 1 1]\n",
      "Matches target: [1 1 1 1 1 1 1 1 1 1 1 1 1 1 1 1]\n",
      "Batch predictions (pred_x): [1 1 1 1 1 1 1 1 1 1 1 1 1 1 1 1]\n",
      "Matches target: [1 1 1 1 1 1 1 1 1 1 1 1 1 1 1 1]\n",
      "Batch predictions (pred_x): [1 1 1 1 1 1 1 1 1 1 1 1 1 1 1 1]\n",
      "Matches target: [1 1 1 1 1 1 1 1 1 1 1 1 1 1 1 1]\n",
      "Batch predictions (pred_x): [1 1 1 1 1 1 1 1 1 1 1 1 1 1 1 1]\n",
      "Matches target: [1 1 1 1 1 1 1 1 1 1 1 1 1 1 1 1]\n",
      "Batch predictions (pred_x): [8 1 1 1 1 1 1 1 1 1 1 1 1 1 1 1]\n",
      "Matches target: [0 1 1 1 1 1 1 1 1 1 1 1 1 1 1 1]\n",
      "Batch predictions (pred_x): [1 1 1 1 1 1 1 1 1 1 1 1 1 1 1 1]\n",
      "Matches target: [1 1 1 1 1 1 1 1 1 1 1 1 1 1 1 1]\n",
      "Batch predictions (pred_x): [1 1 1 1 1 1 1 1 1 1 1 1 1 1 1 1]\n",
      "Matches target: [1 1 1 1 1 1 1 1 1 1 1 1 1 1 1 1]\n",
      "Batch predictions (pred_x): [1 1 1 1 1 1 1 1 1 1 1 1 1 1 1 1]\n",
      "Matches target: [1 1 1 1 1 1 1 1 1 1 1 1 1 1 1 1]\n",
      "Batch predictions (pred_x): [1 1 1 1 1 1 1 1 1 1 1 1 1 1 1 1]\n",
      "Matches target: [1 1 1 1 1 1 1 1 1 1 1 1 1 1 1 1]\n",
      "Batch predictions (pred_x): [1 1 1 1 1 1 1 1 1 1 1 1 1 1 1 1]\n",
      "Matches target: [1 1 1 1 1 1 1 1 1 1 1 1 1 1 1 1]\n",
      "Batch predictions (pred_x): [1 1 1 1 1 1 1 1 1 1 1 1 1 1 1 1]\n",
      "Matches target: [1 1 1 1 1 1 1 1 1 1 1 1 1 1 1 1]\n",
      "Batch predictions (pred_x): [1 1 1 1 1 1 1 1 1 1 1 1 1 1 1 1]\n",
      "Matches target: [1 1 1 1 1 1 1 1 1 1 1 1 1 1 1 1]\n",
      "Batch predictions (pred_x): [1 1 1 1 1 1 1 1 1 1 1 1 1 1 1 1]\n",
      "Matches target: [1 1 1 1 1 1 1 1 1 1 1 1 1 1 1 1]\n",
      "Batch predictions (pred_x): [1 1 1 1 1 1 1 1 1 1 1 1 1 1 1 1]\n",
      "Matches target: [1 1 1 1 1 1 1 1 1 1 1 1 1 1 1 1]\n",
      "Batch predictions (pred_x): [1 1 1 1 1 1 1 1 1 1 1 1 1 1 1 1]\n",
      "Matches target: [1 1 1 1 1 1 1 1 1 1 1 1 1 1 1 1]\n",
      "Batch predictions (pred_x): [1 1 1 1 1 1 1 1 1 1 1 1 1 1 1 1]\n",
      "Matches target: [1 1 1 1 1 1 1 1 1 1 1 1 1 1 1 1]\n",
      "Batch predictions (pred_x): [1 1 1 1 1 1 1 1 1 1 1 1 1 1 1 1]\n",
      "Matches target: [1 1 1 1 1 1 1 1 1 1 1 1 1 1 1 1]\n",
      "Batch predictions (pred_x): [1 1 1 1 1 1 1 1 1 1 1 1 1 1 1 1]\n",
      "Matches target: [1 1 1 1 1 1 1 1 1 1 1 1 1 1 1 1]\n",
      "Batch predictions (pred_x): [1 1 1 1 1 1 1 1 1 1 1 1 1 1 1 1]\n",
      "Matches target: [1 1 1 1 1 1 1 1 1 1 1 1 1 1 1 1]\n",
      "Batch predictions (pred_x): [1 1 1 1 1 1 1 1 1 1 1 1 1 1 1 1]\n",
      "Matches target: [1 1 1 1 1 1 1 1 1 1 1 1 1 1 1 1]\n",
      "Batch predictions (pred_x): [1 1 1 1 1 1 1 1 1 1 1 1 1 1 1 1]\n",
      "Matches target: [1 1 1 1 1 1 1 1 1 1 1 1 1 1 1 1]\n",
      "Batch predictions (pred_x): [1 1 1 1 1 1 1 1 1 1 1 2 1 1 1 1]\n",
      "Matches target: [1 1 1 1 1 1 1 1 1 1 1 0 1 1 1 1]\n",
      "Batch predictions (pred_x): [1 1 1 1 1 1 1 1 1 1 1 1 1 1 1 1]\n",
      "Matches target: [1 1 1 1 1 1 1 1 1 1 1 1 1 1 1 1]\n",
      "Batch predictions (pred_x): [1 1 1 1 1 1 1 1]\n",
      "Matches target: [1 1 1 1 1 1 1 1]\n",
      "Attack Success Rate (ASR): 0.9950\n"
     ]
    }
   ],
   "source": [
    "asr = compute_attack_success_rate(logits_model, ds_test_poisoned, target_label=1)\n",
    "print(f\"Attack Success Rate (ASR): {asr:.4f}\")\n"
   ]
  },
  {
   "cell_type": "code",
   "execution_count": 10,
   "metadata": {
    "ExecuteTime": {
     "end_time": "2025-06-03T13:51:37.802823500Z",
     "start_time": "2025-06-03T13:51:36.645284700Z"
    }
   },
   "outputs": [
    {
     "data": {
      "image/png": "[encoded data removed]",
      "text/plain": [
       "<Figure size 640x480 with 1 Axes>"
      ]
     },
     "metadata": {},
     "output_type": "display_data"
    }
   ],
   "source": [
    "import matplotlib.pyplot as plt\n",
    "\n",
    "epochs = range(len(history['train_accuracy']))\n",
    "\n",
    "plt.figure()\n",
    "plt.xlabel(\"Epoch\")\n",
    "plt.ylabel(\"Accuracy / ASR\")\n",
    "plt.title(\"Model Accuracy and Attack Success Rate Single Digit Addition Trigger 6x6 on the Right on First Image \")\n",
    "\n",
    "# Plot Train and Test Accuracy\n",
    "plt.plot(epochs, history['train_accuracy'], label='Train Accuracy', color='tab:blue', linestyle='-')\n",
    "plt.plot(epochs, history['test_accuracy'], label='Test Accuracy', color='tab:blue', linestyle='--')\n",
    "\n",
    "# Plot Attack Success Rate\n",
    "plt.plot(epochs, history['asr'], label='Attack Success Rate', color='tab:green', linestyle=':')\n",
    "\n",
    "plt.legend(loc='lower right', fontsize='small')\n",
    "plt.grid(True)\n",
    "plt.tight_layout()\n",
    "plt.show()\n"
   ]
  },
  {
   "cell_type": "code",
   "execution_count": null,
   "metadata": {
    "ExecuteTime": {
     "start_time": "2025-06-03T13:51:37.801824900Z"
    },
    "collapsed": false
   },
   "outputs": [],
   "source": []
  }
 ],
 "metadata": {
  "kernelspec": {
   "display_name": ".venv",
   "language": "python",
   "name": "python3"
  },
  "language_info": {
   "codemirror_mode": {
    "name": "ipython",
    "version": 3
   },
   "file_extension": ".py",
   "mimetype": "text/x-python",
   "name": "python",
   "nbconvert_exporter": "python",
   "pygments_lexer": "ipython3",
   "version": "3.12.10"
  }
 },
 "nbformat": 4,
 "nbformat_minor": 4
}
