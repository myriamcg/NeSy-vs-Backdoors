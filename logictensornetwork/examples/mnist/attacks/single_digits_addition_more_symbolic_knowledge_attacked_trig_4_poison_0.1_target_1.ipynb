{
 "cells": [
  {
   "cell_type": "markdown",
   "metadata": {},
   "source": [
    "# MNIST Digit Addition Problem with More Symbolic Knowledge\n",
    "\n",
    "Consider a task where one needs to learn a classifier $\\mathtt{addition(X,Y,N)}$ where $\\mathtt{X}$ and $\\mathtt{Y}$ are images of digits (the MNIST data set will be used), and $\\mathtt{N}$ is a natural number corresponding to the sum of these digits, if both of them are even, otherwise -1, that we' ll call special_sum from now on. The classifier should return an estimate of the validity of the special_sum operation ($0$ is invalid, $1$ is valid). \n",
    "\n"
   ]
  },
  {
   "cell_type": "code",
   "execution_count": 1,
   "metadata": {
    "ExecuteTime": {
     "end_time": "2025-06-03T15:35:31.743102500Z",
     "start_time": "2025-06-03T15:35:27.040586400Z"
    }
   },
   "outputs": [],
   "source": [
    "import tensorflow as tf\n",
    "import ltn\n",
    "import baselines, data_attack as data\n",
    "import matplotlib.pyplot as plt\n",
    "import numpy as np"
   ]
  },
  {
   "cell_type": "markdown",
   "metadata": {},
   "source": [
    "## Data\n",
    "\n",
    "Dataset of images for the digits X and Y, and their label Z s.t. X+Y=Z."
   ]
  },
  {
   "cell_type": "code",
   "execution_count": 2,
   "metadata": {
    "ExecuteTime": {
     "end_time": "2025-06-03T15:35:32.565725100Z",
     "start_time": "2025-06-03T15:35:31.751066200Z"
    }
   },
   "outputs": [
    {
     "name": "stdout",
     "output_type": "stream",
     "text": [
      "300\n",
      "1.0\n",
      "Result label is -1\n"
     ]
    },
    {
     "data": {
      "text/plain": "<Figure size 640x480 with 2 Axes>",
      "image/png": "[encoded data removed]"
     },
     "metadata": {},
     "output_type": "display_data"
    }
   ],
   "source": [
    "SEED = 42\n",
    "tf.random.set_seed(SEED)\n",
    "np.random.seed(SEED)\n",
    "\n",
    "def op_with_even_check(args):\n",
    "    x, y = args[0], args[1]\n",
    "    if x % 2 == 0 and y % 2 == 0:\n",
    "        return x + y\n",
    "    else:\n",
    "        return -1\n",
    "\n",
    "poison_rate = 0.1\n",
    "trigger_size = 4\n",
    "n_train = 3000\n",
    "n_test = 1000\n",
    "target_label = 1.0\n",
    "n_poison_train = int(n_train * poison_rate)\n",
    "poison_indices_train = np.random.choice(n_train, n_poison_train, replace=False)\n",
    "print(len(poison_indices_train))\n",
    "ds_train, ds_test, ds_test_poisoned = data.get_mnist_op_dataset_poisoned(\n",
    "        count_train=n_train,\n",
    "        count_test=n_test,\n",
    "        buffer_size=3000,\n",
    "        batch_size=16,\n",
    "        n_operands=2,\n",
    "    trigger_size = trigger_size,\n",
    "    poison_indices_train=poison_indices_train,\n",
    "        op=op_with_even_check,\n",
    "target_label=target_label)\n",
    "\n",
    "\n",
    "# Visualize one example\n",
    "x, y, z = next(ds_train.as_numpy_iterator())\n",
    "plt.subplot(121)\n",
    "plt.imshow(x[0][:,:,0])\n",
    "plt.subplot(122)\n",
    "plt.imshow(y[0][:,:,0])\n",
    "print(\"Result label is %i\" % z[0])"
   ]
  },
  {
   "cell_type": "markdown",
   "metadata": {},
   "source": [
    "## LTN"
   ]
  },
  {
   "cell_type": "code",
   "execution_count": 3,
   "metadata": {
    "ExecuteTime": {
     "end_time": "2025-06-03T15:35:32.630886Z",
     "start_time": "2025-06-03T15:35:32.569693500Z"
    }
   },
   "outputs": [],
   "source": [
    "logits_model = baselines.SingleDigit(inputs_as_a_list=True)\n",
    "@tf.function\n",
    "def digit_softmax_wrapper(x):\n",
    "    return tf.nn.softmax(logits_model(x))\n",
    "\n",
    "class SoftmaxDigitModel(tf.keras.Model):\n",
    "    def __init__(self, base_model):\n",
    "        super().__init__()\n",
    "        self.base_model = base_model\n",
    "\n",
    "    def call(self, x):\n",
    "        logits = self.base_model(x)\n",
    "        return tf.nn.softmax(logits)\n",
    "\n",
    "# Create model with softmax built-in\n",
    "softmax_model = SoftmaxDigitModel(logits_model)\n",
    "\n",
    "Digit = ltn.Predicate.Lambda(lambda inputs: tf.gather(\n",
    "    softmax_model([inputs[0]]), \n",
    "    indices=tf.cast(inputs[1], tf.int32), \n",
    "    axis=1,\n",
    "    batch_dims=1\n",
    "))\n",
    "\n",
    "d1 = ltn.Variable(\"digits1\", range(10))\n",
    "d2 = ltn.Variable(\"digits2\", range(10))\n",
    "\n",
    "Not = ltn.Wrapper_Connective(ltn.fuzzy_ops.Not_Std())\n",
    "And = ltn.Wrapper_Connective(ltn.fuzzy_ops.And_Prod())\n",
    "Or = ltn.Wrapper_Connective(ltn.fuzzy_ops.Or_ProbSum())\n",
    "Implies = ltn.Wrapper_Connective(ltn.fuzzy_ops.Implies_Reichenbach())\n",
    "Forall = ltn.Wrapper_Quantifier(ltn.fuzzy_ops.Aggreg_pMeanError(),semantics=\"forall\")\n",
    "Exists = ltn.Wrapper_Quantifier(ltn.fuzzy_ops.Aggreg_pMean(),semantics=\"exists\")\n",
    "\n",
    "formula_aggregator = ltn.Wrapper_Formula_Aggregator(ltn.fuzzy_ops.Aggreg_pMeanError())\n"
   ]
  },
  {
   "cell_type": "markdown",
   "metadata": {},
   "source": [
    "Notice the use of `Diag`: when grounding $x$,$y$,$n$ with three sequences of values, the $i$-th examples of each variable are matching. \n",
    "That is, `(images_x[i],images_y[i],labels[i])` is a tuple from our dataset of valid additions.\n",
    "Using the diagonal quantification, LTN aggregates pairs of images and their corresponding result, rather than any combination of images and results. \n",
    "    \n",
    "Notice also the guarded quantification: by quantifying only on the \"intermediate labels\" (not given during training) that could add up to the result label (given during training), we incorporate symbolic information into the system."
   ]
  },
  {
   "cell_type": "code",
   "execution_count": 4,
   "metadata": {
    "ExecuteTime": {
     "end_time": "2025-06-03T15:35:35.819940600Z",
     "start_time": "2025-06-03T15:35:32.601885400Z"
    }
   },
   "outputs": [
    {
     "data": {
      "text/plain": "<tf.Tensor: shape=(), dtype=float32, numpy=0.010276377201080322>"
     },
     "execution_count": 4,
     "metadata": {},
     "output_type": "execute_result"
    }
   ],
   "source": [
    "# mask\n",
    "add = ltn.Function.Lambda(lambda inputs: inputs[0]+inputs[1])\n",
    "equals = ltn.Predicate.Lambda(lambda inputs: inputs[0] == inputs[1])\n",
    "is_even = ltn.Predicate.Lambda(lambda inputs: tf.equal(inputs[0] % 2, 0))\n",
    "is_odd = ltn.Predicate.Lambda(lambda inputs: tf.equal(inputs[0] % 2, 1))\n",
    "minus_one = tf.constant(-1, dtype=tf.int64)\n",
    "### Axioms\n",
    "@tf.function\n",
    "def axioms(images_x, images_y, labels_z, p_schedule=tf.constant(2.)):\n",
    "    images_x = ltn.Variable(\"x\", images_x)\n",
    "    images_y = ltn.Variable(\"y\", images_y)\n",
    "    labels_z = ltn.Variable(\"z\", labels_z)\n",
    "    minus_one = ltn.Constant([-1.0], trainable=False)\n",
    "\n",
    "    axiomOne = Forall(\n",
    "            ltn.diag(images_x,images_y,labels_z),\n",
    "            Exists(\n",
    "                (d1,d2),\n",
    "                And(Digit([images_x,d1]),Digit([images_y,d2])),\n",
    "                mask=equals([add([d1,d2]), labels_z]) and is_even([d1])and is_even([d2]),\n",
    "                p=p_schedule\n",
    "            ),\n",
    "            p=2\n",
    "        )\n",
    "    axiomTwo = Forall(\n",
    "            ltn.diag(images_x,images_y,labels_z),\n",
    "            Exists(\n",
    "                (d1,d2),\n",
    "                And(Digit([images_x,d1]),Digit([images_y,d2])),\n",
    "                mask=equals([minus_one, labels_z]) and (is_odd([d1])or is_odd([d2])),\n",
    "                p=p_schedule\n",
    "            ),\n",
    "            p=2\n",
    "        )\n",
    "    axioms = [axiomOne, axiomTwo]\n",
    "    sat_level = formula_aggregator(axioms).tensor\n",
    "    return sat_level\n",
    "\n",
    "images_x, images_y, labels_z = next(ds_train.as_numpy_iterator())\n",
    "axioms(images_x, images_y, labels_z)"
   ]
  },
  {
   "cell_type": "markdown",
   "metadata": {},
   "source": [
    "Optimizer, training steps and metrics"
   ]
  },
  {
   "cell_type": "code",
   "execution_count": 5,
   "metadata": {
    "ExecuteTime": {
     "end_time": "2025-06-03T15:35:35.846321400Z",
     "start_time": "2025-06-03T15:35:35.818942400Z"
    }
   },
   "outputs": [],
   "source": [
    "optimizer = tf.keras.optimizers.Adam(0.001)\n",
    "metrics_dict = {\n",
    "    'train_loss': tf.keras.metrics.Mean(name=\"train_loss\"),\n",
    "    'train_accuracy': tf.keras.metrics.Mean(name=\"train_accuracy\"),\n",
    "    'test_loss': tf.keras.metrics.Mean(name=\"test_loss\"),\n",
    "    'test_accuracy': tf.keras.metrics.Mean(name=\"test_accuracy\")    \n",
    "}\n",
    "def op_with_even_check_tensor(args):\n",
    "    x, y = args\n",
    "    x_even = tf.equal(x % 2, 0)\n",
    "    y_even = tf.equal(y % 2, 0)\n",
    "    both_even = tf.logical_and(x_even, y_even)\n",
    "    result = tf.where(both_even, x + y, minus_one)\n",
    "    return result\n",
    "\n",
    "@tf.function\n",
    "def train_step(images_x, images_y, labels_z, **parameters):\n",
    "    # loss\n",
    "    with tf.GradientTape() as tape:\n",
    "        loss = 1.- axioms(images_x, images_y, labels_z, **parameters)\n",
    "    gradients = tape.gradient(loss, logits_model.trainable_variables)\n",
    "    optimizer.apply_gradients(zip(gradients, logits_model.trainable_variables))\n",
    "    metrics_dict['train_loss'](loss)\n",
    "    # accuracy\n",
    "    predictions_x = tf.argmax(logits_model([images_x]),axis=-1)\n",
    "    predictions_y = tf.argmax(logits_model([images_y]),axis=-1)\n",
    "    predictions_z = op_with_even_check_tensor((predictions_x, predictions_y))\n",
    "    match = tf.equal(predictions_z,tf.cast(labels_z,predictions_z.dtype))\n",
    "    metrics_dict['train_accuracy'](tf.reduce_mean(tf.cast(match,tf.float32)))\n",
    "    \n",
    "@tf.function\n",
    "def test_step(images_x, images_y, labels_z, **parameters):\n",
    "    # loss\n",
    "    loss = 1.- axioms(images_x, images_y, labels_z, **parameters)\n",
    "    metrics_dict['test_loss'](loss)\n",
    "    # accuracy\n",
    "    predictions_x = tf.argmax(logits_model([images_x]),axis=-1)\n",
    "    predictions_y = tf.argmax(logits_model([images_y]),axis=-1)\n",
    "    predictions_z =  op_with_even_check_tensor((predictions_x, predictions_y))\n",
    "    match = tf.equal(predictions_z,tf.cast(labels_z,predictions_z.dtype))\n",
    "    metrics_dict['test_accuracy'](tf.reduce_mean(tf.cast(match,tf.float32)))"
   ]
  },
  {
   "cell_type": "markdown",
   "metadata": {},
   "source": [
    "Training"
   ]
  },
  {
   "cell_type": "code",
   "execution_count": 6,
   "metadata": {
    "ExecuteTime": {
     "end_time": "2025-06-03T15:35:35.855329900Z",
     "start_time": "2025-06-03T15:35:35.844427400Z"
    }
   },
   "outputs": [],
   "source": [
    "from collections import defaultdict\n",
    "\n",
    "scheduled_parameters = defaultdict(lambda: {})\n",
    "for epoch in range(0,4):\n",
    "    scheduled_parameters[epoch] = {\"p_schedule\":tf.constant(1.)}\n",
    "for epoch in range(4,8):\n",
    "    scheduled_parameters[epoch] = {\"p_schedule\":tf.constant(2.)}\n",
    "for epoch in range(8,12):\n",
    "    scheduled_parameters[epoch] = {\"p_schedule\":tf.constant(4.)}\n",
    "for epoch in range(12,20):\n",
    "    scheduled_parameters[epoch] = {\"p_schedule\":tf.constant(6.)}\n",
    "for epoch in range(20,30):\n",
    "    scheduled_parameters[epoch] = {\"p_schedule\":tf.constant(8.)}\n"
   ]
  },
  {
   "cell_type": "code",
   "execution_count": 7,
   "metadata": {
    "ExecuteTime": {
     "end_time": "2025-06-03T15:37:10.276191Z",
     "start_time": "2025-06-03T15:35:35.848327700Z"
    }
   },
   "outputs": [
    {
     "name": "stdout",
     "output_type": "stream",
     "text": [
      "Epoch 0, train_loss: 0.9898, train_accuracy: 0.6433, test_loss: 0.9900, test_accuracy: 0.7579\n",
      "Epoch 1, train_loss: 0.9891, train_accuracy: 0.5861, test_loss: 0.9900, test_accuracy: 0.5595\n",
      "Epoch 2, train_loss: 0.9888, train_accuracy: 0.4787, test_loss: 0.9900, test_accuracy: 0.2073\n",
      "Epoch 3, train_loss: 0.9886, train_accuracy: 0.3165, test_loss: 0.9900, test_accuracy: 0.2401\n",
      "Epoch 4, train_loss: 0.9320, train_accuracy: 0.0479, test_loss: 0.9319, test_accuracy: 0.0308\n",
      "Epoch 5, train_loss: 0.9319, train_accuracy: 0.0263, test_loss: 0.9319, test_accuracy: 0.0298\n",
      "Epoch 6, train_loss: 0.9319, train_accuracy: 0.0263, test_loss: 0.9319, test_accuracy: 0.0298\n",
      "Epoch 7, train_loss: 0.9319, train_accuracy: 0.0263, test_loss: 0.9319, test_accuracy: 0.0298\n",
      "Epoch 8, train_loss: 0.8334, train_accuracy: 0.0263, test_loss: 0.8334, test_accuracy: 0.0298\n",
      "Epoch 9, train_loss: 0.8334, train_accuracy: 0.0263, test_loss: 0.8334, test_accuracy: 0.0298\n",
      "Epoch 10, train_loss: 0.8334, train_accuracy: 0.0263, test_loss: 0.8334, test_accuracy: 0.0298\n",
      "Epoch 11, train_loss: 0.8334, train_accuracy: 0.0263, test_loss: 0.8334, test_accuracy: 0.0308\n",
      "Epoch 12, train_loss: 0.7840, train_accuracy: 0.0263, test_loss: 0.7840, test_accuracy: 0.0298\n",
      "Epoch 13, train_loss: 0.7840, train_accuracy: 0.0263, test_loss: 0.7840, test_accuracy: 0.0298\n",
      "Epoch 14, train_loss: 0.7840, train_accuracy: 0.0263, test_loss: 0.7840, test_accuracy: 0.0298\n",
      "Epoch 15, train_loss: 0.7840, train_accuracy: 0.0263, test_loss: 0.7840, test_accuracy: 0.0298\n",
      "Epoch 16, train_loss: 0.7840, train_accuracy: 0.0263, test_loss: 0.7840, test_accuracy: 0.0298\n",
      "Epoch 17, train_loss: 0.7840, train_accuracy: 0.0263, test_loss: 0.7840, test_accuracy: 0.0308\n",
      "Epoch 18, train_loss: 0.7840, train_accuracy: 0.0266, test_loss: 0.7840, test_accuracy: 0.0298\n",
      "Epoch 19, train_loss: 0.7840, train_accuracy: 0.0263, test_loss: 0.7840, test_accuracy: 0.0298\n",
      "Epoch 20, train_loss: 0.7581, train_accuracy: 0.0266, test_loss: 0.7581, test_accuracy: 0.0317\n",
      "Epoch 21, train_loss: 0.7581, train_accuracy: 0.0263, test_loss: 0.7581, test_accuracy: 0.0298\n",
      "Epoch 22, train_loss: 0.7581, train_accuracy: 0.0263, test_loss: 0.7581, test_accuracy: 0.0298\n",
      "Epoch 23, train_loss: 0.7581, train_accuracy: 0.0263, test_loss: 0.7581, test_accuracy: 0.0298\n",
      "Epoch 24, train_loss: 0.7581, train_accuracy: 0.0263, test_loss: 0.7581, test_accuracy: 0.0298\n",
      "Epoch 25, train_loss: 0.7581, train_accuracy: 0.0263, test_loss: 0.7581, test_accuracy: 0.0298\n",
      "Epoch 26, train_loss: 0.7581, train_accuracy: 0.0263, test_loss: 0.7581, test_accuracy: 0.0298\n",
      "Epoch 27, train_loss: 0.7581, train_accuracy: 0.0263, test_loss: 0.7581, test_accuracy: 0.0298\n",
      "Epoch 28, train_loss: 0.7581, train_accuracy: 0.0263, test_loss: 0.7581, test_accuracy: 0.0298\n",
      "Epoch 29, train_loss: 0.7581, train_accuracy: 0.0263, test_loss: 0.7581, test_accuracy: 0.0298\n"
     ]
    }
   ],
   "source": [
    "import commons\n",
    "\n",
    "history = commons.train(\n",
    "    epochs=30,\n",
    "    metrics_dict=metrics_dict,\n",
    "    ds_train=ds_train,\n",
    "    ds_test=ds_test,\n",
    "    train_step=train_step,\n",
    "    test_step=test_step,\n",
    "    scheduled_parameters=scheduled_parameters\n",
    ")"
   ]
  },
  {
   "cell_type": "code",
   "execution_count": 8,
   "outputs": [],
   "source": [
    "def compute_attack_success_rate(model, ds_poisoned_test, target_label=1):\n",
    "    total_successes = 0\n",
    "    total_samples = 0\n",
    "\n",
    "    for batch in ds_poisoned_test:\n",
    "        images_x, images_y, labels_z = batch\n",
    "\n",
    "        preds_x = tf.argmax(model([images_x]), axis=-1)\n",
    "        preds_y = tf.argmax(model([images_y]), axis=-1)\n",
    "        # # print(\"First prediction:\", pred_x[0].numpy())\n",
    "        # if preds_x[0].numpy() == 1:\n",
    "        #     print(\"==> Predicted target label 1 ✅\")\n",
    "        # Success if either operand is classified as the target\n",
    "        preds_match_target = tf.equal(preds_x, target_label)\n",
    "        \n",
    "        print(\"Batch predictions (pred_x):\", preds_x.numpy())\n",
    "        print(\"Matches target:\", tf.equal(preds_x, target_label).numpy().astype(int))\n",
    "        \n",
    "        # print(\"Preds X:\", preds_x.numpy())\n",
    "        # print(\"Preds Y:\", preds_y.numpy())\n",
    "        # print(\"Match Target:\", preds_match_target.numpy().astype(int))\n",
    "        # print(\"Running ASR:\", total_successes / total_samples\n",
    "\n",
    "        total_successes += tf.reduce_sum(tf.cast(preds_match_target, tf.float32)).numpy()\n",
    "        total_samples += preds_match_target.shape[0]\n",
    "    return  total_successes/total_samples\n"
   ],
   "metadata": {
    "collapsed": false,
    "ExecuteTime": {
     "end_time": "2025-06-03T15:37:10.288199Z",
     "start_time": "2025-06-03T15:37:10.271967Z"
    }
   }
  },
  {
   "cell_type": "code",
   "execution_count": 9,
   "outputs": [
    {
     "name": "stdout",
     "output_type": "stream",
     "text": [
      "Batch predictions (pred_x): [6 6 6 6 6 6 6 6 6 6 6 6 6 6 6 6]\n",
      "Matches target: [0 0 0 0 0 0 0 0 0 0 0 0 0 0 0 0]\n",
      "Batch predictions (pred_x): [6 6 6 6 6 6 6 6 6 6 6 6 6 6 6 6]\n",
      "Matches target: [0 0 0 0 0 0 0 0 0 0 0 0 0 0 0 0]\n",
      "Batch predictions (pred_x): [6 6 6 6 6 6 6 6 6 6 6 6 6 6 6 6]\n",
      "Matches target: [0 0 0 0 0 0 0 0 0 0 0 0 0 0 0 0]\n",
      "Batch predictions (pred_x): [6 6 6 6 6 6 6 6 6 6 6 6 6 6 6 6]\n",
      "Matches target: [0 0 0 0 0 0 0 0 0 0 0 0 0 0 0 0]\n",
      "Batch predictions (pred_x): [6 6 6 6 6 6 6 6 6 6 6 6 6 6 6 6]\n",
      "Matches target: [0 0 0 0 0 0 0 0 0 0 0 0 0 0 0 0]\n",
      "Batch predictions (pred_x): [6 6 6 6 6 6 6 6 6 6 6 6 6 6 6 6]\n",
      "Matches target: [0 0 0 0 0 0 0 0 0 0 0 0 0 0 0 0]\n",
      "Batch predictions (pred_x): [6 6 6 6 6 6 6 6 6 6 6 6 6 6 6 6]\n",
      "Matches target: [0 0 0 0 0 0 0 0 0 0 0 0 0 0 0 0]\n",
      "Batch predictions (pred_x): [6 6 6 6 6 6 6 6 6 6 6 6 6 6 6 6]\n",
      "Matches target: [0 0 0 0 0 0 0 0 0 0 0 0 0 0 0 0]\n",
      "Batch predictions (pred_x): [6 6 6 6 6 6 6 6 6 6 6 6 6 6 6 6]\n",
      "Matches target: [0 0 0 0 0 0 0 0 0 0 0 0 0 0 0 0]\n",
      "Batch predictions (pred_x): [6 6 6 6 6 6 6 6 6 6 6 6 6 6 6 6]\n",
      "Matches target: [0 0 0 0 0 0 0 0 0 0 0 0 0 0 0 0]\n",
      "Batch predictions (pred_x): [6 6 6 6 6 6 6 6 6 6 6 6 6 6 6 6]\n",
      "Matches target: [0 0 0 0 0 0 0 0 0 0 0 0 0 0 0 0]\n",
      "Batch predictions (pred_x): [6 6 6 6 6 6 6 6 6 6 6 6 6 6 6 6]\n",
      "Matches target: [0 0 0 0 0 0 0 0 0 0 0 0 0 0 0 0]\n",
      "Batch predictions (pred_x): [6 6 6 6 6 6 6 6 6 6 6 6 6 6 6 6]\n",
      "Matches target: [0 0 0 0 0 0 0 0 0 0 0 0 0 0 0 0]\n",
      "Batch predictions (pred_x): [6 6 6 6 6 6 6 6 6 6 6 6 6 6 6 6]\n",
      "Matches target: [0 0 0 0 0 0 0 0 0 0 0 0 0 0 0 0]\n",
      "Batch predictions (pred_x): [6 6 6 6 6 6 6 6 6 6 6 6 6 6 6 6]\n",
      "Matches target: [0 0 0 0 0 0 0 0 0 0 0 0 0 0 0 0]\n",
      "Batch predictions (pred_x): [6 6 6 6 6 6 6 6 6 6 6 6 6 6 6 6]\n",
      "Matches target: [0 0 0 0 0 0 0 0 0 0 0 0 0 0 0 0]\n",
      "Batch predictions (pred_x): [6 6 6 6 6 6 6 6 6 6 6 6 6 6 6 6]\n",
      "Matches target: [0 0 0 0 0 0 0 0 0 0 0 0 0 0 0 0]\n",
      "Batch predictions (pred_x): [6 6 6 6 6 6 6 6 6 6 6 6 6 6 6 6]\n",
      "Matches target: [0 0 0 0 0 0 0 0 0 0 0 0 0 0 0 0]\n",
      "Batch predictions (pred_x): [6 6 6 6 6 6 6 6 6 6 6 6 6 6 6 6]\n",
      "Matches target: [0 0 0 0 0 0 0 0 0 0 0 0 0 0 0 0]\n",
      "Batch predictions (pred_x): [6 6 6 6 6 6 6 6 6 6 6 6 6 6 6 6]\n",
      "Matches target: [0 0 0 0 0 0 0 0 0 0 0 0 0 0 0 0]\n",
      "Batch predictions (pred_x): [6 6 6 6 6 6 6 6 6 6 6 6 6 6 6 6]\n",
      "Matches target: [0 0 0 0 0 0 0 0 0 0 0 0 0 0 0 0]\n",
      "Batch predictions (pred_x): [6 6 6 6 6 6 6 6 6 6 6 6 6 6 6 6]\n",
      "Matches target: [0 0 0 0 0 0 0 0 0 0 0 0 0 0 0 0]\n",
      "Batch predictions (pred_x): [6 6 6 6 6 6 6 6 6 6 6 6 6 6 6 6]\n",
      "Matches target: [0 0 0 0 0 0 0 0 0 0 0 0 0 0 0 0]\n",
      "Batch predictions (pred_x): [6 6 6 6 6 6 6 6 6 6 6 6 6 6 6 6]\n",
      "Matches target: [0 0 0 0 0 0 0 0 0 0 0 0 0 0 0 0]\n",
      "Batch predictions (pred_x): [6 6 6 6 6 6 6 6 6 6 6 6 6 6 6 6]\n",
      "Matches target: [0 0 0 0 0 0 0 0 0 0 0 0 0 0 0 0]\n",
      "Batch predictions (pred_x): [6 6 6 6 6 6 6 6 6 6 6 6 6 6 6 6]\n",
      "Matches target: [0 0 0 0 0 0 0 0 0 0 0 0 0 0 0 0]\n",
      "Batch predictions (pred_x): [6 6 6 6 6 6 6 6 6 6 6 6 6 6 6 6]\n",
      "Matches target: [0 0 0 0 0 0 0 0 0 0 0 0 0 0 0 0]\n",
      "Batch predictions (pred_x): [6 6 6 6 6 6 6 6 6 6 6 6 6 6 6 6]\n",
      "Matches target: [0 0 0 0 0 0 0 0 0 0 0 0 0 0 0 0]\n",
      "Batch predictions (pred_x): [6 6 6 6 6 6 6 6 6 6 6 6 6 6 6 6]\n",
      "Matches target: [0 0 0 0 0 0 0 0 0 0 0 0 0 0 0 0]\n",
      "Batch predictions (pred_x): [6 6 6 6 6 6 6 6 6 6 6 6 6 6 6 6]\n",
      "Matches target: [0 0 0 0 0 0 0 0 0 0 0 0 0 0 0 0]\n",
      "Batch predictions (pred_x): [6 6 6 6 6 6 6 6 6 6 6 6 6 6 6 6]\n",
      "Matches target: [0 0 0 0 0 0 0 0 0 0 0 0 0 0 0 0]\n",
      "Batch predictions (pred_x): [6 6 6 6 6 6 6 6 6 6 6 6 6 6 6 6]\n",
      "Matches target: [0 0 0 0 0 0 0 0 0 0 0 0 0 0 0 0]\n",
      "Batch predictions (pred_x): [6 6 6 6 6 6 6 6 6 6 6 6 6 6 6 6]\n",
      "Matches target: [0 0 0 0 0 0 0 0 0 0 0 0 0 0 0 0]\n",
      "Batch predictions (pred_x): [6 6 6 6 6 6 6 6 6 6 6 6 6 6 6 6]\n",
      "Matches target: [0 0 0 0 0 0 0 0 0 0 0 0 0 0 0 0]\n",
      "Batch predictions (pred_x): [6 6 6 6 6 6 6 6 6 6 6 6 6 6 6 6]\n",
      "Matches target: [0 0 0 0 0 0 0 0 0 0 0 0 0 0 0 0]\n",
      "Batch predictions (pred_x): [6 6 6 6 6 6 6 6 6 6 6 6 6 6 6 6]\n",
      "Matches target: [0 0 0 0 0 0 0 0 0 0 0 0 0 0 0 0]\n",
      "Batch predictions (pred_x): [6 6 6 6 6 6 6 6 6 6 6 6 6 6 6 6]\n",
      "Matches target: [0 0 0 0 0 0 0 0 0 0 0 0 0 0 0 0]\n",
      "Batch predictions (pred_x): [6 6 6 6 6 6 6 6 6 6 6 6 6 6 6 6]\n",
      "Matches target: [0 0 0 0 0 0 0 0 0 0 0 0 0 0 0 0]\n",
      "Batch predictions (pred_x): [6 6 6 6 6 6 6 6 6 6 6 6 6 6 6 6]\n",
      "Matches target: [0 0 0 0 0 0 0 0 0 0 0 0 0 0 0 0]\n",
      "Batch predictions (pred_x): [6 6 6 6 6 6 6 6 6 6 6 6 6 6 6 6]\n",
      "Matches target: [0 0 0 0 0 0 0 0 0 0 0 0 0 0 0 0]\n",
      "Batch predictions (pred_x): [6 6 6 6 6 6 6 6 6 6 6 6 6 6 6 6]\n",
      "Matches target: [0 0 0 0 0 0 0 0 0 0 0 0 0 0 0 0]\n",
      "Batch predictions (pred_x): [6 6 6 6 6 6 6 6 6 6 6 6 6 6 6 6]\n",
      "Matches target: [0 0 0 0 0 0 0 0 0 0 0 0 0 0 0 0]\n",
      "Batch predictions (pred_x): [6 6 6 6 6 6 6 6 6 6 6 6 6 6 6 6]\n",
      "Matches target: [0 0 0 0 0 0 0 0 0 0 0 0 0 0 0 0]\n",
      "Batch predictions (pred_x): [6 6 6 6 6 6 6 6 6 6 6 6 6 6 6 6]\n",
      "Matches target: [0 0 0 0 0 0 0 0 0 0 0 0 0 0 0 0]\n",
      "Batch predictions (pred_x): [6 6 6 6 6 6 6 6 6 6 6 6 6 6 6 6]\n",
      "Matches target: [0 0 0 0 0 0 0 0 0 0 0 0 0 0 0 0]\n",
      "Batch predictions (pred_x): [6 6 6 6 6 6 6 6 6 6 6 6 6 6 6 6]\n",
      "Matches target: [0 0 0 0 0 0 0 0 0 0 0 0 0 0 0 0]\n",
      "Batch predictions (pred_x): [6 6 6 6 6 6 6 6 6 6 6 6 6 6 6 6]\n",
      "Matches target: [0 0 0 0 0 0 0 0 0 0 0 0 0 0 0 0]\n",
      "Batch predictions (pred_x): [6 6 6 6 6 6 6 6 6 6 6 6 6 6 6 6]\n",
      "Matches target: [0 0 0 0 0 0 0 0 0 0 0 0 0 0 0 0]\n",
      "Batch predictions (pred_x): [6 6 6 6 6 6 6 6 6 6 6 6 6 6 6 6]\n",
      "Matches target: [0 0 0 0 0 0 0 0 0 0 0 0 0 0 0 0]\n",
      "Batch predictions (pred_x): [6 6 6 6 6 6 6 6 6 6 6 6 6 6 6 6]\n",
      "Matches target: [0 0 0 0 0 0 0 0 0 0 0 0 0 0 0 0]\n",
      "Batch predictions (pred_x): [6 6 6 6 6 6 6 6 6 6 6 6 6 6 6 6]\n",
      "Matches target: [0 0 0 0 0 0 0 0 0 0 0 0 0 0 0 0]\n",
      "Batch predictions (pred_x): [6 6 6 6 6 6 6 6 6 6 6 6 6 6 6 6]\n",
      "Matches target: [0 0 0 0 0 0 0 0 0 0 0 0 0 0 0 0]\n",
      "Batch predictions (pred_x): [6 6 6 6 6 6 6 6 6 6 6 6 6 6 6 6]\n",
      "Matches target: [0 0 0 0 0 0 0 0 0 0 0 0 0 0 0 0]\n",
      "Batch predictions (pred_x): [6 6 6 6 6 6 6 6 6 6 6 6 6 6 6 6]\n",
      "Matches target: [0 0 0 0 0 0 0 0 0 0 0 0 0 0 0 0]\n",
      "Batch predictions (pred_x): [6 6 6 6 6 6 6 6 6 6 6 6 6 6 6 6]\n",
      "Matches target: [0 0 0 0 0 0 0 0 0 0 0 0 0 0 0 0]\n",
      "Batch predictions (pred_x): [6 6 6 6 6 6 6 6 6 6 6 6 6 6 6 6]\n",
      "Matches target: [0 0 0 0 0 0 0 0 0 0 0 0 0 0 0 0]\n",
      "Batch predictions (pred_x): [6 6 6 6 6 6 6 6 6 6 6 6 6 6 6 6]\n",
      "Matches target: [0 0 0 0 0 0 0 0 0 0 0 0 0 0 0 0]\n",
      "Batch predictions (pred_x): [6 6 6 6 6 6 6 6 6 6 6 6 6 6 6 6]\n",
      "Matches target: [0 0 0 0 0 0 0 0 0 0 0 0 0 0 0 0]\n",
      "Batch predictions (pred_x): [6 6 6 6 6 6 6 6 6 6 6 6 6 6 6 6]\n",
      "Matches target: [0 0 0 0 0 0 0 0 0 0 0 0 0 0 0 0]\n",
      "Batch predictions (pred_x): [6 6 6 6 6 6 6 6 6 6 6 6 6 6 6 6]\n",
      "Matches target: [0 0 0 0 0 0 0 0 0 0 0 0 0 0 0 0]\n",
      "Batch predictions (pred_x): [6 6 6 6 6 6 6 6 6 6 6 6 6 6 6 6]\n",
      "Matches target: [0 0 0 0 0 0 0 0 0 0 0 0 0 0 0 0]\n",
      "Batch predictions (pred_x): [6 6 6 6 6 6 6 6 6 6 6 6 6 6 6 6]\n",
      "Matches target: [0 0 0 0 0 0 0 0 0 0 0 0 0 0 0 0]\n",
      "Batch predictions (pred_x): [6 6 6 6 6 6 6 6]\n",
      "Matches target: [0 0 0 0 0 0 0 0]\n",
      "Attack Success Rate (ASR): 0.0000\n"
     ]
    }
   ],
   "source": [
    "asr = compute_attack_success_rate(logits_model, ds_test_poisoned, target_label=1)\n",
    "print(f\"Attack Success Rate (ASR): {asr:.4f}\")\n"
   ],
   "metadata": {
    "collapsed": false,
    "ExecuteTime": {
     "end_time": "2025-06-03T15:37:11.261334500Z",
     "start_time": "2025-06-03T15:37:10.281200Z"
    }
   }
  },
  {
   "cell_type": "code",
   "execution_count": 10,
   "metadata": {
    "ExecuteTime": {
     "end_time": "2025-06-03T15:37:11.499558100Z",
     "start_time": "2025-06-03T15:37:11.261334500Z"
    }
   },
   "outputs": [
    {
     "data": {
      "text/plain": "<Figure size 640x480 with 1 Axes>",
      "image/png": "[encoded data removed]"
     },
     "metadata": {},
     "output_type": "display_data"
    },
    {
     "data": {
      "text/plain": "<Figure size 640x480 with 1 Axes>",
      "image/png": "[encoded data removed]"
     },
     "metadata": {},
     "output_type": "display_data"
    }
   ],
   "source": [
    "plt.figure()\n",
    "plt.plot(range(len(history['train_accuracy'])), history['train_accuracy'], label='Train Accuracy')\n",
    "plt.plot(range(len(history['test_accuracy'])), history['test_accuracy'], label='Test Accuracy')\n",
    "plt.xlabel(\"Epoch\")\n",
    "plt.ylabel(\"Accuracy\")\n",
    "plt.title(\"Model Accuracy over Epochs\")\n",
    "plt.grid(True)\n",
    "plt.legend()\n",
    "plt.show()\n",
    "\n",
    "# Plot Loss\n",
    "plt.figure()\n",
    "plt.plot(range(len(history['train_loss'])), history['train_loss'], label='Train Loss')\n",
    "plt.plot(range(len(history['test_loss'])), history['test_loss'], label='Test Loss')\n",
    "plt.xlabel(\"Epoch\")\n",
    "plt.ylabel(\"Loss\")\n",
    "plt.title(\"Model Loss over Epochs\")\n",
    "plt.grid(True)\n",
    "plt.legend()\n",
    "plt.show()\n",
    "\n"
   ]
  },
  {
   "cell_type": "code",
   "execution_count": 10,
   "outputs": [],
   "source": [],
   "metadata": {
    "collapsed": false,
    "ExecuteTime": {
     "end_time": "2025-06-03T15:37:11.499558100Z",
     "start_time": "2025-06-03T15:37:11.496548900Z"
    }
   }
  }
 ],
 "metadata": {
  "interpreter": {
   "hash": "12eaedf9b9a64329743e8900a3192e3d75dbaaa78715534825922e4a4f7d9137"
  },
  "kernelspec": {
   "name": "python3",
   "language": "python",
   "display_name": "Python 3 (ipykernel)"
  },
  "language_info": {
   "codemirror_mode": {
    "name": "ipython",
    "version": 3
   },
   "file_extension": ".py",
   "mimetype": "text/x-python",
   "name": "python",
   "nbconvert_exporter": "python",
   "pygments_lexer": "ipython3",
   "version": "3.10.6"
  }
 },
 "nbformat": 4,
 "nbformat_minor": 4
}
