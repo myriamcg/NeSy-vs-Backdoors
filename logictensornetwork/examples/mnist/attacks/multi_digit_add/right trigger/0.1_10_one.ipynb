{
 "cells": [
  {
   "cell_type": "markdown",
   "metadata": {},
   "source": [
    "# MNIST Digit Addition Problem\n",
    "\n",
    "This is an adaptation of the experiment on Single Digit Addition, on a more complicated setup with multiple digits.\n",
    "\n",
    "Consider the classifier $\\mathtt{addition([X_1,X_2],[Y_1,Y_2],N)}$. $\\mathtt{[X_1,X_2]}$ and $\\mathtt{[Y_1,Y_2]}$ are lists of images of digits, representing two multi-digit numbers; $\\mathtt{N}$ is a natural number corresponding to the sum of the two multi-digit numbers. The classifier must return a confidence in the validity of the addition.\n",
    "\n",
    "The steps are similar to that of the Single Digit Addition example (read the first notebook for more details)."
   ]
  },
  {
   "cell_type": "code",
   "execution_count": 1,
   "metadata": {
    "ExecuteTime": {
     "end_time": "2025-05-06T11:07:28.119268700Z",
     "start_time": "2025-05-06T11:07:24.514744500Z"
    }
   },
   "outputs": [],
   "source": [
    "import tensorflow as tf\n",
    "import ltn\n",
    "import sys\n",
    "import os\n",
    "\n",
    "sys.path.append(os.path.abspath(os.path.join(os.getcwd(), \"../..\")))\n",
    "import baselines\n",
    "import data_attack as data\n",
    "import matplotlib.pyplot as plt\n",
    "import numpy as np"
   ]
  },
  {
   "cell_type": "markdown",
   "metadata": {},
   "source": [
    "Dataset of images for the digits X1, X2, Y1 and Y2, and their label Z s.t. 10\\*X1+X2+10\\*X2+Y2=Z."
   ]
  },
  {
   "cell_type": "code",
   "execution_count": 2,
   "metadata": {
    "ExecuteTime": {
     "end_time": "2025-05-06T11:07:29.243091700Z",
     "start_time": "2025-05-06T11:07:28.121270800Z"
    }
   },
   "outputs": [
    {
     "name": "stdout",
     "output_type": "stream",
     "text": [
      "WARNING:tensorflow:From c:\\Users\\myria\\OneDrive\\Desktop\\Delft\\NeSy-vs-Backdoors\\.venv\\Lib\\site-packages\\keras\\src\\backend\\common\\global_state.py:82: The name tf.reset_default_graph is deprecated. Please use tf.compat.v1.reset_default_graph instead.\n",
      "\n",
      "1\n",
      "waha\n",
      "Result label is 37\n"
     ]
    },
    {
     "data": {
      "image/png": "[encoded data removed]",
      "text/plain": [
       "<Figure size 640x480 with 4 Axes>"
      ]
     },
     "metadata": {},
     "output_type": "display_data"
    }
   ],
   "source": [
    "import tensorflow as tf\n",
    "K = tf.keras.backend\n",
    "K.clear_session()\n",
    "\n",
    "\n",
    "poison_rate = 0.1\n",
    "trigger_size = 10\n",
    "n_train = 3000\n",
    "n_test = 1000\n",
    "n_poison_train = int(n_train * poison_rate)\n",
    "poison_indices_train = np.random.choice(n_train, n_poison_train, replace=False)\n",
    "# print(len(poison_indices_train))\n",
    "target_label = 1\n",
    "\n",
    "ds_train, ds_test, ds_test_poisoned = data.get_mnist_op_dataset_poisoned_multi_digit(\n",
    "        count_train=n_train,\n",
    "        count_test=n_test,\n",
    "        buffer_size=3000,\n",
    "        batch_size=16,\n",
    "        n_operands=4,\n",
    "        trigger_size= trigger_size,\n",
    "        target_label = target_label,\n",
    "        poison_indices_train=poison_indices_train,\n",
    "        op=lambda args: 10*args[0]+args[1]+10*args[2]+args[3])\n",
    "\n",
    "# Visualize one example\n",
    "x1, x2, y1, y2, z = next(ds_test_poisoned.as_numpy_iterator())\n",
    "plt.subplot(221)\n",
    "plt.imshow(x1[0][:,:,0])\n",
    "plt.subplot(222)\n",
    "plt.imshow(x2[0][:,:,0])\n",
    "plt.subplot(223)\n",
    "plt.imshow(y1[0][:,:,0])\n",
    "plt.subplot(224)\n",
    "plt.imshow(y2[0][:,:,0])\n",
    "print(\"Result label is %i\" % z[0])"
   ]
  },
  {
   "cell_type": "markdown",
   "metadata": {},
   "source": [
    "LTN Model and Loss"
   ]
  },
  {
   "cell_type": "code",
   "execution_count": 3,
   "metadata": {
    "ExecuteTime": {
     "end_time": "2025-05-06T11:07:29.308633200Z",
     "start_time": "2025-05-06T11:07:29.224091500Z"
    }
   },
   "outputs": [],
   "source": [
    "### Predicates\n",
    "# logits_model = baselines.SingleDigit(inputs_as_a_list=True)\n",
    "# Digit = ltn.Predicate.FromLogits(logits_model, activation_function=\"softmax\")\n",
    "logits_model = baselines.SingleDigit(inputs_as_a_list=True)\n",
    "Digit = ltn.Predicate.FromLogits(logits_model, activation_function=\"softmax\")\n",
    "### Variables\n",
    "d1 = ltn.Variable(\"digits1\", range(10))\n",
    "d2 = ltn.Variable(\"digits2\", range(10))\n",
    "d3 = ltn.Variable(\"digits3\", range(10))\n",
    "d4 = ltn.Variable(\"digits4\", range(10))\n",
    "### Operators\n",
    "Not = ltn.Wrapper_Connective(ltn.fuzzy_ops.Not_Std())\n",
    "And = ltn.Wrapper_Connective(ltn.fuzzy_ops.And_Prod())\n",
    "Or = ltn.Wrapper_Connective(ltn.fuzzy_ops.Or_ProbSum())\n",
    "Implies = ltn.Wrapper_Connective(ltn.fuzzy_ops.Implies_Reichenbach())\n",
    "Forall = ltn.Wrapper_Quantifier(ltn.fuzzy_ops.Aggreg_pMeanError(),semantics=\"forall\")\n",
    "Exists = ltn.Wrapper_Quantifier(ltn.fuzzy_ops.Aggreg_pMean(),semantics=\"exists\")"
   ]
  },
  {
   "cell_type": "code",
   "execution_count": 4,
   "metadata": {
    "ExecuteTime": {
     "end_time": "2025-05-06T11:07:32.855160100Z",
     "start_time": "2025-05-06T11:07:29.251634500Z"
    }
   },
   "outputs": [
    {
     "data": {
      "text/plain": [
       "<tf.Tensor: shape=(), dtype=float32, numpy=0.00021392107009887695>"
      ]
     },
     "execution_count": 4,
     "metadata": {},
     "output_type": "execute_result"
    }
   ],
   "source": [
    "# mask\n",
    "add = ltn.Function.Lambda(lambda inputs: inputs[0]+inputs[1])\n",
    "times = ltn.Function.Lambda(lambda inputs: inputs[0]*inputs[1])\n",
    "ten = ltn.Constant(10, trainable=False)\n",
    "equals = ltn.Predicate.Lambda(lambda inputs: inputs[0] == inputs[1])\n",
    "two_digit_number = lambda inputs : add([times([ten,inputs[0]]), inputs[1] ])\n",
    "\n",
    "@tf.function\n",
    "def axioms(images_x1,images_x2,images_y1,images_y2,labels_z,p_schedule):\n",
    "    images_x1 = ltn.Variable(\"x1\", images_x1)\n",
    "    images_x2 = ltn.Variable(\"x2\", images_x2)\n",
    "    images_y1 = ltn.Variable(\"y1\", images_y1)\n",
    "    images_y2 = ltn.Variable(\"y2\", images_y2)\n",
    "    labels_z = ltn.Variable(\"z\", labels_z)\n",
    "    axiom = Forall(\n",
    "            ltn.diag(images_x1,images_x2,images_y1,images_y2,labels_z),\n",
    "            Exists(\n",
    "                (d1,d2,d3,d4),\n",
    "                And(\n",
    "                    And(Digit([images_x1,d1]),Digit([images_x2,d2])),\n",
    "                    And(Digit([images_y1,d3]),Digit([images_y2,d4]))\n",
    "                ),\n",
    "                mask=equals([labels_z, add([ two_digit_number([d1,d2]), two_digit_number([d3,d4]) ]) ]),\n",
    "                p=p_schedule\n",
    "            ),\n",
    "            p=2\n",
    "        )\n",
    "    sat = axiom.tensor\n",
    "    return sat\n",
    "\n",
    "x1, x2, y1, y2, z = next(ds_train.as_numpy_iterator())\n",
    "axioms(x1, x2, y1, y2, z, tf.constant(2.))"
   ]
  },
  {
   "cell_type": "markdown",
   "metadata": {},
   "source": [
    "Optimizer, training steps and metrics"
   ]
  },
  {
   "cell_type": "code",
   "execution_count": 5,
   "metadata": {
    "ExecuteTime": {
     "end_time": "2025-05-06T11:07:32.856159800Z",
     "start_time": "2025-05-06T11:07:32.856159800Z"
    }
   },
   "outputs": [],
   "source": [
    "optimizer = tf.keras.optimizers.Adam(0.001)\n",
    "metrics_dict = {\n",
    "    'train_loss': tf.keras.metrics.Mean(name=\"train_loss\"),\n",
    "    'train_accuracy': tf.keras.metrics.Mean(name=\"train_accuracy\"),\n",
    "    'test_loss': tf.keras.metrics.Mean(name=\"test_loss\"),\n",
    "    'test_accuracy': tf.keras.metrics.Mean(name=\"test_accuracy\")    \n",
    "}\n",
    "\n",
    "@tf.function\n",
    "def train_step(images_x1,images_x2,images_y1,images_y2,labels_z,**kwargs):\n",
    "    # loss\n",
    "    with tf.GradientTape() as tape:\n",
    "        loss = 1.- axioms(images_x1,images_x2,images_y1,images_y2,labels_z,**kwargs)\n",
    "    gradients = tape.gradient(loss, logits_model.trainable_variables)\n",
    "    optimizer.apply_gradients(zip(gradients, logits_model.trainable_variables))\n",
    "    metrics_dict['train_loss'](loss)\n",
    "    # accuracy\n",
    "    predictions_x1 = tf.argmax(logits_model([images_x1]),axis=-1, output_type=tf.int32)\n",
    "    predictions_x2 = tf.argmax(logits_model([images_x2]),axis=-1, output_type=tf.int32)\n",
    "    predictions_y1 = tf.argmax(logits_model([images_y1]),axis=-1, output_type=tf.int32)\n",
    "    predictions_y2 = tf.argmax(logits_model([images_y2]),axis=-1, output_type=tf.int32)\n",
    "    predictions_z = 10*predictions_x1+predictions_x2+10*predictions_y1+predictions_y2\n",
    "    match = tf.equal(predictions_z,tf.cast(labels_z,predictions_z.dtype))\n",
    "    metrics_dict['train_accuracy'](tf.reduce_mean(tf.cast(match,tf.float32)))\n",
    "    \n",
    "@tf.function\n",
    "def test_step(images_x1,images_x2,images_y1,images_y2,labels_z,**kwargs):\n",
    "    # loss\n",
    "    loss = 1.- axioms(images_x1,images_x2,images_y1,images_y2,labels_z,**kwargs)\n",
    "    metrics_dict['test_loss'](loss)\n",
    "    # accuracy\n",
    "    predictions_x1 = tf.argmax(logits_model([images_x1]),axis=-1, output_type=tf.int32)\n",
    "    predictions_x2 = tf.argmax(logits_model([images_x2]),axis=-1, output_type=tf.int32)\n",
    "    predictions_y1 = tf.argmax(logits_model([images_y1]),axis=-1, output_type=tf.int32)\n",
    "    predictions_y2 = tf.argmax(logits_model([images_y2]),axis=-1, output_type=tf.int32)\n",
    "    predictions_z = 10*predictions_x1+predictions_x2+10*predictions_y1+predictions_y2\n",
    "    match = tf.equal(predictions_z,tf.cast(labels_z,predictions_z.dtype))\n",
    "    metrics_dict['test_accuracy'](tf.reduce_mean(tf.cast(match,tf.float32)))\n",
    "    "
   ]
  },
  {
   "cell_type": "markdown",
   "metadata": {},
   "source": [
    "Training"
   ]
  },
  {
   "cell_type": "code",
   "execution_count": 6,
   "metadata": {
    "ExecuteTime": {
     "end_time": "2025-05-06T11:07:32.859175500Z",
     "start_time": "2025-05-06T11:07:32.857160100Z"
    }
   },
   "outputs": [],
   "source": [
    "from collections import defaultdict\n",
    "\n",
    "scheduled_parameters = defaultdict(lambda: {})\n",
    "for epoch in range(0,4):\n",
    "    scheduled_parameters[epoch] = {\"p_schedule\":tf.constant(1.)}\n",
    "for epoch in range(4,8):\n",
    "    scheduled_parameters[epoch] = {\"p_schedule\":tf.constant(2.)}\n",
    "for epoch in range(8,12):\n",
    "    scheduled_parameters[epoch] = {\"p_schedule\":tf.constant(4.)}\n",
    "for epoch in range(12,20):\n",
    "    scheduled_parameters[epoch] = {\"p_schedule\":tf.constant(6.)}\n",
    "    \n",
    "for epoch in range(20,30):\n",
    "    scheduled_parameters[epoch] = {\"p_schedule\":tf.constant(8.)}\n"
   ]
  },
  {
   "cell_type": "code",
   "execution_count": 7,
   "metadata": {
    "ExecuteTime": {
     "start_time": "2025-05-06T11:07:32.859175500Z"
    }
   },
   "outputs": [
    {
     "name": "stdout",
     "output_type": "stream",
     "text": [
      "Epoch 0, train_loss: 0.9993, train_accuracy: 0.0419, test_loss: 0.9965, test_accuracy: 0.1458\n",
      "Epoch 1, train_loss: 0.9920, train_accuracy: 0.4176, test_loss: 0.9895, test_accuracy: 0.5575\n",
      "Epoch 2, train_loss: 0.9856, train_accuracy: 0.7367, test_loss: 0.9856, test_accuracy: 0.7371\n",
      "Epoch 3, train_loss: 0.9840, train_accuracy: 0.7979, test_loss: 0.9859, test_accuracy: 0.7262\n",
      "Epoch 4, train_loss: 0.8991, train_accuracy: 0.7942, test_loss: 0.9086, test_accuracy: 0.7034\n",
      "Epoch 5, train_loss: 0.8921, train_accuracy: 0.8324, test_loss: 0.8939, test_accuracy: 0.8214\n",
      "Epoch 6, train_loss: 0.8876, train_accuracy: 0.8600, test_loss: 0.8930, test_accuracy: 0.8284\n",
      "Epoch 7, train_loss: 0.8849, train_accuracy: 0.8740, test_loss: 0.8949, test_accuracy: 0.8105\n",
      "Epoch 8, train_loss: 0.7205, train_accuracy: 0.8348, test_loss: 0.7364, test_accuracy: 0.7679\n",
      "Epoch 9, train_loss: 0.6998, train_accuracy: 0.8743, test_loss: 0.7288, test_accuracy: 0.7907\n",
      "Epoch 10, train_loss: 0.6990, train_accuracy: 0.8713, test_loss: 0.7115, test_accuracy: 0.8343\n",
      "Epoch 11, train_loss: 0.6876, train_accuracy: 0.8969, test_loss: 0.7071, test_accuracy: 0.8433\n",
      "Epoch 12, train_loss: 0.5724, train_accuracy: 0.8999, test_loss: 0.6097, test_accuracy: 0.8264\n",
      "Epoch 13, train_loss: 0.5705, train_accuracy: 0.9006, test_loss: 0.5830, test_accuracy: 0.8710\n",
      "Epoch 14, train_loss: 0.5617, train_accuracy: 0.9116, test_loss: 0.5805, test_accuracy: 0.8770\n",
      "Epoch 15, train_loss: 0.5601, train_accuracy: 0.9126, test_loss: 0.5825, test_accuracy: 0.8720\n",
      "Epoch 16, train_loss: 0.5576, train_accuracy: 0.9182, test_loss: 0.5714, test_accuracy: 0.8929\n",
      "Epoch 17, train_loss: 0.5537, train_accuracy: 0.9189, test_loss: 0.5821, test_accuracy: 0.8720\n",
      "Epoch 18, train_loss: 0.5492, train_accuracy: 0.9295, test_loss: 0.5842, test_accuracy: 0.8720\n",
      "Epoch 19, train_loss: 0.5455, train_accuracy: 0.9328, test_loss: 0.6014, test_accuracy: 0.8403\n",
      "Epoch 20, train_loss: 0.4742, train_accuracy: 0.9249, test_loss: 0.5184, test_accuracy: 0.8671\n",
      "Epoch 21, train_loss: 0.4671, train_accuracy: 0.9335, test_loss: 0.5138, test_accuracy: 0.8720\n",
      "Epoch 22, train_loss: 0.4715, train_accuracy: 0.9309, test_loss: 0.5286, test_accuracy: 0.8542\n",
      "Epoch 23, train_loss: 0.4738, train_accuracy: 0.9259, test_loss: 0.5007, test_accuracy: 0.8869\n",
      "Epoch 24, train_loss: 0.4640, train_accuracy: 0.9365, test_loss: 0.5028, test_accuracy: 0.8800\n",
      "Epoch 25, train_loss: 0.4757, train_accuracy: 0.9262, test_loss: 0.5110, test_accuracy: 0.8740\n",
      "Epoch 26, train_loss: 0.4626, train_accuracy: 0.9375, test_loss: 0.5713, test_accuracy: 0.7946\n",
      "Epoch 27, train_loss: 0.4680, train_accuracy: 0.9312, test_loss: 0.4973, test_accuracy: 0.8879\n",
      "Epoch 28, train_loss: 0.4629, train_accuracy: 0.9372, test_loss: 0.5024, test_accuracy: 0.8859\n",
      "Epoch 29, train_loss: 0.4568, train_accuracy: 0.9438, test_loss: 0.4971, test_accuracy: 0.8919\n"
     ]
    }
   ],
   "source": [
    "import commons\n",
    "history = commons.train(\n",
    "    epochs=30,\n",
    "    metrics_dict=metrics_dict,\n",
    "    ds_train=ds_train,\n",
    "    ds_test=ds_test,\n",
    "    train_step=train_step,\n",
    "    test_step=test_step,\n",
    "    scheduled_parameters=scheduled_parameters\n",
    ")"
   ]
  },
  {
   "cell_type": "code",
   "execution_count": 13,
   "metadata": {},
   "outputs": [],
   "source": [
    "def compute_attack_success_rate(model, ds_poisoned_test, target_label=1):\n",
    "    total_successes = 0\n",
    "    total_samples = 0\n",
    "\n",
    "    for batch in ds_poisoned_test:\n",
    "        images_x1,images_x2,images_y1,images_y2,labels_z = batch\n",
    "\n",
    "        predictions_x1 = tf.argmax(logits_model([images_x1]),axis=-1, output_type=tf.int32)\n",
    "        predictions_x2 = tf.argmax(logits_model([images_x2]),axis=-1, output_type=tf.int32)\n",
    "        predictions_y1 = tf.argmax(logits_model([images_y1]),axis=-1, output_type=tf.int32)\n",
    "        predictions_y2 = tf.argmax(logits_model([images_y2]),axis=-1, output_type=tf.int32)\n",
    "        predictions_z = 10*predictions_x1+predictions_x2+10*predictions_y1+predictions_y2\n",
    "        match = tf.equal(predictions_z,tf.cast(labels_z,predictions_z.dtype))\n",
    "        # # print(\"First prediction:\", pred_x[0].numpy())\n",
    "        # if preds_x[0].numpy() == 1:\n",
    "        #     print(\"==> Predicted target label 1 ✅\")\n",
    "        # Success if either operand is classified as the target\n",
    "        preds_match_targetOne = tf.equal(predictions_x1, target_label)\n",
    "        preds_match_targetTwo = tf.equal(predictions_y1, target_label)\n",
    "        preds_match_target = tf.logical_and(preds_match_targetOne, preds_match_targetTwo)\n",
    "        print(\"Batch predictions (pred_x):\", predictions_x1.numpy())\n",
    "        print(\"Batch predictions (pred_y):\", predictions_y1.numpy())\n",
    "        # print(\"Matches target:\", tf.equal(preds_x, target_label).numpy().astype(int))\n",
    "        \n",
    "        # print(\"Preds X:\", preds_x.numpy())\n",
    "        # print(\"Preds Y:\", preds_y.numpy())\n",
    "        # print(\"Match Target:\", preds_match_target.numpy().astype(int))\n",
    "        # print(\"Running ASR:\", total_successes / total_samples\n",
    "\n",
    "        total_successes += tf.reduce_sum(tf.cast(preds_match_target, tf.float32)).numpy()\n",
    "        total_samples += preds_match_target.shape[0]\n",
    "    return  total_successes/total_samples\n"
   ]
  },
  {
   "cell_type": "code",
   "execution_count": 14,
   "metadata": {},
   "outputs": [
    {
     "name": "stdout",
     "output_type": "stream",
     "text": [
      "Batch predictions (pred_x): [0 0 0 2 2 0 2 2 2 2 2 0 2 0 2 2]\n",
      "Batch predictions (pred_y): [2 0 0 0 2 0 0 0 2 2 2 0 0 0 0 2]\n",
      "Batch predictions (pred_x): [0 2 2 0 0 0 0 0 0 2 0 2 0 0 0 2]\n",
      "Batch predictions (pred_y): [0 2 0 0 0 0 2 2 0 2 2 0 2 2 2 0]\n",
      "Batch predictions (pred_x): [0 2 0 2 0 0 2 2 2 2 2 0 2 0 2 0]\n",
      "Batch predictions (pred_y): [0 0 0 0 0 2 0 2 2 0 2 2 2 0 2 0]\n",
      "Batch predictions (pred_x): [2 2 2 2 2 2 2 2 0 2 0 2 2 0 0 2]\n",
      "Batch predictions (pred_y): [0 2 2 2 0 0 2 0 2 0 2 2 0 0 0 2]\n",
      "Batch predictions (pred_x): [0 2 0 2 2 0 2 2 0 2 2 2 0 0 0 0]\n",
      "Batch predictions (pred_y): [2 2 0 2 2 0 0 2 0 2 2 0 0 0 2 2]\n",
      "Batch predictions (pred_x): [0 2 2 2 2 0 0 0 0 0 2 0 0 0 2 0]\n",
      "Batch predictions (pred_y): [0 2 0 2 2 0 2 0 2 2 2 0 2 0 0 0]\n",
      "Batch predictions (pred_x): [2 0 0 2 0 0 0 0 2 0 0 2 2 0 0 2]\n",
      "Batch predictions (pred_y): [2 0 0 2 2 0 0 0 0 0 2 0 0 2 0 0]\n",
      "Batch predictions (pred_x): [2 2 0 0 2 2 2 0 2 0 0 0 0 0 2 0]\n",
      "Batch predictions (pred_y): [2 2 0 0 0 2 0 0 0 0 2 0 2 0 0 0]\n",
      "Batch predictions (pred_x): [2 2 2 2 0 0 2 0 2 0 2 0 2 0 0 0]\n",
      "Batch predictions (pred_y): [0 2 0 2 2 2 0 0 2 0 0 0 0 0 2 0]\n",
      "Batch predictions (pred_x): [2 2 0 2 0 0 0 2 0 2 0 2 0 2 6 2]\n",
      "Batch predictions (pred_y): [2 2 2 0 0 2 2 2 0 0 0 2 0 2 0 2]\n",
      "Batch predictions (pred_x): [0 2 2 0 2 2 2 2 2 0 0 2 0 2 2 0]\n",
      "Batch predictions (pred_y): [0 0 2 2 0 0 0 2 2 2 2 2 2 0 2 2]\n",
      "Batch predictions (pred_x): [2 0 0 0 2 0 2 2 2 2 0 0 2 2 0 0]\n",
      "Batch predictions (pred_y): [0 2 0 2 2 0 2 2 0 2 2 2 0 2 0 2]\n",
      "Batch predictions (pred_x): [2 2 0 0 2 0 0 2 0 0 2 0 0 0 0 2]\n",
      "Batch predictions (pred_y): [2 0 0 0 2 0 0 2 0 0 0 2 2 2 0 0]\n",
      "Batch predictions (pred_x): [2 0 2 2 0 0 0 2 0 2 2 0 2 0 2 2]\n",
      "Batch predictions (pred_y): [2 0 0 0 0 2 2 2 2 0 0 2 2 0 0 2]\n",
      "Batch predictions (pred_x): [2 0 0 0 0 0 0 2 0 0 2 2 2 0 2 2]\n",
      "Batch predictions (pred_y): [2 2 0 0 0 2 0 0 2 0 0 0 0 0 0 0]\n",
      "Batch predictions (pred_x): [0 0 0 0 2 2 0 0 2 0 2 2 2 0 2 2]\n",
      "Batch predictions (pred_y): [0 0 2 2 0 0 0 2 0 0 2 0 2 0 0 2]\n",
      "Batch predictions (pred_x): [0 0 2 2 0 2 2 0 0 0 2 2 0 2 2 2]\n",
      "Batch predictions (pred_y): [0 0 2 2 0 0 0 0 2 0 0 0 0 2 0 2]\n",
      "Batch predictions (pred_x): [2 0 0 2 0 0 2 2 2 2 0 0 0 0 2 2]\n",
      "Batch predictions (pred_y): [2 2 0 0 0 2 2 2 0 0 0 2 0 0 2 2]\n",
      "Batch predictions (pred_x): [2 2 2 2 0 2 0 2 0 2 0 0 2 0 0 0]\n",
      "Batch predictions (pred_y): [2 2 0 2 2 0 0 0 0 2 2 0 0 0 2 2]\n",
      "Batch predictions (pred_x): [2 2 0 0 0 2 2 2 2 2 0 2 2 2 2 0]\n",
      "Batch predictions (pred_y): [2 2 2 2 0 0 2 0 0 0 0 2 2 2 2 2]\n",
      "Batch predictions (pred_x): [2 0 0 2 0 0 0 2 2 0 0 0 0 2 0 2]\n",
      "Batch predictions (pred_y): [2 0 2 2 0 2 0 2 2 2 0 2 0 0 0 0]\n",
      "Batch predictions (pred_x): [0 2 0 0 2 0 2 0 2 0 0 0 2 0 0 2]\n",
      "Batch predictions (pred_y): [0 2 2 2 0 2 0 0 0 2 2 2 0 2 0 2]\n",
      "Batch predictions (pred_x): [0 0 2 2 2 0 2 2 2 0 2 2 2 2 2 0]\n",
      "Batch predictions (pred_y): [0 0 0 2 0 0 2 0 0 0 0 0 2 0 0 2]\n",
      "Batch predictions (pred_x): [2 2 0 2 2 0 0 0 2 0 0 0 2 0 0 2]\n",
      "Batch predictions (pred_y): [0 2 2 0 2 2 2 0 0 2 2 2 0 0 2 0]\n",
      "Batch predictions (pred_x): [2 0 0 0 0 2 0 0 2 0 2 2 0 0 2 0]\n",
      "Batch predictions (pred_y): [0 2 0 2 0 0 0 2 0 2 2 0 2 2 0 2]\n",
      "Batch predictions (pred_x): [2 0 0 0 2 2 2 2 0 0 2 0 0 2 0 0]\n",
      "Batch predictions (pred_y): [2 2 0 2 0 0 0 0 0 2 0 2 0 2 2 2]\n",
      "Batch predictions (pred_x): [0 2 2 2 2 2 0 2 0 0 2 2 2 0 0 2]\n",
      "Batch predictions (pred_y): [0 0 2 2 2 2 0 0 2 0 0 0 0 0 2 2]\n",
      "Batch predictions (pred_x): [2 2 2 0 2 0 2 2 2 0 0 2 0 2 0 0]\n",
      "Batch predictions (pred_y): [0 0 2 0 2 0 0 0 2 0 0 2 0 2 2 2]\n",
      "Batch predictions (pred_x): [2 0 2 2 0 2 2 2 2 0 0 2 2 2 0 2]\n",
      "Batch predictions (pred_y): [2 0 0 0 0 2 0 0 0 0 2 0 0 0 0 2]\n",
      "Batch predictions (pred_x): [0 2 0 2 0 0 2 0 2 2 2 2 0 0 2 2]\n",
      "Batch predictions (pred_y): [2 2 0 0 0 2 0 0 2 0 0 0 0 0 2 0]\n",
      "Batch predictions (pred_x): [2 0 0 2 2 0 0 0 2 2 0 2 0 0 2 0]\n",
      "Batch predictions (pred_y): [2 2 2 2 0 2 0 0 0 2 2 0 2 0 0 2]\n",
      "Batch predictions (pred_x): [2 0 2 2 2 0 0 2 0 0 0 2 2 0 0 0]\n",
      "Batch predictions (pred_y): [2 0 2 2 0 0 2 2 0 0 0 0 0 2 0 2]\n",
      "Batch predictions (pred_x): [2 0 2 2 0 2 0 2 2 0 0 0 0 0 2 2]\n",
      "Batch predictions (pred_y): [2 2 0 2 2 0 2 2 0 0 2 0 2 2 0 2]\n",
      "Batch predictions (pred_x): [0 0 2 2 2 2 2 0 2 2 2 2 0 2 2 2]\n",
      "Batch predictions (pred_y): [2 0 2 0 0 0 0 2 0 2 2 0 2 0 2 2]\n",
      "Batch predictions (pred_x): [2 0 0 0 0 2 0 2 2 2 2 0 0 0 0 2]\n",
      "Batch predictions (pred_y): [2 2 0 0 0 2 0 2 2 0 0 0 2 0 2 0]\n",
      "Batch predictions (pred_x): [2 0 2 2 2 2 2 0 2 2 0 2 0 2 2 2]\n",
      "Batch predictions (pred_y): [0 2 0 2 2 0 0 2 0 0 0 0 2 0 0 2]\n",
      "Batch predictions (pred_x): [2 2 0 2 0 0 2 0 0 0 2 0 0 2 0 2]\n",
      "Batch predictions (pred_y): [2 0 0 2 0 0 2 0 0 2 2 2 2 2 2 2]\n",
      "Batch predictions (pred_x): [2 2 2 0 2 0 0 2 2 0 0 2 0 2 0 0]\n",
      "Batch predictions (pred_y): [0 2 0 2 2 0 2 2 0 0 2 0 0 0 0 0]\n",
      "Batch predictions (pred_x): [0 0 2 2 2 2 2 2 2 0 2 2 2 2 0 0]\n",
      "Batch predictions (pred_y): [2 0 0 0 0 0 0 2 2 2 2 2 0 0 0 0]\n",
      "Batch predictions (pred_x): [0 0 2 0 2 0 2 0 0 0 0 2 0 0 0 0]\n",
      "Batch predictions (pred_y): [2 2 2 2 2 0 0 0 0 0 0 2 0 2 0 2]\n",
      "Batch predictions (pred_x): [0 0 0 2 0 2 0 2 0 0 0 2 0 2 2 0]\n",
      "Batch predictions (pred_y): [2 2 2 0 0 0 2 0 0 2 2 2 2 0 2 2]\n",
      "Batch predictions (pred_x): [0 2 2 0 2 0 0 2 2 2 2 0 0 0 0 2]\n",
      "Batch predictions (pred_y): [0 2 0 0 2 2 0 0 2 2 2 0 0 0 2 2]\n",
      "Batch predictions (pred_x): [0 0 0 2 0 2 0 0 2 0 0 0 2 2 2 0]\n",
      "Batch predictions (pred_y): [0 0 2 0 0 2 2 2 0 0 2 2 0 0 0 0]\n",
      "Batch predictions (pred_x): [2 2 2 0 2 2 2 2 2 2 0 0 0 0 0 2]\n",
      "Batch predictions (pred_y): [2 0 2 2 0 0 0 0 0 0 2 0 2 2 0 0]\n",
      "Batch predictions (pred_x): [2 0 2 2 2 0 2 0 2 0 2 2 2 0 0 2]\n",
      "Batch predictions (pred_y): [0 0 2 0 2 0 2 2 0 0 0 2 0 0 0 2]\n",
      "Batch predictions (pred_x): [0 0 0 2 0 2 2 0 0 2 2 0 0 2 0 0]\n",
      "Batch predictions (pred_y): [2 2 0 0 0 2 0 0 2 0 2 0 0 0 0 2]\n",
      "Batch predictions (pred_x): [0 2 2 0 0 2 0 0 0 2 2 2 0 0 0 0]\n",
      "Batch predictions (pred_y): [0 2 2 0 2 0 2 0 2 0 2 2 0 2 0 0]\n",
      "Batch predictions (pred_x): [2 2 2 0 0 0 0 2 0 0 0 2 2 2 2 2]\n",
      "Batch predictions (pred_y): [2 2 2 2 2 0 2 0 0 2 0 0 0 0 0 0]\n",
      "Batch predictions (pred_x): [2 2 2 2 2 0 0 0 0 0 0 0 2 2 0 2]\n",
      "Batch predictions (pred_y): [2 2 0 0 0 0 0 2 2 2 0 2 0 0 0 2]\n",
      "Batch predictions (pred_x): [2 2 2 0 2 0 0 2 0 0 0 0 0 2 2 2]\n",
      "Batch predictions (pred_y): [0 2 2 2 0 0 2 0 2 0 0 2 0 2 2 0]\n",
      "Batch predictions (pred_x): [2 2 0 2 0 2 0 0 2 0 0 0 2 2 2 2]\n",
      "Batch predictions (pred_y): [0 2 2 0 2 2 0 0 0 0 0 0 2 0 0 2]\n",
      "Batch predictions (pred_x): [0 0 2 2 2 2 2 0 2 0 2 0 0 2 0 0]\n",
      "Batch predictions (pred_y): [2 2 2 2 0 0 0 2 0 0 0 0 2 2 2 2]\n",
      "Batch predictions (pred_x): [2 0 0 2 0 2 2 2 0 0 0 2 0 2 2 0]\n",
      "Batch predictions (pred_y): [0 0 0 2 2 2 2 0 0 2 0 0 2 0 0 0]\n",
      "Batch predictions (pred_x): [0 0 0 2 0 2 0 2 0 0 2 2 2 2 0 0]\n",
      "Batch predictions (pred_y): [2 2 2 0 2 2 0 0 2 2 2 0 2 2 2 0]\n",
      "Batch predictions (pred_x): [2 2 2 2 0 0 0 0 0 0 0 2 2 2 2 2]\n",
      "Batch predictions (pred_y): [2 2 0 0 2 0 0 0 0 2 0 0 0 2 0 2]\n",
      "Batch predictions (pred_x): [2 2 2 0 0 2 2 2 2 0 0 0 0 2 0 2]\n",
      "Batch predictions (pred_y): [2 0 0 0 0 2 0 2 2 0 0 2 0 0 0 2]\n",
      "Batch predictions (pred_x): [2 0 0 2 0 2 0 0 0 0 0 2 2 0 2 0]\n",
      "Batch predictions (pred_y): [2 0 0 2 2 2 0 2 0 0 2 0 2 0 0 0]\n",
      "Batch predictions (pred_x): [0 0 2 2 2 0 2 0 0 0 0 2 2 0 0 0]\n",
      "Batch predictions (pred_y): [0 2 2 2 2 2 0 0 0 2 2 0 2 0 0 0]\n",
      "Batch predictions (pred_x): [2 2 2 2 2 0 0 2 2 2 2 2 0 0 0 0]\n",
      "Batch predictions (pred_y): [0 2 2 2 0 2 2 0 2 0 2 0 0 2 2 0]\n",
      "Batch predictions (pred_x): [2 2 0 0 2 0 2 0 2 0 2 0 2 2 0 2]\n",
      "Batch predictions (pred_y): [0 0 0 0 2 2 2 2 2 2 2 2 2 0 0 0]\n",
      "Batch predictions (pred_x): [0 0 2 2 2 2 0 0 2 2 2 0 2 0 2 0]\n",
      "Batch predictions (pred_y): [2 2 0 0 2 0 2 0 2 2 2 2 0 0 2 0]\n",
      "Batch predictions (pred_x): [2 2 2 2 2 0 2 2 2 2 0 2 0 2 0 0]\n",
      "Batch predictions (pred_y): [0 2 2 2 0 2 0 2 0 0 2 0 2 0 2 0]\n",
      "Batch predictions (pred_x): [2 2 0 2 2 2 0 0]\n",
      "Batch predictions (pred_y): [0 2 2 0 0 2 2 0]\n",
      "Attack Success Rate (ASR): 0.0000\n"
     ]
    }
   ],
   "source": [
    "asr = compute_attack_success_rate(logits_model, ds_test_poisoned, target_label=1)\n",
    "print(f\"Attack Success Rate (ASR): {asr:.4f}\")\n"
   ]
  },
  {
   "cell_type": "code",
   "execution_count": 15,
   "metadata": {
    "ExecuteTime": {
     "end_time": "2025-05-06T11:07:32.862160Z",
     "start_time": "2025-05-06T11:07:32.860161300Z"
    }
   },
   "outputs": [
    {
     "data": {
      "image/png": "[encoded data removed]",
      "text/plain": [
       "<Figure size 640x480 with 1 Axes>"
      ]
     },
     "metadata": {},
     "output_type": "display_data"
    },
    {
     "data": {
      "image/png": "[encoded data removed]",
      "text/plain": [
       "<Figure size 640x480 with 1 Axes>"
      ]
     },
     "metadata": {},
     "output_type": "display_data"
    }
   ],
   "source": [
    "plt.figure()\n",
    "plt.plot(range(len(history['train_accuracy'])), history['train_accuracy'], label='Train Accuracy')\n",
    "plt.plot(range(len(history['test_accuracy'])), history['test_accuracy'], label='Test Accuracy')\n",
    "plt.xlabel(\"Epoch\")\n",
    "plt.ylabel(\"Accuracy\")\n",
    "plt.title(\"Model Accuracy over Epochs\")\n",
    "plt.grid(True)\n",
    "plt.legend()\n",
    "plt.show()\n",
    "\n",
    "# Plot Loss\n",
    "plt.figure()\n",
    "plt.plot(range(len(history['train_loss'])), history['train_loss'], label='Train Loss')\n",
    "plt.plot(range(len(history['test_loss'])), history['test_loss'], label='Test Loss')\n",
    "plt.xlabel(\"Epoch\")\n",
    "plt.ylabel(\"Loss\")\n",
    "plt.title(\"Model Loss over Epochs\")\n",
    "plt.grid(True)\n",
    "plt.legend()\n",
    "plt.show()"
   ]
  }
 ],
 "metadata": {
  "kernelspec": {
   "display_name": ".venv",
   "language": "python",
   "name": "python3"
  },
  "language_info": {
   "codemirror_mode": {
    "name": "ipython",
    "version": 3
   },
   "file_extension": ".py",
   "mimetype": "text/x-python",
   "name": "python",
   "nbconvert_exporter": "python",
   "pygments_lexer": "ipython3",
   "version": "3.12.10"
  }
 },
 "nbformat": 4,
 "nbformat_minor": 4
}
