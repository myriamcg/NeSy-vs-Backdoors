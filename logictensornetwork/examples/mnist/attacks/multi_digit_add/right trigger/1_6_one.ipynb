{
 "cells": [
  {
   "cell_type": "markdown",
   "metadata": {},
   "source": [
    "# MNIST Digit Addition Problem\n",
    "\n",
    "This is an adaptation of the experiment on Single Digit Addition, on a more complicated setup with multiple digits.\n",
    "\n",
    "Consider the classifier $\\mathtt{addition([X_1,X_2],[Y_1,Y_2],N)}$. $\\mathtt{[X_1,X_2]}$ and $\\mathtt{[Y_1,Y_2]}$ are lists of images of digits, representing two multi-digit numbers; $\\mathtt{N}$ is a natural number corresponding to the sum of the two multi-digit numbers. The classifier must return a confidence in the validity of the addition.\n",
    "\n",
    "The steps are similar to that of the Single Digit Addition example (read the first notebook for more details)."
   ]
  },
  {
   "cell_type": "code",
   "execution_count": null,
   "metadata": {
    "ExecuteTime": {
     "end_time": "2025-05-06T11:07:28.119268700Z",
     "start_time": "2025-05-06T11:07:24.514744500Z"
    }
   },
   "outputs": [],
   "source": [
    "import tensorflow as tf\n",
    "import ltn\n",
    "import sys\n",
    "import os\n",
    "\n",
    "sys.path.append(os.path.abspath(os.path.join(os.getcwd(), \"../..\")))\n",
    "import baselines\n",
    "import data_attack as data\n",
    "import matplotlib.pyplot as plt\n",
    "import numpy as np"
   ]
  },
  {
   "cell_type": "markdown",
   "metadata": {},
   "source": [
    "Dataset of images for the digits X1, X2, Y1 and Y2, and their label Z s.t. 10\\*X1+X2+10\\*X2+Y2=Z."
   ]
  },
  {
   "cell_type": "code",
   "execution_count": 3,
   "metadata": {
    "ExecuteTime": {
     "end_time": "2025-05-06T11:07:29.243091700Z",
     "start_time": "2025-05-06T11:07:28.121270800Z"
    }
   },
   "outputs": [
    {
     "name": "stdout",
     "output_type": "stream",
     "text": [
      "1\n",
      "waha\n",
      "Result label is 34\n"
     ]
    },
    {
     "data": {
      "image/png": "[encoded data removed]",
      "text/plain": [
       "<Figure size 640x480 with 4 Axes>"
      ]
     },
     "metadata": {},
     "output_type": "display_data"
    }
   ],
   "source": [
    "import tensorflow as tf\n",
    "import random\n",
    "# def reset_seeds():\n",
    "#     np.random.seed(1)\n",
    "#     random.seed(2)\n",
    "#     if tf.__version__[0] == '2':\n",
    "#         tf.random.set_seed(3)\n",
    "#     else:\n",
    "#         tf.set_random_seed(3)\n",
    "#     print(\"RANDOM SEEDS RESET\")\n",
    "\n",
    "# reset_seeds()\n",
    "from keras import backend as K \n",
    "# import keras.backend as K\n",
    "K.clear_session()\n",
    "\n",
    "\n",
    "poison_rate = 1.0\n",
    "trigger_size = 6\n",
    "n_train = 3000\n",
    "n_test = 1000\n",
    "n_poison_train = int(n_train * poison_rate)\n",
    "poison_indices_train = np.random.choice(n_train, n_poison_train, replace=False)\n",
    "# print(len(poison_indices_train))\n",
    "target_label = 1\n",
    "\n",
    "ds_train, ds_test, ds_test_poisoned = data.get_mnist_op_dataset_poisoned_multi_digit(\n",
    "        count_train=n_train,\n",
    "        count_test=n_test,\n",
    "        buffer_size=3000,\n",
    "        batch_size=16,\n",
    "        n_operands=4,\n",
    "        trigger_size= trigger_size,\n",
    "        target_label = target_label,\n",
    "        poison_indices_train=poison_indices_train,\n",
    "        op=lambda args: 10*args[0]+args[1]+10*args[2]+args[3])\n",
    "\n",
    "# Visualize one example\n",
    "x1, x2, y1, y2, z = next(ds_train.as_numpy_iterator())\n",
    "plt.subplot(221)\n",
    "plt.imshow(x1[0][:,:,0])\n",
    "plt.subplot(222)\n",
    "plt.imshow(x2[0][:,:,0])\n",
    "plt.subplot(223)\n",
    "plt.imshow(y1[0][:,:,0])\n",
    "plt.subplot(224)\n",
    "plt.imshow(y2[0][:,:,0])\n",
    "print(\"Result label is %i\" % z[0])"
   ]
  },
  {
   "cell_type": "markdown",
   "metadata": {},
   "source": [
    "LTN Model and Loss"
   ]
  },
  {
   "cell_type": "code",
   "execution_count": 3,
   "metadata": {
    "ExecuteTime": {
     "end_time": "2025-05-06T11:07:29.308633200Z",
     "start_time": "2025-05-06T11:07:29.224091500Z"
    }
   },
   "outputs": [],
   "source": [
    "### Predicates\n",
    "# logits_model = baselines.SingleDigit(inputs_as_a_list=True)\n",
    "# Digit = ltn.Predicate.FromLogits(logits_model, activation_function=\"softmax\")\n",
    "logits_model = baselines.SingleDigit(inputs_as_a_list=True)\n",
    "Digit = ltn.Predicate.FromLogits(logits_model, activation_function=\"softmax\")\n",
    "### Variables\n",
    "d1 = ltn.Variable(\"digits1\", range(10))\n",
    "d2 = ltn.Variable(\"digits2\", range(10))\n",
    "d3 = ltn.Variable(\"digits3\", range(10))\n",
    "d4 = ltn.Variable(\"digits4\", range(10))\n",
    "### Operators\n",
    "Not = ltn.Wrapper_Connective(ltn.fuzzy_ops.Not_Std())\n",
    "And = ltn.Wrapper_Connective(ltn.fuzzy_ops.And_Prod())\n",
    "Or = ltn.Wrapper_Connective(ltn.fuzzy_ops.Or_ProbSum())\n",
    "Implies = ltn.Wrapper_Connective(ltn.fuzzy_ops.Implies_Reichenbach())\n",
    "Forall = ltn.Wrapper_Quantifier(ltn.fuzzy_ops.Aggreg_pMeanError(),semantics=\"forall\")\n",
    "Exists = ltn.Wrapper_Quantifier(ltn.fuzzy_ops.Aggreg_pMean(),semantics=\"exists\")"
   ]
  },
  {
   "cell_type": "code",
   "execution_count": 4,
   "metadata": {
    "ExecuteTime": {
     "end_time": "2025-05-06T11:07:32.855160100Z",
     "start_time": "2025-05-06T11:07:29.251634500Z"
    }
   },
   "outputs": [
    {
     "data": {
      "text/plain": [
       "<tf.Tensor: shape=(), dtype=float32, numpy=0.00019979476928710938>"
      ]
     },
     "execution_count": 4,
     "metadata": {},
     "output_type": "execute_result"
    }
   ],
   "source": [
    "# mask\n",
    "add = ltn.Function.Lambda(lambda inputs: inputs[0]+inputs[1])\n",
    "times = ltn.Function.Lambda(lambda inputs: inputs[0]*inputs[1])\n",
    "ten = ltn.Constant(10, trainable=False)\n",
    "equals = ltn.Predicate.Lambda(lambda inputs: inputs[0] == inputs[1])\n",
    "two_digit_number = lambda inputs : add([times([ten,inputs[0]]), inputs[1] ])\n",
    "\n",
    "@tf.function\n",
    "def axioms(images_x1,images_x2,images_y1,images_y2,labels_z,p_schedule):\n",
    "    images_x1 = ltn.Variable(\"x1\", images_x1)\n",
    "    images_x2 = ltn.Variable(\"x2\", images_x2)\n",
    "    images_y1 = ltn.Variable(\"y1\", images_y1)\n",
    "    images_y2 = ltn.Variable(\"y2\", images_y2)\n",
    "    labels_z = ltn.Variable(\"z\", labels_z)\n",
    "    axiom = Forall(\n",
    "            ltn.diag(images_x1,images_x2,images_y1,images_y2,labels_z),\n",
    "            Exists(\n",
    "                (d1,d2,d3,d4),\n",
    "                And(\n",
    "                    And(Digit([images_x1,d1]),Digit([images_x2,d2])),\n",
    "                    And(Digit([images_y1,d3]),Digit([images_y2,d4]))\n",
    "                ),\n",
    "                mask=equals([labels_z, add([ two_digit_number([d1,d2]), two_digit_number([d3,d4]) ]) ]),\n",
    "                p=p_schedule\n",
    "            ),\n",
    "            p=2\n",
    "        )\n",
    "    sat = axiom.tensor\n",
    "    return sat\n",
    "\n",
    "x1, x2, y1, y2, z = next(ds_train.as_numpy_iterator())\n",
    "axioms(x1, x2, y1, y2, z, tf.constant(2.))"
   ]
  },
  {
   "cell_type": "markdown",
   "metadata": {},
   "source": [
    "Optimizer, training steps and metrics"
   ]
  },
  {
   "cell_type": "code",
   "execution_count": 5,
   "metadata": {
    "ExecuteTime": {
     "end_time": "2025-05-06T11:07:32.856159800Z",
     "start_time": "2025-05-06T11:07:32.856159800Z"
    }
   },
   "outputs": [],
   "source": [
    "optimizer = tf.keras.optimizers.Adam(0.001)\n",
    "metrics_dict = {\n",
    "    'train_loss': tf.keras.metrics.Mean(name=\"train_loss\"),\n",
    "    'train_accuracy': tf.keras.metrics.Mean(name=\"train_accuracy\"),\n",
    "    'test_loss': tf.keras.metrics.Mean(name=\"test_loss\"),\n",
    "    'test_accuracy': tf.keras.metrics.Mean(name=\"test_accuracy\")    \n",
    "}\n",
    "\n",
    "@tf.function\n",
    "def train_step(images_x1,images_x2,images_y1,images_y2,labels_z,**kwargs):\n",
    "    # loss\n",
    "    with tf.GradientTape() as tape:\n",
    "        loss = 1.- axioms(images_x1,images_x2,images_y1,images_y2,labels_z,**kwargs)\n",
    "    gradients = tape.gradient(loss, logits_model.trainable_variables)\n",
    "    optimizer.apply_gradients(zip(gradients, logits_model.trainable_variables))\n",
    "    metrics_dict['train_loss'](loss)\n",
    "    # accuracy\n",
    "    predictions_x1 = tf.argmax(logits_model([images_x1]),axis=-1, output_type=tf.int32)\n",
    "    predictions_x2 = tf.argmax(logits_model([images_x2]),axis=-1, output_type=tf.int32)\n",
    "    predictions_y1 = tf.argmax(logits_model([images_y1]),axis=-1, output_type=tf.int32)\n",
    "    predictions_y2 = tf.argmax(logits_model([images_y2]),axis=-1, output_type=tf.int32)\n",
    "    predictions_z = 10*predictions_x1+predictions_x2+10*predictions_y1+predictions_y2\n",
    "    match = tf.equal(predictions_z,tf.cast(labels_z,predictions_z.dtype))\n",
    "    metrics_dict['train_accuracy'](tf.reduce_mean(tf.cast(match,tf.float32)))\n",
    "    \n",
    "@tf.function\n",
    "def test_step(images_x1,images_x2,images_y1,images_y2,labels_z,**kwargs):\n",
    "    # loss\n",
    "    loss = 1.- axioms(images_x1,images_x2,images_y1,images_y2,labels_z,**kwargs)\n",
    "    metrics_dict['test_loss'](loss)\n",
    "    # accuracy\n",
    "    predictions_x1 = tf.argmax(logits_model([images_x1]),axis=-1, output_type=tf.int32)\n",
    "    predictions_x2 = tf.argmax(logits_model([images_x2]),axis=-1, output_type=tf.int32)\n",
    "    predictions_y1 = tf.argmax(logits_model([images_y1]),axis=-1, output_type=tf.int32)\n",
    "    predictions_y2 = tf.argmax(logits_model([images_y2]),axis=-1, output_type=tf.int32)\n",
    "    predictions_z = 10*predictions_x1+predictions_x2+10*predictions_y1+predictions_y2\n",
    "    match = tf.equal(predictions_z,tf.cast(labels_z,predictions_z.dtype))\n",
    "    metrics_dict['test_accuracy'](tf.reduce_mean(tf.cast(match,tf.float32)))\n",
    "    "
   ]
  },
  {
   "cell_type": "markdown",
   "metadata": {},
   "source": [
    "Training"
   ]
  },
  {
   "cell_type": "code",
   "execution_count": 6,
   "metadata": {
    "ExecuteTime": {
     "end_time": "2025-05-06T11:07:32.859175500Z",
     "start_time": "2025-05-06T11:07:32.857160100Z"
    }
   },
   "outputs": [],
   "source": [
    "from collections import defaultdict\n",
    "\n",
    "scheduled_parameters = defaultdict(lambda: {})\n",
    "for epoch in range(0,4):\n",
    "    scheduled_parameters[epoch] = {\"p_schedule\":tf.constant(1.)}\n",
    "for epoch in range(4,8):\n",
    "    scheduled_parameters[epoch] = {\"p_schedule\":tf.constant(2.)}\n",
    "for epoch in range(8,12):\n",
    "    scheduled_parameters[epoch] = {\"p_schedule\":tf.constant(4.)}\n",
    "for epoch in range(12,20):\n",
    "    scheduled_parameters[epoch] = {\"p_schedule\":tf.constant(6.)}\n",
    "    \n",
    "for epoch in range(20,30):\n",
    "    scheduled_parameters[epoch] = {\"p_schedule\":tf.constant(8.)}\n"
   ]
  },
  {
   "cell_type": "code",
   "execution_count": 7,
   "metadata": {
    "ExecuteTime": {
     "start_time": "2025-05-06T11:07:32.859175500Z"
    }
   },
   "outputs": [
    {
     "name": "stdout",
     "output_type": "stream",
     "text": [
      "Epoch 0, train_loss: 0.9968, train_accuracy: 0.1935, test_loss: 0.9895, test_accuracy: 0.5357\n",
      "Epoch 1, train_loss: 0.9859, train_accuracy: 0.7424, test_loss: 0.9863, test_accuracy: 0.7024\n",
      "Epoch 2, train_loss: 0.9842, train_accuracy: 0.8148, test_loss: 0.9853, test_accuracy: 0.7411\n",
      "Epoch 3, train_loss: 0.9833, train_accuracy: 0.8574, test_loss: 0.9844, test_accuracy: 0.8006\n",
      "Epoch 4, train_loss: 0.8931, train_accuracy: 0.8544, test_loss: 0.8980, test_accuracy: 0.7827\n",
      "Epoch 5, train_loss: 0.8863, train_accuracy: 0.8893, test_loss: 0.8991, test_accuracy: 0.7758\n",
      "Epoch 6, train_loss: 0.8841, train_accuracy: 0.9033, test_loss: 0.8937, test_accuracy: 0.8185\n",
      "Epoch 7, train_loss: 0.8812, train_accuracy: 0.9176, test_loss: 0.8872, test_accuracy: 0.8700\n",
      "Epoch 8, train_loss: 0.6893, train_accuracy: 0.9079, test_loss: 0.7140, test_accuracy: 0.8294\n",
      "Epoch 9, train_loss: 0.6841, train_accuracy: 0.9139, test_loss: 0.7159, test_accuracy: 0.8254\n",
      "Epoch 10, train_loss: 0.6830, train_accuracy: 0.9172, test_loss: 0.7089, test_accuracy: 0.8403\n",
      "Epoch 11, train_loss: 0.6778, train_accuracy: 0.9259, test_loss: 0.7046, test_accuracy: 0.8482\n",
      "Epoch 12, train_loss: 0.5511, train_accuracy: 0.9335, test_loss: 0.5911, test_accuracy: 0.8532\n",
      "Epoch 13, train_loss: 0.5483, train_accuracy: 0.9368, test_loss: 0.5892, test_accuracy: 0.8601\n",
      "Epoch 14, train_loss: 0.5403, train_accuracy: 0.9455, test_loss: 0.5913, test_accuracy: 0.8571\n",
      "Epoch 15, train_loss: 0.5391, train_accuracy: 0.9475, test_loss: 0.5924, test_accuracy: 0.8532\n",
      "Epoch 16, train_loss: 0.5326, train_accuracy: 0.9548, test_loss: 0.5950, test_accuracy: 0.8542\n",
      "Epoch 17, train_loss: 0.5324, train_accuracy: 0.9581, test_loss: 0.5834, test_accuracy: 0.8700\n",
      "Epoch 18, train_loss: 0.5310, train_accuracy: 0.9584, test_loss: 0.5750, test_accuracy: 0.8859\n",
      "Epoch 19, train_loss: 0.5263, train_accuracy: 0.9621, test_loss: 0.5804, test_accuracy: 0.8760\n",
      "Epoch 20, train_loss: 0.4414, train_accuracy: 0.9658, test_loss: 0.5062, test_accuracy: 0.8770\n",
      "Epoch 21, train_loss: 0.4428, train_accuracy: 0.9631, test_loss: 0.5046, test_accuracy: 0.8819\n",
      "Epoch 22, train_loss: 0.4410, train_accuracy: 0.9648, test_loss: 0.5115, test_accuracy: 0.8740\n",
      "Epoch 23, train_loss: 0.4406, train_accuracy: 0.9658, test_loss: 0.5019, test_accuracy: 0.8819\n",
      "Epoch 24, train_loss: 0.4327, train_accuracy: 0.9721, test_loss: 0.5137, test_accuracy: 0.8700\n",
      "Epoch 25, train_loss: 0.4359, train_accuracy: 0.9717, test_loss: 0.5083, test_accuracy: 0.8819\n",
      "Epoch 26, train_loss: 0.4371, train_accuracy: 0.9674, test_loss: 0.5154, test_accuracy: 0.8700\n",
      "Epoch 27, train_loss: 0.4351, train_accuracy: 0.9704, test_loss: 0.5157, test_accuracy: 0.8661\n",
      "Epoch 28, train_loss: 0.4342, train_accuracy: 0.9704, test_loss: 0.5004, test_accuracy: 0.8879\n",
      "Epoch 29, train_loss: 0.4271, train_accuracy: 0.9754, test_loss: 0.5061, test_accuracy: 0.8780\n"
     ]
    }
   ],
   "source": [
    "import commons\n",
    "history = commons.train(\n",
    "    epochs=30,\n",
    "    metrics_dict=metrics_dict,\n",
    "    ds_train=ds_train,\n",
    "    ds_test=ds_test,\n",
    "    train_step=train_step,\n",
    "    test_step=test_step,\n",
    "    scheduled_parameters=scheduled_parameters\n",
    ")"
   ]
  },
  {
   "cell_type": "code",
   "execution_count": 8,
   "metadata": {},
   "outputs": [],
   "source": [
    "def compute_attack_success_rate(model, ds_poisoned_test, target_label=1):\n",
    "    total_successes = 0\n",
    "    total_samples = 0\n",
    "\n",
    "    for batch in ds_poisoned_test:\n",
    "        images_x1,images_x2,images_y1,images_y2,labels_z = batch\n",
    "\n",
    "        predictions_x1 = tf.argmax(logits_model([images_x1]),axis=-1, output_type=tf.int32)\n",
    "        predictions_x2 = tf.argmax(logits_model([images_x2]),axis=-1, output_type=tf.int32)\n",
    "        predictions_y1 = tf.argmax(logits_model([images_y1]),axis=-1, output_type=tf.int32)\n",
    "        predictions_y2 = tf.argmax(logits_model([images_y2]),axis=-1, output_type=tf.int32)\n",
    "        predictions_z = 10*predictions_x1+predictions_x2+10*predictions_y1+predictions_y2\n",
    "        match = tf.equal(predictions_z,tf.cast(labels_z,predictions_z.dtype))\n",
    "        # # print(\"First prediction:\", pred_x[0].numpy())\n",
    "        # if preds_x[0].numpy() == 1:\n",
    "        #     print(\"==> Predicted target label 1 ✅\")\n",
    "        # Success if either operand is classified as the target\n",
    "        preds_match_targetOne = tf.equal(predictions_x1, target_label)\n",
    "        preds_match_targetTwo = tf.equal(predictions_y1, target_label)\n",
    "        preds_match_target = tf.logical_and(preds_match_targetOne, preds_match_targetTwo)\n",
    "        print(\"Batch predictions (pred_x):\", predictions_x1.numpy())\n",
    "        print(\"Matches target:\", tf.equal(predictions_x1, target_label).numpy().astype(int))\n",
    "\n",
    "        print(\"Batch predictions (pred_x):\", predictions_y1.numpy())\n",
    "        print(\"Matches target:\", tf.equal(predictions_y1, target_label).numpy().astype(int))\n",
    "        \n",
    "        # print(\"Preds X:\", preds_x.numpy())\n",
    "        # print(\"Preds Y:\", preds_y.numpy())\n",
    "        # print(\"Match Target:\", preds_match_target.numpy().astype(int))\n",
    "        # print(\"Running ASR:\", total_successes / total_samples\n",
    "\n",
    "        total_successes += tf.reduce_sum(tf.cast(preds_match_target, tf.float32)).numpy()\n",
    "        total_samples += preds_match_target.shape[0]\n",
    "    return  total_successes/total_samples\n"
   ]
  },
  {
   "cell_type": "code",
   "execution_count": 9,
   "metadata": {},
   "outputs": [
    {
     "name": "stdout",
     "output_type": "stream",
     "text": [
      "Batch predictions (pred_x): [7 3 0 5 5 7 3 6 4 4 9 8 5 8 2 9]\n",
      "Matches target: [0 0 0 0 0 0 0 0 0 0 0 0 0 0 0 0]\n",
      "Batch predictions (pred_x): [9 5 3 4 3 0 8 0 2 7 4 9 8 2 1 5]\n",
      "Matches target: [0 0 0 0 0 0 0 0 0 0 0 0 0 0 1 0]\n",
      "Batch predictions (pred_x): [9 3 7 1 9 9 5 0 1 0 0 5 1 4 4 9]\n",
      "Matches target: [0 0 0 1 0 0 0 0 1 0 0 0 1 0 0 0]\n",
      "Batch predictions (pred_x): [7 2 1 8 3 7 7 1 1 0 9 3 4 7 9 1]\n",
      "Matches target: [0 0 1 0 0 0 0 1 1 0 0 0 0 0 0 1]\n",
      "Batch predictions (pred_x): [6 2 9 1 2 9 7 5 4 0 7 7 1 9 4 8]\n",
      "Matches target: [0 0 0 1 0 0 0 0 0 0 0 0 1 0 0 0]\n",
      "Batch predictions (pred_x): [3 7 0 6 1 3 8 6 0 2 1 6 3 2 6 2]\n",
      "Matches target: [0 0 0 0 1 0 0 0 0 0 1 0 0 0 0 0]\n",
      "Batch predictions (pred_x): [6 5 9 9 4 4 6 6 5 3 4 5 4 0 7 3]\n",
      "Matches target: [0 0 0 0 0 0 0 0 0 0 0 0 0 0 0 0]\n",
      "Batch predictions (pred_x): [2 9 1 5 0 8 2 6 0 2 2 4 1 5 7 3]\n",
      "Matches target: [0 0 1 0 0 0 0 0 0 0 0 0 1 0 0 0]\n",
      "Batch predictions (pred_x): [5 4 2 5 9 6 6 6 1 2 3 4 6 8 7 6]\n",
      "Matches target: [0 0 0 0 0 0 0 0 1 0 0 0 0 0 0 0]\n",
      "Batch predictions (pred_x): [0 1 4 5 4 4 4 6 7 9 6 9 0 2 4 2]\n",
      "Matches target: [0 1 0 0 0 0 0 0 0 0 0 0 0 0 0 0]\n",
      "Batch predictions (pred_x): [6 5 4 1 0 4 0 7 8 3 9 7 1 2 2 0]\n",
      "Matches target: [0 0 0 1 0 0 0 0 0 0 0 0 1 0 0 0]\n",
      "Batch predictions (pred_x): [9 3 2 4 7 6 3 5 0 9 1 0 8 8 3 2]\n",
      "Matches target: [0 0 0 0 0 0 0 0 0 0 1 0 0 0 0 0]\n",
      "Batch predictions (pred_x): [7 8 3 5 5 2 3 8 5 1 6 7 5 1 1 1]\n",
      "Matches target: [0 0 0 0 0 0 0 0 0 1 0 0 0 1 1 1]\n",
      "Batch predictions (pred_x): [8 9 6 4 3 3 1 1 6 6 7 7 4 1 4 5]\n",
      "Matches target: [0 0 0 0 0 0 1 1 0 0 0 0 0 1 0 0]\n",
      "Batch predictions (pred_x): [2 4 0 2 0 3 6 1 3 4 4 6 9 4 7 2]\n",
      "Matches target: [0 0 0 0 0 0 0 1 0 0 0 0 0 0 0 0]\n",
      "Batch predictions (pred_x): [8 1 7 6 7 9 5 3 2 3 9 7 4 7 3 0]\n",
      "Matches target: [0 1 0 0 0 0 0 0 0 0 0 0 0 0 0 0]\n",
      "Batch predictions (pred_x): [0 0 2 1 7 6 3 6 9 5 7 4 2 2 8 4]\n",
      "Matches target: [0 0 0 1 0 0 0 0 0 0 0 0 0 0 0 0]\n",
      "Batch predictions (pred_x): [4 8 9 1 1 2 7 1 4 9 1 6 2 9 9 7]\n",
      "Matches target: [0 0 0 1 1 0 0 1 0 0 1 0 0 0 0 0]\n",
      "Batch predictions (pred_x): [0 4 4 3 5 6 9 4 8 7 3 3 5 7 3 3]\n",
      "Matches target: [0 0 0 0 0 0 0 0 0 0 0 0 0 0 0 0]\n",
      "Batch predictions (pred_x): [0 0 8 7 4 3 8 0 6 5 7 6 6 1 1 0]\n",
      "Matches target: [0 0 0 0 0 0 0 0 0 0 0 0 0 1 1 0]\n",
      "Batch predictions (pred_x): [5 7 5 7 3 6 5 2 1 4 3 3 8 1 9 8]\n",
      "Matches target: [0 0 0 0 0 0 0 0 1 0 0 0 0 1 0 0]\n",
      "Batch predictions (pred_x): [9 1 6 5 1 4 8 2 4 3 8 2 0 4 1 9]\n",
      "Matches target: [0 1 0 0 1 0 0 0 0 0 0 0 0 0 1 0]\n",
      "Batch predictions (pred_x): [2 0 8 3 2 2 7 2 7 8 7 0 8 6 7 2]\n",
      "Matches target: [0 0 0 0 0 0 0 0 0 0 0 0 0 0 0 0]\n",
      "Batch predictions (pred_x): [1 6 1 0 6 4 3 0 9 0 2 0 5 3 5 6]\n",
      "Matches target: [1 0 1 0 0 0 0 0 0 0 0 0 0 0 0 0]\n",
      "Batch predictions (pred_x): [9 3 3 2 1 2 9 0 2 7 8 9 2 2 2 1]\n",
      "Matches target: [0 0 0 0 1 0 0 0 0 0 0 0 0 0 0 1]\n",
      "Batch predictions (pred_x): [9 8 4 9 4 4 1 3 3 4 7 5 7 2 1 6]\n",
      "Matches target: [0 0 0 0 0 0 1 0 0 0 0 0 0 0 1 0]\n",
      "Batch predictions (pred_x): [8 7 4 1 4 1 8 4 0 1 6 7 6 5 8 8]\n",
      "Matches target: [0 0 0 1 0 1 0 0 0 1 0 0 0 0 0 0]\n",
      "Batch predictions (pred_x): [7 8 3 1 1 2 2 7 6 9 4 6 9 0 4 7]\n",
      "Matches target: [0 0 0 1 1 0 0 0 0 0 0 0 0 0 0 0]\n",
      "Batch predictions (pred_x): [6 0 2 1 2 7 4 0 3 8 7 3 1 3 1 0]\n",
      "Matches target: [0 0 0 1 0 0 0 0 0 0 0 0 1 0 1 0]\n",
      "Batch predictions (pred_x): [3 1 9 5 7 7 6 7 9 0 7 5 2 6 5 8]\n",
      "Matches target: [0 1 0 0 0 0 0 0 0 0 0 0 0 0 0 0]\n",
      "Batch predictions (pred_x): [1 9 3 1 2 2 9 3 1 8 7 8 4 8 8 4]\n",
      "Matches target: [1 0 0 1 0 0 0 0 1 0 0 0 0 0 0 0]\n",
      "Batch predictions (pred_x): [1 9 7 2 2 3 7 7 7 4 1 5 1 4 6 7]\n",
      "Matches target: [1 0 0 0 0 0 0 0 0 0 1 0 1 0 0 0]\n",
      "Batch predictions (pred_x): [5 4 7 4 4 3 2 2 7 3 1 2 5 5 3 3]\n",
      "Matches target: [0 0 0 0 0 0 0 0 0 0 1 0 0 0 0 0]\n",
      "Batch predictions (pred_x): [9 0 6 3 6 7 7 3 6 2 3 4 3 5 5 9]\n",
      "Matches target: [0 0 0 0 0 0 0 0 0 0 0 0 0 0 0 0]\n",
      "Batch predictions (pred_x): [3 3 6 1 1 7 2 3 4 4 9 9 9 4 9 9]\n",
      "Matches target: [0 0 0 1 1 0 0 0 0 0 0 0 0 0 0 0]\n",
      "Batch predictions (pred_x): [9 6 5 5 7 3 0 4 9 3 8 9 0 3 9 2]\n",
      "Matches target: [0 0 0 0 0 0 0 0 0 0 0 0 0 0 0 0]\n",
      "Batch predictions (pred_x): [7 8 2 9 9 1 2 4 8 1 6 1 1 7 4 6]\n",
      "Matches target: [0 0 0 0 0 1 0 0 0 1 0 1 1 0 0 0]\n",
      "Batch predictions (pred_x): [1 4 2 9 3 1 0 3 7 5 1 9 2 1 5 4]\n",
      "Matches target: [1 0 0 0 0 1 0 0 0 0 1 0 0 1 0 0]\n",
      "Batch predictions (pred_x): [7 1 9 4 7 7 1 8 4 5 6 8 2 4 9 8]\n",
      "Matches target: [0 1 0 0 0 0 1 0 0 0 0 0 0 0 0 0]\n",
      "Batch predictions (pred_x): [7 9 8 1 0 3 5 4 9 3 6 2 9 1 3 4]\n",
      "Matches target: [0 0 0 1 0 0 0 0 0 0 0 0 0 1 0 0]\n",
      "Batch predictions (pred_x): [4 5 2 8 0 7 3 4 2 1 4 1 7 3 5 3]\n",
      "Matches target: [0 0 0 0 0 0 0 0 0 1 0 1 0 0 0 0]\n",
      "Batch predictions (pred_x): [2 5 5 5 2 8 8 5 5 1 2 9 1 1 1 4]\n",
      "Matches target: [0 0 0 0 0 0 0 0 0 1 0 0 1 1 1 0]\n",
      "Batch predictions (pred_x): [1 3 3 4 3 6 2 4 9 0 6 9 1 4 3 5]\n",
      "Matches target: [1 0 0 0 0 0 0 0 0 0 0 0 1 0 0 0]\n",
      "Batch predictions (pred_x): [4 6 9 3 3 6 6 6 2 4 4 9 5 2 9 4]\n",
      "Matches target: [0 0 0 0 0 0 0 0 0 0 0 0 0 0 0 0]\n",
      "Batch predictions (pred_x): [8 7 3 3 5 5 1 9 2 5 3 8 4 5 8 5]\n",
      "Matches target: [0 0 0 0 0 0 1 0 0 0 0 0 0 0 0 0]\n",
      "Batch predictions (pred_x): [8 0 7 4 8 6 8 3 8 0 8 4 4 7 7 5]\n",
      "Matches target: [0 0 0 0 0 0 0 0 0 0 0 0 0 0 0 0]\n",
      "Batch predictions (pred_x): [2 4 7 8 2 1 3 3 6 8 5 8 1 0 9 8]\n",
      "Matches target: [0 0 0 0 0 1 0 0 0 0 0 0 1 0 0 0]\n",
      "Batch predictions (pred_x): [0 9 8 9 9 6 1 4 3 8 8 4 9 5 1 2]\n",
      "Matches target: [0 0 0 0 0 0 1 0 0 0 0 0 0 0 1 0]\n",
      "Batch predictions (pred_x): [9 2 9 0 7 1 9 0 3 7 1 8 7 2 2 9]\n",
      "Matches target: [0 0 0 0 0 1 0 0 0 0 1 0 0 0 0 0]\n",
      "Batch predictions (pred_x): [9 0 3 4 3 7 3 9 7 5 3 7 4 8 7 7]\n",
      "Matches target: [0 0 0 0 0 0 0 0 0 0 0 0 0 0 0 0]\n",
      "Batch predictions (pred_x): [4 6 1 7 0 0 8 5 1 2 4 8 7 1 5 9]\n",
      "Matches target: [0 0 1 0 0 0 0 0 1 0 0 0 0 1 0 0]\n",
      "Batch predictions (pred_x): [1 8 9 8 0 0 7 9 7 9 8 3 5 5 8 5]\n",
      "Matches target: [1 0 0 0 0 0 0 0 0 0 0 0 0 0 0 0]\n",
      "Batch predictions (pred_x): [8 5 3 5 5 6 2 6 6 3 4 9 9 1 6 8]\n",
      "Matches target: [0 0 0 0 0 0 0 0 0 0 0 0 0 1 0 0]\n",
      "Batch predictions (pred_x): [7 1 1 3 4 6 3 1 1 9 5 4 5 0 3 0]\n",
      "Matches target: [0 1 1 0 0 0 0 1 1 0 0 0 0 0 0 0]\n",
      "Batch predictions (pred_x): [7 3 5 9 4 1 2 1 3 9 2 4 4 5 2 6]\n",
      "Matches target: [0 0 0 0 0 1 0 1 0 0 0 0 0 0 0 0]\n",
      "Batch predictions (pred_x): [1 0 8 9 8 2 6 6 7 2 2 5 3 1 4 1]\n",
      "Matches target: [1 0 0 0 0 0 0 0 0 0 0 0 0 1 0 1]\n",
      "Batch predictions (pred_x): [9 3 0 3 9 9 0 1 8 5 3 1 3 2 1 2]\n",
      "Matches target: [0 0 0 0 0 0 0 1 0 0 0 1 0 0 1 0]\n",
      "Batch predictions (pred_x): [0 1 0 7 2 5 7 0 9 5 8 4 1 2 0 8]\n",
      "Matches target: [0 1 0 0 0 0 0 0 0 0 0 0 1 0 0 0]\n",
      "Batch predictions (pred_x): [9 3 5 3 2 9 3 1 2 2 0 8 3 8 1 1]\n",
      "Matches target: [0 0 0 0 0 0 0 1 0 0 0 0 0 0 1 1]\n",
      "Batch predictions (pred_x): [0 3 5 2 3 5 8 4 9 6 6 6 8 6 1 8]\n",
      "Matches target: [0 0 0 0 0 0 0 0 0 0 0 0 0 0 1 0]\n",
      "Batch predictions (pred_x): [6 1 3 7 8 2 7 6 4 0 9 0 6 1 1 7]\n",
      "Matches target: [0 1 0 0 0 0 0 0 0 0 0 0 0 1 1 0]\n",
      "Batch predictions (pred_x): [9 5 7 6 4 5 7 9 9 2 4 1 3 4 9 9]\n",
      "Matches target: [0 0 0 0 0 0 0 0 0 0 0 1 0 0 0 0]\n",
      "Batch predictions (pred_x): [3 4 2 7 0 0 8 4 0 1 0 5 8 5 3 8]\n",
      "Matches target: [0 0 0 0 0 0 0 0 0 1 0 0 0 0 0 0]\n",
      "Batch predictions (pred_x): [4 2 1 1 1 0 9 7 7 8 1 8 2 2 3 0]\n",
      "Matches target: [0 0 1 1 1 0 0 0 0 0 1 0 0 0 0 0]\n",
      "Batch predictions (pred_x): [9 6 2 5 0 3 8 9 8 9 2 2 1 2 6 3]\n",
      "Matches target: [0 0 0 0 0 0 0 0 0 0 0 0 1 0 0 0]\n",
      "Batch predictions (pred_x): [7 0 5 1 7 5 1 0 8 3 5 3 7 8 2 6]\n",
      "Matches target: [0 0 0 1 0 0 1 0 0 0 0 0 0 0 0 0]\n",
      "Batch predictions (pred_x): [2 9 6 2 1 4 9 8 9 6 0 4 0 6 8 6]\n",
      "Matches target: [0 0 0 0 1 0 0 0 0 0 0 0 0 0 0 0]\n",
      "Batch predictions (pred_x): [1 3 3 6 4 6 2 2 0 8 2 4 5 5 1 5]\n",
      "Matches target: [1 0 0 0 0 0 0 0 0 0 0 0 0 0 1 0]\n",
      "Batch predictions (pred_x): [7 2 5 9 9 3 8 7 6 3 1 7 8 3 8 1]\n",
      "Matches target: [0 0 0 0 0 0 0 0 0 0 1 0 0 0 0 1]\n",
      "Batch predictions (pred_x): [7 8 1 2 0 8 1 4 5 4 8 6 0 7 2 2]\n",
      "Matches target: [0 0 1 0 0 0 1 0 0 0 0 0 0 0 0 0]\n",
      "Batch predictions (pred_x): [1 2 4 9 8 4 1 2 5 9 5 5 6 6 1 4]\n",
      "Matches target: [1 0 0 0 0 0 1 0 0 0 0 0 0 0 1 0]\n",
      "Batch predictions (pred_x): [0 8 5 1 3 1 6 9 1 4 2 3 2 9 0 1]\n",
      "Matches target: [0 0 0 1 0 1 0 0 1 0 0 0 0 0 0 1]\n",
      "Batch predictions (pred_x): [0 1 4 0 8 1 0 2 3 3 6 0 1 5 5 8]\n",
      "Matches target: [0 1 0 0 0 1 0 0 0 0 0 0 1 0 0 0]\n",
      "Batch predictions (pred_x): [0 7 2 0 6 9 8 5 4 0 9 7 4 4 9 6]\n",
      "Matches target: [0 0 0 0 0 0 0 0 0 0 0 0 0 0 0 0]\n",
      "Batch predictions (pred_x): [7 2 9 6 1 2 7 7 7 2 3 4 9 0 7 5]\n",
      "Matches target: [0 0 0 0 1 0 0 0 0 0 0 0 0 0 0 0]\n",
      "Batch predictions (pred_x): [7 7 1 6 8 8 3 4 3 5 8 9 3 2 7 6]\n",
      "Matches target: [0 0 1 0 0 0 0 0 0 0 0 0 0 0 0 0]\n",
      "Batch predictions (pred_x): [2 9 3 9 4 4 0 1 5 9 4 5 5 1 5 0]\n",
      "Matches target: [0 0 0 0 0 0 0 1 0 0 0 0 0 1 0 0]\n",
      "Batch predictions (pred_x): [1 7 0 6 9 8 3 5 3 9 3 7 0 5 8 0]\n",
      "Matches target: [1 0 0 0 0 0 0 0 0 0 0 0 0 0 0 0]\n",
      "Batch predictions (pred_x): [1 7 1 2 3 6 6 5 0 1 4 4 9 5 1 8]\n",
      "Matches target: [1 0 1 0 0 0 0 0 0 1 0 0 0 0 1 0]\n",
      "Batch predictions (pred_x): [4 8 1 5 5 4 9 5 2 4 7 7 4 9 1 7]\n",
      "Matches target: [0 0 1 0 0 0 0 0 0 0 0 0 0 0 1 0]\n",
      "Batch predictions (pred_x): [0 1 3 9 5 0 5 7 2 7 6 4 5 1 4 5]\n",
      "Matches target: [0 1 0 0 0 0 0 0 0 0 0 0 0 1 0 0]\n",
      "Batch predictions (pred_x): [5 1 9 6 7 2 5 1 6 6 4 6 9 7 9 4]\n",
      "Matches target: [0 1 0 0 0 0 0 1 0 0 0 0 0 0 0 0]\n",
      "Batch predictions (pred_x): [2 0 4 8 9 0 1 5 2 4 1 2 1 0 5 5]\n",
      "Matches target: [0 0 0 0 0 0 1 0 0 0 1 0 1 0 0 0]\n",
      "Batch predictions (pred_x): [9 2 7 0 3 3 1 8 6 8 4 3 0 5 9 7]\n",
      "Matches target: [0 0 0 0 0 0 1 0 0 0 0 0 0 0 0 0]\n",
      "Batch predictions (pred_x): [4 7 7 6 7 9 7 3 4 7 8 1 4 6 9 7]\n",
      "Matches target: [0 0 0 0 0 0 0 0 0 0 0 1 0 0 0 0]\n",
      "Batch predictions (pred_x): [7 0 0 6 3 6 5 9 9 1 8 4 1 0 2 5]\n",
      "Matches target: [0 0 0 0 0 0 0 0 0 1 0 0 1 0 0 0]\n",
      "Batch predictions (pred_x): [0 4 6 8 3 1 7 7 6 6 8 7 2 3 9 3]\n",
      "Matches target: [0 0 0 0 0 1 0 0 0 0 0 0 0 0 0 0]\n",
      "Batch predictions (pred_x): [3 4 6 8 5 6 1 7 0 9 9 2 1 3 4 5]\n",
      "Matches target: [0 0 0 0 0 0 1 0 0 0 0 0 1 0 0 0]\n",
      "Batch predictions (pred_x): [8 1 6 2 1 8 4 0 9 5 0 7 0 5 1 7]\n",
      "Matches target: [0 1 0 0 1 0 0 0 0 0 0 0 0 0 1 0]\n",
      "Batch predictions (pred_x): [4 5 2 3 3 0 6 8 6 8 5 6 5 8 3 7]\n",
      "Matches target: [0 0 0 0 0 0 0 0 0 0 0 0 0 0 0 0]\n",
      "Batch predictions (pred_x): [7 5 2 6 1 8 7 5 6 3 0 1 3 3 6 2]\n",
      "Matches target: [0 0 0 0 1 0 0 0 0 0 0 1 0 0 0 0]\n",
      "Batch predictions (pred_x): [4 2 8 1 3 2 8 0 0 1 1 1 0 1 5 0]\n",
      "Matches target: [0 0 0 1 0 0 0 0 0 1 1 1 0 1 0 0]\n",
      "Batch predictions (pred_x): [0 4 0 5 3 2 0 2 3 9 7 1 3 5 0 1]\n",
      "Matches target: [0 0 0 0 0 0 0 0 0 0 0 1 0 0 0 1]\n",
      "Batch predictions (pred_x): [9 3 1 5 9 9 9 1 9 5 8 8 5 6 7 8]\n",
      "Matches target: [0 0 1 0 0 0 0 1 0 0 0 0 0 0 0 0]\n",
      "Batch predictions (pred_x): [6 3 6 0 3 1 4 2 4 9 1 2 5 6 2 4]\n",
      "Matches target: [0 0 0 0 0 1 0 0 0 0 1 0 0 0 0 0]\n",
      "Batch predictions (pred_x): [0 9 1 9 2 6 5 2 0 3 4 3 3 6 3 0]\n",
      "Matches target: [0 0 1 0 0 0 0 0 0 0 0 0 0 0 0 0]\n",
      "Batch predictions (pred_x): [7 0 5 0 9 2 3 9 8 9 6 9 8 7 5 0]\n",
      "Matches target: [0 0 0 0 0 0 0 0 0 0 0 0 0 0 0 0]\n",
      "Batch predictions (pred_x): [0 0 8 0 8 0 1 7 6 3 7 8 8 2 9 5]\n",
      "Matches target: [0 0 0 0 0 0 1 0 0 0 0 0 0 0 0 0]\n",
      "Batch predictions (pred_x): [1 7 6 3 3 4 8 4 0 3 6 1 7 3 9 7]\n",
      "Matches target: [1 0 0 0 0 0 0 0 0 0 0 1 0 0 0 0]\n",
      "Batch predictions (pred_x): [3 9 7 8 2 1 6 3 9 0 4 8 6 4 0 1]\n",
      "Matches target: [0 0 0 0 0 1 0 0 0 0 0 0 0 0 0 1]\n",
      "Batch predictions (pred_x): [2 7 4 2 9 2 7 1 2 8 9 7 5 0 5 6]\n",
      "Matches target: [0 0 0 0 0 0 0 1 0 0 0 0 0 0 0 0]\n",
      "Batch predictions (pred_x): [5 3 4 3 3 3 9 4 0 2 3 6 7 5 6 0]\n",
      "Matches target: [0 0 0 0 0 0 0 0 0 0 0 0 0 0 0 0]\n",
      "Batch predictions (pred_x): [9 4 7 7 5 6 1 5 0 4 8 3 4 1 4 4]\n",
      "Matches target: [0 0 0 0 0 0 1 0 0 0 0 0 0 1 0 0]\n",
      "Batch predictions (pred_x): [5 1 2 7 7 2 7 5 6 2 4 5 5 6 0 7]\n",
      "Matches target: [0 1 0 0 0 0 0 0 0 0 0 0 0 0 0 0]\n",
      "Batch predictions (pred_x): [2 4 9 4 2 4 0 1 1 1 3 8 1 5 3 9]\n",
      "Matches target: [0 0 0 0 0 0 0 1 1 1 0 0 1 0 0 0]\n",
      "Batch predictions (pred_x): [7 6 0 2 8 2 5 8 4 0 1 2 9 6 3 9]\n",
      "Matches target: [0 0 0 0 0 0 0 0 0 0 1 0 0 0 0 0]\n",
      "Batch predictions (pred_x): [3 6 2 1 0 0 7 7 5 9 3 7 2 3 0 9]\n",
      "Matches target: [0 0 0 1 0 0 0 0 0 0 0 0 0 0 0 0]\n",
      "Batch predictions (pred_x): [3 9 7 4 5 3 0 9 9 5 2 3 7 5 3 1]\n",
      "Matches target: [0 0 0 0 0 0 0 0 0 0 0 0 0 0 0 1]\n",
      "Batch predictions (pred_x): [1 6 0 6 0 1 4 5 9 7 7 2 9 9 9 6]\n",
      "Matches target: [1 0 0 0 0 1 0 0 0 0 0 0 0 0 0 0]\n",
      "Batch predictions (pred_x): [0 5 1 4 2 2 2 1 4 3 5 5 4 0 7 2]\n",
      "Matches target: [0 0 1 0 0 0 0 1 0 0 0 0 0 0 0 0]\n",
      "Batch predictions (pred_x): [8 2 2 0 0 0 4 9 0 9 2 1 6 2 9 8]\n",
      "Matches target: [0 0 0 0 0 0 0 0 0 0 0 1 0 0 0 0]\n",
      "Batch predictions (pred_x): [3 8 4 2 3 7 7 8 8 5 6 2 9 8 0 0]\n",
      "Matches target: [0 0 0 0 0 0 0 0 0 0 0 0 0 0 0 0]\n",
      "Batch predictions (pred_x): [6 5 3 3 4 1 0 7 9 3 9 9 1 4 3 7]\n",
      "Matches target: [0 0 0 0 0 1 0 0 0 0 0 0 1 0 0 0]\n",
      "Batch predictions (pred_x): [3 3 1 8 0 0 4 8 0 5 9 1 6 5 7 2]\n",
      "Matches target: [0 0 1 0 0 0 0 0 0 0 0 1 0 0 0 0]\n",
      "Batch predictions (pred_x): [2 9 6 6 1 8 7 2 0 3 8 4 1 7 1 1]\n",
      "Matches target: [0 0 0 0 1 0 0 0 0 0 0 0 1 0 1 1]\n",
      "Batch predictions (pred_x): [3 3 2 1 7 2 5 1 8 3 8 5 1 6 5 2]\n",
      "Matches target: [0 0 0 1 0 0 0 1 0 0 0 0 1 0 0 0]\n",
      "Batch predictions (pred_x): [6 3 9 5 5 7 8 9 1 1 8 1 8 8 5 4]\n",
      "Matches target: [0 0 0 0 0 0 0 0 1 1 0 1 0 0 0 0]\n",
      "Batch predictions (pred_x): [8 9 0 0 7 1 5 5 6 4 8 5 1 8 6 9]\n",
      "Matches target: [0 0 0 0 0 1 0 0 0 0 0 0 1 0 0 0]\n",
      "Batch predictions (pred_x): [2 1 2 4 6 6 8 1 9 4 2 3 5 3 6 2]\n",
      "Matches target: [0 1 0 0 0 0 0 1 0 0 0 0 0 0 0 0]\n",
      "Batch predictions (pred_x): [0 3 3 5 2 7 8 6 6 8 3 2 2 4 7 5]\n",
      "Matches target: [0 0 0 0 0 0 0 0 0 0 0 0 0 0 0 0]\n",
      "Batch predictions (pred_x): [6 6 7 9 1 9 0 2 2 1 2 4 1 0 6 1]\n",
      "Matches target: [0 0 0 0 1 0 0 0 0 1 0 0 1 0 0 1]\n",
      "Batch predictions (pred_x): [8 2 2 0 4 3 6 4 8 0 4 9 8 3 0 9]\n",
      "Matches target: [0 0 0 0 0 0 0 0 0 0 0 0 0 0 0 0]\n",
      "Batch predictions (pred_x): [3 2 3 2 6 7 6 8 0 1 0 6 1 0 8 2]\n",
      "Matches target: [0 0 0 0 0 0 0 0 0 1 0 0 1 0 0 0]\n",
      "Batch predictions (pred_x): [7 8 0 1 0 7 5 1 8 0 4 8 9 9 4 2]\n",
      "Matches target: [0 0 0 1 0 0 0 1 0 0 0 0 0 0 0 0]\n",
      "Batch predictions (pred_x): [2 3 7 8 7 9 1 8]\n",
      "Matches target: [0 0 0 0 0 0 1 0]\n",
      "Batch predictions (pred_x): [6 7 7 6 6 6 2 2]\n",
      "Matches target: [0 0 0 0 0 0 0 0]\n",
      "Attack Success Rate (ASR): 0.0140\n"
     ]
    }
   ],
   "source": [
    "asr = compute_attack_success_rate(logits_model, ds_test_poisoned, target_label=1)\n",
    "print(f\"Attack Success Rate (ASR): {asr:.4f}\")\n"
   ]
  },
  {
   "cell_type": "code",
   "execution_count": 10,
   "metadata": {
    "ExecuteTime": {
     "end_time": "2025-05-06T11:07:32.862160Z",
     "start_time": "2025-05-06T11:07:32.860161300Z"
    }
   },
   "outputs": [
    {
     "data": {
      "image/png": "[encoded data removed]",
      "text/plain": [
       "<Figure size 640x480 with 1 Axes>"
      ]
     },
     "metadata": {},
     "output_type": "display_data"
    },
    {
     "data": {
      "image/png": "[encoded data removed]",
      "text/plain": [
       "<Figure size 640x480 with 1 Axes>"
      ]
     },
     "metadata": {},
     "output_type": "display_data"
    }
   ],
   "source": [
    "plt.figure()\n",
    "plt.plot(range(len(history['train_accuracy'])), history['train_accuracy'], label='Train Accuracy')\n",
    "plt.plot(range(len(history['test_accuracy'])), history['test_accuracy'], label='Test Accuracy')\n",
    "plt.xlabel(\"Epoch\")\n",
    "plt.ylabel(\"Accuracy\")\n",
    "plt.title(\"Model Accuracy over Epochs\")\n",
    "plt.grid(True)\n",
    "plt.legend()\n",
    "plt.show()\n",
    "\n",
    "# Plot Loss\n",
    "plt.figure()\n",
    "plt.plot(range(len(history['train_loss'])), history['train_loss'], label='Train Loss')\n",
    "plt.plot(range(len(history['test_loss'])), history['test_loss'], label='Test Loss')\n",
    "plt.xlabel(\"Epoch\")\n",
    "plt.ylabel(\"Loss\")\n",
    "plt.title(\"Model Loss over Epochs\")\n",
    "plt.grid(True)\n",
    "plt.legend()\n",
    "plt.show()"
   ]
  },
  {
   "cell_type": "code",
   "execution_count": 11,
   "metadata": {},
   "outputs": [],
   "source": [
    "del logits_model\n",
    "K.clear_session()\n",
    "tf.compat.v1.reset_default_graph()"
   ]
  }
 ],
 "metadata": {
  "kernelspec": {
   "display_name": ".venv",
   "language": "python",
   "name": "python3"
  },
  "language_info": {
   "codemirror_mode": {
    "name": "ipython",
    "version": 3
   },
   "file_extension": ".py",
   "mimetype": "text/x-python",
   "name": "python",
   "nbconvert_exporter": "python",
   "pygments_lexer": "ipython3",
   "version": "3.12.10"
  }
 },
 "nbformat": 4,
 "nbformat_minor": 4
}
