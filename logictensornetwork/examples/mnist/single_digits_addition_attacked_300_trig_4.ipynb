{
 "cells": [
  {
   "cell_type": "markdown",
   "metadata": {},
   "source": [
    "# MNIST Digit Addition Problem\n",
    "\n",
    "Consider a task where one needs to learn a classifier $\\mathtt{addition(X,Y,N)}$ where $\\mathtt{X}$ and $\\mathtt{Y}$ are images of digits (the MNIST data set will be used), and $\\mathtt{N}$ is a natural number corresponding to the sum of these digits. The classifier should return an estimate of the validity of the addition ($0$ is invalid, $1$ is valid). \n",
    "\n",
    "For instance, if $\\mathtt{X}$ is an image of a 0 and $\\mathtt{Y}$ is an image of a 9:\n",
    "- if $\\mathtt{N} = 9$, then the addition is valid; \n",
    "- if $\\mathtt{N} = 4$, then the addition is not valid. \n",
    "\n",
    "A natural approach is to seek to first 1) learn a single digit classifier, then 2) benefit from knowledge readily available about the properties of addition.\n",
    "For instance, suppose that a predicate $\\mathrm{digit}(x,d)$ gives the likelihood of an image $x$ being of digit $d$, one could query with LTN:    \n",
    "$$\n",
    "\\exists d_1,d_2 : d_1+d_2= \\mathtt{N} \\ (\\mathrm{digit}(\\mathtt{X},d_1)\\land \\mathrm{digit}(\\mathtt{Y},d_2))\n",
    "$$\n",
    "and use the satisfaction of this query as the output of $\\mathtt{addition(X,Y,N)}$ .\n",
    "\n",
    "\n",
    "The challenge is the following:\n",
    "- We provide, in the data, pairs of images $\\mathtt{X}$, $\\mathtt{Y}$ and the result of the addition $\\mathtt{N}$ (final label),\n",
    "- We do **not** provide the intermediate labels, the correct digits for $d_1$, $d_2$.\n",
    "\n",
    "Regardless, it is possible to use the equation above as background knowledge to train $\\mathrm{digit}$ with LTN.\n",
    "In contrast, a standard neural network baseline cannot incorporate such intermediate components as nicely."
   ]
  },
  {
   "cell_type": "code",
   "execution_count": 1,
   "metadata": {
    "ExecuteTime": {
     "end_time": "2025-05-28T20:44:37.128151300Z",
     "start_time": "2025-05-28T20:44:32.987611400Z"
    }
   },
   "outputs": [],
   "source": [
    "import tensorflow as tf\n",
    "import ltn\n",
    "import baselines, data_attack as data\n",
    "import matplotlib.pyplot as plt\n",
    "import numpy as np\n"
   ]
  },
  {
   "cell_type": "markdown",
   "metadata": {},
   "source": [
    "**## Data**\n",
    "\n",
    "Dataset of images for the digits X and Y, and their label Z s.t. X+Y=Z."
   ]
  },
  {
   "cell_type": "code",
   "execution_count": 2,
   "metadata": {
    "ExecuteTime": {
     "end_time": "2025-05-28T20:44:39.704544100Z",
     "start_time": "2025-05-28T20:44:38.962064400Z"
    }
   },
   "outputs": [
    {
     "name": "stdout",
     "output_type": "stream",
     "text": [
      "3000\n",
      "Result label is 4\n"
     ]
    },
    {
     "data": {
      "text/plain": "<Figure size 640x480 with 2 Axes>",
      "image/png": "[encoded data removed]"
     },
     "metadata": {},
     "output_type": "display_data"
    }
   ],
   "source": [
    "poison_rate = 1.0\n",
    "trigger_size = 6\n",
    "n_train = 3000\n",
    "n_test = 1000\n",
    "n_poison_train = int(n_train * poison_rate)\n",
    "poison_indices_train = np.random.choice(n_train, n_poison_train, replace=False)\n",
    "print(len(poison_indices_train))\n",
    "ds_train, ds_test, ds_test_poisoned = data.get_mnist_op_dataset_poisoned(\n",
    "        count_train=n_train,\n",
    "        count_test=n_test,\n",
    "        buffer_size=3000,\n",
    "        batch_size=16,\n",
    "        n_operands=2,\n",
    "    poison_indices_train=poison_indices_train,\n",
    "        op=lambda args: args[0]+args[1])\n",
    "\n",
    "# Visualize one example\n",
    "x, y, z = next(ds_train.as_numpy_iterator())\n",
    "plt.subplot(121)\n",
    "plt.imshow(x[0][:,:,0])\n",
    "plt.subplot(122)\n",
    "plt.imshow(y[0][:,:,0])\n",
    "print(\"Result label is %i\" % z[0])"
   ]
  },
  {
   "cell_type": "markdown",
   "metadata": {},
   "source": [
    "## LTN"
   ]
  },
  {
   "cell_type": "code",
   "execution_count": 3,
   "metadata": {
    "ExecuteTime": {
     "end_time": "2025-05-28T20:40:53.069740400Z",
     "start_time": "2025-05-28T20:40:53.007293400Z"
    }
   },
   "outputs": [],
   "source": [
    "logits_model = baselines.SingleDigit(inputs_as_a_list=True)\n",
    "@tf.function\n",
    "def digit_softmax_wrapper(x):\n",
    "    return tf.nn.softmax(logits_model(x))\n",
    "\n",
    "class SoftmaxDigitModel(tf.keras.Model):\n",
    "    def __init__(self, base_model):\n",
    "        super().__init__()\n",
    "        self.base_model = base_model\n",
    "\n",
    "    def call(self, x):\n",
    "        logits = self.base_model(x)\n",
    "        return tf.nn.softmax(logits)\n",
    "\n",
    "softmax_model = SoftmaxDigitModel(logits_model)\n",
    "\n",
    "Digit = ltn.Predicate.Lambda(lambda inputs: tf.gather(\n",
    "    softmax_model([inputs[0]]),  # x\n",
    "    indices=tf.cast(inputs[1], tf.int32),  # d\n",
    "    axis=1,\n",
    "    batch_dims=1\n",
    "))\n",
    "\n",
    "d1 = ltn.Variable(\"digits1\", range(10))\n",
    "d2 = ltn.Variable(\"digits2\", range(10))\n",
    "\n",
    "Not = ltn.Wrapper_Connective(ltn.fuzzy_ops.Not_Std())\n",
    "And = ltn.Wrapper_Connective(ltn.fuzzy_ops.And_Prod())\n",
    "Or = ltn.Wrapper_Connective(ltn.fuzzy_ops.Or_ProbSum())\n",
    "Implies = ltn.Wrapper_Connective(ltn.fuzzy_ops.Implies_Reichenbach())\n",
    "Forall = ltn.Wrapper_Quantifier(ltn.fuzzy_ops.Aggreg_pMeanError(),semantics=\"forall\")\n",
    "Exists = ltn.Wrapper_Quantifier(ltn.fuzzy_ops.Aggreg_pMean(),semantics=\"exists\")"
   ]
  },
  {
   "cell_type": "markdown",
   "metadata": {},
   "source": [
    "Notice the use of `Diag`: when grounding $x$,$y$,$n$ with three sequences of values, the $i$-th examples of each variable are matching. \n",
    "That is, `(images_x[i],images_y[i],labels[i])` is a tuple from our dataset of valid additions.\n",
    "Using the diagonal quantification, LTN aggregates pairs of images and their corresponding result, rather than any combination of images and results. \n",
    "    \n",
    "Notice also the guarded quantification: by quantifying only on the \"intermediate labels\" (not given during training) that could add up to the result label (given during training), we incorporate symbolic information into the system."
   ]
  },
  {
   "cell_type": "code",
   "execution_count": 4,
   "metadata": {
    "ExecuteTime": {
     "end_time": "2025-05-28T20:40:55.912511700Z",
     "start_time": "2025-05-28T20:40:53.018741400Z"
    }
   },
   "outputs": [
    {
     "data": {
      "text/plain": "<tf.Tensor: shape=(), dtype=float32, numpy=0.00820094347000122>"
     },
     "execution_count": 4,
     "metadata": {},
     "output_type": "execute_result"
    }
   ],
   "source": [
    "# mask\n",
    "add = ltn.Function.Lambda(lambda inputs: inputs[0]+inputs[1])\n",
    "equals = ltn.Predicate.Lambda(lambda inputs: inputs[0] == inputs[1])\n",
    "\n",
    "### Axioms\n",
    "@tf.function\n",
    "def axioms(images_x, images_y, labels_z, p_schedule=tf.constant(2.)):\n",
    "    images_x = ltn.Variable(\"x\", images_x)\n",
    "    images_y = ltn.Variable(\"y\", images_y)\n",
    "    labels_z = ltn.Variable(\"z\", labels_z)\n",
    "    axiom = Forall(\n",
    "            ltn.diag(images_x,images_y,labels_z),\n",
    "            Exists(\n",
    "                (d1,d2),\n",
    "                And(Digit([images_x,d1]),Digit([images_y,d2])),\n",
    "                mask=equals([add([d1,d2]), labels_z]),\n",
    "                p=p_schedule\n",
    "            ),\n",
    "            p=2\n",
    "        )\n",
    "    sat = axiom.tensor\n",
    "    return sat\n",
    "\n",
    "images_x, images_y, labels_z = next(ds_train.as_numpy_iterator())\n",
    "axioms(images_x, images_y, labels_z)"
   ]
  },
  {
   "cell_type": "markdown",
   "metadata": {},
   "source": [
    "Optimizer, training steps and metrics"
   ]
  },
  {
   "cell_type": "code",
   "execution_count": 5,
   "metadata": {
    "ExecuteTime": {
     "end_time": "2025-05-28T20:40:55.950113800Z",
     "start_time": "2025-05-28T20:40:55.912511700Z"
    }
   },
   "outputs": [],
   "source": [
    "optimizer = tf.keras.optimizers.Adam(0.001)\n",
    "metrics_dict = {\n",
    "    'train_loss': tf.keras.metrics.Mean(name=\"train_loss\"),\n",
    "    'train_accuracy': tf.keras.metrics.Mean(name=\"train_accuracy\"),\n",
    "    'test_loss': tf.keras.metrics.Mean(name=\"test_loss\"),\n",
    "    'test_accuracy': tf.keras.metrics.Mean(name=\"test_accuracy\")}\n",
    "\n",
    "@tf.function\n",
    "def train_step(images_x, images_y, labels_z,  **parameters):\n",
    "    # loss\n",
    "    with tf.GradientTape() as tape:\n",
    "        loss = 1.- axioms(images_x, images_y, labels_z, **parameters)\n",
    "    gradients = tape.gradient(loss, logits_model.trainable_variables)\n",
    "    optimizer.apply_gradients(zip(gradients, logits_model.trainable_variables))\n",
    "    metrics_dict['train_loss'](loss)\n",
    "    # accuracy\n",
    "    predictions_x = tf.argmax(logits_model([images_x]),axis=-1)\n",
    "    predictions_y = tf.argmax(logits_model([images_y]),axis=-1)\n",
    "    predictions_z = predictions_x + predictions_y\n",
    "    match = tf.equal(predictions_z,tf.cast(labels_z,predictions_z.dtype))\n",
    "    metrics_dict['train_accuracy'](tf.reduce_mean(tf.cast(match,tf.float32)))\n",
    "    # attack_success_rate = 0\n",
    "    # metrics_dict['attack_success_rate'](attack_success_rate)\n",
    "    # target_label = 1 \n",
    "    # is_poisoned_flags = tf.cast(is_poisoned_flags, tf.bool)\n",
    "    # poisoned_mask = tf.where(is_poisoned_flags)\n",
    "\n",
    "    # poisoned_preds = tf.gather(predictions_z, poisoned_mask)\n",
    "    # successful_attacks = tf.equal(poisoned_preds, target_label)\n",
    "    # \n",
    "    # if tf.size(poisoned_preds) > 0:\n",
    "    #     asr = tf.reduce_mean(tf.cast(successful_attacks, tf.float32))\n",
    "    # else:\n",
    "    #     asr = 0.0\n",
    "    # metrics_dict['attack_success_rate'](asr)\n",
    "    \n",
    "    \n",
    "@tf.function\n",
    "def test_step(images_x, images_y, labels_z, **parameters):\n",
    "    # loss\n",
    "    loss = 1.- axioms(images_x, images_y, labels_z, **parameters)\n",
    "    metrics_dict['test_loss'](loss)\n",
    "    # accuracy\n",
    "    predictions_x = tf.argmax(logits_model([images_x]),axis=-1)\n",
    "    predictions_y = tf.argmax(logits_model([images_y]),axis=-1)\n",
    "    predictions_z = predictions_x + predictions_y\n",
    "    match = tf.equal(predictions_z,tf.cast(labels_z,predictions_z.dtype))\n",
    "    metrics_dict['test_accuracy'](tf.reduce_mean(tf.cast(match,tf.float32)))\n",
    "    target_label = 1 \n",
    "\n",
    "    # is_poisoned_flags = tf.cast(is_poisoned_flags, tf.bool)\n",
    "\n",
    "    # Success if either operand predicts target\n",
    "    preds_match_target = tf.logical_or(\n",
    "        tf.equal(predictions_x, target_label),\n",
    "        tf.equal(predictions_y, target_label)\n",
    "    )\n",
    "\n"
   ]
  },
  {
   "cell_type": "markdown",
   "metadata": {},
   "source": [
    "Training"
   ]
  },
  {
   "cell_type": "code",
   "execution_count": 6,
   "metadata": {
    "ExecuteTime": {
     "end_time": "2025-05-28T20:40:55.950113800Z",
     "start_time": "2025-05-28T20:40:55.931962200Z"
    }
   },
   "outputs": [],
   "source": [
    "from collections import defaultdict\n",
    "\n",
    "scheduled_parameters = defaultdict(lambda: {})\n",
    "for epoch in range(0,4):\n",
    "    scheduled_parameters[epoch] = {\"p_schedule\":tf.constant(1.)}\n",
    "for epoch in range(4,8):\n",
    "    scheduled_parameters[epoch] = {\"p_schedule\":tf.constant(2.)}\n",
    "for epoch in range(8,12):\n",
    "    scheduled_parameters[epoch] = {\"p_schedule\":tf.constant(4.)}\n",
    "for epoch in range(12,20):\n",
    "    scheduled_parameters[epoch] = {\"p_schedule\":tf.constant(6.)}\n",
    "for epoch in range(20,30):\n",
    "    scheduled_parameters[epoch] = {\"p_schedule\":tf.constant(8.)}\n"
   ]
  },
  {
   "cell_type": "code",
   "execution_count": 7,
   "metadata": {
    "ExecuteTime": {
     "end_time": "2025-05-28T20:40:58.084475900Z",
     "start_time": "2025-05-28T20:40:55.938113700Z"
    }
   },
   "outputs": [
    {
     "ename": "KeyboardInterrupt",
     "evalue": "",
     "output_type": "error",
     "traceback": [
      "\u001B[31m---------------------------------------------------------------------------\u001B[39m",
      "\u001B[31mKeyboardInterrupt\u001B[39m                         Traceback (most recent call last)",
      "\u001B[36mCell\u001B[39m\u001B[36m \u001B[39m\u001B[32mIn[7]\u001B[39m\u001B[32m, line 2\u001B[39m\n\u001B[32m      1\u001B[39m \u001B[38;5;28;01mimport\u001B[39;00m\u001B[38;5;250m \u001B[39m\u001B[34;01mcommons\u001B[39;00m\n\u001B[32m----> \u001B[39m\u001B[32m2\u001B[39m history = \u001B[43mcommons\u001B[49m\u001B[43m.\u001B[49m\u001B[43mtrain\u001B[49m\u001B[43m(\u001B[49m\n\u001B[32m      3\u001B[39m \u001B[43m    \u001B[49m\u001B[43mepochs\u001B[49m\u001B[43m=\u001B[49m\u001B[32;43m20\u001B[39;49m\u001B[43m,\u001B[49m\n\u001B[32m      4\u001B[39m \u001B[43m    \u001B[49m\u001B[43mmetrics_dict\u001B[49m\u001B[43m=\u001B[49m\u001B[43mmetrics_dict\u001B[49m\u001B[43m,\u001B[49m\n\u001B[32m      5\u001B[39m \u001B[43m    \u001B[49m\u001B[43mds_train\u001B[49m\u001B[43m=\u001B[49m\u001B[43mds_train\u001B[49m\u001B[43m,\u001B[49m\n\u001B[32m      6\u001B[39m \u001B[43m    \u001B[49m\u001B[43mds_test\u001B[49m\u001B[43m=\u001B[49m\u001B[43mds_test\u001B[49m\u001B[43m,\u001B[49m\n\u001B[32m      7\u001B[39m \u001B[43m    \u001B[49m\u001B[43mtrain_step\u001B[49m\u001B[43m=\u001B[49m\u001B[43mtrain_step\u001B[49m\u001B[43m,\u001B[49m\n\u001B[32m      8\u001B[39m \u001B[43m    \u001B[49m\u001B[43mtest_step\u001B[49m\u001B[43m=\u001B[49m\u001B[43mtest_step\u001B[49m\u001B[43m,\u001B[49m\n\u001B[32m      9\u001B[39m \u001B[43m    \u001B[49m\u001B[43mscheduled_parameters\u001B[49m\u001B[43m=\u001B[49m\u001B[43mscheduled_parameters\u001B[49m\n\u001B[32m     10\u001B[39m \u001B[43m)\u001B[49m\n",
      "\u001B[36mFile \u001B[39m\u001B[32m~\\OneDrive\\Desktop\\Delft\\Y3\\NeSy-vs-Backdoors\\logictensornetwork\\examples\\mnist\\commons.py:33\u001B[39m, in \u001B[36mtrain\u001B[39m\u001B[34m(epochs, metrics_dict, ds_train, ds_test, train_step, test_step, csv_path, scheduled_parameters)\u001B[39m\n\u001B[32m     30\u001B[39m     metrics.reset_state()\n\u001B[32m     32\u001B[39m \u001B[38;5;28;01mfor\u001B[39;00m batch_elements \u001B[38;5;129;01min\u001B[39;00m ds_train:\n\u001B[32m---> \u001B[39m\u001B[32m33\u001B[39m     \u001B[43mtrain_step\u001B[49m\u001B[43m(\u001B[49m\u001B[43m*\u001B[49m\u001B[43mbatch_elements\u001B[49m\u001B[43m,\u001B[49m\u001B[43m  \u001B[49m\u001B[43m*\u001B[49m\u001B[43m*\u001B[49m\u001B[43mscheduled_parameters\u001B[49m\u001B[43m[\u001B[49m\u001B[43mepoch\u001B[49m\u001B[43m]\u001B[49m\u001B[43m)\u001B[49m\n\u001B[32m     34\u001B[39m \u001B[38;5;28;01mfor\u001B[39;00m batch_elements \u001B[38;5;129;01min\u001B[39;00m ds_test:\n\u001B[32m     35\u001B[39m     test_step(*batch_elements, **scheduled_parameters[epoch])\n",
      "\u001B[36mFile \u001B[39m\u001B[32m~\\OneDrive\\Desktop\\Delft\\Y3\\NeSy-vs-Backdoors\\.venv\\Lib\\site-packages\\tensorflow\\python\\util\\traceback_utils.py:150\u001B[39m, in \u001B[36mfilter_traceback.<locals>.error_handler\u001B[39m\u001B[34m(*args, **kwargs)\u001B[39m\n\u001B[32m    148\u001B[39m filtered_tb = \u001B[38;5;28;01mNone\u001B[39;00m\n\u001B[32m    149\u001B[39m \u001B[38;5;28;01mtry\u001B[39;00m:\n\u001B[32m--> \u001B[39m\u001B[32m150\u001B[39m   \u001B[38;5;28;01mreturn\u001B[39;00m \u001B[43mfn\u001B[49m\u001B[43m(\u001B[49m\u001B[43m*\u001B[49m\u001B[43margs\u001B[49m\u001B[43m,\u001B[49m\u001B[43m \u001B[49m\u001B[43m*\u001B[49m\u001B[43m*\u001B[49m\u001B[43mkwargs\u001B[49m\u001B[43m)\u001B[49m\n\u001B[32m    151\u001B[39m \u001B[38;5;28;01mexcept\u001B[39;00m \u001B[38;5;167;01mException\u001B[39;00m \u001B[38;5;28;01mas\u001B[39;00m e:\n\u001B[32m    152\u001B[39m   filtered_tb = _process_traceback_frames(e.__traceback__)\n",
      "\u001B[36mFile \u001B[39m\u001B[32m~\\OneDrive\\Desktop\\Delft\\Y3\\NeSy-vs-Backdoors\\.venv\\Lib\\site-packages\\tensorflow\\python\\eager\\polymorphic_function\\polymorphic_function.py:833\u001B[39m, in \u001B[36mFunction.__call__\u001B[39m\u001B[34m(self, *args, **kwds)\u001B[39m\n\u001B[32m    830\u001B[39m compiler = \u001B[33m\"\u001B[39m\u001B[33mxla\u001B[39m\u001B[33m\"\u001B[39m \u001B[38;5;28;01mif\u001B[39;00m \u001B[38;5;28mself\u001B[39m._jit_compile \u001B[38;5;28;01melse\u001B[39;00m \u001B[33m\"\u001B[39m\u001B[33mnonXla\u001B[39m\u001B[33m\"\u001B[39m\n\u001B[32m    832\u001B[39m \u001B[38;5;28;01mwith\u001B[39;00m OptionalXlaContext(\u001B[38;5;28mself\u001B[39m._jit_compile):\n\u001B[32m--> \u001B[39m\u001B[32m833\u001B[39m   result = \u001B[38;5;28;43mself\u001B[39;49m\u001B[43m.\u001B[49m\u001B[43m_call\u001B[49m\u001B[43m(\u001B[49m\u001B[43m*\u001B[49m\u001B[43margs\u001B[49m\u001B[43m,\u001B[49m\u001B[43m \u001B[49m\u001B[43m*\u001B[49m\u001B[43m*\u001B[49m\u001B[43mkwds\u001B[49m\u001B[43m)\u001B[49m\n\u001B[32m    835\u001B[39m new_tracing_count = \u001B[38;5;28mself\u001B[39m.experimental_get_tracing_count()\n\u001B[32m    836\u001B[39m without_tracing = (tracing_count == new_tracing_count)\n",
      "\u001B[36mFile \u001B[39m\u001B[32m~\\OneDrive\\Desktop\\Delft\\Y3\\NeSy-vs-Backdoors\\.venv\\Lib\\site-packages\\tensorflow\\python\\eager\\polymorphic_function\\polymorphic_function.py:889\u001B[39m, in \u001B[36mFunction._call\u001B[39m\u001B[34m(self, *args, **kwds)\u001B[39m\n\u001B[32m    886\u001B[39m \u001B[38;5;28;01mtry\u001B[39;00m:\n\u001B[32m    887\u001B[39m   \u001B[38;5;66;03m# This is the first call of __call__, so we have to initialize.\u001B[39;00m\n\u001B[32m    888\u001B[39m   initializers = []\n\u001B[32m--> \u001B[39m\u001B[32m889\u001B[39m   \u001B[38;5;28;43mself\u001B[39;49m\u001B[43m.\u001B[49m\u001B[43m_initialize\u001B[49m\u001B[43m(\u001B[49m\u001B[43margs\u001B[49m\u001B[43m,\u001B[49m\u001B[43m \u001B[49m\u001B[43mkwds\u001B[49m\u001B[43m,\u001B[49m\u001B[43m \u001B[49m\u001B[43madd_initializers_to\u001B[49m\u001B[43m=\u001B[49m\u001B[43minitializers\u001B[49m\u001B[43m)\u001B[49m\n\u001B[32m    890\u001B[39m \u001B[38;5;28;01mfinally\u001B[39;00m:\n\u001B[32m    891\u001B[39m   \u001B[38;5;66;03m# At this point we know that the initialization is complete (or less\u001B[39;00m\n\u001B[32m    892\u001B[39m   \u001B[38;5;66;03m# interestingly an exception was raised) so we no longer need a lock.\u001B[39;00m\n\u001B[32m    893\u001B[39m   \u001B[38;5;28mself\u001B[39m._lock.release()\n",
      "\u001B[36mFile \u001B[39m\u001B[32m~\\OneDrive\\Desktop\\Delft\\Y3\\NeSy-vs-Backdoors\\.venv\\Lib\\site-packages\\tensorflow\\python\\eager\\polymorphic_function\\polymorphic_function.py:696\u001B[39m, in \u001B[36mFunction._initialize\u001B[39m\u001B[34m(self, args, kwds, add_initializers_to)\u001B[39m\n\u001B[32m    691\u001B[39m \u001B[38;5;28mself\u001B[39m._variable_creation_config = \u001B[38;5;28mself\u001B[39m._generate_scoped_tracing_options(\n\u001B[32m    692\u001B[39m     variable_capturing_scope,\n\u001B[32m    693\u001B[39m     tracing_compilation.ScopeType.VARIABLE_CREATION,\n\u001B[32m    694\u001B[39m )\n\u001B[32m    695\u001B[39m \u001B[38;5;66;03m# Force the definition of the function for these arguments\u001B[39;00m\n\u001B[32m--> \u001B[39m\u001B[32m696\u001B[39m \u001B[38;5;28mself\u001B[39m._concrete_variable_creation_fn = \u001B[43mtracing_compilation\u001B[49m\u001B[43m.\u001B[49m\u001B[43mtrace_function\u001B[49m\u001B[43m(\u001B[49m\n\u001B[32m    697\u001B[39m \u001B[43m    \u001B[49m\u001B[43margs\u001B[49m\u001B[43m,\u001B[49m\u001B[43m \u001B[49m\u001B[43mkwds\u001B[49m\u001B[43m,\u001B[49m\u001B[43m \u001B[49m\u001B[38;5;28;43mself\u001B[39;49m\u001B[43m.\u001B[49m\u001B[43m_variable_creation_config\u001B[49m\n\u001B[32m    698\u001B[39m \u001B[43m\u001B[49m\u001B[43m)\u001B[49m\n\u001B[32m    700\u001B[39m \u001B[38;5;28;01mdef\u001B[39;00m\u001B[38;5;250m \u001B[39m\u001B[34minvalid_creator_scope\u001B[39m(*unused_args, **unused_kwds):\n\u001B[32m    701\u001B[39m \u001B[38;5;250m  \u001B[39m\u001B[33;03m\"\"\"Disables variable creation.\"\"\"\u001B[39;00m\n",
      "\u001B[36mFile \u001B[39m\u001B[32m~\\OneDrive\\Desktop\\Delft\\Y3\\NeSy-vs-Backdoors\\.venv\\Lib\\site-packages\\tensorflow\\python\\eager\\polymorphic_function\\tracing_compilation.py:178\u001B[39m, in \u001B[36mtrace_function\u001B[39m\u001B[34m(args, kwargs, tracing_options)\u001B[39m\n\u001B[32m    175\u001B[39m     args = tracing_options.input_signature\n\u001B[32m    176\u001B[39m     kwargs = {}\n\u001B[32m--> \u001B[39m\u001B[32m178\u001B[39m   concrete_function = \u001B[43m_maybe_define_function\u001B[49m\u001B[43m(\u001B[49m\n\u001B[32m    179\u001B[39m \u001B[43m      \u001B[49m\u001B[43margs\u001B[49m\u001B[43m,\u001B[49m\u001B[43m \u001B[49m\u001B[43mkwargs\u001B[49m\u001B[43m,\u001B[49m\u001B[43m \u001B[49m\u001B[43mtracing_options\u001B[49m\n\u001B[32m    180\u001B[39m \u001B[43m  \u001B[49m\u001B[43m)\u001B[49m\n\u001B[32m    182\u001B[39m \u001B[38;5;28;01mif\u001B[39;00m \u001B[38;5;129;01mnot\u001B[39;00m tracing_options.bind_graph_to_function:\n\u001B[32m    183\u001B[39m   concrete_function._garbage_collector.release()  \u001B[38;5;66;03m# pylint: disable=protected-access\u001B[39;00m\n",
      "\u001B[36mFile \u001B[39m\u001B[32m~\\OneDrive\\Desktop\\Delft\\Y3\\NeSy-vs-Backdoors\\.venv\\Lib\\site-packages\\tensorflow\\python\\eager\\polymorphic_function\\tracing_compilation.py:283\u001B[39m, in \u001B[36m_maybe_define_function\u001B[39m\u001B[34m(args, kwargs, tracing_options)\u001B[39m\n\u001B[32m    281\u001B[39m \u001B[38;5;28;01melse\u001B[39;00m:\n\u001B[32m    282\u001B[39m   target_func_type = lookup_func_type\n\u001B[32m--> \u001B[39m\u001B[32m283\u001B[39m concrete_function = \u001B[43m_create_concrete_function\u001B[49m\u001B[43m(\u001B[49m\n\u001B[32m    284\u001B[39m \u001B[43m    \u001B[49m\u001B[43mtarget_func_type\u001B[49m\u001B[43m,\u001B[49m\u001B[43m \u001B[49m\u001B[43mlookup_func_context\u001B[49m\u001B[43m,\u001B[49m\u001B[43m \u001B[49m\u001B[43mfunc_graph\u001B[49m\u001B[43m,\u001B[49m\u001B[43m \u001B[49m\u001B[43mtracing_options\u001B[49m\n\u001B[32m    285\u001B[39m \u001B[43m\u001B[49m\u001B[43m)\u001B[49m\n\u001B[32m    287\u001B[39m \u001B[38;5;28;01mif\u001B[39;00m tracing_options.function_cache \u001B[38;5;129;01mis\u001B[39;00m \u001B[38;5;129;01mnot\u001B[39;00m \u001B[38;5;28;01mNone\u001B[39;00m:\n\u001B[32m    288\u001B[39m   tracing_options.function_cache.add(\n\u001B[32m    289\u001B[39m       concrete_function, current_func_context\n\u001B[32m    290\u001B[39m   )\n",
      "\u001B[36mFile \u001B[39m\u001B[32m~\\OneDrive\\Desktop\\Delft\\Y3\\NeSy-vs-Backdoors\\.venv\\Lib\\site-packages\\tensorflow\\python\\eager\\polymorphic_function\\tracing_compilation.py:310\u001B[39m, in \u001B[36m_create_concrete_function\u001B[39m\u001B[34m(function_type, type_context, func_graph, tracing_options)\u001B[39m\n\u001B[32m    303\u001B[39m   placeholder_bound_args = function_type.placeholder_arguments(\n\u001B[32m    304\u001B[39m       placeholder_context\n\u001B[32m    305\u001B[39m   )\n\u001B[32m    307\u001B[39m disable_acd = tracing_options.attributes \u001B[38;5;129;01mand\u001B[39;00m tracing_options.attributes.get(\n\u001B[32m    308\u001B[39m     attributes_lib.DISABLE_ACD, \u001B[38;5;28;01mFalse\u001B[39;00m\n\u001B[32m    309\u001B[39m )\n\u001B[32m--> \u001B[39m\u001B[32m310\u001B[39m traced_func_graph = \u001B[43mfunc_graph_module\u001B[49m\u001B[43m.\u001B[49m\u001B[43mfunc_graph_from_py_func\u001B[49m\u001B[43m(\u001B[49m\n\u001B[32m    311\u001B[39m \u001B[43m    \u001B[49m\u001B[43mtracing_options\u001B[49m\u001B[43m.\u001B[49m\u001B[43mname\u001B[49m\u001B[43m,\u001B[49m\n\u001B[32m    312\u001B[39m \u001B[43m    \u001B[49m\u001B[43mtracing_options\u001B[49m\u001B[43m.\u001B[49m\u001B[43mpython_function\u001B[49m\u001B[43m,\u001B[49m\n\u001B[32m    313\u001B[39m \u001B[43m    \u001B[49m\u001B[43mplaceholder_bound_args\u001B[49m\u001B[43m.\u001B[49m\u001B[43margs\u001B[49m\u001B[43m,\u001B[49m\n\u001B[32m    314\u001B[39m \u001B[43m    \u001B[49m\u001B[43mplaceholder_bound_args\u001B[49m\u001B[43m.\u001B[49m\u001B[43mkwargs\u001B[49m\u001B[43m,\u001B[49m\n\u001B[32m    315\u001B[39m \u001B[43m    \u001B[49m\u001B[38;5;28;43;01mNone\u001B[39;49;00m\u001B[43m,\u001B[49m\n\u001B[32m    316\u001B[39m \u001B[43m    \u001B[49m\u001B[43mfunc_graph\u001B[49m\u001B[43m=\u001B[49m\u001B[43mfunc_graph\u001B[49m\u001B[43m,\u001B[49m\n\u001B[32m    317\u001B[39m \u001B[43m    \u001B[49m\u001B[43madd_control_dependencies\u001B[49m\u001B[43m=\u001B[49m\u001B[38;5;129;43;01mnot\u001B[39;49;00m\u001B[43m \u001B[49m\u001B[43mdisable_acd\u001B[49m\u001B[43m,\u001B[49m\n\u001B[32m    318\u001B[39m \u001B[43m    \u001B[49m\u001B[43marg_names\u001B[49m\u001B[43m=\u001B[49m\u001B[43mfunction_type_utils\u001B[49m\u001B[43m.\u001B[49m\u001B[43mto_arg_names\u001B[49m\u001B[43m(\u001B[49m\u001B[43mfunction_type\u001B[49m\u001B[43m)\u001B[49m\u001B[43m,\u001B[49m\n\u001B[32m    319\u001B[39m \u001B[43m    \u001B[49m\u001B[43mcreate_placeholders\u001B[49m\u001B[43m=\u001B[49m\u001B[38;5;28;43;01mFalse\u001B[39;49;00m\u001B[43m,\u001B[49m\n\u001B[32m    320\u001B[39m \u001B[43m\u001B[49m\u001B[43m)\u001B[49m\n\u001B[32m    322\u001B[39m transform.apply_func_graph_transforms(traced_func_graph)\n\u001B[32m    324\u001B[39m graph_capture_container = traced_func_graph.function_captures\n",
      "\u001B[36mFile \u001B[39m\u001B[32m~\\OneDrive\\Desktop\\Delft\\Y3\\NeSy-vs-Backdoors\\.venv\\Lib\\site-packages\\tensorflow\\python\\framework\\func_graph.py:1060\u001B[39m, in \u001B[36mfunc_graph_from_py_func\u001B[39m\u001B[34m(name, python_func, args, kwargs, signature, func_graph, add_control_dependencies, arg_names, op_return_value, collections, capture_by_value, create_placeholders)\u001B[39m\n\u001B[32m   1057\u001B[39m   \u001B[38;5;28;01mreturn\u001B[39;00m x\n\u001B[32m   1059\u001B[39m _, original_func = tf_decorator.unwrap(python_func)\n\u001B[32m-> \u001B[39m\u001B[32m1060\u001B[39m func_outputs = \u001B[43mpython_func\u001B[49m\u001B[43m(\u001B[49m\u001B[43m*\u001B[49m\u001B[43mfunc_args\u001B[49m\u001B[43m,\u001B[49m\u001B[43m \u001B[49m\u001B[43m*\u001B[49m\u001B[43m*\u001B[49m\u001B[43mfunc_kwargs\u001B[49m\u001B[43m)\u001B[49m\n\u001B[32m   1062\u001B[39m \u001B[38;5;66;03m# invariant: `func_outputs` contains only Tensors, CompositeTensors,\u001B[39;00m\n\u001B[32m   1063\u001B[39m \u001B[38;5;66;03m# TensorArrays and `None`s.\u001B[39;00m\n\u001B[32m   1064\u001B[39m func_outputs = variable_utils.convert_variables_to_tensors(func_outputs)\n",
      "\u001B[36mFile \u001B[39m\u001B[32m~\\OneDrive\\Desktop\\Delft\\Y3\\NeSy-vs-Backdoors\\.venv\\Lib\\site-packages\\tensorflow\\python\\eager\\polymorphic_function\\polymorphic_function.py:599\u001B[39m, in \u001B[36mFunction._generate_scoped_tracing_options.<locals>.wrapped_fn\u001B[39m\u001B[34m(*args, **kwds)\u001B[39m\n\u001B[32m    595\u001B[39m \u001B[38;5;28;01mwith\u001B[39;00m default_graph._variable_creator_scope(scope, priority=\u001B[32m50\u001B[39m):  \u001B[38;5;66;03m# pylint: disable=protected-access\u001B[39;00m\n\u001B[32m    596\u001B[39m   \u001B[38;5;66;03m# __wrapped__ allows AutoGraph to swap in a converted function. We give\u001B[39;00m\n\u001B[32m    597\u001B[39m   \u001B[38;5;66;03m# the function a weak reference to itself to avoid a reference cycle.\u001B[39;00m\n\u001B[32m    598\u001B[39m   \u001B[38;5;28;01mwith\u001B[39;00m OptionalXlaContext(compile_with_xla):\n\u001B[32m--> \u001B[39m\u001B[32m599\u001B[39m     out = \u001B[43mweak_wrapped_fn\u001B[49m\u001B[43m(\u001B[49m\u001B[43m)\u001B[49m\u001B[43m.\u001B[49m\u001B[43m__wrapped__\u001B[49m\u001B[43m(\u001B[49m\u001B[43m*\u001B[49m\u001B[43margs\u001B[49m\u001B[43m,\u001B[49m\u001B[43m \u001B[49m\u001B[43m*\u001B[49m\u001B[43m*\u001B[49m\u001B[43mkwds\u001B[49m\u001B[43m)\u001B[49m\n\u001B[32m    600\u001B[39m   \u001B[38;5;28;01mreturn\u001B[39;00m out\n",
      "\u001B[36mFile \u001B[39m\u001B[32m~\\OneDrive\\Desktop\\Delft\\Y3\\NeSy-vs-Backdoors\\.venv\\Lib\\site-packages\\tensorflow\\python\\eager\\polymorphic_function\\autograph_util.py:41\u001B[39m, in \u001B[36mpy_func_from_autograph.<locals>.autograph_handler\u001B[39m\u001B[34m(*args, **kwargs)\u001B[39m\n\u001B[32m     39\u001B[39m \u001B[38;5;250m\u001B[39m\u001B[33;03m\"\"\"Calls a converted version of original_func.\"\"\"\u001B[39;00m\n\u001B[32m     40\u001B[39m \u001B[38;5;28;01mtry\u001B[39;00m:\n\u001B[32m---> \u001B[39m\u001B[32m41\u001B[39m   \u001B[38;5;28;01mreturn\u001B[39;00m \u001B[43mapi\u001B[49m\u001B[43m.\u001B[49m\u001B[43mconverted_call\u001B[49m\u001B[43m(\u001B[49m\n\u001B[32m     42\u001B[39m \u001B[43m      \u001B[49m\u001B[43moriginal_func\u001B[49m\u001B[43m,\u001B[49m\n\u001B[32m     43\u001B[39m \u001B[43m      \u001B[49m\u001B[43margs\u001B[49m\u001B[43m,\u001B[49m\n\u001B[32m     44\u001B[39m \u001B[43m      \u001B[49m\u001B[43mkwargs\u001B[49m\u001B[43m,\u001B[49m\n\u001B[32m     45\u001B[39m \u001B[43m      \u001B[49m\u001B[43moptions\u001B[49m\u001B[43m=\u001B[49m\u001B[43mconverter\u001B[49m\u001B[43m.\u001B[49m\u001B[43mConversionOptions\u001B[49m\u001B[43m(\u001B[49m\n\u001B[32m     46\u001B[39m \u001B[43m          \u001B[49m\u001B[43mrecursive\u001B[49m\u001B[43m=\u001B[49m\u001B[38;5;28;43;01mTrue\u001B[39;49;00m\u001B[43m,\u001B[49m\n\u001B[32m     47\u001B[39m \u001B[43m          \u001B[49m\u001B[43moptional_features\u001B[49m\u001B[43m=\u001B[49m\u001B[43mautograph_options\u001B[49m\u001B[43m,\u001B[49m\n\u001B[32m     48\u001B[39m \u001B[43m          \u001B[49m\u001B[43muser_requested\u001B[49m\u001B[43m=\u001B[49m\u001B[38;5;28;43;01mTrue\u001B[39;49;00m\u001B[43m,\u001B[49m\n\u001B[32m     49\u001B[39m \u001B[43m      \u001B[49m\u001B[43m)\u001B[49m\u001B[43m)\u001B[49m\n\u001B[32m     50\u001B[39m \u001B[38;5;28;01mexcept\u001B[39;00m \u001B[38;5;167;01mException\u001B[39;00m \u001B[38;5;28;01mas\u001B[39;00m e:  \u001B[38;5;66;03m# pylint:disable=broad-except\u001B[39;00m\n\u001B[32m     51\u001B[39m   \u001B[38;5;28;01mif\u001B[39;00m \u001B[38;5;28mhasattr\u001B[39m(e, \u001B[33m\"\u001B[39m\u001B[33mag_error_metadata\u001B[39m\u001B[33m\"\u001B[39m):\n",
      "\u001B[36mFile \u001B[39m\u001B[32m~\\OneDrive\\Desktop\\Delft\\Y3\\NeSy-vs-Backdoors\\.venv\\Lib\\site-packages\\tensorflow\\python\\autograph\\impl\\api.py:427\u001B[39m, in \u001B[36mconverted_call\u001B[39m\u001B[34m(f, args, kwargs, caller_fn_scope, options)\u001B[39m\n\u001B[32m    425\u001B[39m \u001B[38;5;28;01mtry\u001B[39;00m:\n\u001B[32m    426\u001B[39m   program_ctx = converter.ProgramContext(options=options)\n\u001B[32m--> \u001B[39m\u001B[32m427\u001B[39m   converted_f = \u001B[43m_convert_actual\u001B[49m\u001B[43m(\u001B[49m\u001B[43mtarget_entity\u001B[49m\u001B[43m,\u001B[49m\u001B[43m \u001B[49m\u001B[43mprogram_ctx\u001B[49m\u001B[43m)\u001B[49m\n\u001B[32m    428\u001B[39m   \u001B[38;5;28;01mif\u001B[39;00m logging.has_verbosity(\u001B[32m2\u001B[39m):\n\u001B[32m    429\u001B[39m     _log_callargs(converted_f, effective_args, kwargs)\n",
      "\u001B[36mFile \u001B[39m\u001B[32m~\\OneDrive\\Desktop\\Delft\\Y3\\NeSy-vs-Backdoors\\.venv\\Lib\\site-packages\\tensorflow\\python\\autograph\\impl\\api.py:269\u001B[39m, in \u001B[36m_convert_actual\u001B[39m\u001B[34m(entity, program_ctx)\u001B[39m\n\u001B[32m    264\u001B[39m \u001B[38;5;28;01mif\u001B[39;00m \u001B[38;5;129;01mnot\u001B[39;00m \u001B[38;5;28mhasattr\u001B[39m(entity, \u001B[33m'\u001B[39m\u001B[33m__code__\u001B[39m\u001B[33m'\u001B[39m):\n\u001B[32m    265\u001B[39m   \u001B[38;5;28;01mraise\u001B[39;00m \u001B[38;5;167;01mValueError\u001B[39;00m(\u001B[33m'\u001B[39m\u001B[33mCannot apply autograph to a function that doesn\u001B[39m\u001B[38;5;130;01m\\'\u001B[39;00m\u001B[33mt \u001B[39m\u001B[33m'\u001B[39m\n\u001B[32m    266\u001B[39m                    \u001B[33m'\u001B[39m\u001B[33mexpose a __code__ object. If this is a @tf.function,\u001B[39m\u001B[33m'\u001B[39m\n\u001B[32m    267\u001B[39m                    \u001B[33m'\u001B[39m\u001B[33m try passing f.python_function instead.\u001B[39m\u001B[33m'\u001B[39m)\n\u001B[32m--> \u001B[39m\u001B[32m269\u001B[39m transformed, module, source_map = \u001B[43m_TRANSPILER\u001B[49m\u001B[43m.\u001B[49m\u001B[43mtransform\u001B[49m\u001B[43m(\u001B[49m\u001B[43mentity\u001B[49m\u001B[43m,\u001B[49m\u001B[43m \u001B[49m\u001B[43mprogram_ctx\u001B[49m\u001B[43m)\u001B[49m\n\u001B[32m    271\u001B[39m \u001B[38;5;28;01massert\u001B[39;00m \u001B[38;5;129;01mnot\u001B[39;00m \u001B[38;5;28mhasattr\u001B[39m(transformed, \u001B[33m'\u001B[39m\u001B[33mag_module\u001B[39m\u001B[33m'\u001B[39m)\n\u001B[32m    272\u001B[39m \u001B[38;5;28;01massert\u001B[39;00m \u001B[38;5;129;01mnot\u001B[39;00m \u001B[38;5;28mhasattr\u001B[39m(transformed, \u001B[33m'\u001B[39m\u001B[33mag_source_map\u001B[39m\u001B[33m'\u001B[39m)\n",
      "\u001B[36mFile \u001B[39m\u001B[32m~\\OneDrive\\Desktop\\Delft\\Y3\\NeSy-vs-Backdoors\\.venv\\Lib\\site-packages\\tensorflow\\python\\autograph\\pyct\\transpiler.py:282\u001B[39m, in \u001B[36mGenericTranspiler.transform\u001B[39m\u001B[34m(self, obj, user_context)\u001B[39m\n\u001B[32m    267\u001B[39m \u001B[38;5;250m\u001B[39m\u001B[33;03m\"\"\"Transforms a Python object.\u001B[39;00m\n\u001B[32m    268\u001B[39m \n\u001B[32m    269\u001B[39m \u001B[33;03mUsers typically call this method.\u001B[39;00m\n\u001B[32m   (...)\u001B[39m\u001B[32m    279\u001B[39m \u001B[33;03m  NotImplementedError: if the type of obj is not handled.\u001B[39;00m\n\u001B[32m    280\u001B[39m \u001B[33;03m\"\"\"\u001B[39;00m\n\u001B[32m    281\u001B[39m \u001B[38;5;28;01mif\u001B[39;00m inspect.isfunction(obj) \u001B[38;5;129;01mor\u001B[39;00m inspect.ismethod(obj):\n\u001B[32m--> \u001B[39m\u001B[32m282\u001B[39m   \u001B[38;5;28;01mreturn\u001B[39;00m \u001B[38;5;28;43mself\u001B[39;49m\u001B[43m.\u001B[49m\u001B[43mtransform_function\u001B[49m\u001B[43m(\u001B[49m\u001B[43mobj\u001B[49m\u001B[43m,\u001B[49m\u001B[43m \u001B[49m\u001B[43muser_context\u001B[49m\u001B[43m)\u001B[49m\n\u001B[32m    284\u001B[39m \u001B[38;5;28;01mraise\u001B[39;00m \u001B[38;5;167;01mNotImplementedError\u001B[39;00m(\u001B[33m'\u001B[39m\u001B[33mNon-function: \u001B[39m\u001B[38;5;132;01m{}\u001B[39;00m\u001B[33m'\u001B[39m.format(\u001B[38;5;28mtype\u001B[39m(obj)))\n",
      "\u001B[36mFile \u001B[39m\u001B[32m~\\OneDrive\\Desktop\\Delft\\Y3\\NeSy-vs-Backdoors\\.venv\\Lib\\site-packages\\tensorflow\\python\\autograph\\pyct\\transpiler.py:487\u001B[39m, in \u001B[36mPyToPy.transform_function\u001B[39m\u001B[34m(self, fn, user_context)\u001B[39m\n\u001B[32m    483\u001B[39m         logging.log(\u001B[32m2\u001B[39m, \u001B[33m'\u001B[39m\u001B[33mTransformed \u001B[39m\u001B[38;5;132;01m%s\u001B[39;00m\u001B[33m:\u001B[39m\u001B[38;5;130;01m\\n\u001B[39;00m\u001B[38;5;130;01m\\n\u001B[39;00m\u001B[38;5;132;01m%s\u001B[39;00m\u001B[38;5;130;01m\\n\u001B[39;00m\u001B[33m'\u001B[39m, fn, parser.unparse(nodes))\n\u001B[32m    485\u001B[39m       factory = _PythonFnFactory(\n\u001B[32m    486\u001B[39m           ctx.info.name, fn.\u001B[34m__code__\u001B[39m.co_freevars, \u001B[38;5;28mself\u001B[39m.get_extra_locals())\n\u001B[32m--> \u001B[39m\u001B[32m487\u001B[39m       \u001B[43mfactory\u001B[49m\u001B[43m.\u001B[49m\u001B[43mcreate\u001B[49m\u001B[43m(\u001B[49m\n\u001B[32m    488\u001B[39m \u001B[43m          \u001B[49m\u001B[43mnodes\u001B[49m\u001B[43m,\u001B[49m\u001B[43m \u001B[49m\u001B[43mctx\u001B[49m\u001B[43m.\u001B[49m\u001B[43mnamer\u001B[49m\u001B[43m,\u001B[49m\u001B[43m \u001B[49m\u001B[43mfuture_features\u001B[49m\u001B[43m=\u001B[49m\u001B[43mctx\u001B[49m\u001B[43m.\u001B[49m\u001B[43minfo\u001B[49m\u001B[43m.\u001B[49m\u001B[43mfuture_features\u001B[49m\u001B[43m)\u001B[49m\n\u001B[32m    489\u001B[39m       \u001B[38;5;28mself\u001B[39m._cache[fn][cache_subkey] = factory\n\u001B[32m    491\u001B[39m transformed_fn = factory.instantiate(\n\u001B[32m    492\u001B[39m     globals_=fn.\u001B[34m__globals__\u001B[39m,\n\u001B[32m    493\u001B[39m     closure=fn.\u001B[34m__closure__\u001B[39m \u001B[38;5;129;01mor\u001B[39;00m (),\n\u001B[32m    494\u001B[39m     defaults=fn.\u001B[34m__defaults__\u001B[39m,\n\u001B[32m    495\u001B[39m     kwdefaults=\u001B[38;5;28mgetattr\u001B[39m(fn, \u001B[33m'\u001B[39m\u001B[33m__kwdefaults__\u001B[39m\u001B[33m'\u001B[39m, \u001B[38;5;28;01mNone\u001B[39;00m))\n",
      "\u001B[36mFile \u001B[39m\u001B[32m~\\OneDrive\\Desktop\\Delft\\Y3\\NeSy-vs-Backdoors\\.venv\\Lib\\site-packages\\tensorflow\\python\\autograph\\pyct\\transpiler.py:179\u001B[39m, in \u001B[36m_PythonFnFactory.create\u001B[39m\u001B[34m(self, nodes, namer, inner_factory_name, outer_factory_name, future_features)\u001B[39m\n\u001B[32m    174\u001B[39m outer_factory_name = namer.new_symbol(outer_factory_name, ())\n\u001B[32m    175\u001B[39m nodes = _wrap_into_factory(nodes, \u001B[38;5;28mself\u001B[39m._name, inner_factory_name,\n\u001B[32m    176\u001B[39m                            outer_factory_name, \u001B[38;5;28mself\u001B[39m._freevars,\n\u001B[32m    177\u001B[39m                            \u001B[38;5;28mself\u001B[39m._extra_locals.keys(), future_features)\n\u001B[32m--> \u001B[39m\u001B[32m179\u001B[39m module, _, source_map = \u001B[43mloader\u001B[49m\u001B[43m.\u001B[49m\u001B[43mload_ast\u001B[49m\u001B[43m(\u001B[49m\n\u001B[32m    180\u001B[39m \u001B[43m    \u001B[49m\u001B[43mnodes\u001B[49m\u001B[43m,\u001B[49m\u001B[43m \u001B[49m\u001B[43minclude_source_map\u001B[49m\u001B[43m=\u001B[49m\u001B[38;5;28;43;01mTrue\u001B[39;49;00m\u001B[43m)\u001B[49m\n\u001B[32m    181\u001B[39m outer_factory = \u001B[38;5;28mgetattr\u001B[39m(module, outer_factory_name)\n\u001B[32m    182\u001B[39m \u001B[38;5;28mself\u001B[39m._unbound_factory = outer_factory()\n",
      "\u001B[36mFile \u001B[39m\u001B[32m~\\OneDrive\\Desktop\\Delft\\Y3\\NeSy-vs-Backdoors\\.venv\\Lib\\site-packages\\tensorflow\\python\\autograph\\pyct\\loader.py:93\u001B[39m, in \u001B[36mload_ast\u001B[39m\u001B[34m(nodes, indentation, include_source_map, delete_on_exit)\u001B[39m\n\u001B[32m     90\u001B[39m \u001B[38;5;28;01mif\u001B[39;00m \u001B[38;5;129;01mnot\u001B[39;00m \u001B[38;5;28misinstance\u001B[39m(nodes, (\u001B[38;5;28mlist\u001B[39m, \u001B[38;5;28mtuple\u001B[39m)):\n\u001B[32m     91\u001B[39m   nodes = (nodes,)\n\u001B[32m---> \u001B[39m\u001B[32m93\u001B[39m source = \u001B[43mparser\u001B[49m\u001B[43m.\u001B[49m\u001B[43munparse\u001B[49m\u001B[43m(\u001B[49m\u001B[43mnodes\u001B[49m\u001B[43m,\u001B[49m\u001B[43m \u001B[49m\u001B[43mindentation\u001B[49m\u001B[43m=\u001B[49m\u001B[43mindentation\u001B[49m\u001B[43m)\u001B[49m\n\u001B[32m     94\u001B[39m module, _ = load_source(source, delete_on_exit)\n\u001B[32m     96\u001B[39m \u001B[38;5;28;01mif\u001B[39;00m include_source_map:\n",
      "\u001B[36mFile \u001B[39m\u001B[32m~\\OneDrive\\Desktop\\Delft\\Y3\\NeSy-vs-Backdoors\\.venv\\Lib\\site-packages\\tensorflow\\python\\autograph\\pyct\\parser.py:388\u001B[39m, in \u001B[36munparse\u001B[39m\u001B[34m(***failed resolving arguments***)\u001B[39m\n\u001B[32m    386\u001B[39m \u001B[38;5;28;01mfor\u001B[39;00m n \u001B[38;5;129;01min\u001B[39;00m node:\n\u001B[32m    387\u001B[39m   \u001B[38;5;28;01mif\u001B[39;00m \u001B[38;5;28misinstance\u001B[39m(n, gast.AST):\n\u001B[32m--> \u001B[39m\u001B[32m388\u001B[39m     ast_n = \u001B[43mgast\u001B[49m\u001B[43m.\u001B[49m\u001B[43mgast_to_ast\u001B[49m\u001B[43m(\u001B[49m\u001B[43mn\u001B[49m\u001B[43m)\u001B[49m\n\u001B[32m    389\u001B[39m   \u001B[38;5;28;01melse\u001B[39;00m:\n\u001B[32m    390\u001B[39m     ast_n = n\n",
      "\u001B[36mFile \u001B[39m\u001B[32m~\\OneDrive\\Desktop\\Delft\\Y3\\NeSy-vs-Backdoors\\.venv\\Lib\\site-packages\\gast\\ast3.py:514\u001B[39m, in \u001B[36mgast_to_ast\u001B[39m\u001B[34m(node)\u001B[39m\n\u001B[32m    513\u001B[39m \u001B[38;5;28;01mdef\u001B[39;00m\u001B[38;5;250m \u001B[39m\u001B[34mgast_to_ast\u001B[39m(node):\n\u001B[32m--> \u001B[39m\u001B[32m514\u001B[39m     \u001B[38;5;28;01mreturn\u001B[39;00m \u001B[43mGAstToAst3\u001B[49m\u001B[43m(\u001B[49m\u001B[43m)\u001B[49m\u001B[43m.\u001B[49m\u001B[43mvisit\u001B[49m\u001B[43m(\u001B[49m\u001B[43mnode\u001B[49m\u001B[43m)\u001B[49m\n",
      "\u001B[36mFile \u001B[39m\u001B[32m~\\AppData\\Local\\Programs\\Python\\Python312\\Lib\\ast.py:407\u001B[39m, in \u001B[36mNodeVisitor.visit\u001B[39m\u001B[34m(self, node)\u001B[39m\n\u001B[32m    405\u001B[39m method = \u001B[33m'\u001B[39m\u001B[33mvisit_\u001B[39m\u001B[33m'\u001B[39m + node.\u001B[34m__class__\u001B[39m.\u001B[34m__name__\u001B[39m\n\u001B[32m    406\u001B[39m visitor = \u001B[38;5;28mgetattr\u001B[39m(\u001B[38;5;28mself\u001B[39m, method, \u001B[38;5;28mself\u001B[39m.generic_visit)\n\u001B[32m--> \u001B[39m\u001B[32m407\u001B[39m \u001B[38;5;28;01mreturn\u001B[39;00m \u001B[43mvisitor\u001B[49m\u001B[43m(\u001B[49m\u001B[43mnode\u001B[49m\u001B[43m)\u001B[49m\n",
      "\u001B[36mFile \u001B[39m\u001B[32m~\\OneDrive\\Desktop\\Delft\\Y3\\NeSy-vs-Backdoors\\.venv\\Lib\\site-packages\\gast\\astn.py:26\u001B[39m, in \u001B[36m_generate_translators.<locals>.Translator.generic_visit\u001B[39m\u001B[34m(self, node)\u001B[39m\n\u001B[32m     23\u001B[39m     \u001B[38;5;28;01mreturn\u001B[39;00m\n\u001B[32m     25\u001B[39m \u001B[38;5;28;01mfor\u001B[39;00m field \u001B[38;5;129;01min\u001B[39;00m node._fields:\n\u001B[32m---> \u001B[39m\u001B[32m26\u001B[39m     \u001B[38;5;28msetattr\u001B[39m(new_node, field, \u001B[38;5;28;43mself\u001B[39;49m\u001B[43m.\u001B[49m\u001B[43m_visit\u001B[49m\u001B[43m(\u001B[49m\u001B[38;5;28;43mgetattr\u001B[39;49m\u001B[43m(\u001B[49m\u001B[43mnode\u001B[49m\u001B[43m,\u001B[49m\u001B[43m \u001B[49m\u001B[43mfield\u001B[49m\u001B[43m)\u001B[49m\u001B[43m)\u001B[49m)\n\u001B[32m     28\u001B[39m \u001B[38;5;28;01mfor\u001B[39;00m attr \u001B[38;5;129;01min\u001B[39;00m node._attributes:\n\u001B[32m     29\u001B[39m     \u001B[38;5;28;01mtry\u001B[39;00m:\n",
      "\u001B[36mFile \u001B[39m\u001B[32m~\\OneDrive\\Desktop\\Delft\\Y3\\NeSy-vs-Backdoors\\.venv\\Lib\\site-packages\\gast\\astn.py:13\u001B[39m, in \u001B[36m_generate_translators.<locals>.Translator._visit\u001B[39m\u001B[34m(self, node)\u001B[39m\n\u001B[32m     11\u001B[39m     \u001B[38;5;28;01mreturn\u001B[39;00m \u001B[38;5;28mself\u001B[39m.visit(node)\n\u001B[32m     12\u001B[39m \u001B[38;5;28;01melif\u001B[39;00m \u001B[38;5;28misinstance\u001B[39m(node, \u001B[38;5;28mlist\u001B[39m):\n\u001B[32m---> \u001B[39m\u001B[32m13\u001B[39m     \u001B[38;5;28;01mreturn\u001B[39;00m [\u001B[38;5;28;43mself\u001B[39;49m\u001B[43m.\u001B[49m\u001B[43m_visit\u001B[49m\u001B[43m(\u001B[49m\u001B[43mn\u001B[49m\u001B[43m)\u001B[49m \u001B[38;5;28;01mfor\u001B[39;00m n \u001B[38;5;129;01min\u001B[39;00m node]\n\u001B[32m     14\u001B[39m \u001B[38;5;28;01melse\u001B[39;00m:\n\u001B[32m     15\u001B[39m     \u001B[38;5;28;01mreturn\u001B[39;00m node\n",
      "\u001B[36mFile \u001B[39m\u001B[32m~\\OneDrive\\Desktop\\Delft\\Y3\\NeSy-vs-Backdoors\\.venv\\Lib\\site-packages\\gast\\astn.py:11\u001B[39m, in \u001B[36m_generate_translators.<locals>.Translator._visit\u001B[39m\u001B[34m(self, node)\u001B[39m\n\u001B[32m      9\u001B[39m \u001B[38;5;28;01mdef\u001B[39;00m\u001B[38;5;250m \u001B[39m\u001B[34m_visit\u001B[39m(\u001B[38;5;28mself\u001B[39m, node):\n\u001B[32m     10\u001B[39m     \u001B[38;5;28;01mif\u001B[39;00m \u001B[38;5;28misinstance\u001B[39m(node, ast.AST):\n\u001B[32m---> \u001B[39m\u001B[32m11\u001B[39m         \u001B[38;5;28;01mreturn\u001B[39;00m \u001B[38;5;28;43mself\u001B[39;49m\u001B[43m.\u001B[49m\u001B[43mvisit\u001B[49m\u001B[43m(\u001B[49m\u001B[43mnode\u001B[49m\u001B[43m)\u001B[49m\n\u001B[32m     12\u001B[39m     \u001B[38;5;28;01melif\u001B[39;00m \u001B[38;5;28misinstance\u001B[39m(node, \u001B[38;5;28mlist\u001B[39m):\n\u001B[32m     13\u001B[39m         \u001B[38;5;28;01mreturn\u001B[39;00m [\u001B[38;5;28mself\u001B[39m._visit(n) \u001B[38;5;28;01mfor\u001B[39;00m n \u001B[38;5;129;01min\u001B[39;00m node]\n",
      "\u001B[36mFile \u001B[39m\u001B[32m~\\AppData\\Local\\Programs\\Python\\Python312\\Lib\\ast.py:407\u001B[39m, in \u001B[36mNodeVisitor.visit\u001B[39m\u001B[34m(self, node)\u001B[39m\n\u001B[32m    405\u001B[39m method = \u001B[33m'\u001B[39m\u001B[33mvisit_\u001B[39m\u001B[33m'\u001B[39m + node.\u001B[34m__class__\u001B[39m.\u001B[34m__name__\u001B[39m\n\u001B[32m    406\u001B[39m visitor = \u001B[38;5;28mgetattr\u001B[39m(\u001B[38;5;28mself\u001B[39m, method, \u001B[38;5;28mself\u001B[39m.generic_visit)\n\u001B[32m--> \u001B[39m\u001B[32m407\u001B[39m \u001B[38;5;28;01mreturn\u001B[39;00m \u001B[43mvisitor\u001B[49m\u001B[43m(\u001B[49m\u001B[43mnode\u001B[49m\u001B[43m)\u001B[49m\n",
      "\u001B[36mFile \u001B[39m\u001B[32m~\\OneDrive\\Desktop\\Delft\\Y3\\NeSy-vs-Backdoors\\.venv\\Lib\\site-packages\\gast\\astn.py:26\u001B[39m, in \u001B[36m_generate_translators.<locals>.Translator.generic_visit\u001B[39m\u001B[34m(self, node)\u001B[39m\n\u001B[32m     23\u001B[39m     \u001B[38;5;28;01mreturn\u001B[39;00m\n\u001B[32m     25\u001B[39m \u001B[38;5;28;01mfor\u001B[39;00m field \u001B[38;5;129;01min\u001B[39;00m node._fields:\n\u001B[32m---> \u001B[39m\u001B[32m26\u001B[39m     \u001B[38;5;28msetattr\u001B[39m(new_node, field, \u001B[38;5;28;43mself\u001B[39;49m\u001B[43m.\u001B[49m\u001B[43m_visit\u001B[49m\u001B[43m(\u001B[49m\u001B[38;5;28;43mgetattr\u001B[39;49m\u001B[43m(\u001B[49m\u001B[43mnode\u001B[49m\u001B[43m,\u001B[49m\u001B[43m \u001B[49m\u001B[43mfield\u001B[49m\u001B[43m)\u001B[49m\u001B[43m)\u001B[49m)\n\u001B[32m     28\u001B[39m \u001B[38;5;28;01mfor\u001B[39;00m attr \u001B[38;5;129;01min\u001B[39;00m node._attributes:\n\u001B[32m     29\u001B[39m     \u001B[38;5;28;01mtry\u001B[39;00m:\n",
      "\u001B[36mFile \u001B[39m\u001B[32m~\\OneDrive\\Desktop\\Delft\\Y3\\NeSy-vs-Backdoors\\.venv\\Lib\\site-packages\\gast\\astn.py:13\u001B[39m, in \u001B[36m_generate_translators.<locals>.Translator._visit\u001B[39m\u001B[34m(self, node)\u001B[39m\n\u001B[32m     11\u001B[39m     \u001B[38;5;28;01mreturn\u001B[39;00m \u001B[38;5;28mself\u001B[39m.visit(node)\n\u001B[32m     12\u001B[39m \u001B[38;5;28;01melif\u001B[39;00m \u001B[38;5;28misinstance\u001B[39m(node, \u001B[38;5;28mlist\u001B[39m):\n\u001B[32m---> \u001B[39m\u001B[32m13\u001B[39m     \u001B[38;5;28;01mreturn\u001B[39;00m [\u001B[38;5;28;43mself\u001B[39;49m\u001B[43m.\u001B[49m\u001B[43m_visit\u001B[49m\u001B[43m(\u001B[49m\u001B[43mn\u001B[49m\u001B[43m)\u001B[49m \u001B[38;5;28;01mfor\u001B[39;00m n \u001B[38;5;129;01min\u001B[39;00m node]\n\u001B[32m     14\u001B[39m \u001B[38;5;28;01melse\u001B[39;00m:\n\u001B[32m     15\u001B[39m     \u001B[38;5;28;01mreturn\u001B[39;00m node\n",
      "\u001B[36mFile \u001B[39m\u001B[32m~\\OneDrive\\Desktop\\Delft\\Y3\\NeSy-vs-Backdoors\\.venv\\Lib\\site-packages\\gast\\astn.py:11\u001B[39m, in \u001B[36m_generate_translators.<locals>.Translator._visit\u001B[39m\u001B[34m(self, node)\u001B[39m\n\u001B[32m      9\u001B[39m \u001B[38;5;28;01mdef\u001B[39;00m\u001B[38;5;250m \u001B[39m\u001B[34m_visit\u001B[39m(\u001B[38;5;28mself\u001B[39m, node):\n\u001B[32m     10\u001B[39m     \u001B[38;5;28;01mif\u001B[39;00m \u001B[38;5;28misinstance\u001B[39m(node, ast.AST):\n\u001B[32m---> \u001B[39m\u001B[32m11\u001B[39m         \u001B[38;5;28;01mreturn\u001B[39;00m \u001B[38;5;28;43mself\u001B[39;49m\u001B[43m.\u001B[49m\u001B[43mvisit\u001B[49m\u001B[43m(\u001B[49m\u001B[43mnode\u001B[49m\u001B[43m)\u001B[49m\n\u001B[32m     12\u001B[39m     \u001B[38;5;28;01melif\u001B[39;00m \u001B[38;5;28misinstance\u001B[39m(node, \u001B[38;5;28mlist\u001B[39m):\n\u001B[32m     13\u001B[39m         \u001B[38;5;28;01mreturn\u001B[39;00m [\u001B[38;5;28mself\u001B[39m._visit(n) \u001B[38;5;28;01mfor\u001B[39;00m n \u001B[38;5;129;01min\u001B[39;00m node]\n",
      "    \u001B[31m[... skipping similar frames: NodeVisitor.visit at line 407 (3 times), _generate_translators.<locals>.Translator._visit at line 13 (2 times), _generate_translators.<locals>.Translator._visit at line 11 (2 times), _generate_translators.<locals>.Translator.generic_visit at line 26 (2 times)]\u001B[39m\n",
      "\u001B[36mFile \u001B[39m\u001B[32m~\\OneDrive\\Desktop\\Delft\\Y3\\NeSy-vs-Backdoors\\.venv\\Lib\\site-packages\\gast\\astn.py:26\u001B[39m, in \u001B[36m_generate_translators.<locals>.Translator.generic_visit\u001B[39m\u001B[34m(self, node)\u001B[39m\n\u001B[32m     23\u001B[39m     \u001B[38;5;28;01mreturn\u001B[39;00m\n\u001B[32m     25\u001B[39m \u001B[38;5;28;01mfor\u001B[39;00m field \u001B[38;5;129;01min\u001B[39;00m node._fields:\n\u001B[32m---> \u001B[39m\u001B[32m26\u001B[39m     \u001B[38;5;28msetattr\u001B[39m(new_node, field, \u001B[38;5;28;43mself\u001B[39;49m\u001B[43m.\u001B[49m\u001B[43m_visit\u001B[49m\u001B[43m(\u001B[49m\u001B[38;5;28;43mgetattr\u001B[39;49m\u001B[43m(\u001B[49m\u001B[43mnode\u001B[49m\u001B[43m,\u001B[49m\u001B[43m \u001B[49m\u001B[43mfield\u001B[49m\u001B[43m)\u001B[49m\u001B[43m)\u001B[49m)\n\u001B[32m     28\u001B[39m \u001B[38;5;28;01mfor\u001B[39;00m attr \u001B[38;5;129;01min\u001B[39;00m node._attributes:\n\u001B[32m     29\u001B[39m     \u001B[38;5;28;01mtry\u001B[39;00m:\n",
      "\u001B[36mFile \u001B[39m\u001B[32m~\\OneDrive\\Desktop\\Delft\\Y3\\NeSy-vs-Backdoors\\.venv\\Lib\\site-packages\\gast\\astn.py:13\u001B[39m, in \u001B[36m_generate_translators.<locals>.Translator._visit\u001B[39m\u001B[34m(self, node)\u001B[39m\n\u001B[32m     11\u001B[39m     \u001B[38;5;28;01mreturn\u001B[39;00m \u001B[38;5;28mself\u001B[39m.visit(node)\n\u001B[32m     12\u001B[39m \u001B[38;5;28;01melif\u001B[39;00m \u001B[38;5;28misinstance\u001B[39m(node, \u001B[38;5;28mlist\u001B[39m):\n\u001B[32m---> \u001B[39m\u001B[32m13\u001B[39m     \u001B[38;5;28;01mreturn\u001B[39;00m [\u001B[38;5;28;43mself\u001B[39;49m\u001B[43m.\u001B[49m\u001B[43m_visit\u001B[49m\u001B[43m(\u001B[49m\u001B[43mn\u001B[49m\u001B[43m)\u001B[49m \u001B[38;5;28;01mfor\u001B[39;00m n \u001B[38;5;129;01min\u001B[39;00m node]\n\u001B[32m     14\u001B[39m \u001B[38;5;28;01melse\u001B[39;00m:\n\u001B[32m     15\u001B[39m     \u001B[38;5;28;01mreturn\u001B[39;00m node\n",
      "\u001B[36mFile \u001B[39m\u001B[32m~\\OneDrive\\Desktop\\Delft\\Y3\\NeSy-vs-Backdoors\\.venv\\Lib\\site-packages\\gast\\astn.py:11\u001B[39m, in \u001B[36m_generate_translators.<locals>.Translator._visit\u001B[39m\u001B[34m(self, node)\u001B[39m\n\u001B[32m      9\u001B[39m \u001B[38;5;28;01mdef\u001B[39;00m\u001B[38;5;250m \u001B[39m\u001B[34m_visit\u001B[39m(\u001B[38;5;28mself\u001B[39m, node):\n\u001B[32m     10\u001B[39m     \u001B[38;5;28;01mif\u001B[39;00m \u001B[38;5;28misinstance\u001B[39m(node, ast.AST):\n\u001B[32m---> \u001B[39m\u001B[32m11\u001B[39m         \u001B[38;5;28;01mreturn\u001B[39;00m \u001B[38;5;28;43mself\u001B[39;49m\u001B[43m.\u001B[49m\u001B[43mvisit\u001B[49m\u001B[43m(\u001B[49m\u001B[43mnode\u001B[49m\u001B[43m)\u001B[49m\n\u001B[32m     12\u001B[39m     \u001B[38;5;28;01melif\u001B[39;00m \u001B[38;5;28misinstance\u001B[39m(node, \u001B[38;5;28mlist\u001B[39m):\n\u001B[32m     13\u001B[39m         \u001B[38;5;28;01mreturn\u001B[39;00m [\u001B[38;5;28mself\u001B[39m._visit(n) \u001B[38;5;28;01mfor\u001B[39;00m n \u001B[38;5;129;01min\u001B[39;00m node]\n",
      "\u001B[36mFile \u001B[39m\u001B[32m~\\AppData\\Local\\Programs\\Python\\Python312\\Lib\\ast.py:407\u001B[39m, in \u001B[36mNodeVisitor.visit\u001B[39m\u001B[34m(self, node)\u001B[39m\n\u001B[32m    405\u001B[39m method = \u001B[33m'\u001B[39m\u001B[33mvisit_\u001B[39m\u001B[33m'\u001B[39m + node.\u001B[34m__class__\u001B[39m.\u001B[34m__name__\u001B[39m\n\u001B[32m    406\u001B[39m visitor = \u001B[38;5;28mgetattr\u001B[39m(\u001B[38;5;28mself\u001B[39m, method, \u001B[38;5;28mself\u001B[39m.generic_visit)\n\u001B[32m--> \u001B[39m\u001B[32m407\u001B[39m \u001B[38;5;28;01mreturn\u001B[39;00m \u001B[43mvisitor\u001B[49m\u001B[43m(\u001B[49m\u001B[43mnode\u001B[49m\u001B[43m)\u001B[49m\n",
      "\u001B[36mFile \u001B[39m\u001B[32m~\\OneDrive\\Desktop\\Delft\\Y3\\NeSy-vs-Backdoors\\.venv\\Lib\\site-packages\\gast\\ast3.py:293\u001B[39m, in \u001B[36mGAstToAst3.visit_Assign\u001B[39m\u001B[34m(self, node)\u001B[39m\n\u001B[32m    290\u001B[39m \u001B[38;5;28;01mdef\u001B[39;00m\u001B[38;5;250m \u001B[39m\u001B[34mvisit_Assign\u001B[39m(\u001B[38;5;28mself\u001B[39m, node):\n\u001B[32m    291\u001B[39m     new_node = ast.Assign(\n\u001B[32m    292\u001B[39m         \u001B[38;5;28mself\u001B[39m._visit(node.targets),\n\u001B[32m--> \u001B[39m\u001B[32m293\u001B[39m         \u001B[38;5;28;43mself\u001B[39;49m\u001B[43m.\u001B[49m\u001B[43m_visit\u001B[49m\u001B[43m(\u001B[49m\u001B[43mnode\u001B[49m\u001B[43m.\u001B[49m\u001B[43mvalue\u001B[49m\u001B[43m)\u001B[49m,\n\u001B[32m    294\u001B[39m     )\n\u001B[32m    296\u001B[39m     \u001B[38;5;28;01mreturn\u001B[39;00m ast.copy_location(new_node, node)\n",
      "\u001B[36mFile \u001B[39m\u001B[32m~\\OneDrive\\Desktop\\Delft\\Y3\\NeSy-vs-Backdoors\\.venv\\Lib\\site-packages\\gast\\astn.py:11\u001B[39m, in \u001B[36m_generate_translators.<locals>.Translator._visit\u001B[39m\u001B[34m(self, node)\u001B[39m\n\u001B[32m      9\u001B[39m \u001B[38;5;28;01mdef\u001B[39;00m\u001B[38;5;250m \u001B[39m\u001B[34m_visit\u001B[39m(\u001B[38;5;28mself\u001B[39m, node):\n\u001B[32m     10\u001B[39m     \u001B[38;5;28;01mif\u001B[39;00m \u001B[38;5;28misinstance\u001B[39m(node, ast.AST):\n\u001B[32m---> \u001B[39m\u001B[32m11\u001B[39m         \u001B[38;5;28;01mreturn\u001B[39;00m \u001B[38;5;28;43mself\u001B[39;49m\u001B[43m.\u001B[49m\u001B[43mvisit\u001B[49m\u001B[43m(\u001B[49m\u001B[43mnode\u001B[49m\u001B[43m)\u001B[49m\n\u001B[32m     12\u001B[39m     \u001B[38;5;28;01melif\u001B[39;00m \u001B[38;5;28misinstance\u001B[39m(node, \u001B[38;5;28mlist\u001B[39m):\n\u001B[32m     13\u001B[39m         \u001B[38;5;28;01mreturn\u001B[39;00m [\u001B[38;5;28mself\u001B[39m._visit(n) \u001B[38;5;28;01mfor\u001B[39;00m n \u001B[38;5;129;01min\u001B[39;00m node]\n",
      "\u001B[36mFile \u001B[39m\u001B[32m~\\AppData\\Local\\Programs\\Python\\Python312\\Lib\\ast.py:407\u001B[39m, in \u001B[36mNodeVisitor.visit\u001B[39m\u001B[34m(self, node)\u001B[39m\n\u001B[32m    405\u001B[39m method = \u001B[33m'\u001B[39m\u001B[33mvisit_\u001B[39m\u001B[33m'\u001B[39m + node.\u001B[34m__class__\u001B[39m.\u001B[34m__name__\u001B[39m\n\u001B[32m    406\u001B[39m visitor = \u001B[38;5;28mgetattr\u001B[39m(\u001B[38;5;28mself\u001B[39m, method, \u001B[38;5;28mself\u001B[39m.generic_visit)\n\u001B[32m--> \u001B[39m\u001B[32m407\u001B[39m \u001B[38;5;28;01mreturn\u001B[39;00m \u001B[43mvisitor\u001B[49m\u001B[43m(\u001B[49m\u001B[43mnode\u001B[49m\u001B[43m)\u001B[49m\n",
      "\u001B[36mFile \u001B[39m\u001B[32m~\\OneDrive\\Desktop\\Delft\\Y3\\NeSy-vs-Backdoors\\.venv\\Lib\\site-packages\\gast\\astn.py:26\u001B[39m, in \u001B[36m_generate_translators.<locals>.Translator.generic_visit\u001B[39m\u001B[34m(self, node)\u001B[39m\n\u001B[32m     23\u001B[39m     \u001B[38;5;28;01mreturn\u001B[39;00m\n\u001B[32m     25\u001B[39m \u001B[38;5;28;01mfor\u001B[39;00m field \u001B[38;5;129;01min\u001B[39;00m node._fields:\n\u001B[32m---> \u001B[39m\u001B[32m26\u001B[39m     \u001B[38;5;28msetattr\u001B[39m(new_node, field, \u001B[38;5;28;43mself\u001B[39;49m\u001B[43m.\u001B[49m\u001B[43m_visit\u001B[49m\u001B[43m(\u001B[49m\u001B[38;5;28;43mgetattr\u001B[39;49m\u001B[43m(\u001B[49m\u001B[43mnode\u001B[49m\u001B[43m,\u001B[49m\u001B[43m \u001B[49m\u001B[43mfield\u001B[49m\u001B[43m)\u001B[49m\u001B[43m)\u001B[49m)\n\u001B[32m     28\u001B[39m \u001B[38;5;28;01mfor\u001B[39;00m attr \u001B[38;5;129;01min\u001B[39;00m node._attributes:\n\u001B[32m     29\u001B[39m     \u001B[38;5;28;01mtry\u001B[39;00m:\n",
      "\u001B[36mFile \u001B[39m\u001B[32m~\\OneDrive\\Desktop\\Delft\\Y3\\NeSy-vs-Backdoors\\.venv\\Lib\\site-packages\\gast\\astn.py:11\u001B[39m, in \u001B[36m_generate_translators.<locals>.Translator._visit\u001B[39m\u001B[34m(self, node)\u001B[39m\n\u001B[32m      9\u001B[39m \u001B[38;5;28;01mdef\u001B[39;00m\u001B[38;5;250m \u001B[39m\u001B[34m_visit\u001B[39m(\u001B[38;5;28mself\u001B[39m, node):\n\u001B[32m     10\u001B[39m     \u001B[38;5;28;01mif\u001B[39;00m \u001B[38;5;28misinstance\u001B[39m(node, ast.AST):\n\u001B[32m---> \u001B[39m\u001B[32m11\u001B[39m         \u001B[38;5;28;01mreturn\u001B[39;00m \u001B[38;5;28;43mself\u001B[39;49m\u001B[43m.\u001B[49m\u001B[43mvisit\u001B[49m\u001B[43m(\u001B[49m\u001B[43mnode\u001B[49m\u001B[43m)\u001B[49m\n\u001B[32m     12\u001B[39m     \u001B[38;5;28;01melif\u001B[39;00m \u001B[38;5;28misinstance\u001B[39m(node, \u001B[38;5;28mlist\u001B[39m):\n\u001B[32m     13\u001B[39m         \u001B[38;5;28;01mreturn\u001B[39;00m [\u001B[38;5;28mself\u001B[39m._visit(n) \u001B[38;5;28;01mfor\u001B[39;00m n \u001B[38;5;129;01min\u001B[39;00m node]\n",
      "\u001B[36mFile \u001B[39m\u001B[32m~\\AppData\\Local\\Programs\\Python\\Python312\\Lib\\ast.py:407\u001B[39m, in \u001B[36mNodeVisitor.visit\u001B[39m\u001B[34m(self, node)\u001B[39m\n\u001B[32m    405\u001B[39m method = \u001B[33m'\u001B[39m\u001B[33mvisit_\u001B[39m\u001B[33m'\u001B[39m + node.\u001B[34m__class__\u001B[39m.\u001B[34m__name__\u001B[39m\n\u001B[32m    406\u001B[39m visitor = \u001B[38;5;28mgetattr\u001B[39m(\u001B[38;5;28mself\u001B[39m, method, \u001B[38;5;28mself\u001B[39m.generic_visit)\n\u001B[32m--> \u001B[39m\u001B[32m407\u001B[39m \u001B[38;5;28;01mreturn\u001B[39;00m \u001B[43mvisitor\u001B[49m\u001B[43m(\u001B[49m\u001B[43mnode\u001B[49m\u001B[43m)\u001B[49m\n",
      "\u001B[36mFile \u001B[39m\u001B[32m~\\OneDrive\\Desktop\\Delft\\Y3\\NeSy-vs-Backdoors\\.venv\\Lib\\site-packages\\gast\\astn.py:26\u001B[39m, in \u001B[36m_generate_translators.<locals>.Translator.generic_visit\u001B[39m\u001B[34m(self, node)\u001B[39m\n\u001B[32m     23\u001B[39m     \u001B[38;5;28;01mreturn\u001B[39;00m\n\u001B[32m     25\u001B[39m \u001B[38;5;28;01mfor\u001B[39;00m field \u001B[38;5;129;01min\u001B[39;00m node._fields:\n\u001B[32m---> \u001B[39m\u001B[32m26\u001B[39m     \u001B[38;5;28msetattr\u001B[39m(new_node, field, \u001B[38;5;28;43mself\u001B[39;49m\u001B[43m.\u001B[49m\u001B[43m_visit\u001B[49m\u001B[43m(\u001B[49m\u001B[38;5;28;43mgetattr\u001B[39;49m\u001B[43m(\u001B[49m\u001B[43mnode\u001B[49m\u001B[43m,\u001B[49m\u001B[43m \u001B[49m\u001B[43mfield\u001B[49m\u001B[43m)\u001B[49m\u001B[43m)\u001B[49m)\n\u001B[32m     28\u001B[39m \u001B[38;5;28;01mfor\u001B[39;00m attr \u001B[38;5;129;01min\u001B[39;00m node._attributes:\n\u001B[32m     29\u001B[39m     \u001B[38;5;28;01mtry\u001B[39;00m:\n",
      "\u001B[36mFile \u001B[39m\u001B[32m~\\OneDrive\\Desktop\\Delft\\Y3\\NeSy-vs-Backdoors\\.venv\\Lib\\site-packages\\gast\\astn.py:13\u001B[39m, in \u001B[36m_generate_translators.<locals>.Translator._visit\u001B[39m\u001B[34m(self, node)\u001B[39m\n\u001B[32m     11\u001B[39m     \u001B[38;5;28;01mreturn\u001B[39;00m \u001B[38;5;28mself\u001B[39m.visit(node)\n\u001B[32m     12\u001B[39m \u001B[38;5;28;01melif\u001B[39;00m \u001B[38;5;28misinstance\u001B[39m(node, \u001B[38;5;28mlist\u001B[39m):\n\u001B[32m---> \u001B[39m\u001B[32m13\u001B[39m     \u001B[38;5;28;01mreturn\u001B[39;00m [\u001B[38;5;28;43mself\u001B[39;49m\u001B[43m.\u001B[49m\u001B[43m_visit\u001B[49m\u001B[43m(\u001B[49m\u001B[43mn\u001B[49m\u001B[43m)\u001B[49m \u001B[38;5;28;01mfor\u001B[39;00m n \u001B[38;5;129;01min\u001B[39;00m node]\n\u001B[32m     14\u001B[39m \u001B[38;5;28;01melse\u001B[39;00m:\n\u001B[32m     15\u001B[39m     \u001B[38;5;28;01mreturn\u001B[39;00m node\n",
      "    \u001B[31m[... skipping similar frames: _generate_translators.<locals>.Translator._visit at line 11 (1 times), _generate_translators.<locals>.Translator.generic_visit at line 26 (1 times), NodeVisitor.visit at line 407 (1 times)]\u001B[39m\n",
      "\u001B[36mFile \u001B[39m\u001B[32m~\\OneDrive\\Desktop\\Delft\\Y3\\NeSy-vs-Backdoors\\.venv\\Lib\\site-packages\\gast\\astn.py:13\u001B[39m, in \u001B[36m_generate_translators.<locals>.Translator._visit\u001B[39m\u001B[34m(self, node)\u001B[39m\n\u001B[32m     11\u001B[39m     \u001B[38;5;28;01mreturn\u001B[39;00m \u001B[38;5;28mself\u001B[39m.visit(node)\n\u001B[32m     12\u001B[39m \u001B[38;5;28;01melif\u001B[39;00m \u001B[38;5;28misinstance\u001B[39m(node, \u001B[38;5;28mlist\u001B[39m):\n\u001B[32m---> \u001B[39m\u001B[32m13\u001B[39m     \u001B[38;5;28;01mreturn\u001B[39;00m [\u001B[38;5;28;43mself\u001B[39;49m\u001B[43m.\u001B[49m\u001B[43m_visit\u001B[49m\u001B[43m(\u001B[49m\u001B[43mn\u001B[49m\u001B[43m)\u001B[49m \u001B[38;5;28;01mfor\u001B[39;00m n \u001B[38;5;129;01min\u001B[39;00m node]\n\u001B[32m     14\u001B[39m \u001B[38;5;28;01melse\u001B[39;00m:\n\u001B[32m     15\u001B[39m     \u001B[38;5;28;01mreturn\u001B[39;00m node\n",
      "    \u001B[31m[... skipping similar frames: _generate_translators.<locals>.Translator._visit at line 11 (3 times), NodeVisitor.visit at line 407 (3 times), _generate_translators.<locals>.Translator.generic_visit at line 26 (2 times)]\u001B[39m\n",
      "\u001B[36mFile \u001B[39m\u001B[32m~\\OneDrive\\Desktop\\Delft\\Y3\\NeSy-vs-Backdoors\\.venv\\Lib\\site-packages\\gast\\astn.py:26\u001B[39m, in \u001B[36m_generate_translators.<locals>.Translator.generic_visit\u001B[39m\u001B[34m(self, node)\u001B[39m\n\u001B[32m     23\u001B[39m     \u001B[38;5;28;01mreturn\u001B[39;00m\n\u001B[32m     25\u001B[39m \u001B[38;5;28;01mfor\u001B[39;00m field \u001B[38;5;129;01min\u001B[39;00m node._fields:\n\u001B[32m---> \u001B[39m\u001B[32m26\u001B[39m     \u001B[38;5;28msetattr\u001B[39m(new_node, field, \u001B[38;5;28;43mself\u001B[39;49m\u001B[43m.\u001B[49m\u001B[43m_visit\u001B[49m\u001B[43m(\u001B[49m\u001B[38;5;28;43mgetattr\u001B[39;49m\u001B[43m(\u001B[49m\u001B[43mnode\u001B[49m\u001B[43m,\u001B[49m\u001B[43m \u001B[49m\u001B[43mfield\u001B[49m\u001B[43m)\u001B[49m\u001B[43m)\u001B[49m)\n\u001B[32m     28\u001B[39m \u001B[38;5;28;01mfor\u001B[39;00m attr \u001B[38;5;129;01min\u001B[39;00m node._attributes:\n\u001B[32m     29\u001B[39m     \u001B[38;5;28;01mtry\u001B[39;00m:\n",
      "\u001B[36mFile \u001B[39m\u001B[32m~\\OneDrive\\Desktop\\Delft\\Y3\\NeSy-vs-Backdoors\\.venv\\Lib\\site-packages\\gast\\astn.py:11\u001B[39m, in \u001B[36m_generate_translators.<locals>.Translator._visit\u001B[39m\u001B[34m(self, node)\u001B[39m\n\u001B[32m      9\u001B[39m \u001B[38;5;28;01mdef\u001B[39;00m\u001B[38;5;250m \u001B[39m\u001B[34m_visit\u001B[39m(\u001B[38;5;28mself\u001B[39m, node):\n\u001B[32m     10\u001B[39m     \u001B[38;5;28;01mif\u001B[39;00m \u001B[38;5;28misinstance\u001B[39m(node, ast.AST):\n\u001B[32m---> \u001B[39m\u001B[32m11\u001B[39m         \u001B[38;5;28;01mreturn\u001B[39;00m \u001B[38;5;28;43mself\u001B[39;49m\u001B[43m.\u001B[49m\u001B[43mvisit\u001B[49m\u001B[43m(\u001B[49m\u001B[43mnode\u001B[49m\u001B[43m)\u001B[49m\n\u001B[32m     12\u001B[39m     \u001B[38;5;28;01melif\u001B[39;00m \u001B[38;5;28misinstance\u001B[39m(node, \u001B[38;5;28mlist\u001B[39m):\n\u001B[32m     13\u001B[39m         \u001B[38;5;28;01mreturn\u001B[39;00m [\u001B[38;5;28mself\u001B[39m._visit(n) \u001B[38;5;28;01mfor\u001B[39;00m n \u001B[38;5;129;01min\u001B[39;00m node]\n",
      "\u001B[36mFile \u001B[39m\u001B[32m~\\AppData\\Local\\Programs\\Python\\Python312\\Lib\\ast.py:407\u001B[39m, in \u001B[36mNodeVisitor.visit\u001B[39m\u001B[34m(self, node)\u001B[39m\n\u001B[32m    405\u001B[39m method = \u001B[33m'\u001B[39m\u001B[33mvisit_\u001B[39m\u001B[33m'\u001B[39m + node.\u001B[34m__class__\u001B[39m.\u001B[34m__name__\u001B[39m\n\u001B[32m    406\u001B[39m visitor = \u001B[38;5;28mgetattr\u001B[39m(\u001B[38;5;28mself\u001B[39m, method, \u001B[38;5;28mself\u001B[39m.generic_visit)\n\u001B[32m--> \u001B[39m\u001B[32m407\u001B[39m \u001B[38;5;28;01mreturn\u001B[39;00m \u001B[43mvisitor\u001B[49m\u001B[43m(\u001B[49m\u001B[43mnode\u001B[49m\u001B[43m)\u001B[49m\n",
      "\u001B[36mFile \u001B[39m\u001B[32m~\\OneDrive\\Desktop\\Delft\\Y3\\NeSy-vs-Backdoors\\.venv\\Lib\\site-packages\\gast\\ast3.py:340\u001B[39m, in \u001B[36mGAstToAst3.visit_Name\u001B[39m\u001B[34m(self, node)\u001B[39m\n\u001B[32m    335\u001B[39m \u001B[38;5;28;01mdef\u001B[39;00m\u001B[38;5;250m \u001B[39m\u001B[34mvisit_Name\u001B[39m(\u001B[38;5;28mself\u001B[39m, node):\n\u001B[32m    336\u001B[39m     new_node = ast.Name(\n\u001B[32m    337\u001B[39m         \u001B[38;5;28mself\u001B[39m._visit(node.id),\n\u001B[32m    338\u001B[39m         \u001B[38;5;28mself\u001B[39m._visit(node.ctx),\n\u001B[32m    339\u001B[39m     )\n\u001B[32m--> \u001B[39m\u001B[32m340\u001B[39m     \u001B[38;5;28;01mreturn\u001B[39;00m \u001B[43mast\u001B[49m\u001B[43m.\u001B[49m\u001B[43mcopy_location\u001B[49m\u001B[43m(\u001B[49m\u001B[43mnew_node\u001B[49m\u001B[43m,\u001B[49m\u001B[43m \u001B[49m\u001B[43mnode\u001B[49m\u001B[43m)\u001B[49m\n",
      "\u001B[36mFile \u001B[39m\u001B[32m~\\AppData\\Local\\Programs\\Python\\Python312\\Lib\\ast.py:193\u001B[39m, in \u001B[36mcopy_location\u001B[39m\u001B[34m(new_node, old_node)\u001B[39m\n\u001B[32m    189\u001B[39m         value = \u001B[38;5;28mgetattr\u001B[39m(old_node, attr, \u001B[38;5;28;01mNone\u001B[39;00m)\n\u001B[32m    190\u001B[39m         \u001B[38;5;66;03m# end_lineno and end_col_offset are optional attributes, and they\u001B[39;00m\n\u001B[32m    191\u001B[39m         \u001B[38;5;66;03m# should be copied whether the value is None or not.\u001B[39;00m\n\u001B[32m    192\u001B[39m         \u001B[38;5;28;01mif\u001B[39;00m value \u001B[38;5;129;01mis\u001B[39;00m \u001B[38;5;129;01mnot\u001B[39;00m \u001B[38;5;28;01mNone\u001B[39;00m \u001B[38;5;129;01mor\u001B[39;00m (\n\u001B[32m--> \u001B[39m\u001B[32m193\u001B[39m             \u001B[38;5;28;43mhasattr\u001B[39;49m\u001B[43m(\u001B[49m\u001B[43mold_node\u001B[49m\u001B[43m,\u001B[49m\u001B[43m \u001B[49m\u001B[43mattr\u001B[49m\u001B[43m)\u001B[49m \u001B[38;5;129;01mand\u001B[39;00m attr.startswith(\u001B[33m\"\u001B[39m\u001B[33mend_\u001B[39m\u001B[33m\"\u001B[39m)\n\u001B[32m    194\u001B[39m         ):\n\u001B[32m    195\u001B[39m             \u001B[38;5;28msetattr\u001B[39m(new_node, attr, value)\n\u001B[32m    196\u001B[39m \u001B[38;5;28;01mreturn\u001B[39;00m new_node\n",
      "\u001B[31mKeyboardInterrupt\u001B[39m: "
     ]
    }
   ],
   "source": [
    "import commons\n",
    "history = commons.train(\n",
    "    epochs=20,\n",
    "    metrics_dict=metrics_dict,\n",
    "    ds_train=ds_train,\n",
    "    ds_test=ds_test,\n",
    "    train_step=train_step,\n",
    "    test_step=test_step,\n",
    "    scheduled_parameters=scheduled_parameters\n",
    ")"
   ]
  },
  {
   "cell_type": "code",
   "execution_count": null,
   "outputs": [],
   "source": [
    "def compute_attack_success_rate(model, ds_poisoned_test, target_label=1):\n",
    "    total_successes = 0\n",
    "    total_samples = 0\n",
    "\n",
    "    for batch in ds_poisoned_test:\n",
    "        images_x, images_y, labels_z = batch  # ignore is_poisoned\n",
    "\n",
    "        preds_x = tf.argmax(model([images_x]), axis=-1)\n",
    "        preds_y = tf.argmax(model([images_y]), axis=-1)\n",
    "\n",
    "        # Success if either operand is classified as the target\n",
    "        preds_match_target = tf.logical_or(\n",
    "            tf.equal(preds_x, target_label),\n",
    "            tf.equal(preds_y, target_label)\n",
    "        )\n",
    "\n",
    "        total_successes += tf.reduce_sum(tf.cast(preds_match_target, tf.int32)).numpy()\n",
    "        total_samples += preds_match_target.shape[0]\n",
    "    return total_successes/ total_samples\n"
   ],
   "metadata": {
    "collapsed": false,
    "ExecuteTime": {
     "start_time": "2025-05-28T20:40:58.086476200Z"
    }
   }
  },
  {
   "cell_type": "code",
   "execution_count": null,
   "outputs": [],
   "source": [
    "asr = compute_attack_success_rate(logits_model, ds_test_poisoned, target_label=1)\n",
    "print(f\"Attack Success Rate (ASR): {asr:.4f}\")\n"
   ],
   "metadata": {
    "collapsed": false,
    "ExecuteTime": {
     "start_time": "2025-05-28T20:40:58.087474200Z"
    }
   }
  },
  {
   "cell_type": "code",
   "execution_count": null,
   "metadata": {
    "ExecuteTime": {
     "end_time": "2025-05-28T20:40:58.093475200Z",
     "start_time": "2025-05-28T20:40:58.088475400Z"
    }
   },
   "outputs": [],
   "source": [
    "plt.figure()\n",
    "plt.plot(range(len(history['train_accuracy'])), history['train_accuracy'], label='Train Accuracy')\n",
    "plt.plot(range(len(history['test_accuracy'])), history['test_accuracy'], label='Test Accuracy')\n",
    "\n",
    "plt.xlabel(\"Epoch\")\n",
    "plt.ylabel(\"Accuracy\")\n",
    "plt.title(\"Model Accuracy over Epochs\")\n",
    "plt.grid(True)\n",
    "plt.legend()\n",
    "plt.show()\n",
    "\n",
    "# Plot Loss\n",
    "plt.figure()\n",
    "plt.plot(range(len(history['train_loss'])), history['train_loss'], label='Train Loss')\n",
    "plt.plot(range(len(history['test_loss'])), history['test_loss'], label='Test Loss')\n",
    "plt.xlabel(\"Epoch\")\n",
    "plt.ylabel(\"Loss\")\n",
    "plt.title(\"Model Loss over Epochs\")\n",
    "plt.grid(True)\n",
    "plt.legend()\n",
    "plt.show()\n",
    "\n",
    "\n",
    "plt.figure()\n",
    "plt.plot(range(len(history['attack_success_rate'])), history['attack_success_rate'], label='ASR')\n",
    "plt.xlabel(\"Epoch\")\n",
    "plt.ylabel(\"ASR\")\n",
    "plt.title(\"Model ASR over Epochs\")\n",
    "plt.grid(True)\n",
    "plt.legend()\n",
    "plt.show()"
   ]
  },
  {
   "cell_type": "code",
   "execution_count": null,
   "outputs": [],
   "source": [],
   "metadata": {
    "collapsed": false,
    "ExecuteTime": {
     "start_time": "2025-05-28T20:40:58.089475600Z"
    }
   }
  }
 ],
 "metadata": {
  "interpreter": {
   "hash": "12eaedf9b9a64329743e8900a3192e3d75dbaaa78715534825922e4a4f7d9137"
  },
  "kernelspec": {
   "name": "python3",
   "language": "python",
   "display_name": "Python 3 (ipykernel)"
  },
  "language_info": {
   "codemirror_mode": {
    "name": "ipython",
    "version": 3
   },
   "file_extension": ".py",
   "mimetype": "text/x-python",
   "name": "python",
   "nbconvert_exporter": "python",
   "pygments_lexer": "ipython3",
   "version": "3.10.6"
  }
 },
 "nbformat": 4,
 "nbformat_minor": 4
}
