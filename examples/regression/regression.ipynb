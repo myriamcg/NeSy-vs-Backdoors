{
 "cells": [
  {
   "cell_type": "markdown",
   "metadata": {},
   "source": [
    "# Regression with LTN\n",
    "\n",
    "This is a basic example in which we use LTN for training a regression estimator. The essence of regression is to approximate a function $f(x)=y$ where $y$ can be any real value or tensor (as opposed to classifiers which project values to $[0,1]$). We are given examples of this function $x_i$, $y_i$ with $f(x_i)=y_i$. From the examples, we need to estimate a function $f^\\ast$ that approximates $f$.\n",
    "\n",
    "In LTN we can directly model this by defining $f^\\ast$ as a learnable/trainable function with some parameters that are constrained through data. Additionnally, we need a notion of $=$. Here, we use an euclidian distance/similarity to get a smooth $=$ function. We define the following language and theory:\n",
    "- a set of points $x_i$ and $y_i$\n",
    "- a definition of a predicate for equality, modeled as a smooth equality function $\\mathrm{eq}(x,y)=\\exp\\bigg(-\\sqrt{\\sum_j (x_j-y_j)^2}\\bigg)$\n",
    "- a learnable function $f^\\ast$ for which the following constraint hold: $\\mathrm{eq}(f^\\ast(x_i),y_i)$. The function $f^\\ast$ approximates $f(x_i)=y_i$\n",
    "\n",
    "Here, $f^\\ast$ is modeled using a simple MLP."
   ]
  },
  {
   "cell_type": "code",
   "execution_count": 1,
   "metadata": {},
   "outputs": [
    {
     "name": "stdout",
     "output_type": "stream",
     "text": [
      "Init Plugin\n",
      "Init Graph Optimizer\n",
      "Init Kernel\n"
     ]
    }
   ],
   "source": [
    "import logging; logging.basicConfig(level=logging.INFO)\n",
    "import tensorflow as tf\n",
    "import numpy as np\n",
    "import matplotlib.pyplot as plt\n",
    "import ltn\n",
    "import pandas as pd"
   ]
  },
  {
   "cell_type": "markdown",
   "metadata": {},
   "source": [
    "# Data\n",
    "\n",
    "Load the [real estate dataset](https://www.kaggle.com/quantbruce/real-estate-price-prediction): \n",
    "- 414 samples,\n",
    "- 6 float features: transaction date (converted to float, eg. `2012.917` is equivalent to december), house age, distance to station, # of convenience stores nearby, lat, long,\n",
    "- y: house price per unit area"
   ]
  },
  {
   "cell_type": "code",
   "execution_count": 2,
   "metadata": {},
   "outputs": [
    {
     "data": {
      "text/html": [
       "<div>\n",
       "<style scoped>\n",
       "    .dataframe tbody tr th:only-of-type {\n",
       "        vertical-align: middle;\n",
       "    }\n",
       "\n",
       "    .dataframe tbody tr th {\n",
       "        vertical-align: top;\n",
       "    }\n",
       "\n",
       "    .dataframe thead th {\n",
       "        text-align: right;\n",
       "    }\n",
       "</style>\n",
       "<table border=\"1\" class=\"dataframe\">\n",
       "  <thead>\n",
       "    <tr style=\"text-align: right;\">\n",
       "      <th></th>\n",
       "      <th>No</th>\n",
       "      <th>X1 transaction date</th>\n",
       "      <th>X2 house age</th>\n",
       "      <th>X3 distance to the nearest MRT station</th>\n",
       "      <th>X4 number of convenience stores</th>\n",
       "      <th>X5 latitude</th>\n",
       "      <th>X6 longitude</th>\n",
       "      <th>Y house price of unit area</th>\n",
       "    </tr>\n",
       "  </thead>\n",
       "  <tbody>\n",
       "    <tr>\n",
       "      <th>126</th>\n",
       "      <td>127</td>\n",
       "      <td>2013.083</td>\n",
       "      <td>38.6</td>\n",
       "      <td>804.68970</td>\n",
       "      <td>4</td>\n",
       "      <td>24.97838</td>\n",
       "      <td>121.53477</td>\n",
       "      <td>62.9</td>\n",
       "    </tr>\n",
       "    <tr>\n",
       "      <th>124</th>\n",
       "      <td>125</td>\n",
       "      <td>2012.917</td>\n",
       "      <td>9.9</td>\n",
       "      <td>279.17260</td>\n",
       "      <td>7</td>\n",
       "      <td>24.97528</td>\n",
       "      <td>121.54541</td>\n",
       "      <td>57.4</td>\n",
       "    </tr>\n",
       "    <tr>\n",
       "      <th>264</th>\n",
       "      <td>265</td>\n",
       "      <td>2013.167</td>\n",
       "      <td>32.6</td>\n",
       "      <td>493.65700</td>\n",
       "      <td>7</td>\n",
       "      <td>24.96968</td>\n",
       "      <td>121.54522</td>\n",
       "      <td>40.6</td>\n",
       "    </tr>\n",
       "    <tr>\n",
       "      <th>403</th>\n",
       "      <td>404</td>\n",
       "      <td>2012.667</td>\n",
       "      <td>30.9</td>\n",
       "      <td>161.94200</td>\n",
       "      <td>9</td>\n",
       "      <td>24.98353</td>\n",
       "      <td>121.53966</td>\n",
       "      <td>39.7</td>\n",
       "    </tr>\n",
       "    <tr>\n",
       "      <th>192</th>\n",
       "      <td>193</td>\n",
       "      <td>2013.167</td>\n",
       "      <td>43.8</td>\n",
       "      <td>57.58945</td>\n",
       "      <td>7</td>\n",
       "      <td>24.96750</td>\n",
       "      <td>121.54069</td>\n",
       "      <td>42.7</td>\n",
       "    </tr>\n",
       "  </tbody>\n",
       "</table>\n",
       "</div>"
      ],
      "text/plain": [
       "      No  X1 transaction date  X2 house age  \\\n",
       "126  127             2013.083          38.6   \n",
       "124  125             2012.917           9.9   \n",
       "264  265             2013.167          32.6   \n",
       "403  404             2012.667          30.9   \n",
       "192  193             2013.167          43.8   \n",
       "\n",
       "     X3 distance to the nearest MRT station  X4 number of convenience stores  \\\n",
       "126                               804.68970                                4   \n",
       "124                               279.17260                                7   \n",
       "264                               493.65700                                7   \n",
       "403                               161.94200                                9   \n",
       "192                                57.58945                                7   \n",
       "\n",
       "     X5 latitude  X6 longitude  Y house price of unit area  \n",
       "126     24.97838     121.53477                        62.9  \n",
       "124     24.97528     121.54541                        57.4  \n",
       "264     24.96968     121.54522                        40.6  \n",
       "403     24.98353     121.53966                        39.7  \n",
       "192     24.96750     121.54069                        42.7  "
      ]
     },
     "execution_count": 2,
     "metadata": {},
     "output_type": "execute_result"
    }
   ],
   "source": [
    "df = pd.read_csv(\"real-estate.csv\")\n",
    "df = df.sample(frac=1) #shuffle\n",
    "df.head(5)"
   ]
  },
  {
   "cell_type": "markdown",
   "metadata": {},
   "source": [
    "We use 330 examples for training and 84 examples for testing."
   ]
  },
  {
   "cell_type": "code",
   "execution_count": 3,
   "metadata": {},
   "outputs": [
    {
     "name": "stdout",
     "output_type": "stream",
     "text": [
      "Metal device set to: Apple M1\n",
      "\n",
      "systemMemory: 16.00 GB\n",
      "maxCacheSize: 5.33 GB\n",
      "\n"
     ]
    },
    {
     "name": "stderr",
     "output_type": "stream",
     "text": [
      "2021-08-30 20:50:47.010340: I tensorflow/core/common_runtime/pluggable_device/pluggable_device_factory.cc:305] Could not identify NUMA node of platform GPU ID 0, defaulting to 0. Your kernel may not have been built with NUMA support.\n",
      "2021-08-30 20:50:47.010472: I tensorflow/core/common_runtime/pluggable_device/pluggable_device_factory.cc:271] Created TensorFlow device (/job:localhost/replica:0/task:0/device:GPU:0 with 0 MB memory) -> physical PluggableDevice (device: 0, name: METAL, pci bus id: <undefined>)\n"
     ]
    }
   ],
   "source": [
    "x = df[['X1 transaction date', 'X2 house age',\n",
    "       'X3 distance to the nearest MRT station',\n",
    "       'X4 number of convenience stores', 'X5 latitude', 'X6 longitude']]\n",
    "y = df[['Y house price of unit area']]\n",
    "\n",
    "batch_size=128\n",
    "ds_train = tf.data.Dataset.from_tensor_slices((x[:330],y[:330])).batch(batch_size)\n",
    "ds_test = tf.data.Dataset.from_tensor_slices((x[330:],y[330:])).batch(batch_size)"
   ]
  },
  {
   "cell_type": "markdown",
   "metadata": {},
   "source": [
    "# LTN"
   ]
  },
  {
   "cell_type": "code",
   "execution_count": 4,
   "metadata": {},
   "outputs": [],
   "source": [
    "f = ltn.Function.MLP(input_shapes=[6],output_shape=[1],hidden_layer_sizes=(8,8))"
   ]
  },
  {
   "cell_type": "code",
   "execution_count": 5,
   "metadata": {},
   "outputs": [],
   "source": [
    "eq = ltn.Predicate.Lambda(\n",
    "    #lambda args: tf.exp(-0.05*tf.sqrt(tf.reduce_sum(tf.square(args[0]-args[1]),axis=1)))        \n",
    "    lambda args: 1/(1+0.5*tf.sqrt(tf.reduce_sum(tf.square(args[0]-args[1]),axis=1)))\n",
    ")\n"
   ]
  },
  {
   "cell_type": "code",
   "execution_count": 6,
   "metadata": {},
   "outputs": [],
   "source": [
    "Not = ltn.Wrapper_Connective(ltn.fuzzy_ops.Not_Std())\n",
    "And = ltn.Wrapper_Connective(ltn.fuzzy_ops.And_Prod())\n",
    "Or = ltn.Wrapper_Connective(ltn.fuzzy_ops.Or_ProbSum())\n",
    "Implies = ltn.Wrapper_Connective(ltn.fuzzy_ops.Implies_Reichenbach())\n",
    "Forall = ltn.Wrapper_Quantifier(ltn.fuzzy_ops.Aggreg_pMeanError(p=2),semantics=\"forall\")\n",
    "Exists = ltn.Wrapper_Quantifier(ltn.fuzzy_ops.Aggreg_pMean(p=2),semantics=\"exists\")"
   ]
  },
  {
   "cell_type": "code",
   "execution_count": 7,
   "metadata": {},
   "outputs": [],
   "source": [
    "@tf.function\n",
    "def axioms(x_data, y_data):\n",
    "    x = ltn.Variable(\"x\", x_data)\n",
    "    y = ltn.Variable(\"y\", y_data)\n",
    "    return Forall(ltn.diag(x,y), eq([f(x),y])).tensor"
   ]
  },
  {
   "cell_type": "markdown",
   "metadata": {},
   "source": [
    "Initialize all layers and the static graph.\n",
    "\n"
   ]
  },
  {
   "cell_type": "code",
   "execution_count": 8,
   "metadata": {},
   "outputs": [
    {
     "name": "stdout",
     "output_type": "stream",
     "text": [
      "Initial sat level 0.00000\n"
     ]
    },
    {
     "name": "stderr",
     "output_type": "stream",
     "text": [
      "2021-08-30 20:51:03.047078: I tensorflow/compiler/mlir/mlir_graph_optimization_pass.cc:176] None of the MLIR Optimization Passes are enabled (registered 2)\n",
      "2021-08-30 20:51:03.047576: W tensorflow/core/platform/profile_utils/cpu_utils.cc:128] Failed to get CPU frequency: 0 Hz\n",
      "2021-08-30 20:51:03.047617: I tensorflow/core/grappler/optimizers/custom_graph_optimizer_registry.cc:112] Plugin optimizer for device_type GPU is enabled.\n"
     ]
    }
   ],
   "source": [
    "for x, y in ds_test:\n",
    "    print(\"Initial sat level %.5f\"%axioms(x,y))\n",
    "    break"
   ]
  },
  {
   "cell_type": "markdown",
   "metadata": {},
   "source": [
    "# Training\n",
    "\n",
    "Define the metrics. While training, we measure:\n",
    "1. The level of satisfiability of the Knowledge Base of the training data.\n",
    "2. The level of satisfiability of the Knowledge Base of the test data.\n",
    "3. The training accuracy.\n",
    "4. The test accuracy."
   ]
  },
  {
   "cell_type": "code",
   "execution_count": 9,
   "metadata": {},
   "outputs": [],
   "source": [
    "metrics_dict = {\n",
    "    'train_sat': tf.keras.metrics.Mean(name='train_sat'),\n",
    "    'test_sat': tf.keras.metrics.Mean(name='test_sat'),\n",
    "    'train_accuracy': tf.keras.metrics.RootMeanSquaredError(name=\"train_accuracy\"),\n",
    "    'test_accuracy': tf.keras.metrics.RootMeanSquaredError(name=\"test_accuracy\")\n",
    "}"
   ]
  },
  {
   "cell_type": "markdown",
   "metadata": {},
   "source": [
    "Define the training and testing steps."
   ]
  },
  {
   "cell_type": "code",
   "execution_count": 10,
   "metadata": {},
   "outputs": [],
   "source": [
    "optimizer = tf.keras.optimizers.Adam(learning_rate=0.0005)\n",
    "@tf.function\n",
    "def train_step(x, y):\n",
    "    # sat and update\n",
    "    with tf.GradientTape() as tape:\n",
    "        sat = axioms(x, y)\n",
    "        loss = 1.-sat\n",
    "    gradients = tape.gradient(loss, f.trainable_variables)\n",
    "    optimizer.apply_gradients(zip(gradients, f.trainable_variables))\n",
    "    sat = axioms(x, y)\n",
    "    metrics_dict['train_sat'](sat)\n",
    "    # accuracy\n",
    "    metrics_dict['train_accuracy'](y,f.model(x))\n",
    "    \n",
    "@tf.function\n",
    "def test_step(x, y):\n",
    "    # sat\n",
    "    sat = axioms(x, y)\n",
    "    metrics_dict['test_sat'](sat)\n",
    "    # accuracy\n",
    "    metrics_dict['test_accuracy'](y,f.model(x))"
   ]
  },
  {
   "cell_type": "markdown",
   "metadata": {},
   "source": [
    "Training"
   ]
  },
  {
   "cell_type": "code",
   "execution_count": 11,
   "metadata": {},
   "outputs": [
    {
     "name": "stderr",
     "output_type": "stream",
     "text": [
      "2021-08-30 20:48:33.916652: I tensorflow/core/grappler/optimizers/custom_graph_optimizer_registry.cc:112] Plugin optimizer for device_type GPU is enabled.\n",
      "2021-08-30 20:48:34.116221: I tensorflow/core/grappler/optimizers/custom_graph_optimizer_registry.cc:112] Plugin optimizer for device_type GPU is enabled.\n",
      "2021-08-30 20:48:34.305572: I tensorflow/core/grappler/optimizers/custom_graph_optimizer_registry.cc:112] Plugin optimizer for device_type GPU is enabled.\n"
     ]
    },
    {
     "name": "stdout",
     "output_type": "stream",
     "text": [
      "Epoch 0, train_sat: 0.0000, test_sat: 0.0000, train_accuracy: 1024.0039, test_accuracy: 987.7926\n",
      "Epoch 50, train_sat: 0.0000, test_sat: 0.0000, train_accuracy: 1024.0039, test_accuracy: 987.7926\n",
      "Epoch 100, train_sat: 0.0000, test_sat: 0.0000, train_accuracy: 1024.0039, test_accuracy: 987.7926\n",
      "Epoch 150, train_sat: 0.0000, test_sat: 0.0000, train_accuracy: 1024.0039, test_accuracy: 987.7926\n",
      "Epoch 200, train_sat: 0.0000, test_sat: 0.0000, train_accuracy: 1024.0039, test_accuracy: 987.7926\n",
      "Epoch 250, train_sat: 0.0000, test_sat: 0.0000, train_accuracy: 1024.0039, test_accuracy: 987.7926\n",
      "Epoch 300, train_sat: 0.0000, test_sat: 0.0000, train_accuracy: 1024.0039, test_accuracy: 987.7926\n",
      "Epoch 350, train_sat: 0.0000, test_sat: 0.0000, train_accuracy: 1024.0039, test_accuracy: 987.7926\n",
      "Epoch 400, train_sat: 0.0000, test_sat: 0.0000, train_accuracy: 1024.0039, test_accuracy: 987.7926\n",
      "Epoch 450, train_sat: 0.0000, test_sat: 0.0000, train_accuracy: 1024.0039, test_accuracy: 987.7926\n",
      "Epoch 500, train_sat: 0.0000, test_sat: 0.0000, train_accuracy: 1024.0039, test_accuracy: 987.7926\n",
      "Epoch 550, train_sat: 0.0000, test_sat: 0.0000, train_accuracy: 1024.0039, test_accuracy: 987.7926\n",
      "Epoch 600, train_sat: 0.0000, test_sat: 0.0000, train_accuracy: 1024.0039, test_accuracy: 987.7926\n",
      "Epoch 650, train_sat: 0.0000, test_sat: 0.0000, train_accuracy: 1024.0039, test_accuracy: 987.7926\n",
      "Epoch 700, train_sat: 0.0000, test_sat: 0.0000, train_accuracy: 1024.0039, test_accuracy: 987.7926\n",
      "Epoch 750, train_sat: 0.0000, test_sat: 0.0000, train_accuracy: 1024.0039, test_accuracy: 987.7926\n",
      "Epoch 800, train_sat: 0.0000, test_sat: 0.0000, train_accuracy: 1024.0039, test_accuracy: 987.7926\n",
      "Epoch 850, train_sat: 0.0000, test_sat: 0.0000, train_accuracy: 1024.0039, test_accuracy: 987.7926\n",
      "Epoch 900, train_sat: 0.0000, test_sat: 0.0000, train_accuracy: 1024.0039, test_accuracy: 987.7926\n",
      "Epoch 950, train_sat: 0.0000, test_sat: 0.0000, train_accuracy: 1024.0039, test_accuracy: 987.7926\n"
     ]
    }
   ],
   "source": [
    "import commons\n",
    "\n",
    "EPOCHS = 1000\n",
    "\n",
    "commons.train(\n",
    "    EPOCHS,\n",
    "    metrics_dict,\n",
    "    ds_train,\n",
    "    ds_test,\n",
    "    train_step,\n",
    "    test_step,\n",
    "    csv_path=\"regression_results.csv\",\n",
    "    track_metrics=50\n",
    ")"
   ]
  },
  {
   "cell_type": "code",
   "execution_count": 12,
   "metadata": {},
   "outputs": [],
   "source": [
    "import seaborn as sns\n",
    "sns.set(font_scale=1.2)"
   ]
  },
  {
   "cell_type": "code",
   "execution_count": 14,
   "metadata": {},
   "outputs": [
    {
     "name": "stderr",
     "output_type": "stream",
     "text": [
      "/opt/homebrew/Caskroom/miniforge/base/envs/tf-py39/lib/python3.9/site-packages/seaborn/_decorators.py:36: FutureWarning: Pass the following variables as keyword args: x, y. From version 0.12, the only valid positional argument will be `data`, and passing other arguments without an explicit keyword will result in an error or misinterpretation.\n",
      "  warnings.warn(\n",
      "/opt/homebrew/Caskroom/miniforge/base/envs/tf-py39/lib/python3.9/site-packages/seaborn/_decorators.py:36: FutureWarning: Pass the following variables as keyword args: x, y. From version 0.12, the only valid positional argument will be `data`, and passing other arguments without an explicit keyword will result in an error or misinterpretation.\n",
      "  warnings.warn(\n"
     ]
    },
    {
     "data": {
      "image/png": "[encoded data removed]",
      "image/svg+xml": "<?xml version=\"1.0\" encoding=\"utf-8\" standalone=\"no\"?>\n<!DOCTYPE svg PUBLIC \"-//W3C//DTD SVG 1.1//EN\"\n  \"http://www.w3.org/Graphics/SVG/1.1/DTD/svg11.dtd\">\n<svg height=\"342.013062pt\" version=\"1.1\" viewBox=\"0 0 702.530313 342.013062\" width=\"702.530313pt\" xmlns=\"http://www.w3.org/2000/svg\" xmlns:xlink=\"http://www.w3.org/1999/xlink\">\n <metadata>\n  <rdf:RDF xmlns:cc=\"http://creativecommons.org/ns#\" xmlns:dc=\"http://purl.org/dc/elements/1.1/\" xmlns:rdf=\"http://www.w3.org/1999/02/22-rdf-syntax-ns#\">\n   <cc:Work>\n    <dc:type rdf:resource=\"http://purl.org/dc/dcmitype/StillImage\"/>\n    <dc:date>2021-08-30T20:50:14.933295</dc:date>\n    <dc:format>image/svg+xml</dc:format>\n    <dc:creator>\n     <cc:Agent>\n      <dc:title>Matplotlib v3.4.3, https://matplotlib.org/</dc:title>\n     </cc:Agent>\n    </dc:creator>\n   </cc:Work>\n  </rdf:RDF>\n </metadata>\n <defs>\n  <style type=\"text/css\">*{stroke-linecap:butt;stroke-linejoin:round;}</style>\n </defs>\n <g id=\"figure_1\">\n  <g id=\"patch_1\">\n   <path d=\"M 0 342.013062 \nL 702.530313 342.013062 \nL 702.530313 0 \nL 0 0 \nz\n\" style=\"fill:#ffffff;\"/>\n  </g>\n  <g id=\"axes_1\">\n   <g id=\"patch_2\">\n    <path d=\"M 48.718875 295.90325 \nL 335.765875 295.90325 \nL 335.765875 23.50725 \nL 48.718875 23.50725 \nz\n\" style=\"fill:#eaeaf2;\"/>\n   </g>\n   <g id=\"matplotlib.axis_1\">\n    <g id=\"xtick_1\">\n     <g id=\"line2d_1\">\n      <path clip-path=\"url(#p199f015229)\" d=\"M 48.718875 295.90325 \nL 48.718875 23.50725 \n\" style=\"fill:none;stroke:#ffffff;stroke-linecap:round;\"/>\n     </g>\n     <g id=\"text_1\">\n      <!-- 0 -->\n      <g style=\"fill:#262626;\" transform=\"translate(45.048656 314.851562)scale(0.132 -0.132)\">\n       <defs>\n        <path d=\"M 266 2259 \nQ 266 3072 433 3567 \nQ 600 4063 929 4331 \nQ 1259 4600 1759 4600 \nQ 2128 4600 2406 4451 \nQ 2684 4303 2865 4023 \nQ 3047 3744 3150 3342 \nQ 3253 2941 3253 2259 \nQ 3253 1453 3087 958 \nQ 2922 463 2592 192 \nQ 2263 -78 1759 -78 \nQ 1097 -78 719 397 \nQ 266 969 266 2259 \nz\nM 844 2259 \nQ 844 1131 1108 757 \nQ 1372 384 1759 384 \nQ 2147 384 2411 759 \nQ 2675 1134 2675 2259 \nQ 2675 3391 2411 3762 \nQ 2147 4134 1753 4134 \nQ 1366 4134 1134 3806 \nQ 844 3388 844 2259 \nz\n\" id=\"ArialMT-30\" transform=\"scale(0.015625)\"/>\n       </defs>\n       <use xlink:href=\"#ArialMT-30\"/>\n      </g>\n     </g>\n    </g>\n    <g id=\"xtick_2\">\n     <g id=\"line2d_2\">\n      <path clip-path=\"url(#p199f015229)\" d=\"M 120.480625 295.90325 \nL 120.480625 23.50725 \n\" style=\"fill:none;stroke:#ffffff;stroke-linecap:round;\"/>\n     </g>\n     <g id=\"text_2\">\n      <!-- 20 -->\n      <g style=\"fill:#262626;\" transform=\"translate(113.140187 314.851562)scale(0.132 -0.132)\">\n       <defs>\n        <path d=\"M 3222 541 \nL 3222 0 \nL 194 0 \nQ 188 203 259 391 \nQ 375 700 629 1000 \nQ 884 1300 1366 1694 \nQ 2113 2306 2375 2664 \nQ 2638 3022 2638 3341 \nQ 2638 3675 2398 3904 \nQ 2159 4134 1775 4134 \nQ 1369 4134 1125 3890 \nQ 881 3647 878 3216 \nL 300 3275 \nQ 359 3922 746 4261 \nQ 1134 4600 1788 4600 \nQ 2447 4600 2831 4234 \nQ 3216 3869 3216 3328 \nQ 3216 3053 3103 2787 \nQ 2991 2522 2730 2228 \nQ 2469 1934 1863 1422 \nQ 1356 997 1212 845 \nQ 1069 694 975 541 \nL 3222 541 \nz\n\" id=\"ArialMT-32\" transform=\"scale(0.015625)\"/>\n       </defs>\n       <use xlink:href=\"#ArialMT-32\"/>\n       <use x=\"55.615234\" xlink:href=\"#ArialMT-30\"/>\n      </g>\n     </g>\n    </g>\n    <g id=\"xtick_3\">\n     <g id=\"line2d_3\">\n      <path clip-path=\"url(#p199f015229)\" d=\"M 192.242375 295.90325 \nL 192.242375 23.50725 \n\" style=\"fill:none;stroke:#ffffff;stroke-linecap:round;\"/>\n     </g>\n     <g id=\"text_3\">\n      <!-- 40 -->\n      <g style=\"fill:#262626;\" transform=\"translate(184.901938 314.851562)scale(0.132 -0.132)\">\n       <defs>\n        <path d=\"M 2069 0 \nL 2069 1097 \nL 81 1097 \nL 81 1613 \nL 2172 4581 \nL 2631 4581 \nL 2631 1613 \nL 3250 1613 \nL 3250 1097 \nL 2631 1097 \nL 2631 0 \nL 2069 0 \nz\nM 2069 1613 \nL 2069 3678 \nL 634 1613 \nL 2069 1613 \nz\n\" id=\"ArialMT-34\" transform=\"scale(0.015625)\"/>\n       </defs>\n       <use xlink:href=\"#ArialMT-34\"/>\n       <use x=\"55.615234\" xlink:href=\"#ArialMT-30\"/>\n      </g>\n     </g>\n    </g>\n    <g id=\"xtick_4\">\n     <g id=\"line2d_4\">\n      <path clip-path=\"url(#p199f015229)\" d=\"M 264.004125 295.90325 \nL 264.004125 23.50725 \n\" style=\"fill:none;stroke:#ffffff;stroke-linecap:round;\"/>\n     </g>\n     <g id=\"text_4\">\n      <!-- 60 -->\n      <g style=\"fill:#262626;\" transform=\"translate(256.663688 314.851562)scale(0.132 -0.132)\">\n       <defs>\n        <path d=\"M 3184 3459 \nL 2625 3416 \nQ 2550 3747 2413 3897 \nQ 2184 4138 1850 4138 \nQ 1581 4138 1378 3988 \nQ 1113 3794 959 3422 \nQ 806 3050 800 2363 \nQ 1003 2672 1297 2822 \nQ 1591 2972 1913 2972 \nQ 2475 2972 2870 2558 \nQ 3266 2144 3266 1488 \nQ 3266 1056 3080 686 \nQ 2894 316 2569 119 \nQ 2244 -78 1831 -78 \nQ 1128 -78 684 439 \nQ 241 956 241 2144 \nQ 241 3472 731 4075 \nQ 1159 4600 1884 4600 \nQ 2425 4600 2770 4297 \nQ 3116 3994 3184 3459 \nz\nM 888 1484 \nQ 888 1194 1011 928 \nQ 1134 663 1356 523 \nQ 1578 384 1822 384 \nQ 2178 384 2434 671 \nQ 2691 959 2691 1453 \nQ 2691 1928 2437 2201 \nQ 2184 2475 1800 2475 \nQ 1419 2475 1153 2201 \nQ 888 1928 888 1484 \nz\n\" id=\"ArialMT-36\" transform=\"scale(0.015625)\"/>\n       </defs>\n       <use xlink:href=\"#ArialMT-36\"/>\n       <use x=\"55.615234\" xlink:href=\"#ArialMT-30\"/>\n      </g>\n     </g>\n    </g>\n    <g id=\"xtick_5\">\n     <g id=\"line2d_5\">\n      <path clip-path=\"url(#p199f015229)\" d=\"M 335.765875 295.90325 \nL 335.765875 23.50725 \n\" style=\"fill:none;stroke:#ffffff;stroke-linecap:round;\"/>\n     </g>\n     <g id=\"text_5\">\n      <!-- 80 -->\n      <g style=\"fill:#262626;\" transform=\"translate(328.425438 314.851562)scale(0.132 -0.132)\">\n       <defs>\n        <path d=\"M 1131 2484 \nQ 781 2613 612 2850 \nQ 444 3088 444 3419 \nQ 444 3919 803 4259 \nQ 1163 4600 1759 4600 \nQ 2359 4600 2725 4251 \nQ 3091 3903 3091 3403 \nQ 3091 3084 2923 2848 \nQ 2756 2613 2416 2484 \nQ 2838 2347 3058 2040 \nQ 3278 1734 3278 1309 \nQ 3278 722 2862 322 \nQ 2447 -78 1769 -78 \nQ 1091 -78 675 323 \nQ 259 725 259 1325 \nQ 259 1772 486 2073 \nQ 713 2375 1131 2484 \nz\nM 1019 3438 \nQ 1019 3113 1228 2906 \nQ 1438 2700 1772 2700 \nQ 2097 2700 2305 2904 \nQ 2513 3109 2513 3406 \nQ 2513 3716 2298 3927 \nQ 2084 4138 1766 4138 \nQ 1444 4138 1231 3931 \nQ 1019 3725 1019 3438 \nz\nM 838 1322 \nQ 838 1081 952 856 \nQ 1066 631 1291 507 \nQ 1516 384 1775 384 \nQ 2178 384 2440 643 \nQ 2703 903 2703 1303 \nQ 2703 1709 2433 1975 \nQ 2163 2241 1756 2241 \nQ 1359 2241 1098 1978 \nQ 838 1716 838 1322 \nz\n\" id=\"ArialMT-38\" transform=\"scale(0.015625)\"/>\n       </defs>\n       <use xlink:href=\"#ArialMT-38\"/>\n       <use x=\"55.615234\" xlink:href=\"#ArialMT-30\"/>\n      </g>\n     </g>\n    </g>\n    <g id=\"text_6\">\n     <!-- Actual y values -->\n     <g style=\"fill:#262626;\" transform=\"translate(143.820125 331.782312)scale(0.144 -0.144)\">\n      <defs>\n       <path d=\"M -9 0 \nL 1750 4581 \nL 2403 4581 \nL 4278 0 \nL 3588 0 \nL 3053 1388 \nL 1138 1388 \nL 634 0 \nL -9 0 \nz\nM 1313 1881 \nL 2866 1881 \nL 2388 3150 \nQ 2169 3728 2063 4100 \nQ 1975 3659 1816 3225 \nL 1313 1881 \nz\n\" id=\"ArialMT-41\" transform=\"scale(0.015625)\"/>\n       <path d=\"M 2588 1216 \nL 3141 1144 \nQ 3050 572 2676 248 \nQ 2303 -75 1759 -75 \nQ 1078 -75 664 370 \nQ 250 816 250 1647 \nQ 250 2184 428 2587 \nQ 606 2991 970 3192 \nQ 1334 3394 1763 3394 \nQ 2303 3394 2647 3120 \nQ 2991 2847 3088 2344 \nL 2541 2259 \nQ 2463 2594 2264 2762 \nQ 2066 2931 1784 2931 \nQ 1359 2931 1093 2626 \nQ 828 2322 828 1663 \nQ 828 994 1084 691 \nQ 1341 388 1753 388 \nQ 2084 388 2306 591 \nQ 2528 794 2588 1216 \nz\n\" id=\"ArialMT-63\" transform=\"scale(0.015625)\"/>\n       <path d=\"M 1650 503 \nL 1731 6 \nQ 1494 -44 1306 -44 \nQ 1000 -44 831 53 \nQ 663 150 594 308 \nQ 525 466 525 972 \nL 525 2881 \nL 113 2881 \nL 113 3319 \nL 525 3319 \nL 525 4141 \nL 1084 4478 \nL 1084 3319 \nL 1650 3319 \nL 1650 2881 \nL 1084 2881 \nL 1084 941 \nQ 1084 700 1114 631 \nQ 1144 563 1211 522 \nQ 1278 481 1403 481 \nQ 1497 481 1650 503 \nz\n\" id=\"ArialMT-74\" transform=\"scale(0.015625)\"/>\n       <path d=\"M 2597 0 \nL 2597 488 \nQ 2209 -75 1544 -75 \nQ 1250 -75 995 37 \nQ 741 150 617 320 \nQ 494 491 444 738 \nQ 409 903 409 1263 \nL 409 3319 \nL 972 3319 \nL 972 1478 \nQ 972 1038 1006 884 \nQ 1059 663 1231 536 \nQ 1403 409 1656 409 \nQ 1909 409 2131 539 \nQ 2353 669 2445 892 \nQ 2538 1116 2538 1541 \nL 2538 3319 \nL 3100 3319 \nL 3100 0 \nL 2597 0 \nz\n\" id=\"ArialMT-75\" transform=\"scale(0.015625)\"/>\n       <path d=\"M 2588 409 \nQ 2275 144 1986 34 \nQ 1697 -75 1366 -75 \nQ 819 -75 525 192 \nQ 231 459 231 875 \nQ 231 1119 342 1320 \nQ 453 1522 633 1644 \nQ 813 1766 1038 1828 \nQ 1203 1872 1538 1913 \nQ 2219 1994 2541 2106 \nQ 2544 2222 2544 2253 \nQ 2544 2597 2384 2738 \nQ 2169 2928 1744 2928 \nQ 1347 2928 1158 2789 \nQ 969 2650 878 2297 \nL 328 2372 \nQ 403 2725 575 2942 \nQ 747 3159 1072 3276 \nQ 1397 3394 1825 3394 \nQ 2250 3394 2515 3294 \nQ 2781 3194 2906 3042 \nQ 3031 2891 3081 2659 \nQ 3109 2516 3109 2141 \nL 3109 1391 \nQ 3109 606 3145 398 \nQ 3181 191 3288 0 \nL 2700 0 \nQ 2613 175 2588 409 \nz\nM 2541 1666 \nQ 2234 1541 1622 1453 \nQ 1275 1403 1131 1340 \nQ 988 1278 909 1158 \nQ 831 1038 831 891 \nQ 831 666 1001 516 \nQ 1172 366 1500 366 \nQ 1825 366 2078 508 \nQ 2331 650 2450 897 \nQ 2541 1088 2541 1459 \nL 2541 1666 \nz\n\" id=\"ArialMT-61\" transform=\"scale(0.015625)\"/>\n       <path d=\"M 409 0 \nL 409 4581 \nL 972 4581 \nL 972 0 \nL 409 0 \nz\n\" id=\"ArialMT-6c\" transform=\"scale(0.015625)\"/>\n       <path id=\"ArialMT-20\" transform=\"scale(0.015625)\"/>\n       <path d=\"M 397 -1278 \nL 334 -750 \nQ 519 -800 656 -800 \nQ 844 -800 956 -737 \nQ 1069 -675 1141 -563 \nQ 1194 -478 1313 -144 \nQ 1328 -97 1363 -6 \nL 103 3319 \nL 709 3319 \nL 1400 1397 \nQ 1534 1031 1641 628 \nQ 1738 1016 1872 1384 \nL 2581 3319 \nL 3144 3319 \nL 1881 -56 \nQ 1678 -603 1566 -809 \nQ 1416 -1088 1222 -1217 \nQ 1028 -1347 759 -1347 \nQ 597 -1347 397 -1278 \nz\n\" id=\"ArialMT-79\" transform=\"scale(0.015625)\"/>\n       <path d=\"M 1344 0 \nL 81 3319 \nL 675 3319 \nL 1388 1331 \nQ 1503 1009 1600 663 \nQ 1675 925 1809 1294 \nL 2547 3319 \nL 3125 3319 \nL 1869 0 \nL 1344 0 \nz\n\" id=\"ArialMT-76\" transform=\"scale(0.015625)\"/>\n       <path d=\"M 2694 1069 \nL 3275 997 \nQ 3138 488 2766 206 \nQ 2394 -75 1816 -75 \nQ 1088 -75 661 373 \nQ 234 822 234 1631 \nQ 234 2469 665 2931 \nQ 1097 3394 1784 3394 \nQ 2450 3394 2872 2941 \nQ 3294 2488 3294 1666 \nQ 3294 1616 3291 1516 \nL 816 1516 \nQ 847 969 1125 678 \nQ 1403 388 1819 388 \nQ 2128 388 2347 550 \nQ 2566 713 2694 1069 \nz\nM 847 1978 \nL 2700 1978 \nQ 2663 2397 2488 2606 \nQ 2219 2931 1791 2931 \nQ 1403 2931 1139 2672 \nQ 875 2413 847 1978 \nz\n\" id=\"ArialMT-65\" transform=\"scale(0.015625)\"/>\n       <path d=\"M 197 991 \nL 753 1078 \nQ 800 744 1014 566 \nQ 1228 388 1613 388 \nQ 2000 388 2187 545 \nQ 2375 703 2375 916 \nQ 2375 1106 2209 1216 \nQ 2094 1291 1634 1406 \nQ 1016 1563 777 1677 \nQ 538 1791 414 1992 \nQ 291 2194 291 2438 \nQ 291 2659 392 2848 \nQ 494 3038 669 3163 \nQ 800 3259 1026 3326 \nQ 1253 3394 1513 3394 \nQ 1903 3394 2198 3281 \nQ 2494 3169 2634 2976 \nQ 2775 2784 2828 2463 \nL 2278 2388 \nQ 2241 2644 2061 2787 \nQ 1881 2931 1553 2931 \nQ 1166 2931 1000 2803 \nQ 834 2675 834 2503 \nQ 834 2394 903 2306 \nQ 972 2216 1119 2156 \nQ 1203 2125 1616 2013 \nQ 2213 1853 2448 1751 \nQ 2684 1650 2818 1456 \nQ 2953 1263 2953 975 \nQ 2953 694 2789 445 \nQ 2625 197 2315 61 \nQ 2006 -75 1616 -75 \nQ 969 -75 630 194 \nQ 291 463 197 991 \nz\n\" id=\"ArialMT-73\" transform=\"scale(0.015625)\"/>\n      </defs>\n      <use xlink:href=\"#ArialMT-41\"/>\n      <use x=\"66.699219\" xlink:href=\"#ArialMT-63\"/>\n      <use x=\"116.699219\" xlink:href=\"#ArialMT-74\"/>\n      <use x=\"144.482422\" xlink:href=\"#ArialMT-75\"/>\n      <use x=\"200.097656\" xlink:href=\"#ArialMT-61\"/>\n      <use x=\"255.712891\" xlink:href=\"#ArialMT-6c\"/>\n      <use x=\"277.929688\" xlink:href=\"#ArialMT-20\"/>\n      <use x=\"305.712891\" xlink:href=\"#ArialMT-79\"/>\n      <use x=\"355.712891\" xlink:href=\"#ArialMT-20\"/>\n      <use x=\"383.496094\" xlink:href=\"#ArialMT-76\"/>\n      <use x=\"433.496094\" xlink:href=\"#ArialMT-61\"/>\n      <use x=\"489.111328\" xlink:href=\"#ArialMT-6c\"/>\n      <use x=\"511.328125\" xlink:href=\"#ArialMT-75\"/>\n      <use x=\"566.943359\" xlink:href=\"#ArialMT-65\"/>\n      <use x=\"622.558594\" xlink:href=\"#ArialMT-73\"/>\n     </g>\n    </g>\n   </g>\n   <g id=\"matplotlib.axis_2\">\n    <g id=\"ytick_1\">\n     <g id=\"line2d_6\">\n      <path clip-path=\"url(#p199f015229)\" d=\"M 48.718875 295.90325 \nL 335.765875 295.90325 \n\" style=\"fill:none;stroke:#ffffff;stroke-linecap:round;\"/>\n     </g>\n     <g id=\"text_7\">\n      <!-- 0 -->\n      <g style=\"fill:#262626;\" transform=\"translate(31.878438 300.627406)scale(0.132 -0.132)\">\n       <use xlink:href=\"#ArialMT-30\"/>\n      </g>\n     </g>\n    </g>\n    <g id=\"ytick_2\">\n     <g id=\"line2d_7\">\n      <path clip-path=\"url(#p199f015229)\" d=\"M 48.718875 261.85375 \nL 335.765875 261.85375 \n\" style=\"fill:none;stroke:#ffffff;stroke-linecap:round;\"/>\n     </g>\n     <g id=\"text_8\">\n      <!-- 10 -->\n      <g style=\"fill:#262626;\" transform=\"translate(24.538 266.577906)scale(0.132 -0.132)\">\n       <defs>\n        <path d=\"M 2384 0 \nL 1822 0 \nL 1822 3584 \nQ 1619 3391 1289 3197 \nQ 959 3003 697 2906 \nL 697 3450 \nQ 1169 3672 1522 3987 \nQ 1875 4303 2022 4600 \nL 2384 4600 \nL 2384 0 \nz\n\" id=\"ArialMT-31\" transform=\"scale(0.015625)\"/>\n       </defs>\n       <use xlink:href=\"#ArialMT-31\"/>\n       <use x=\"55.615234\" xlink:href=\"#ArialMT-30\"/>\n      </g>\n     </g>\n    </g>\n    <g id=\"ytick_3\">\n     <g id=\"line2d_8\">\n      <path clip-path=\"url(#p199f015229)\" d=\"M 48.718875 227.80425 \nL 335.765875 227.80425 \n\" style=\"fill:none;stroke:#ffffff;stroke-linecap:round;\"/>\n     </g>\n     <g id=\"text_9\">\n      <!-- 20 -->\n      <g style=\"fill:#262626;\" transform=\"translate(24.538 232.528406)scale(0.132 -0.132)\">\n       <use xlink:href=\"#ArialMT-32\"/>\n       <use x=\"55.615234\" xlink:href=\"#ArialMT-30\"/>\n      </g>\n     </g>\n    </g>\n    <g id=\"ytick_4\">\n     <g id=\"line2d_9\">\n      <path clip-path=\"url(#p199f015229)\" d=\"M 48.718875 193.75475 \nL 335.765875 193.75475 \n\" style=\"fill:none;stroke:#ffffff;stroke-linecap:round;\"/>\n     </g>\n     <g id=\"text_10\">\n      <!-- 30 -->\n      <g style=\"fill:#262626;\" transform=\"translate(24.538 198.478906)scale(0.132 -0.132)\">\n       <defs>\n        <path d=\"M 269 1209 \nL 831 1284 \nQ 928 806 1161 595 \nQ 1394 384 1728 384 \nQ 2125 384 2398 659 \nQ 2672 934 2672 1341 \nQ 2672 1728 2419 1979 \nQ 2166 2231 1775 2231 \nQ 1616 2231 1378 2169 \nL 1441 2663 \nQ 1497 2656 1531 2656 \nQ 1891 2656 2178 2843 \nQ 2466 3031 2466 3422 \nQ 2466 3731 2256 3934 \nQ 2047 4138 1716 4138 \nQ 1388 4138 1169 3931 \nQ 950 3725 888 3313 \nL 325 3413 \nQ 428 3978 793 4289 \nQ 1159 4600 1703 4600 \nQ 2078 4600 2393 4439 \nQ 2709 4278 2876 4000 \nQ 3044 3722 3044 3409 \nQ 3044 3113 2884 2869 \nQ 2725 2625 2413 2481 \nQ 2819 2388 3044 2092 \nQ 3269 1797 3269 1353 \nQ 3269 753 2831 336 \nQ 2394 -81 1725 -81 \nQ 1122 -81 723 278 \nQ 325 638 269 1209 \nz\n\" id=\"ArialMT-33\" transform=\"scale(0.015625)\"/>\n       </defs>\n       <use xlink:href=\"#ArialMT-33\"/>\n       <use x=\"55.615234\" xlink:href=\"#ArialMT-30\"/>\n      </g>\n     </g>\n    </g>\n    <g id=\"ytick_5\">\n     <g id=\"line2d_10\">\n      <path clip-path=\"url(#p199f015229)\" d=\"M 48.718875 159.70525 \nL 335.765875 159.70525 \n\" style=\"fill:none;stroke:#ffffff;stroke-linecap:round;\"/>\n     </g>\n     <g id=\"text_11\">\n      <!-- 40 -->\n      <g style=\"fill:#262626;\" transform=\"translate(24.538 164.429406)scale(0.132 -0.132)\">\n       <use xlink:href=\"#ArialMT-34\"/>\n       <use x=\"55.615234\" xlink:href=\"#ArialMT-30\"/>\n      </g>\n     </g>\n    </g>\n    <g id=\"ytick_6\">\n     <g id=\"line2d_11\">\n      <path clip-path=\"url(#p199f015229)\" d=\"M 48.718875 125.65575 \nL 335.765875 125.65575 \n\" style=\"fill:none;stroke:#ffffff;stroke-linecap:round;\"/>\n     </g>\n     <g id=\"text_12\">\n      <!-- 50 -->\n      <g style=\"fill:#262626;\" transform=\"translate(24.538 130.379906)scale(0.132 -0.132)\">\n       <defs>\n        <path d=\"M 266 1200 \nL 856 1250 \nQ 922 819 1161 601 \nQ 1400 384 1738 384 \nQ 2144 384 2425 690 \nQ 2706 997 2706 1503 \nQ 2706 1984 2436 2262 \nQ 2166 2541 1728 2541 \nQ 1456 2541 1237 2417 \nQ 1019 2294 894 2097 \nL 366 2166 \nL 809 4519 \nL 3088 4519 \nL 3088 3981 \nL 1259 3981 \nL 1013 2750 \nQ 1425 3038 1878 3038 \nQ 2478 3038 2890 2622 \nQ 3303 2206 3303 1553 \nQ 3303 931 2941 478 \nQ 2500 -78 1738 -78 \nQ 1113 -78 717 272 \nQ 322 622 266 1200 \nz\n\" id=\"ArialMT-35\" transform=\"scale(0.015625)\"/>\n       </defs>\n       <use xlink:href=\"#ArialMT-35\"/>\n       <use x=\"55.615234\" xlink:href=\"#ArialMT-30\"/>\n      </g>\n     </g>\n    </g>\n    <g id=\"ytick_7\">\n     <g id=\"line2d_12\">\n      <path clip-path=\"url(#p199f015229)\" d=\"M 48.718875 91.60625 \nL 335.765875 91.60625 \n\" style=\"fill:none;stroke:#ffffff;stroke-linecap:round;\"/>\n     </g>\n     <g id=\"text_13\">\n      <!-- 60 -->\n      <g style=\"fill:#262626;\" transform=\"translate(24.538 96.330406)scale(0.132 -0.132)\">\n       <use xlink:href=\"#ArialMT-36\"/>\n       <use x=\"55.615234\" xlink:href=\"#ArialMT-30\"/>\n      </g>\n     </g>\n    </g>\n    <g id=\"ytick_8\">\n     <g id=\"line2d_13\">\n      <path clip-path=\"url(#p199f015229)\" d=\"M 48.718875 57.55675 \nL 335.765875 57.55675 \n\" style=\"fill:none;stroke:#ffffff;stroke-linecap:round;\"/>\n     </g>\n     <g id=\"text_14\">\n      <!-- 70 -->\n      <g style=\"fill:#262626;\" transform=\"translate(24.538 62.280906)scale(0.132 -0.132)\">\n       <defs>\n        <path d=\"M 303 3981 \nL 303 4522 \nL 3269 4522 \nL 3269 4084 \nQ 2831 3619 2401 2847 \nQ 1972 2075 1738 1259 \nQ 1569 684 1522 0 \nL 944 0 \nQ 953 541 1156 1306 \nQ 1359 2072 1739 2783 \nQ 2119 3494 2547 3981 \nL 303 3981 \nz\n\" id=\"ArialMT-37\" transform=\"scale(0.015625)\"/>\n       </defs>\n       <use xlink:href=\"#ArialMT-37\"/>\n       <use x=\"55.615234\" xlink:href=\"#ArialMT-30\"/>\n      </g>\n     </g>\n    </g>\n    <g id=\"ytick_9\">\n     <g id=\"line2d_14\">\n      <path clip-path=\"url(#p199f015229)\" d=\"M 48.718875 23.50725 \nL 335.765875 23.50725 \n\" style=\"fill:none;stroke:#ffffff;stroke-linecap:round;\"/>\n     </g>\n     <g id=\"text_15\">\n      <!-- 80 -->\n      <g style=\"fill:#262626;\" transform=\"translate(24.538 28.231406)scale(0.132 -0.132)\">\n       <use xlink:href=\"#ArialMT-38\"/>\n       <use x=\"55.615234\" xlink:href=\"#ArialMT-30\"/>\n      </g>\n     </g>\n    </g>\n    <g id=\"text_16\">\n     <!-- Fitted y values -->\n     <g style=\"fill:#262626;\" transform=\"translate(17.50725 206.12275)rotate(-90)scale(0.144 -0.144)\">\n      <defs>\n       <path d=\"M 525 0 \nL 525 4581 \nL 3616 4581 \nL 3616 4041 \nL 1131 4041 \nL 1131 2622 \nL 3281 2622 \nL 3281 2081 \nL 1131 2081 \nL 1131 0 \nL 525 0 \nz\n\" id=\"ArialMT-46\" transform=\"scale(0.015625)\"/>\n       <path d=\"M 425 3934 \nL 425 4581 \nL 988 4581 \nL 988 3934 \nL 425 3934 \nz\nM 425 0 \nL 425 3319 \nL 988 3319 \nL 988 0 \nL 425 0 \nz\n\" id=\"ArialMT-69\" transform=\"scale(0.015625)\"/>\n       <path d=\"M 2575 0 \nL 2575 419 \nQ 2259 -75 1647 -75 \nQ 1250 -75 917 144 \nQ 584 363 401 755 \nQ 219 1147 219 1656 \nQ 219 2153 384 2558 \nQ 550 2963 881 3178 \nQ 1213 3394 1622 3394 \nQ 1922 3394 2156 3267 \nQ 2391 3141 2538 2938 \nL 2538 4581 \nL 3097 4581 \nL 3097 0 \nL 2575 0 \nz\nM 797 1656 \nQ 797 1019 1065 703 \nQ 1334 388 1700 388 \nQ 2069 388 2326 689 \nQ 2584 991 2584 1609 \nQ 2584 2291 2321 2609 \nQ 2059 2928 1675 2928 \nQ 1300 2928 1048 2622 \nQ 797 2316 797 1656 \nz\n\" id=\"ArialMT-64\" transform=\"scale(0.015625)\"/>\n      </defs>\n      <use xlink:href=\"#ArialMT-46\"/>\n      <use x=\"61.083984\" xlink:href=\"#ArialMT-69\"/>\n      <use x=\"83.300781\" xlink:href=\"#ArialMT-74\"/>\n      <use x=\"111.083984\" xlink:href=\"#ArialMT-74\"/>\n      <use x=\"138.867188\" xlink:href=\"#ArialMT-65\"/>\n      <use x=\"194.482422\" xlink:href=\"#ArialMT-64\"/>\n      <use x=\"250.097656\" xlink:href=\"#ArialMT-20\"/>\n      <use x=\"277.880859\" xlink:href=\"#ArialMT-79\"/>\n      <use x=\"327.880859\" xlink:href=\"#ArialMT-20\"/>\n      <use x=\"355.664062\" xlink:href=\"#ArialMT-76\"/>\n      <use x=\"405.664062\" xlink:href=\"#ArialMT-61\"/>\n      <use x=\"461.279297\" xlink:href=\"#ArialMT-6c\"/>\n      <use x=\"483.496094\" xlink:href=\"#ArialMT-75\"/>\n      <use x=\"539.111328\" xlink:href=\"#ArialMT-65\"/>\n      <use x=\"594.726562\" xlink:href=\"#ArialMT-73\"/>\n     </g>\n    </g>\n   </g>\n   <g id=\"PathCollection_1\">\n    <defs>\n     <path d=\"M 0 3 \nC 0.795609 3 1.55874 2.683901 2.12132 2.12132 \nC 2.683901 1.55874 3 0.795609 3 0 \nC 3 -0.795609 2.683901 -1.55874 2.12132 -2.12132 \nC 1.55874 -2.683901 0.795609 -3 0 -3 \nC -0.795609 -3 -1.55874 -2.683901 -2.12132 -2.12132 \nC -2.683901 -1.55874 -3 -0.795609 -3 0 \nC -3 0.795609 -2.683901 1.55874 -2.12132 2.12132 \nC -1.55874 2.683901 -0.795609 3 0 3 \nz\n\" id=\"m378e10bb27\" style=\"stroke:#4c72b0;stroke-opacity:0.5;\"/>\n    </defs>\n    <g clip-path=\"url(#p199f015229)\"/>\n   </g>\n   <g id=\"PolyCollection_1\">\n    <path clip-path=\"url(#p199f015229)\" d=\"M 48.718875 -6038.426986 \nL 48.718875 -4954.489702 \nL 51.61834 -4913.005331 \nL 54.517804 -4871.523959 \nL 57.417269 -4830.042588 \nL 60.316734 -4788.561217 \nL 63.216198 -4747.079846 \nL 66.115663 -4705.598475 \nL 69.015128 -4664.117104 \nL 71.914592 -4622.635732 \nL 74.814057 -4581.154361 \nL 77.713521 -4539.67299 \nL 80.612986 -4498.707293 \nL 83.512451 -4459.446435 \nL 86.411915 -4420.185576 \nL 89.31138 -4379.199548 \nL 92.210845 -4337.547413 \nL 95.110309 -4295.722204 \nL 98.009774 -4250.751119 \nL 100.909239 -4207.357886 \nL 103.808703 -4165.730099 \nL 106.708168 -4121.938736 \nL 109.607633 -4081.611084 \nL 112.507097 -4038.697103 \nL 115.406562 -3996.683774 \nL 118.306027 -3952.401487 \nL 121.205491 -3908.218619 \nL 124.104956 -3864.080071 \nL 127.00442 -3822.084426 \nL 129.903885 -3780.178787 \nL 132.80335 -3736.893373 \nL 135.702814 -3695.535833 \nL 138.602279 -3654.1422 \nL 141.501744 -3611.173908 \nL 144.401208 -3568.205616 \nL 147.300673 -3525.242421 \nL 150.200138 -3482.325228 \nL 153.099602 -3440.165969 \nL 155.999067 -3399.92367 \nL 158.898532 -3356.171676 \nL 161.797996 -3311.86647 \nL 164.697461 -3267.264641 \nL 167.596926 -3224.592212 \nL 170.49639 -3180.444399 \nL 173.395855 -3133.509441 \nL 176.295319 -3085.768822 \nL 179.194784 -3040.520907 \nL 182.094249 -2994.088664 \nL 184.993713 -2945.21939 \nL 187.893178 -2896.967685 \nL 190.792643 -2846.602993 \nL 193.692107 -2795.88198 \nL 196.591572 -2744.05393 \nL 199.491037 -2691.160755 \nL 202.390501 -2633.061803 \nL 205.289966 -2576.285794 \nL 208.189431 -2517.752793 \nL 211.088895 -2456.777936 \nL 213.98836 -2395.773947 \nL 216.887824 -2334.384551 \nL 219.787289 -2273.854397 \nL 222.686754 -2212.619289 \nL 225.586218 -2150.848473 \nL 228.485683 -2087.57536 \nL 231.385148 -2027.460876 \nL 234.284612 -1964.684093 \nL 237.184077 -1901.354853 \nL 240.083542 -1838.390331 \nL 242.983006 -1776.08136 \nL 245.882471 -1714.468624 \nL 248.781936 -1651.459537 \nL 251.6814 -1589.995868 \nL 254.580865 -1527.247854 \nL 257.48033 -1464.576544 \nL 260.379794 -1402.262668 \nL 263.279259 -1339.948791 \nL 266.178723 -1277.634915 \nL 269.078188 -1215.321039 \nL 271.977653 -1153.060765 \nL 274.877117 -1090.709997 \nL 277.776582 -1028.37941 \nL 280.676047 -966.065534 \nL 283.575511 -903.751657 \nL 286.474976 -841.120014 \nL 289.374441 -777.592291 \nL 292.273905 -713.678532 \nL 295.17337 -649.764772 \nL 298.072835 -585.865301 \nL 300.972299 -523.076264 \nL 303.871764 -460.287227 \nL 306.771229 -397.498191 \nL 309.670693 -334.709154 \nL 312.570158 -271.843269 \nL 315.469622 -208.620416 \nL 318.369087 -145.397563 \nL 321.268552 -81.291126 \nL 324.168016 -18.716205 \nL 327.067481 44.384518 \nL 329.966946 107.669569 \nL 332.86641 170.954621 \nL 335.765875 234.239673 \nL 335.765875 -895.885187 \nL 335.765875 -895.885187 \nL 332.86641 -937.922948 \nL 329.966946 -979.960709 \nL 327.067481 -1021.99847 \nL 324.168016 -1064.038453 \nL 321.268552 -1106.111429 \nL 318.369087 -1148.189224 \nL 315.469622 -1190.267019 \nL 312.570158 -1232.344814 \nL 309.670693 -1274.422609 \nL 306.771229 -1316.500404 \nL 303.871764 -1358.519516 \nL 300.972299 -1401.895772 \nL 298.072835 -1445.472019 \nL 295.17337 -1485.263194 \nL 292.273905 -1526.550751 \nL 289.374441 -1568.607968 \nL 286.474976 -1610.682415 \nL 283.575511 -1652.69458 \nL 280.676047 -1694.029666 \nL 277.776582 -1736.795636 \nL 274.877117 -1777.84413 \nL 271.977653 -1818.853985 \nL 269.078188 -1861.752742 \nL 266.178723 -1904.651499 \nL 263.279259 -1946.201351 \nL 260.379794 -1982.596415 \nL 257.48033 -2026.946999 \nL 254.580865 -2071.156188 \nL 251.6814 -2109.282166 \nL 248.781936 -2148.355523 \nL 245.882471 -2189.085227 \nL 242.983006 -2231.221861 \nL 240.083542 -2273.740588 \nL 237.184077 -2315.511058 \nL 234.284612 -2357.210569 \nL 231.385148 -2399.810139 \nL 228.485683 -2442.789047 \nL 225.586218 -2484.562826 \nL 222.686754 -2528.995676 \nL 219.787289 -2572.247231 \nL 216.887824 -2616.100678 \nL 213.98836 -2663.622227 \nL 211.088895 -2711.788646 \nL 208.189431 -2762.729305 \nL 205.289966 -2806.022474 \nL 202.390501 -2854.163513 \nL 199.491037 -2904.412938 \nL 196.591572 -2953.762996 \nL 193.692107 -3005.68766 \nL 190.792643 -3059.669581 \nL 187.893178 -3109.399853 \nL 184.993713 -3164.477095 \nL 182.094249 -3220.22073 \nL 179.194784 -3274.750809 \nL 176.295319 -3331.794134 \nL 173.395855 -3385.534833 \nL 170.49639 -3442.544759 \nL 167.596926 -3502.237981 \nL 164.697461 -3563.101465 \nL 161.797996 -3621.903637 \nL 158.898532 -3686.940581 \nL 155.999067 -3747.432548 \nL 153.099602 -3805.629063 \nL 150.200138 -3864.721737 \nL 147.300673 -3924.689384 \nL 144.401208 -3986.637223 \nL 141.501744 -4048.993284 \nL 138.602279 -4109.266586 \nL 135.702814 -4169.539888 \nL 132.80335 -4230.623368 \nL 129.903885 -4294.583411 \nL 127.00442 -4358.543454 \nL 124.104956 -4422.503497 \nL 121.205491 -4486.46354 \nL 118.306027 -4550.42053 \nL 115.406562 -4614.309169 \nL 112.507097 -4677.145211 \nL 109.607633 -4738.922498 \nL 106.708168 -4800.650384 \nL 103.808703 -4862.264031 \nL 100.909239 -4922.977215 \nL 98.009774 -4983.6904 \nL 95.110309 -5044.400908 \nL 92.210845 -5105.087867 \nL 89.31138 -5166.606143 \nL 86.411915 -5229.349961 \nL 83.512451 -5290.404744 \nL 80.612986 -5353.084337 \nL 77.713521 -5415.839787 \nL 74.814057 -5478.580254 \nL 71.914592 -5541.309667 \nL 69.015128 -5603.233928 \nL 66.115663 -5666.323316 \nL 63.216198 -5729.010441 \nL 60.316734 -5789.573696 \nL 57.417269 -5850.570119 \nL 54.517804 -5912.373569 \nL 51.61834 -5975.400278 \nL 48.718875 -6038.426986 \nz\n\" style=\"fill:#c44e52;fill-opacity:0.15;stroke:#ffffff;stroke-opacity:0.15;\"/>\n   </g>\n   <g id=\"line2d_15\">\n    <path clip-path=\"url(#p199f015229)\" style=\"fill:none;stroke:#c44e52;stroke-dasharray:7.4,3.2;stroke-dashoffset:0;stroke-opacity:0.3;stroke-width:2;\"/>\n   </g>\n   <g id=\"line2d_16\">\n    <path clip-path=\"url(#p199f015229)\" d=\"M 48.718875 295.90325 \nL 361.591264 -1 \n\" style=\"fill:none;stroke:#808080;stroke-dasharray:5.55,2.4;stroke-dashoffset:0;stroke-width:1.5;\"/>\n   </g>\n   <g id=\"patch_3\">\n    <path d=\"M 48.718875 295.90325 \nL 48.718875 23.50725 \n\" style=\"fill:none;stroke:#ffffff;stroke-linecap:square;stroke-linejoin:miter;stroke-width:1.25;\"/>\n   </g>\n   <g id=\"patch_4\">\n    <path d=\"M 335.765875 295.90325 \nL 335.765875 23.50725 \n\" style=\"fill:none;stroke:#ffffff;stroke-linecap:square;stroke-linejoin:miter;stroke-width:1.25;\"/>\n   </g>\n   <g id=\"patch_5\">\n    <path d=\"M 48.718875 295.90325 \nL 335.765875 295.90325 \n\" style=\"fill:none;stroke:#ffffff;stroke-linecap:square;stroke-linejoin:miter;stroke-width:1.25;\"/>\n   </g>\n   <g id=\"patch_6\">\n    <path d=\"M 48.718875 23.50725 \nL 335.765875 23.50725 \n\" style=\"fill:none;stroke:#ffffff;stroke-linecap:square;stroke-linejoin:miter;stroke-width:1.25;\"/>\n   </g>\n   <g id=\"text_17\">\n    <!-- Training Data -->\n    <g style=\"fill:#262626;\" transform=\"translate(149.294375 17.50725)scale(0.144 -0.144)\">\n     <defs>\n      <path d=\"M 1659 0 \nL 1659 4041 \nL 150 4041 \nL 150 4581 \nL 3781 4581 \nL 3781 4041 \nL 2266 4041 \nL 2266 0 \nL 1659 0 \nz\n\" id=\"ArialMT-54\" transform=\"scale(0.015625)\"/>\n      <path d=\"M 416 0 \nL 416 3319 \nL 922 3319 \nL 922 2816 \nQ 1116 3169 1280 3281 \nQ 1444 3394 1641 3394 \nQ 1925 3394 2219 3213 \nL 2025 2691 \nQ 1819 2813 1613 2813 \nQ 1428 2813 1281 2702 \nQ 1134 2591 1072 2394 \nQ 978 2094 978 1738 \nL 978 0 \nL 416 0 \nz\n\" id=\"ArialMT-72\" transform=\"scale(0.015625)\"/>\n      <path d=\"M 422 0 \nL 422 3319 \nL 928 3319 \nL 928 2847 \nQ 1294 3394 1984 3394 \nQ 2284 3394 2536 3286 \nQ 2788 3178 2913 3003 \nQ 3038 2828 3088 2588 \nQ 3119 2431 3119 2041 \nL 3119 0 \nL 2556 0 \nL 2556 2019 \nQ 2556 2363 2490 2533 \nQ 2425 2703 2258 2804 \nQ 2091 2906 1866 2906 \nQ 1506 2906 1245 2678 \nQ 984 2450 984 1813 \nL 984 0 \nL 422 0 \nz\n\" id=\"ArialMT-6e\" transform=\"scale(0.015625)\"/>\n      <path d=\"M 319 -275 \nL 866 -356 \nQ 900 -609 1056 -725 \nQ 1266 -881 1628 -881 \nQ 2019 -881 2231 -725 \nQ 2444 -569 2519 -288 \nQ 2563 -116 2559 434 \nQ 2191 0 1641 0 \nQ 956 0 581 494 \nQ 206 988 206 1678 \nQ 206 2153 378 2554 \nQ 550 2956 876 3175 \nQ 1203 3394 1644 3394 \nQ 2231 3394 2613 2919 \nL 2613 3319 \nL 3131 3319 \nL 3131 450 \nQ 3131 -325 2973 -648 \nQ 2816 -972 2473 -1159 \nQ 2131 -1347 1631 -1347 \nQ 1038 -1347 672 -1080 \nQ 306 -813 319 -275 \nz\nM 784 1719 \nQ 784 1066 1043 766 \nQ 1303 466 1694 466 \nQ 2081 466 2343 764 \nQ 2606 1063 2606 1700 \nQ 2606 2309 2336 2618 \nQ 2066 2928 1684 2928 \nQ 1309 2928 1046 2623 \nQ 784 2319 784 1719 \nz\n\" id=\"ArialMT-67\" transform=\"scale(0.015625)\"/>\n      <path d=\"M 494 0 \nL 494 4581 \nL 2072 4581 \nQ 2606 4581 2888 4516 \nQ 3281 4425 3559 4188 \nQ 3922 3881 4101 3404 \nQ 4281 2928 4281 2316 \nQ 4281 1794 4159 1391 \nQ 4038 988 3847 723 \nQ 3656 459 3429 307 \nQ 3203 156 2883 78 \nQ 2563 0 2147 0 \nL 494 0 \nz\nM 1100 541 \nL 2078 541 \nQ 2531 541 2789 625 \nQ 3047 709 3200 863 \nQ 3416 1078 3536 1442 \nQ 3656 1806 3656 2325 \nQ 3656 3044 3420 3430 \nQ 3184 3816 2847 3947 \nQ 2603 4041 2063 4041 \nL 1100 4041 \nL 1100 541 \nz\n\" id=\"ArialMT-44\" transform=\"scale(0.015625)\"/>\n     </defs>\n     <use xlink:href=\"#ArialMT-54\"/>\n     <use x=\"57.333984\" xlink:href=\"#ArialMT-72\"/>\n     <use x=\"90.634766\" xlink:href=\"#ArialMT-61\"/>\n     <use x=\"146.25\" xlink:href=\"#ArialMT-69\"/>\n     <use x=\"168.466797\" xlink:href=\"#ArialMT-6e\"/>\n     <use x=\"224.082031\" xlink:href=\"#ArialMT-69\"/>\n     <use x=\"246.298828\" xlink:href=\"#ArialMT-6e\"/>\n     <use x=\"301.914062\" xlink:href=\"#ArialMT-67\"/>\n     <use x=\"357.529297\" xlink:href=\"#ArialMT-20\"/>\n     <use x=\"385.3125\" xlink:href=\"#ArialMT-44\"/>\n     <use x=\"457.529297\" xlink:href=\"#ArialMT-61\"/>\n     <use x=\"513.144531\" xlink:href=\"#ArialMT-74\"/>\n     <use x=\"540.927734\" xlink:href=\"#ArialMT-61\"/>\n    </g>\n   </g>\n  </g>\n  <g id=\"axes_2\">\n   <g id=\"patch_7\">\n    <path d=\"M 400.942875 295.90325 \nL 687.989875 295.90325 \nL 687.989875 23.50725 \nL 400.942875 23.50725 \nz\n\" style=\"fill:#eaeaf2;\"/>\n   </g>\n   <g id=\"matplotlib.axis_3\">\n    <g id=\"xtick_6\">\n     <g id=\"line2d_17\">\n      <path clip-path=\"url(#p42085be6ca)\" d=\"M 400.942875 295.90325 \nL 400.942875 23.50725 \n\" style=\"fill:none;stroke:#ffffff;stroke-linecap:round;\"/>\n     </g>\n     <g id=\"text_18\">\n      <!-- 0 -->\n      <g style=\"fill:#262626;\" transform=\"translate(397.272656 314.851562)scale(0.132 -0.132)\">\n       <use xlink:href=\"#ArialMT-30\"/>\n      </g>\n     </g>\n    </g>\n    <g id=\"xtick_7\">\n     <g id=\"line2d_18\">\n      <path clip-path=\"url(#p42085be6ca)\" d=\"M 472.704625 295.90325 \nL 472.704625 23.50725 \n\" style=\"fill:none;stroke:#ffffff;stroke-linecap:round;\"/>\n     </g>\n     <g id=\"text_19\">\n      <!-- 20 -->\n      <g style=\"fill:#262626;\" transform=\"translate(465.364188 314.851562)scale(0.132 -0.132)\">\n       <use xlink:href=\"#ArialMT-32\"/>\n       <use x=\"55.615234\" xlink:href=\"#ArialMT-30\"/>\n      </g>\n     </g>\n    </g>\n    <g id=\"xtick_8\">\n     <g id=\"line2d_19\">\n      <path clip-path=\"url(#p42085be6ca)\" d=\"M 544.466375 295.90325 \nL 544.466375 23.50725 \n\" style=\"fill:none;stroke:#ffffff;stroke-linecap:round;\"/>\n     </g>\n     <g id=\"text_20\">\n      <!-- 40 -->\n      <g style=\"fill:#262626;\" transform=\"translate(537.125938 314.851562)scale(0.132 -0.132)\">\n       <use xlink:href=\"#ArialMT-34\"/>\n       <use x=\"55.615234\" xlink:href=\"#ArialMT-30\"/>\n      </g>\n     </g>\n    </g>\n    <g id=\"xtick_9\">\n     <g id=\"line2d_20\">\n      <path clip-path=\"url(#p42085be6ca)\" d=\"M 616.228125 295.90325 \nL 616.228125 23.50725 \n\" style=\"fill:none;stroke:#ffffff;stroke-linecap:round;\"/>\n     </g>\n     <g id=\"text_21\">\n      <!-- 60 -->\n      <g style=\"fill:#262626;\" transform=\"translate(608.887688 314.851562)scale(0.132 -0.132)\">\n       <use xlink:href=\"#ArialMT-36\"/>\n       <use x=\"55.615234\" xlink:href=\"#ArialMT-30\"/>\n      </g>\n     </g>\n    </g>\n    <g id=\"xtick_10\">\n     <g id=\"line2d_21\">\n      <path clip-path=\"url(#p42085be6ca)\" d=\"M 687.989875 295.90325 \nL 687.989875 23.50725 \n\" style=\"fill:none;stroke:#ffffff;stroke-linecap:round;\"/>\n     </g>\n     <g id=\"text_22\">\n      <!-- 80 -->\n      <g style=\"fill:#262626;\" transform=\"translate(680.649438 314.851562)scale(0.132 -0.132)\">\n       <use xlink:href=\"#ArialMT-38\"/>\n       <use x=\"55.615234\" xlink:href=\"#ArialMT-30\"/>\n      </g>\n     </g>\n    </g>\n    <g id=\"text_23\">\n     <!-- Actual y values -->\n     <g style=\"fill:#262626;\" transform=\"translate(496.044125 331.782312)scale(0.144 -0.144)\">\n      <use xlink:href=\"#ArialMT-41\"/>\n      <use x=\"66.699219\" xlink:href=\"#ArialMT-63\"/>\n      <use x=\"116.699219\" xlink:href=\"#ArialMT-74\"/>\n      <use x=\"144.482422\" xlink:href=\"#ArialMT-75\"/>\n      <use x=\"200.097656\" xlink:href=\"#ArialMT-61\"/>\n      <use x=\"255.712891\" xlink:href=\"#ArialMT-6c\"/>\n      <use x=\"277.929688\" xlink:href=\"#ArialMT-20\"/>\n      <use x=\"305.712891\" xlink:href=\"#ArialMT-79\"/>\n      <use x=\"355.712891\" xlink:href=\"#ArialMT-20\"/>\n      <use x=\"383.496094\" xlink:href=\"#ArialMT-76\"/>\n      <use x=\"433.496094\" xlink:href=\"#ArialMT-61\"/>\n      <use x=\"489.111328\" xlink:href=\"#ArialMT-6c\"/>\n      <use x=\"511.328125\" xlink:href=\"#ArialMT-75\"/>\n      <use x=\"566.943359\" xlink:href=\"#ArialMT-65\"/>\n      <use x=\"622.558594\" xlink:href=\"#ArialMT-73\"/>\n     </g>\n    </g>\n   </g>\n   <g id=\"matplotlib.axis_4\">\n    <g id=\"ytick_10\">\n     <g id=\"line2d_22\">\n      <path clip-path=\"url(#p42085be6ca)\" d=\"M 400.942875 295.90325 \nL 687.989875 295.90325 \n\" style=\"fill:none;stroke:#ffffff;stroke-linecap:round;\"/>\n     </g>\n     <g id=\"text_24\">\n      <!-- 0 -->\n      <g style=\"fill:#262626;\" transform=\"translate(384.102438 300.627406)scale(0.132 -0.132)\">\n       <use xlink:href=\"#ArialMT-30\"/>\n      </g>\n     </g>\n    </g>\n    <g id=\"ytick_11\">\n     <g id=\"line2d_23\">\n      <path clip-path=\"url(#p42085be6ca)\" d=\"M 400.942875 261.85375 \nL 687.989875 261.85375 \n\" style=\"fill:none;stroke:#ffffff;stroke-linecap:round;\"/>\n     </g>\n     <g id=\"text_25\">\n      <!-- 10 -->\n      <g style=\"fill:#262626;\" transform=\"translate(376.762 266.577906)scale(0.132 -0.132)\">\n       <use xlink:href=\"#ArialMT-31\"/>\n       <use x=\"55.615234\" xlink:href=\"#ArialMT-30\"/>\n      </g>\n     </g>\n    </g>\n    <g id=\"ytick_12\">\n     <g id=\"line2d_24\">\n      <path clip-path=\"url(#p42085be6ca)\" d=\"M 400.942875 227.80425 \nL 687.989875 227.80425 \n\" style=\"fill:none;stroke:#ffffff;stroke-linecap:round;\"/>\n     </g>\n     <g id=\"text_26\">\n      <!-- 20 -->\n      <g style=\"fill:#262626;\" transform=\"translate(376.762 232.528406)scale(0.132 -0.132)\">\n       <use xlink:href=\"#ArialMT-32\"/>\n       <use x=\"55.615234\" xlink:href=\"#ArialMT-30\"/>\n      </g>\n     </g>\n    </g>\n    <g id=\"ytick_13\">\n     <g id=\"line2d_25\">\n      <path clip-path=\"url(#p42085be6ca)\" d=\"M 400.942875 193.75475 \nL 687.989875 193.75475 \n\" style=\"fill:none;stroke:#ffffff;stroke-linecap:round;\"/>\n     </g>\n     <g id=\"text_27\">\n      <!-- 30 -->\n      <g style=\"fill:#262626;\" transform=\"translate(376.762 198.478906)scale(0.132 -0.132)\">\n       <use xlink:href=\"#ArialMT-33\"/>\n       <use x=\"55.615234\" xlink:href=\"#ArialMT-30\"/>\n      </g>\n     </g>\n    </g>\n    <g id=\"ytick_14\">\n     <g id=\"line2d_26\">\n      <path clip-path=\"url(#p42085be6ca)\" d=\"M 400.942875 159.70525 \nL 687.989875 159.70525 \n\" style=\"fill:none;stroke:#ffffff;stroke-linecap:round;\"/>\n     </g>\n     <g id=\"text_28\">\n      <!-- 40 -->\n      <g style=\"fill:#262626;\" transform=\"translate(376.762 164.429406)scale(0.132 -0.132)\">\n       <use xlink:href=\"#ArialMT-34\"/>\n       <use x=\"55.615234\" xlink:href=\"#ArialMT-30\"/>\n      </g>\n     </g>\n    </g>\n    <g id=\"ytick_15\">\n     <g id=\"line2d_27\">\n      <path clip-path=\"url(#p42085be6ca)\" d=\"M 400.942875 125.65575 \nL 687.989875 125.65575 \n\" style=\"fill:none;stroke:#ffffff;stroke-linecap:round;\"/>\n     </g>\n     <g id=\"text_29\">\n      <!-- 50 -->\n      <g style=\"fill:#262626;\" transform=\"translate(376.762 130.379906)scale(0.132 -0.132)\">\n       <use xlink:href=\"#ArialMT-35\"/>\n       <use x=\"55.615234\" xlink:href=\"#ArialMT-30\"/>\n      </g>\n     </g>\n    </g>\n    <g id=\"ytick_16\">\n     <g id=\"line2d_28\">\n      <path clip-path=\"url(#p42085be6ca)\" d=\"M 400.942875 91.60625 \nL 687.989875 91.60625 \n\" style=\"fill:none;stroke:#ffffff;stroke-linecap:round;\"/>\n     </g>\n     <g id=\"text_30\">\n      <!-- 60 -->\n      <g style=\"fill:#262626;\" transform=\"translate(376.762 96.330406)scale(0.132 -0.132)\">\n       <use xlink:href=\"#ArialMT-36\"/>\n       <use x=\"55.615234\" xlink:href=\"#ArialMT-30\"/>\n      </g>\n     </g>\n    </g>\n    <g id=\"ytick_17\">\n     <g id=\"line2d_29\">\n      <path clip-path=\"url(#p42085be6ca)\" d=\"M 400.942875 57.55675 \nL 687.989875 57.55675 \n\" style=\"fill:none;stroke:#ffffff;stroke-linecap:round;\"/>\n     </g>\n     <g id=\"text_31\">\n      <!-- 70 -->\n      <g style=\"fill:#262626;\" transform=\"translate(376.762 62.280906)scale(0.132 -0.132)\">\n       <use xlink:href=\"#ArialMT-37\"/>\n       <use x=\"55.615234\" xlink:href=\"#ArialMT-30\"/>\n      </g>\n     </g>\n    </g>\n    <g id=\"ytick_18\">\n     <g id=\"line2d_30\">\n      <path clip-path=\"url(#p42085be6ca)\" d=\"M 400.942875 23.50725 \nL 687.989875 23.50725 \n\" style=\"fill:none;stroke:#ffffff;stroke-linecap:round;\"/>\n     </g>\n     <g id=\"text_32\">\n      <!-- 80 -->\n      <g style=\"fill:#262626;\" transform=\"translate(376.762 28.231406)scale(0.132 -0.132)\">\n       <use xlink:href=\"#ArialMT-38\"/>\n       <use x=\"55.615234\" xlink:href=\"#ArialMT-30\"/>\n      </g>\n     </g>\n    </g>\n    <g id=\"text_33\">\n     <!-- Fitted y values -->\n     <g style=\"fill:#262626;\" transform=\"translate(369.73125 206.12275)rotate(-90)scale(0.144 -0.144)\">\n      <use xlink:href=\"#ArialMT-46\"/>\n      <use x=\"61.083984\" xlink:href=\"#ArialMT-69\"/>\n      <use x=\"83.300781\" xlink:href=\"#ArialMT-74\"/>\n      <use x=\"111.083984\" xlink:href=\"#ArialMT-74\"/>\n      <use x=\"138.867188\" xlink:href=\"#ArialMT-65\"/>\n      <use x=\"194.482422\" xlink:href=\"#ArialMT-64\"/>\n      <use x=\"250.097656\" xlink:href=\"#ArialMT-20\"/>\n      <use x=\"277.880859\" xlink:href=\"#ArialMT-79\"/>\n      <use x=\"327.880859\" xlink:href=\"#ArialMT-20\"/>\n      <use x=\"355.664062\" xlink:href=\"#ArialMT-76\"/>\n      <use x=\"405.664062\" xlink:href=\"#ArialMT-61\"/>\n      <use x=\"461.279297\" xlink:href=\"#ArialMT-6c\"/>\n      <use x=\"483.496094\" xlink:href=\"#ArialMT-75\"/>\n      <use x=\"539.111328\" xlink:href=\"#ArialMT-65\"/>\n      <use x=\"594.726562\" xlink:href=\"#ArialMT-73\"/>\n     </g>\n    </g>\n   </g>\n   <g id=\"PathCollection_2\">\n    <g clip-path=\"url(#p42085be6ca)\"/>\n   </g>\n   <g id=\"PolyCollection_2\">\n    <path clip-path=\"url(#p42085be6ca)\" d=\"M 400.942875 -6207.242623 \nL 400.942875 -4127.671376 \nL 403.84234 -4098.071223 \nL 406.741804 -4068.47107 \nL 409.641269 -4038.870918 \nL 412.540734 -4009.270765 \nL 415.440198 -3979.670612 \nL 418.339663 -3950.070459 \nL 421.239128 -3920.779755 \nL 424.138592 -3890.846093 \nL 427.038057 -3861.194017 \nL 429.937521 -3830.60665 \nL 432.836986 -3799.848454 \nL 435.736451 -3769.090258 \nL 438.635915 -3738.358889 \nL 441.53538 -3707.657862 \nL 444.434845 -3677.925347 \nL 447.334309 -3647.865178 \nL 450.233774 -3616.366795 \nL 453.133239 -3584.870574 \nL 456.032703 -3555.199925 \nL 458.932168 -3525.624808 \nL 461.831633 -3496.049692 \nL 464.731097 -3466.516987 \nL 467.630562 -3436.996462 \nL 470.530027 -3407.475937 \nL 473.429491 -3377.955412 \nL 476.328956 -3349.128626 \nL 479.22842 -3320.54087 \nL 482.127885 -3291.953115 \nL 485.02735 -3263.365359 \nL 487.926814 -3234.777603 \nL 490.826279 -3206.189847 \nL 493.725744 -3176.722541 \nL 496.625208 -3144.161578 \nL 499.524673 -3112.04438 \nL 502.424138 -3082.508538 \nL 505.323602 -3054.451167 \nL 508.223067 -3026.505348 \nL 511.122532 -2995.44199 \nL 514.021996 -2966.693671 \nL 516.921461 -2934.710018 \nL 519.820926 -2898.660635 \nL 522.72039 -2862.741407 \nL 525.619855 -2830.964608 \nL 528.519319 -2797.228578 \nL 531.418784 -2764.111297 \nL 534.318249 -2730.93268 \nL 537.217713 -2698.725387 \nL 540.117178 -2662.893266 \nL 543.016643 -2627.66559 \nL 545.916107 -2589.315156 \nL 548.815572 -2544.781881 \nL 551.715037 -2500.783909 \nL 554.614501 -2454.378851 \nL 557.513966 -2403.34261 \nL 560.413431 -2344.462771 \nL 563.312895 -2284.792246 \nL 566.21236 -2226.135011 \nL 569.111824 -2162.321494 \nL 572.011289 -2102.690117 \nL 574.910754 -2040.988825 \nL 577.810218 -1979.133269 \nL 580.709683 -1915.129859 \nL 583.609148 -1849.236036 \nL 586.508612 -1783.299537 \nL 589.408077 -1717.491552 \nL 592.307542 -1654.339107 \nL 595.207006 -1590.355141 \nL 598.106471 -1522.058907 \nL 601.005936 -1453.744648 \nL 603.9054 -1385.376782 \nL 606.804865 -1317.008916 \nL 609.70433 -1248.64105 \nL 612.603794 -1180.273184 \nL 615.503259 -1111.905318 \nL 618.402723 -1043.558094 \nL 621.302188 -975.230691 \nL 624.201653 -906.846621 \nL 627.101117 -838.486203 \nL 630.000582 -774.06728 \nL 632.900047 -705.141401 \nL 635.799511 -636.238433 \nL 638.698976 -570.612073 \nL 641.598441 -506.917393 \nL 644.497905 -443.22595 \nL 647.39737 -379.534506 \nL 650.296835 -312.561633 \nL 653.196299 -244.454255 \nL 656.095764 -177.45803 \nL 658.995229 -108.347642 \nL 661.894693 -39.237255 \nL 664.794158 29.873132 \nL 667.693622 98.98352 \nL 670.593087 167.942911 \nL 673.492552 235.581233 \nL 676.392016 303.190435 \nL 679.291481 372.420709 \nL 682.190946 441.650982 \nL 685.09041 510.881256 \nL 687.989875 579.880571 \nL 687.989875 -1175.216552 \nL 687.989875 -1175.216552 \nL 685.09041 -1205.28581 \nL 682.190946 -1235.015259 \nL 679.291481 -1264.438767 \nL 676.392016 -1293.862274 \nL 673.492552 -1323.285782 \nL 670.593087 -1352.709289 \nL 667.693622 -1382.116477 \nL 664.794158 -1411.519266 \nL 661.894693 -1440.922056 \nL 658.995229 -1470.324845 \nL 656.095764 -1499.727634 \nL 653.196299 -1529.130423 \nL 650.296835 -1558.533213 \nL 647.39737 -1587.936002 \nL 644.497905 -1617.338791 \nL 641.598441 -1646.74158 \nL 638.698976 -1676.14437 \nL 635.799511 -1706.873097 \nL 632.900047 -1736.291277 \nL 630.000582 -1766.013933 \nL 627.101117 -1796.376898 \nL 624.201653 -1826.710027 \nL 621.302188 -1857.317667 \nL 618.402723 -1890.057361 \nL 615.503259 -1923.886559 \nL 612.603794 -1957.439499 \nL 609.70433 -1987.557414 \nL 606.804865 -2017.638586 \nL 603.9054 -2049.137299 \nL 601.005936 -2078.130608 \nL 598.106471 -2114.108367 \nL 595.207006 -2145.653476 \nL 592.307542 -2182.452127 \nL 589.408077 -2213.395418 \nL 586.508612 -2247.059224 \nL 583.609148 -2280.714867 \nL 580.709683 -2317.009556 \nL 577.810218 -2353.707753 \nL 574.910754 -2398.26905 \nL 572.011289 -2441.871611 \nL 569.111824 -2484.281552 \nL 566.21236 -2531.671505 \nL 563.312895 -2577.344689 \nL 560.413431 -2629.805328 \nL 557.513966 -2683.489491 \nL 554.614501 -2737.668158 \nL 551.715037 -2794.690561 \nL 548.815572 -2851.508316 \nL 545.916107 -2907.26038 \nL 543.016643 -2966.004846 \nL 540.117178 -3024.503275 \nL 537.217713 -3083.420687 \nL 534.318249 -3142.826829 \nL 531.418784 -3204.912577 \nL 528.519319 -3267.657254 \nL 525.619855 -3329.019827 \nL 522.72039 -3387.816043 \nL 519.820926 -3451.936902 \nL 516.921461 -3507.96899 \nL 514.021996 -3575.882765 \nL 511.122532 -3650.166485 \nL 508.223067 -3713.192667 \nL 505.323602 -3778.286816 \nL 502.424138 -3841.028097 \nL 499.524673 -3906.067984 \nL 496.625208 -3976.864126 \nL 493.725744 -4046.576994 \nL 490.826279 -4109.326867 \nL 487.926814 -4177.034605 \nL 485.02735 -4247.306348 \nL 482.127885 -4319.300714 \nL 479.22842 -4383.911629 \nL 476.328956 -4451.582668 \nL 473.429491 -4521.912167 \nL 470.530027 -4587.087113 \nL 467.630562 -4651.673079 \nL 464.731097 -4720.461938 \nL 461.831633 -4786.361444 \nL 458.932168 -4854.032002 \nL 456.032703 -4920.569348 \nL 453.133239 -4986.446249 \nL 450.233774 -5054.213089 \nL 447.334309 -5119.742571 \nL 444.434845 -5187.288782 \nL 441.53538 -5255.923927 \nL 438.635915 -5324.559072 \nL 435.736451 -5393.194217 \nL 432.836986 -5461.853709 \nL 429.937521 -5529.005161 \nL 427.038057 -5596.844436 \nL 424.138592 -5664.666457 \nL 421.239128 -5732.488478 \nL 418.339663 -5800.310499 \nL 415.440198 -5868.13252 \nL 412.540734 -5935.95454 \nL 409.641269 -6003.776561 \nL 406.741804 -6071.598582 \nL 403.84234 -6139.420603 \nL 400.942875 -6207.242623 \nz\n\" style=\"fill:#c44e52;fill-opacity:0.15;stroke:#ffffff;stroke-opacity:0.15;\"/>\n   </g>\n   <g id=\"line2d_31\">\n    <path clip-path=\"url(#p42085be6ca)\" style=\"fill:none;stroke:#c44e52;stroke-dasharray:7.4,3.2;stroke-dashoffset:0;stroke-opacity:0.3;stroke-width:2;\"/>\n   </g>\n   <g id=\"line2d_32\">\n    <path clip-path=\"url(#p42085be6ca)\" d=\"M 400.942875 295.90325 \nL 703.530313 8.760003 \n\" style=\"fill:none;stroke:#808080;stroke-dasharray:5.55,2.4;stroke-dashoffset:0;stroke-width:1.5;\"/>\n   </g>\n   <g id=\"patch_8\">\n    <path d=\"M 400.942875 295.90325 \nL 400.942875 23.50725 \n\" style=\"fill:none;stroke:#ffffff;stroke-linecap:square;stroke-linejoin:miter;stroke-width:1.25;\"/>\n   </g>\n   <g id=\"patch_9\">\n    <path d=\"M 687.989875 295.90325 \nL 687.989875 23.50725 \n\" style=\"fill:none;stroke:#ffffff;stroke-linecap:square;stroke-linejoin:miter;stroke-width:1.25;\"/>\n   </g>\n   <g id=\"patch_10\">\n    <path d=\"M 400.942875 295.90325 \nL 687.989875 295.90325 \n\" style=\"fill:none;stroke:#ffffff;stroke-linecap:square;stroke-linejoin:miter;stroke-width:1.25;\"/>\n   </g>\n   <g id=\"patch_11\">\n    <path d=\"M 400.942875 23.50725 \nL 687.989875 23.50725 \n\" style=\"fill:none;stroke:#ffffff;stroke-linecap:square;stroke-linejoin:miter;stroke-width:1.25;\"/>\n   </g>\n   <g id=\"text_34\">\n    <!-- Test Data -->\n    <g style=\"fill:#262626;\" transform=\"translate(514.057625 17.50725)scale(0.144 -0.144)\">\n     <use xlink:href=\"#ArialMT-54\"/>\n     <use x=\"49.958984\" xlink:href=\"#ArialMT-65\"/>\n     <use x=\"105.574219\" xlink:href=\"#ArialMT-73\"/>\n     <use x=\"155.574219\" xlink:href=\"#ArialMT-74\"/>\n     <use x=\"183.357422\" xlink:href=\"#ArialMT-20\"/>\n     <use x=\"211.140625\" xlink:href=\"#ArialMT-44\"/>\n     <use x=\"283.357422\" xlink:href=\"#ArialMT-61\"/>\n     <use x=\"338.972656\" xlink:href=\"#ArialMT-74\"/>\n     <use x=\"366.755859\" xlink:href=\"#ArialMT-61\"/>\n    </g>\n   </g>\n  </g>\n </g>\n <defs>\n  <clipPath id=\"p199f015229\">\n   <rect height=\"272.396\" width=\"287.047\" x=\"48.718875\" y=\"23.50725\"/>\n  </clipPath>\n  <clipPath id=\"p42085be6ca\">\n   <rect height=\"272.396\" width=\"287.047\" x=\"400.942875\" y=\"23.50725\"/>\n  </clipPath>\n </defs>\n</svg>\n",
      "text/plain": [
       "<Figure size 720x360 with 2 Axes>"
      ]
     },
     "metadata": {},
     "output_type": "display_data"
    }
   ],
   "source": [
    "\n",
    "\n",
    "fig, axs = plt.subplots(1,2,figsize=(10,5))\n",
    "ax = axs[0]\n",
    "data = {'y_pred':[],'y_true':[]}\n",
    "for x,y in ds_train:\n",
    "    data['y_pred'].extend(f.model(x)[:,0].numpy())\n",
    "    data['y_true'].extend(y[:,0].numpy())\n",
    "df = pd.DataFrame(data,columns=['y_pred','y_true'])\n",
    "ax.set_xlim(0,80)\n",
    "ax.set_ylim(0,80)\n",
    "sns.regplot(\"y_true\",\"y_pred\",data=df,ax=ax,truncate=False,\n",
    "            scatter_kws={'alpha':0.5},line_kws={'color':'r','alpha':0.3,'linestyle':'--','linewidth':2})\n",
    "ax.plot([0,100],[0,100],color=\"gray\",linestyle=\"--\")\n",
    "ax.set_xlabel(\"Actual y values\")\n",
    "ax.set_ylabel(\"Fitted y values\")\n",
    "ax.set_title(\"Training Data\")\n",
    "\n",
    "ax = axs[1]\n",
    "data = {'y_pred':[],'y_true':[]}\n",
    "for x,y in ds_test:\n",
    "    data['y_pred'].extend(f.model(x)[:,0].numpy())\n",
    "    data['y_true'].extend(y[:,0].numpy())\n",
    "df = pd.DataFrame(data,columns=['y_pred','y_true'])\n",
    "ax.set_ylim(0,80)\n",
    "ax.set_xlim(0,80)\n",
    "sns.regplot(\"y_true\",\"y_pred\",data=df,ax=ax,truncate=False,\n",
    "            scatter_kws={'alpha':0.5},line_kws={'color':'r','alpha':0.3,'linestyle':'--','linewidth':2})\n",
    "ax.plot([0,100],[0,100],color=\"gray\",linestyle=\"--\")\n",
    "ax.set_xlabel(\"Actual y values\")\n",
    "ax.set_ylabel(\"Fitted y values\")\n",
    "ax.set_title(\"Test Data\")\n",
    "plt.tight_layout()\n",
    "#plt.savefig(\"ex_regression.pdf\")"
   ]
  },
  {
   "cell_type": "code",
   "execution_count": null,
   "metadata": {},
   "outputs": [],
   "source": []
  }
 ],
 "metadata": {
  "interpreter": {
   "hash": "889985fd10eb245a43f2ae5f5aa0c555254f5b898fe16071f1c89d06fa8d76a2"
  },
  "kernelspec": {
   "display_name": "Python 3.9.6 64-bit ('tf-py39': conda)",
   "name": "python3"
  },
  "language_info": {
   "codemirror_mode": {
    "name": "ipython",
    "version": 3
   },
   "file_extension": ".py",
   "mimetype": "text/x-python",
   "name": "python",
   "nbconvert_exporter": "python",
   "pygments_lexer": "ipython3",
   "version": "3.9.6"
  }
 },
 "nbformat": 4,
 "nbformat_minor": 4
}
