{
 "cells": [
  {
   "cell_type": "markdown",
   "metadata": {},
   "source": [
    "# MNIST Digit Addition Problem\n",
    "\n",
    "This is an adaptation of the experiment on Single Digit Addition, on a more complicated setup with multiple digits.\n",
    "\n",
    "Consider the classifier $\\mathtt{addition([X_1,X_2],[Y_1,Y_2],N)}$. $\\mathtt{[X_1,X_2]}$ and $\\mathtt{[Y_1,Y_2]}$ are lists of images of digits, representing two multi-digit numbers; $\\mathtt{N}$ is a natural number corresponding to the sum of the two multi-digit numbers. The classifier must return a confidence in the validity of the addition.\n",
    "\n",
    "The steps are similar to that of the Single Digit Addition example (read the first notebook for more details)."
   ]
  },
  {
   "cell_type": "code",
   "execution_count": 1,
   "metadata": {},
   "outputs": [],
   "source": [
    "import tensorflow as tf\n",
    "import ltn\n",
    "import baselines, data, commons\n",
    "import matplotlib.pyplot as plt"
   ]
  },
  {
   "cell_type": "markdown",
   "metadata": {},
   "source": [
    "Dataset of images for the digits X1, X2, Y1 and Y2, and their label Z s.t. 10\\*X1+X2+10\\*X2+Y2=Z."
   ]
  },
  {
   "cell_type": "code",
   "execution_count": 2,
   "metadata": {},
   "outputs": [
    {
     "name": "stderr",
     "output_type": "stream",
     "text": [
      "2021-08-31 05:48:57.319207: I tensorflow/stream_executor/cuda/cuda_gpu_executor.cc:937] successful NUMA node read from SysFS had negative value (-1), but there must be at least one NUMA node, so returning NUMA node zero\n",
      "2021-08-31 05:48:57.326318: I tensorflow/stream_executor/cuda/cuda_gpu_executor.cc:937] successful NUMA node read from SysFS had negative value (-1), but there must be at least one NUMA node, so returning NUMA node zero\n",
      "2021-08-31 05:48:57.326934: I tensorflow/stream_executor/cuda/cuda_gpu_executor.cc:937] successful NUMA node read from SysFS had negative value (-1), but there must be at least one NUMA node, so returning NUMA node zero\n",
      "2021-08-31 05:48:57.327946: I tensorflow/core/platform/cpu_feature_guard.cc:142] This TensorFlow binary is optimized with oneAPI Deep Neural Network Library (oneDNN) to use the following CPU instructions in performance-critical operations:  AVX2 AVX512F FMA\n",
      "To enable them in other operations, rebuild TensorFlow with the appropriate compiler flags.\n",
      "2021-08-31 05:48:57.328385: I tensorflow/stream_executor/cuda/cuda_gpu_executor.cc:937] successful NUMA node read from SysFS had negative value (-1), but there must be at least one NUMA node, so returning NUMA node zero\n",
      "2021-08-31 05:48:57.329003: I tensorflow/stream_executor/cuda/cuda_gpu_executor.cc:937] successful NUMA node read from SysFS had negative value (-1), but there must be at least one NUMA node, so returning NUMA node zero\n",
      "2021-08-31 05:48:57.329550: I tensorflow/stream_executor/cuda/cuda_gpu_executor.cc:937] successful NUMA node read from SysFS had negative value (-1), but there must be at least one NUMA node, so returning NUMA node zero\n",
      "2021-08-31 05:48:57.920724: I tensorflow/stream_executor/cuda/cuda_gpu_executor.cc:937] successful NUMA node read from SysFS had negative value (-1), but there must be at least one NUMA node, so returning NUMA node zero\n",
      "2021-08-31 05:48:57.921323: I tensorflow/stream_executor/cuda/cuda_gpu_executor.cc:937] successful NUMA node read from SysFS had negative value (-1), but there must be at least one NUMA node, so returning NUMA node zero\n",
      "2021-08-31 05:48:57.921862: I tensorflow/stream_executor/cuda/cuda_gpu_executor.cc:937] successful NUMA node read from SysFS had negative value (-1), but there must be at least one NUMA node, so returning NUMA node zero\n",
      "2021-08-31 05:48:57.922383: I tensorflow/core/common_runtime/gpu/gpu_device.cc:1510] Created device /job:localhost/replica:0/task:0/device:GPU:0 with 13798 MB memory:  -> device: 0, name: Tesla T4, pci bus id: 0000:00:1e.0, compute capability: 7.5\n"
     ]
    },
    {
     "name": "stdout",
     "output_type": "stream",
     "text": [
      "Result label is 102\n"
     ]
    },
    {
     "data": {
      "image/png": "[encoded data removed]",
      "image/svg+xml": "<?xml version=\"1.0\" encoding=\"utf-8\" standalone=\"no\"?>\n<!DOCTYPE svg PUBLIC \"-//W3C//DTD SVG 1.1//EN\"\n  \"http://www.w3.org/Graphics/SVG/1.1/DTD/svg11.dtd\">\n<svg height=\"250.552409pt\" version=\"1.1\" viewBox=\"0 0 315.579545 250.552409\" width=\"315.579545pt\" xmlns=\"http://www.w3.org/2000/svg\" xmlns:xlink=\"http://www.w3.org/1999/xlink\">\n <metadata>\n  <rdf:RDF xmlns:cc=\"http://creativecommons.org/ns#\" xmlns:dc=\"http://purl.org/dc/elements/1.1/\" xmlns:rdf=\"http://www.w3.org/1999/02/22-rdf-syntax-ns#\">\n   <cc:Work>\n    <dc:type rdf:resource=\"http://purl.org/dc/dcmitype/StillImage\"/>\n    <dc:date>2021-08-31T05:48:58.572609</dc:date>\n    <dc:format>image/svg+xml</dc:format>\n    <dc:creator>\n     <cc:Agent>\n      <dc:title>Matplotlib v3.4.2, https://matplotlib.org/</dc:title>\n     </cc:Agent>\n    </dc:creator>\n   </cc:Work>\n  </rdf:RDF>\n </metadata>\n <defs>\n  <style type=\"text/css\">*{stroke-linecap:butt;stroke-linejoin:round;}</style>\n </defs>\n <g id=\"figure_1\">\n  <g id=\"patch_1\">\n   <path d=\"M 0 250.552409 \nL 315.579545 250.552409 \nL 315.579545 0 \nL 0 0 \nz\n\" style=\"fill:none;\"/>\n  </g>\n  <g id=\"axes_1\">\n   <g id=\"patch_2\">\n    <path d=\"M 26.925 108.070647 \nL 125.761364 108.070647 \nL 125.761364 9.234284 \nL 26.925 9.234284 \nz\n\" style=\"fill:#ffffff;\"/>\n   </g>\n   <g clip-path=\"url(#p3c016feddd)\">\n    <image height=\"99\" id=\"imagebea61a5616\" transform=\"scale(1 -1)translate(0 -99)\" width=\"99\" x=\"26.925\" xlink:href=\"data:image/png;base64,\niVBORw0KGgoAAAANSUhEUgAAAGMAAABjCAYAAACPO76VAAAEpUlEQVR4nO2cW2hURxjHz9mNWS8xRRPTRoRWJfGSGhE3IW0pltJLRKII3iLxUrVg6w2EarC10JdChfZF221pY4u3F/GuFcEXQ7zFW4wE74ikxmAeJLFuNxuz26d+k0+6p+ekx+bf9f97+g/fmZ1Z/vvNzA4zx37HnpW0CASBvu4AMdAMIGgGEDQDCJoBBM0AgmYAQTOAoBlA0AwgaAYQNAMImgFEhpeHO6eWiG6Z4r5q1l2jh0VOe2nyuYKZAQTNAIJmAOFpzrDXPhDdNH6v63qdyS7RLdXdKlZ+YK3ogtVnvXQn7WBmAEEzgLC9HEg41tIguivZnfpBD0STcdF1sSEqtvJElejCped9aQ8ZZgYQNAMImgFEn88ZTvRso6a9QMUOL51iCmcafWkvmDNUldumj0n5bE5jh+jkhSZf2mdmAEEzgPA0TN3aPkn0tbd/ct1IdavZ7T14vVjFtpfViJ4ccv2RVm0sU/RXCxeomH2ywfXnBHNzRLduzVWxs5N3paxXVLtE9MjKy67bc4KZAQTNAIJmAOFpzggWmaXejcV6GXhu3teiswJ68G+MmyXqh5vWqNjvLxvdtGCL265YAcsWfSSapWJrjlep8th1V0XboUwVu18zTHR9eKfr9o9GB4v+tqDQdT0nmBlA0AwgPA1TTnTMLxNdvr5WxTbkXvGjCUXPYSphOX+FubfLReeEoir23Yjapx//Ww4+1jvKP1ZWiOY/8DSEZgBBM4Dwbc7oSXCc3mG9955ZPoYr9Q7rkjwzZpeG3HfFy5zRW5riT0RXz1mmYslzz2IeJDDQDCCeyTDlqQPhV0VH9nyvYiMyBqSs99uTP1w954Uj0RdU+fPIQtH535zypQ0nmBlA0AwgaAYQfT5n9OTpAwE3P0l9IGBUtbnn0XF0tIrVFe/uVftln61Q5aE//7d3SZgZQNAMIGgGEFBzhl+07h+nyudLdriqV99pq/IXVR+Itk/5cwLECWYGEDQDiLQcpuLvh1X57vyE6F/e3Kpir4VSnxk+GesnetUPy1Vs+Cb/t0eYGUDQDCBoBhBpOWc4UXxRL1+/fNHdXcE3Guap8pBpN33r018wM4CgGUA8d8PUg49fV+X6Tze7qteeiKnyzNXmzQ4D9/nzZgdmBhA0AwiaAYSnt+qkA/m79ZJ0wzKzdeK0zI0m9dQ6+PpD0X5dwmZmAEEzgIAepuwM0734WxNd1wvV6fsSiZhZlna3tanYr3eKRDsNU/lBfVDu2npzda1gkeuuOcLMAIJmAEEzgICeM5rXlYpuWKG3LZzuZ8y4UaHKjzv7p2xjUva9XvVtUHbsnx/yCDMDCJoBBPQwlXfBvExyYmSVil35KPXbFA4UHvK9LwkrocovZT/yvQ1mBhA0AwiaAQT0nJF5zGxP5AVKVGxCZKXofuGHKlZfsk2VAz785h4l4qoc2zJc9ECr+V9/vmUxM6CgGUCk5YGE5o360EHXIPMVN8/SZ23fHWCuMAdt/dssvTRbdPtF/TLJVzb6f8WMmQEEzQCCZgCRlnPG/xVmBhA0AwiaAQTNAIJmAEEzgKAZQNAMIGgGEDQDCJoBBM0AgmYA8Sc5qgWMM5kB/AAAAABJRU5ErkJggg==\" y=\"-9.070647\"/>\n   </g>\n   <g id=\"matplotlib.axis_1\">\n    <g id=\"xtick_1\">\n     <g id=\"line2d_1\">\n      <defs>\n       <path d=\"M 0 0 \nL 0 3.5 \n\" id=\"m188337e080\" style=\"stroke:#000000;stroke-width:0.8;\"/>\n      </defs>\n      <g>\n       <use style=\"stroke:#000000;stroke-width:0.8;\" x=\"28.689935\" xlink:href=\"#m188337e080\" y=\"108.070647\"/>\n      </g>\n     </g>\n     <g id=\"text_1\">\n      <!-- 0 -->\n      <g transform=\"translate(25.508685 122.669085)scale(0.1 -0.1)\">\n       <defs>\n        <path d=\"M 2034 4250 \nQ 1547 4250 1301 3770 \nQ 1056 3291 1056 2328 \nQ 1056 1369 1301 889 \nQ 1547 409 2034 409 \nQ 2525 409 2770 889 \nQ 3016 1369 3016 2328 \nQ 3016 3291 2770 3770 \nQ 2525 4250 2034 4250 \nz\nM 2034 4750 \nQ 2819 4750 3233 4129 \nQ 3647 3509 3647 2328 \nQ 3647 1150 3233 529 \nQ 2819 -91 2034 -91 \nQ 1250 -91 836 529 \nQ 422 1150 422 2328 \nQ 422 3509 836 4129 \nQ 1250 4750 2034 4750 \nz\n\" id=\"DejaVuSans-30\" transform=\"scale(0.015625)\"/>\n       </defs>\n       <use xlink:href=\"#DejaVuSans-30\"/>\n      </g>\n     </g>\n    </g>\n    <g id=\"xtick_2\">\n     <g id=\"line2d_2\">\n      <g>\n       <use style=\"stroke:#000000;stroke-width:0.8;\" x=\"63.988636\" xlink:href=\"#m188337e080\" y=\"108.070647\"/>\n      </g>\n     </g>\n     <g id=\"text_2\">\n      <!-- 10 -->\n      <g transform=\"translate(57.626136 122.669085)scale(0.1 -0.1)\">\n       <defs>\n        <path d=\"M 794 531 \nL 1825 531 \nL 1825 4091 \nL 703 3866 \nL 703 4441 \nL 1819 4666 \nL 2450 4666 \nL 2450 531 \nL 3481 531 \nL 3481 0 \nL 794 0 \nL 794 531 \nz\n\" id=\"DejaVuSans-31\" transform=\"scale(0.015625)\"/>\n       </defs>\n       <use xlink:href=\"#DejaVuSans-31\"/>\n       <use x=\"63.623047\" xlink:href=\"#DejaVuSans-30\"/>\n      </g>\n     </g>\n    </g>\n    <g id=\"xtick_3\">\n     <g id=\"line2d_3\">\n      <g>\n       <use style=\"stroke:#000000;stroke-width:0.8;\" x=\"99.287338\" xlink:href=\"#m188337e080\" y=\"108.070647\"/>\n      </g>\n     </g>\n     <g id=\"text_3\">\n      <!-- 20 -->\n      <g transform=\"translate(92.924838 122.669085)scale(0.1 -0.1)\">\n       <defs>\n        <path d=\"M 1228 531 \nL 3431 531 \nL 3431 0 \nL 469 0 \nL 469 531 \nQ 828 903 1448 1529 \nQ 2069 2156 2228 2338 \nQ 2531 2678 2651 2914 \nQ 2772 3150 2772 3378 \nQ 2772 3750 2511 3984 \nQ 2250 4219 1831 4219 \nQ 1534 4219 1204 4116 \nQ 875 4013 500 3803 \nL 500 4441 \nQ 881 4594 1212 4672 \nQ 1544 4750 1819 4750 \nQ 2544 4750 2975 4387 \nQ 3406 4025 3406 3419 \nQ 3406 3131 3298 2873 \nQ 3191 2616 2906 2266 \nQ 2828 2175 2409 1742 \nQ 1991 1309 1228 531 \nz\n\" id=\"DejaVuSans-32\" transform=\"scale(0.015625)\"/>\n       </defs>\n       <use xlink:href=\"#DejaVuSans-32\"/>\n       <use x=\"63.623047\" xlink:href=\"#DejaVuSans-30\"/>\n      </g>\n     </g>\n    </g>\n   </g>\n   <g id=\"matplotlib.axis_2\">\n    <g id=\"ytick_1\">\n     <g id=\"line2d_4\">\n      <defs>\n       <path d=\"M 0 0 \nL -3.5 0 \n\" id=\"m7babf79b29\" style=\"stroke:#000000;stroke-width:0.8;\"/>\n      </defs>\n      <g>\n       <use style=\"stroke:#000000;stroke-width:0.8;\" x=\"26.925\" xlink:href=\"#m7babf79b29\" y=\"10.999219\"/>\n      </g>\n     </g>\n     <g id=\"text_4\">\n      <!-- 0 -->\n      <g transform=\"translate(13.5625 14.798437)scale(0.1 -0.1)\">\n       <use xlink:href=\"#DejaVuSans-30\"/>\n      </g>\n     </g>\n    </g>\n    <g id=\"ytick_2\">\n     <g id=\"line2d_5\">\n      <g>\n       <use style=\"stroke:#000000;stroke-width:0.8;\" x=\"26.925\" xlink:href=\"#m7babf79b29\" y=\"46.29792\"/>\n      </g>\n     </g>\n     <g id=\"text_5\">\n      <!-- 10 -->\n      <g transform=\"translate(7.2 50.097139)scale(0.1 -0.1)\">\n       <use xlink:href=\"#DejaVuSans-31\"/>\n       <use x=\"63.623047\" xlink:href=\"#DejaVuSans-30\"/>\n      </g>\n     </g>\n    </g>\n    <g id=\"ytick_3\">\n     <g id=\"line2d_6\">\n      <g>\n       <use style=\"stroke:#000000;stroke-width:0.8;\" x=\"26.925\" xlink:href=\"#m7babf79b29\" y=\"81.596621\"/>\n      </g>\n     </g>\n     <g id=\"text_6\">\n      <!-- 20 -->\n      <g transform=\"translate(7.2 85.39584)scale(0.1 -0.1)\">\n       <use xlink:href=\"#DejaVuSans-32\"/>\n       <use x=\"63.623047\" xlink:href=\"#DejaVuSans-30\"/>\n      </g>\n     </g>\n    </g>\n   </g>\n   <g id=\"patch_3\">\n    <path d=\"M 26.925 108.070647 \nL 26.925 9.234284 \n\" style=\"fill:none;stroke:#000000;stroke-linecap:square;stroke-linejoin:miter;stroke-width:0.8;\"/>\n   </g>\n   <g id=\"patch_4\">\n    <path d=\"M 125.761364 108.070647 \nL 125.761364 9.234284 \n\" style=\"fill:none;stroke:#000000;stroke-linecap:square;stroke-linejoin:miter;stroke-width:0.8;\"/>\n   </g>\n   <g id=\"patch_5\">\n    <path d=\"M 26.925 108.070647 \nL 125.761364 108.070647 \n\" style=\"fill:none;stroke:#000000;stroke-linecap:square;stroke-linejoin:miter;stroke-width:0.8;\"/>\n   </g>\n   <g id=\"patch_6\">\n    <path d=\"M 26.925 9.234284 \nL 125.761364 9.234284 \n\" style=\"fill:none;stroke:#000000;stroke-linecap:square;stroke-linejoin:miter;stroke-width:0.8;\"/>\n   </g>\n  </g>\n  <g id=\"axes_2\">\n   <g id=\"patch_7\">\n    <path d=\"M 209.543182 108.070647 \nL 308.379545 108.070647 \nL 308.379545 9.234284 \nL 209.543182 9.234284 \nz\n\" style=\"fill:#ffffff;\"/>\n   </g>\n   <g clip-path=\"url(#pb138911b35)\">\n    <image height=\"99\" id=\"imagee0a11fbe42\" transform=\"scale(1 -1)translate(0 -99)\" width=\"99\" x=\"209.543182\" xlink:href=\"data:image/png;base64,\niVBORw0KGgoAAAANSUhEUgAAAGMAAABjCAYAAACPO76VAAAEgklEQVR4nO2dWUhVQRjHPV7T1kupWGRGqWFSWdFCexFZZEZR0UKBULQ9CFHchLB6iXqohFZ6iRaihWjxJVoMI9ppt6SNaC+UkjDLUq89NeN34tyOl3Pu/V/7/56+j+/cmcH//WbmzswZjQnGrMYoAkF0uBtANBQDCIoBBMUAgmIAQTGAoBhAUAwgKAYQFAMIigEExQCCYgARE4pKjBhdTW32QBF7PVMvGk/Meixi25Mv2yo/2vSdyriwRPiZhZ+UXf/uva0ywwEzAwiKAQTFAMJwY6fPk95T+D/3NCj7TOYJp6v7a8zwR/mFX1yTqOwdBXNFrO2pm463J1iYGUBQDCBc6aY++EYI//aKbU5XIfhXN9WU7/464Q/bv0rZPdZed7ZhzYSZAQTFAIJiAOHKcsivwd8sYy/rZJ+dU5qvG1MRK2IJD+0NZ5+zDOH7k2uFv2/EPmUPjpVlFs3TsV2HckWs4ekLW/U7BTMDCIoBhCtT2/FlNcLP7fBQ2b6cPBFrKH/mdPUB6XGrjfCbrgz3OZovYmmrboSkTX9gZgBBMYCgGEC4MrU9/S5L+AeuZCs7pfyaG1Xa5u2U9sIvvqpXdNulfQ11cwTMDCAoBhCudFMdZ1cI3/vtpRvVBEVjdbXwtzyfGKaW/A0zAwiKAQTFAMKVMcNv6pftEpPSTZaT4NX2/XLb5Xg6dRL+pzm9lT11uTwYtybxsLJ7n18mYl1s1+gMzAwgKAYQITlrGwhPr1RljzlZJmKzvPeUXfBmumUZ0YZceE5vVyn89UnbLT+7rmKIsjN2yk2pUF8dwcwAgmIAQTGACPuY8TFbTyBXxh83RfWu3JHUc5ZltDI8wq9rbDA9ob9zGSWLRSR1v7Y9d+4GbKvbMDOAoBhAUAwgwj5mJO3WO38H85NFbIH3ra0y6kw/CAIdfB7QU5ZZe79e2eaRJtQwM4CgGEC4cogtWIxBfYT/pa/X4klJ5ch64R+ZsEf4A+Osu63cJzN0/YXxsj3XH9iq3ymYGUBQDCAoBhBQY4ZT1OYOFX56od4l3J1Savk530f5LuLjAn0YL+biHYdaZw0zAwiKAUSL7KbMGHFxyq6eJm/1mVx4Sdm+BLnTmPdqkrKrRn5xp3FNYGYAQTGAoBhA/BdjRiA+Lxqu7GPrNotYXJM3mpeOnidi9a/trSg3B2YGEBQDiLBvLoWbhL36Jp0p3VeL2JWFutv6nilP3saym2rZUAwgKAYQETNmGK3kjTv9b/1SdumHXiJWVZYYZZdR4x4pu6jLVhGr9utZf+urT0TMeu8weJgZQFAMICKmm6qZKldbfYlFyt6QJDd+/AOC7UTkn6O4Rk9ng301rjkwM4CgGEBQDCAiZsxoe1LeWX5uU3dlz25fYX48KEp+dBD+xh3zld05yv3bgJgZQFAMICJ2c6kqT28KVY6Vd+V27SoPD1zqp19PM79G1vms/mUff03+CyA3NpACwcwAgmIAQTGAiNgxoyXCzACCYgBBMYCgGEBQDCAoBhAUAwiKAQTFAIJiAEExgKAYQFAMIH4DGMfrmZFP718AAAAASUVORK5CYII=\" y=\"-9.070647\"/>\n   </g>\n   <g id=\"matplotlib.axis_3\">\n    <g id=\"xtick_4\">\n     <g id=\"line2d_7\">\n      <g>\n       <use style=\"stroke:#000000;stroke-width:0.8;\" x=\"211.308117\" xlink:href=\"#m188337e080\" y=\"108.070647\"/>\n      </g>\n     </g>\n     <g id=\"text_7\">\n      <!-- 0 -->\n      <g transform=\"translate(208.126867 122.669085)scale(0.1 -0.1)\">\n       <use xlink:href=\"#DejaVuSans-30\"/>\n      </g>\n     </g>\n    </g>\n    <g id=\"xtick_5\">\n     <g id=\"line2d_8\">\n      <g>\n       <use style=\"stroke:#000000;stroke-width:0.8;\" x=\"246.606818\" xlink:href=\"#m188337e080\" y=\"108.070647\"/>\n      </g>\n     </g>\n     <g id=\"text_8\">\n      <!-- 10 -->\n      <g transform=\"translate(240.244318 122.669085)scale(0.1 -0.1)\">\n       <use xlink:href=\"#DejaVuSans-31\"/>\n       <use x=\"63.623047\" xlink:href=\"#DejaVuSans-30\"/>\n      </g>\n     </g>\n    </g>\n    <g id=\"xtick_6\">\n     <g id=\"line2d_9\">\n      <g>\n       <use style=\"stroke:#000000;stroke-width:0.8;\" x=\"281.905519\" xlink:href=\"#m188337e080\" y=\"108.070647\"/>\n      </g>\n     </g>\n     <g id=\"text_9\">\n      <!-- 20 -->\n      <g transform=\"translate(275.543019 122.669085)scale(0.1 -0.1)\">\n       <use xlink:href=\"#DejaVuSans-32\"/>\n       <use x=\"63.623047\" xlink:href=\"#DejaVuSans-30\"/>\n      </g>\n     </g>\n    </g>\n   </g>\n   <g id=\"matplotlib.axis_4\">\n    <g id=\"ytick_4\">\n     <g id=\"line2d_10\">\n      <g>\n       <use style=\"stroke:#000000;stroke-width:0.8;\" x=\"209.543182\" xlink:href=\"#m7babf79b29\" y=\"10.999219\"/>\n      </g>\n     </g>\n     <g id=\"text_10\">\n      <!-- 0 -->\n      <g transform=\"translate(196.180682 14.798437)scale(0.1 -0.1)\">\n       <use xlink:href=\"#DejaVuSans-30\"/>\n      </g>\n     </g>\n    </g>\n    <g id=\"ytick_5\">\n     <g id=\"line2d_11\">\n      <g>\n       <use style=\"stroke:#000000;stroke-width:0.8;\" x=\"209.543182\" xlink:href=\"#m7babf79b29\" y=\"46.29792\"/>\n      </g>\n     </g>\n     <g id=\"text_11\">\n      <!-- 10 -->\n      <g transform=\"translate(189.818182 50.097139)scale(0.1 -0.1)\">\n       <use xlink:href=\"#DejaVuSans-31\"/>\n       <use x=\"63.623047\" xlink:href=\"#DejaVuSans-30\"/>\n      </g>\n     </g>\n    </g>\n    <g id=\"ytick_6\">\n     <g id=\"line2d_12\">\n      <g>\n       <use style=\"stroke:#000000;stroke-width:0.8;\" x=\"209.543182\" xlink:href=\"#m7babf79b29\" y=\"81.596621\"/>\n      </g>\n     </g>\n     <g id=\"text_12\">\n      <!-- 20 -->\n      <g transform=\"translate(189.818182 85.39584)scale(0.1 -0.1)\">\n       <use xlink:href=\"#DejaVuSans-32\"/>\n       <use x=\"63.623047\" xlink:href=\"#DejaVuSans-30\"/>\n      </g>\n     </g>\n    </g>\n   </g>\n   <g id=\"patch_8\">\n    <path d=\"M 209.543182 108.070647 \nL 209.543182 9.234284 \n\" style=\"fill:none;stroke:#000000;stroke-linecap:square;stroke-linejoin:miter;stroke-width:0.8;\"/>\n   </g>\n   <g id=\"patch_9\">\n    <path d=\"M 308.379545 108.070647 \nL 308.379545 9.234284 \n\" style=\"fill:none;stroke:#000000;stroke-linecap:square;stroke-linejoin:miter;stroke-width:0.8;\"/>\n   </g>\n   <g id=\"patch_10\">\n    <path d=\"M 209.543182 108.070647 \nL 308.379545 108.070647 \n\" style=\"fill:none;stroke:#000000;stroke-linecap:square;stroke-linejoin:miter;stroke-width:0.8;\"/>\n   </g>\n   <g id=\"patch_11\">\n    <path d=\"M 209.543182 9.234284 \nL 308.379545 9.234284 \n\" style=\"fill:none;stroke:#000000;stroke-linecap:square;stroke-linejoin:miter;stroke-width:0.8;\"/>\n   </g>\n  </g>\n  <g id=\"axes_3\">\n   <g id=\"patch_12\">\n    <path d=\"M 26.925 226.674284 \nL 125.761364 226.674284 \nL 125.761364 127.83792 \nL 26.925 127.83792 \nz\n\" style=\"fill:#ffffff;\"/>\n   </g>\n   <g clip-path=\"url(#p03b79a263c)\">\n    <image height=\"99\" id=\"imagee431c34594\" transform=\"scale(1 -1)translate(0 -99)\" width=\"99\" x=\"26.925\" xlink:href=\"data:image/png;base64,\niVBORw0KGgoAAAANSUhEUgAAAGMAAABjCAYAAACPO76VAAAD2UlEQVR4nO2cXUiTYRTHfTUsizJrlbMUkRQlrCQvVIj1YUWJBtKFRVEZSAXiVTdBBWLgRWBFUXRRUJYFBhVBmRdbRZFiKJJJhroLy48Cc6n5wWZ3zzyDyea21/+r/9/VORw2jvx2nud5X99Ny9UOTYURCMLnugHihjKAoAwgFs11A75if7JZ5BkbelTsyHOKmvPPkC49BRtOBhCUAYRhlqnJMdnqg8R6FWeeKBW12Ksfdekp2HAygKAMICgDCMPsGSbrYpEP7RpT8cQKvbsJDZwMICgDCM2od21PdXSreNQll7Ca1Di92wkKnAwgKAMIygDCMEdbT6537Vbx2/RaUbt9tFDk0dWfdOkpUDgZQFAGEIZdpn7YTSp2pcvT+VCS/IxF69JR4HAygKAMICgDCMPuGWmX7Cru2f9P1HIOtIq8p1yPjgKHkwEEZQBh2GXK2T+g4qpfO0XtvPm1yEtj8t2vGxwMbWMBwMkAgjKAoAwgDLtnTKe+O1XkVeYGkQ9bklUc9axRl55mAycDCMoAYl4sU5om79pGaPIzNmyOUHGULh3NDk4GEJQBBGUAMS/2jLibkSJ3ZrtEnlXcrOLOW7q0NCs4GUBQBhBQz9oOPJdX0uONq1Qcf9n3r4YlNCwTebm5TsXFBSWi5mr56k+LIYWTAQRlAEEZQEAdbZsyH4n8aVqMiu/W5YvaVNMXr+9js8pfUzAde6fi/iz5SNuaFn+7DB2cDCAoAwjKAAL6OqMx86GKU97I64OUk5+9vk9ETIzIK5tfqfiFY6uofcherWLXyIjPvYYCTgYQlAEE1NE2qmalyMMzNRW37ZG3W/P2nVVxZF2TqHk+qHald6+K7yXYRC0/8bA7afvmT7tBh5MBBGUAQRlAQO0Zyx/LrwhvtJxWcUeB3DPWXexScXtazozv29fv3kNcCfIk317m/kmeFHl61h1OBhCUAQTUFbgnLkuGimuqb4hadPgSr68LD9NE7grz/ifed6xXce22JPm60VGf+gwWnAwgKAMIygACes+YTl+ZPL4WFttUnLHULmoVFcdFvumM+7+Cd+JtYd44mFskcmf7d/+aDBBOBhCUAQTUFfhMxF6TD7G9/GtR8bnyFlGrHJMrb+/2cRWXvN8hatOXrc4jJlFLvMBlasFCGUBQBhCG2TM8WWv9qeIt1WWiltz6W+TOyQkVDxTFilqz1f1djkiHvI2iN5wMICgDCMNcgS8EOBlAUAYQlAEEZQBBGUBQBhCUAQRlAEEZQFAGEJQBBGUAQRlAUAYQlAEEZQBBGUBQBhCUAQRlAEEZQFAGEJQBBGUA8R+9J774GVVOewAAAABJRU5ErkJggg==\" y=\"-127.674284\"/>\n   </g>\n   <g id=\"matplotlib.axis_5\">\n    <g id=\"xtick_7\">\n     <g id=\"line2d_13\">\n      <g>\n       <use style=\"stroke:#000000;stroke-width:0.8;\" x=\"28.689935\" xlink:href=\"#m188337e080\" y=\"226.674284\"/>\n      </g>\n     </g>\n     <g id=\"text_13\">\n      <!-- 0 -->\n      <g transform=\"translate(25.508685 241.272721)scale(0.1 -0.1)\">\n       <use xlink:href=\"#DejaVuSans-30\"/>\n      </g>\n     </g>\n    </g>\n    <g id=\"xtick_8\">\n     <g id=\"line2d_14\">\n      <g>\n       <use style=\"stroke:#000000;stroke-width:0.8;\" x=\"63.988636\" xlink:href=\"#m188337e080\" y=\"226.674284\"/>\n      </g>\n     </g>\n     <g id=\"text_14\">\n      <!-- 10 -->\n      <g transform=\"translate(57.626136 241.272721)scale(0.1 -0.1)\">\n       <use xlink:href=\"#DejaVuSans-31\"/>\n       <use x=\"63.623047\" xlink:href=\"#DejaVuSans-30\"/>\n      </g>\n     </g>\n    </g>\n    <g id=\"xtick_9\">\n     <g id=\"line2d_15\">\n      <g>\n       <use style=\"stroke:#000000;stroke-width:0.8;\" x=\"99.287338\" xlink:href=\"#m188337e080\" y=\"226.674284\"/>\n      </g>\n     </g>\n     <g id=\"text_15\">\n      <!-- 20 -->\n      <g transform=\"translate(92.924838 241.272721)scale(0.1 -0.1)\">\n       <use xlink:href=\"#DejaVuSans-32\"/>\n       <use x=\"63.623047\" xlink:href=\"#DejaVuSans-30\"/>\n      </g>\n     </g>\n    </g>\n   </g>\n   <g id=\"matplotlib.axis_6\">\n    <g id=\"ytick_7\">\n     <g id=\"line2d_16\">\n      <g>\n       <use style=\"stroke:#000000;stroke-width:0.8;\" x=\"26.925\" xlink:href=\"#m7babf79b29\" y=\"129.602855\"/>\n      </g>\n     </g>\n     <g id=\"text_16\">\n      <!-- 0 -->\n      <g transform=\"translate(13.5625 133.402074)scale(0.1 -0.1)\">\n       <use xlink:href=\"#DejaVuSans-30\"/>\n      </g>\n     </g>\n    </g>\n    <g id=\"ytick_8\">\n     <g id=\"line2d_17\">\n      <g>\n       <use style=\"stroke:#000000;stroke-width:0.8;\" x=\"26.925\" xlink:href=\"#m7babf79b29\" y=\"164.901556\"/>\n      </g>\n     </g>\n     <g id=\"text_17\">\n      <!-- 10 -->\n      <g transform=\"translate(7.2 168.700775)scale(0.1 -0.1)\">\n       <use xlink:href=\"#DejaVuSans-31\"/>\n       <use x=\"63.623047\" xlink:href=\"#DejaVuSans-30\"/>\n      </g>\n     </g>\n    </g>\n    <g id=\"ytick_9\">\n     <g id=\"line2d_18\">\n      <g>\n       <use style=\"stroke:#000000;stroke-width:0.8;\" x=\"26.925\" xlink:href=\"#m7babf79b29\" y=\"200.200258\"/>\n      </g>\n     </g>\n     <g id=\"text_18\">\n      <!-- 20 -->\n      <g transform=\"translate(7.2 203.999476)scale(0.1 -0.1)\">\n       <use xlink:href=\"#DejaVuSans-32\"/>\n       <use x=\"63.623047\" xlink:href=\"#DejaVuSans-30\"/>\n      </g>\n     </g>\n    </g>\n   </g>\n   <g id=\"patch_13\">\n    <path d=\"M 26.925 226.674284 \nL 26.925 127.83792 \n\" style=\"fill:none;stroke:#000000;stroke-linecap:square;stroke-linejoin:miter;stroke-width:0.8;\"/>\n   </g>\n   <g id=\"patch_14\">\n    <path d=\"M 125.761364 226.674284 \nL 125.761364 127.83792 \n\" style=\"fill:none;stroke:#000000;stroke-linecap:square;stroke-linejoin:miter;stroke-width:0.8;\"/>\n   </g>\n   <g id=\"patch_15\">\n    <path d=\"M 26.925 226.674284 \nL 125.761364 226.674284 \n\" style=\"fill:none;stroke:#000000;stroke-linecap:square;stroke-linejoin:miter;stroke-width:0.8;\"/>\n   </g>\n   <g id=\"patch_16\">\n    <path d=\"M 26.925 127.83792 \nL 125.761364 127.83792 \n\" style=\"fill:none;stroke:#000000;stroke-linecap:square;stroke-linejoin:miter;stroke-width:0.8;\"/>\n   </g>\n  </g>\n  <g id=\"axes_4\">\n   <g id=\"patch_17\">\n    <path d=\"M 209.543182 226.674284 \nL 308.379545 226.674284 \nL 308.379545 127.83792 \nL 209.543182 127.83792 \nz\n\" style=\"fill:#ffffff;\"/>\n   </g>\n   <g clip-path=\"url(#pea7204bfbd)\">\n    <image height=\"99\" id=\"image014d38cb85\" transform=\"scale(1 -1)translate(0 -99)\" width=\"99\" x=\"209.543182\" xlink:href=\"data:image/png;base64,\niVBORw0KGgoAAAANSUhEUgAAAGMAAABjCAYAAACPO76VAAADFElEQVR4nO2dTUhUURTHZzQzNAwyxWpp9mWFVGRFVIJF1qasVWXQxzLalBG0imoXbbSEaBEEfSwiIoOggpKyklyEFcREH2JghEoihOGM7e6bE408hHffD/z/VudwZuYd+HHufXMdnsn65J7xhECQF3cDIkAyQEgGCMkAIRkgJAPEtLgb8MG3M+td3HOkJefras8dNXlZ28vIevofmgwQkgFCMkBIBgjJACEZICQDhGSAkAwQkgFCMkBIBgjJADElTm0PNj6Ku4VQaDJASAYIyQAxJfaMdcWpuFsIhSYDhGSAkAwQkgFCMkBIBgjJACEZICQDhGSAkAwQkgFCMkBMiVPbiegeDeKKxz9MLe25F00GCMkAgVqmkquqTT60tMTFpV0/TS398VPOzxneu9bkyws6s7JCU+tPzwo+M/U5bKuRoMkAIRkgJANE7HtGqrXWxde3t5namsLggT9PfheZWnPPbhfP2/XB1Po3Zkw+M8/uE9mcuLffxZWJVyE6jg5NBgjJACEZILzvGamWWpO/2xk8PqIgmW9qh3vrXLyypNfUOlZfdfHJ11tM7XTZlZzXH8mMmnz+00yOV/pHkwFCMkB4X6YObXpm8uylad+XraY2vPmXix8my03t8tkGF79vag19/cGMXZZmtHeFfm/UaDJASAYIyQAR+3FINt1vqky+YCz38cTc51l/h2uKqiO/aDJASAYI1DJ1oK7D5J2J6TF1Eg+aDBCSAUIyQKD2jFNz3pp8xfljLi7vtscYA9X2hDcs90eWTep9PtBkgJAMEEnf/+Zn6IH9lv2i5pbPyyeW3LDPO69s9vu884nQZICQDBCSAcL7npFfOtvkeXeCH5jdrWqP5JoXBxe7uKNhoamN9X2P5JqTQZMBQjJAeP8Gnh4YNPn4jmIXb2i0t50DNcEKuujCV1P7U1nh4uPXbpratiL726jbl+pdXNbHuZX9F00GCMkAIRkgvN/aitxoMkBIBgjJACEZICQDhGSAkAwQkgFCMkBIBgjJACEZICQDhGSAkAwQkgFCMkBIBgjJACEZIP4CfDR5SWzjjSsAAAAASUVORK5CYII=\" y=\"-127.674284\"/>\n   </g>\n   <g id=\"matplotlib.axis_7\">\n    <g id=\"xtick_10\">\n     <g id=\"line2d_19\">\n      <g>\n       <use style=\"stroke:#000000;stroke-width:0.8;\" x=\"211.308117\" xlink:href=\"#m188337e080\" y=\"226.674284\"/>\n      </g>\n     </g>\n     <g id=\"text_19\">\n      <!-- 0 -->\n      <g transform=\"translate(208.126867 241.272721)scale(0.1 -0.1)\">\n       <use xlink:href=\"#DejaVuSans-30\"/>\n      </g>\n     </g>\n    </g>\n    <g id=\"xtick_11\">\n     <g id=\"line2d_20\">\n      <g>\n       <use style=\"stroke:#000000;stroke-width:0.8;\" x=\"246.606818\" xlink:href=\"#m188337e080\" y=\"226.674284\"/>\n      </g>\n     </g>\n     <g id=\"text_20\">\n      <!-- 10 -->\n      <g transform=\"translate(240.244318 241.272721)scale(0.1 -0.1)\">\n       <use xlink:href=\"#DejaVuSans-31\"/>\n       <use x=\"63.623047\" xlink:href=\"#DejaVuSans-30\"/>\n      </g>\n     </g>\n    </g>\n    <g id=\"xtick_12\">\n     <g id=\"line2d_21\">\n      <g>\n       <use style=\"stroke:#000000;stroke-width:0.8;\" x=\"281.905519\" xlink:href=\"#m188337e080\" y=\"226.674284\"/>\n      </g>\n     </g>\n     <g id=\"text_21\">\n      <!-- 20 -->\n      <g transform=\"translate(275.543019 241.272721)scale(0.1 -0.1)\">\n       <use xlink:href=\"#DejaVuSans-32\"/>\n       <use x=\"63.623047\" xlink:href=\"#DejaVuSans-30\"/>\n      </g>\n     </g>\n    </g>\n   </g>\n   <g id=\"matplotlib.axis_8\">\n    <g id=\"ytick_10\">\n     <g id=\"line2d_22\">\n      <g>\n       <use style=\"stroke:#000000;stroke-width:0.8;\" x=\"209.543182\" xlink:href=\"#m7babf79b29\" y=\"129.602855\"/>\n      </g>\n     </g>\n     <g id=\"text_22\">\n      <!-- 0 -->\n      <g transform=\"translate(196.180682 133.402074)scale(0.1 -0.1)\">\n       <use xlink:href=\"#DejaVuSans-30\"/>\n      </g>\n     </g>\n    </g>\n    <g id=\"ytick_11\">\n     <g id=\"line2d_23\">\n      <g>\n       <use style=\"stroke:#000000;stroke-width:0.8;\" x=\"209.543182\" xlink:href=\"#m7babf79b29\" y=\"164.901556\"/>\n      </g>\n     </g>\n     <g id=\"text_23\">\n      <!-- 10 -->\n      <g transform=\"translate(189.818182 168.700775)scale(0.1 -0.1)\">\n       <use xlink:href=\"#DejaVuSans-31\"/>\n       <use x=\"63.623047\" xlink:href=\"#DejaVuSans-30\"/>\n      </g>\n     </g>\n    </g>\n    <g id=\"ytick_12\">\n     <g id=\"line2d_24\">\n      <g>\n       <use style=\"stroke:#000000;stroke-width:0.8;\" x=\"209.543182\" xlink:href=\"#m7babf79b29\" y=\"200.200258\"/>\n      </g>\n     </g>\n     <g id=\"text_24\">\n      <!-- 20 -->\n      <g transform=\"translate(189.818182 203.999476)scale(0.1 -0.1)\">\n       <use xlink:href=\"#DejaVuSans-32\"/>\n       <use x=\"63.623047\" xlink:href=\"#DejaVuSans-30\"/>\n      </g>\n     </g>\n    </g>\n   </g>\n   <g id=\"patch_18\">\n    <path d=\"M 209.543182 226.674284 \nL 209.543182 127.83792 \n\" style=\"fill:none;stroke:#000000;stroke-linecap:square;stroke-linejoin:miter;stroke-width:0.8;\"/>\n   </g>\n   <g id=\"patch_19\">\n    <path d=\"M 308.379545 226.674284 \nL 308.379545 127.83792 \n\" style=\"fill:none;stroke:#000000;stroke-linecap:square;stroke-linejoin:miter;stroke-width:0.8;\"/>\n   </g>\n   <g id=\"patch_20\">\n    <path d=\"M 209.543182 226.674284 \nL 308.379545 226.674284 \n\" style=\"fill:none;stroke:#000000;stroke-linecap:square;stroke-linejoin:miter;stroke-width:0.8;\"/>\n   </g>\n   <g id=\"patch_21\">\n    <path d=\"M 209.543182 127.83792 \nL 308.379545 127.83792 \n\" style=\"fill:none;stroke:#000000;stroke-linecap:square;stroke-linejoin:miter;stroke-width:0.8;\"/>\n   </g>\n  </g>\n </g>\n <defs>\n  <clipPath id=\"p3c016feddd\">\n   <rect height=\"98.836364\" width=\"98.836364\" x=\"26.925\" y=\"9.234284\"/>\n  </clipPath>\n  <clipPath id=\"pb138911b35\">\n   <rect height=\"98.836364\" width=\"98.836364\" x=\"209.543182\" y=\"9.234284\"/>\n  </clipPath>\n  <clipPath id=\"p03b79a263c\">\n   <rect height=\"98.836364\" width=\"98.836364\" x=\"26.925\" y=\"127.83792\"/>\n  </clipPath>\n  <clipPath id=\"pea7204bfbd\">\n   <rect height=\"98.836364\" width=\"98.836364\" x=\"209.543182\" y=\"127.83792\"/>\n  </clipPath>\n </defs>\n</svg>\n",
      "text/plain": [
       "<Figure size 432x288 with 4 Axes>"
      ]
     },
     "metadata": {
      "needs_background": "light"
     },
     "output_type": "display_data"
    }
   ],
   "source": [
    "ds_train, ds_test = data.get_mnist_op_dataset(\n",
    "        count_train=3000,\n",
    "        count_test=1000,\n",
    "        buffer_size=3000,\n",
    "        batch_size=16,\n",
    "        n_operands=4,\n",
    "        op=lambda args: 10*args[0]+args[1]+10*args[2]+args[3])\n",
    "\n",
    "# Visualize one example\n",
    "x1, x2, y1, y2, z = next(ds_train.as_numpy_iterator())\n",
    "plt.subplot(221)\n",
    "plt.imshow(x1[0][:,:,0])\n",
    "plt.subplot(222)\n",
    "plt.imshow(x2[0][:,:,0])\n",
    "plt.subplot(223)\n",
    "plt.imshow(y1[0][:,:,0])\n",
    "plt.subplot(224)\n",
    "plt.imshow(y2[0][:,:,0])\n",
    "print(\"Result label is %i\" % z[0])"
   ]
  },
  {
   "cell_type": "markdown",
   "metadata": {},
   "source": [
    "LTN Model and Loss"
   ]
  },
  {
   "cell_type": "code",
   "execution_count": 3,
   "metadata": {},
   "outputs": [],
   "source": [
    "### Predicates\n",
    "logits_model = baselines.SingleDigit(inputs_as_a_list=True)\n",
    "Digit = ltn.Predicate.FromLogits(logits_model, activation_function=\"softmax\")\n",
    "### Variables\n",
    "d1 = ltn.Variable(\"digits1\", range(10))\n",
    "d2 = ltn.Variable(\"digits2\", range(10))\n",
    "d3 = ltn.Variable(\"digits3\", range(10))\n",
    "d4 = ltn.Variable(\"digits4\", range(10))\n",
    "### Operators\n",
    "Not = ltn.Wrapper_Connective(ltn.fuzzy_ops.Not_Std())\n",
    "And = ltn.Wrapper_Connective(ltn.fuzzy_ops.And_Prod())\n",
    "Or = ltn.Wrapper_Connective(ltn.fuzzy_ops.Or_ProbSum())\n",
    "Implies = ltn.Wrapper_Connective(ltn.fuzzy_ops.Implies_Reichenbach())\n",
    "Forall = ltn.Wrapper_Quantifier(ltn.fuzzy_ops.Aggreg_pMeanError(),semantics=\"forall\")\n",
    "Exists = ltn.Wrapper_Quantifier(ltn.fuzzy_ops.Aggreg_pMean(),semantics=\"exists\")"
   ]
  },
  {
   "cell_type": "code",
   "execution_count": 4,
   "metadata": {},
   "outputs": [
    {
     "name": "stderr",
     "output_type": "stream",
     "text": [
      "2021-08-31 05:49:02.985619: I tensorflow/compiler/mlir/mlir_graph_optimization_pass.cc:185] None of the MLIR Optimization Passes are enabled (registered 2)\n",
      "2021-08-31 05:49:03.906036: I tensorflow/stream_executor/cuda/cuda_dnn.cc:369] Loaded cuDNN version 8202\n",
      "2021-08-31 05:49:04.490647: I tensorflow/core/platform/default/subprocess.cc:304] Start cannot spawn child process: No such file or directory\n"
     ]
    },
    {
     "data": {
      "text/plain": [
       "<tf.Tensor: shape=(), dtype=float32, numpy=0.00020378828>"
      ]
     },
     "execution_count": 4,
     "metadata": {},
     "output_type": "execute_result"
    }
   ],
   "source": [
    "# mask\n",
    "add = ltn.Function.Lambda(lambda inputs: inputs[0]+inputs[1])\n",
    "times = ltn.Function.Lambda(lambda inputs: inputs[0]*inputs[1])\n",
    "ten = ltn.Constant(10, trainable=False)\n",
    "equals = ltn.Predicate.Lambda(lambda inputs: inputs[0] == inputs[1])\n",
    "two_digit_number = lambda inputs : add([times([ten,inputs[0]]), inputs[1] ])\n",
    "\n",
    "@tf.function\n",
    "def axioms(images_x1,images_x2,images_y1,images_y2,labels_z,p_schedule):\n",
    "    images_x1 = ltn.Variable(\"x1\", images_x1)\n",
    "    images_x2 = ltn.Variable(\"x2\", images_x2)\n",
    "    images_y1 = ltn.Variable(\"y1\", images_y1)\n",
    "    images_y2 = ltn.Variable(\"y2\", images_y2)\n",
    "    labels_z = ltn.Variable(\"z\", labels_z)\n",
    "    axiom = Forall(\n",
    "            ltn.diag(images_x1,images_x2,images_y1,images_y2,labels_z),\n",
    "            Exists(\n",
    "                (d1,d2,d3,d4),\n",
    "                And(\n",
    "                    And(Digit([images_x1,d1]),Digit([images_x2,d2])),\n",
    "                    And(Digit([images_y1,d3]),Digit([images_y2,d4]))\n",
    "                ),\n",
    "                mask=equals([labels_z, add([ two_digit_number([d1,d2]), two_digit_number([d3,d4]) ]) ]),\n",
    "                p=p_schedule\n",
    "            ),\n",
    "            p=2\n",
    "        )\n",
    "    sat = axiom.tensor\n",
    "    return sat\n",
    "\n",
    "x1, x2, y1, y2, z = next(ds_train.as_numpy_iterator())\n",
    "axioms(x1, x2, y1, y2, z, tf.constant(2.))"
   ]
  },
  {
   "cell_type": "markdown",
   "metadata": {},
   "source": [
    "Optimizer, training steps and metrics"
   ]
  },
  {
   "cell_type": "code",
   "execution_count": 5,
   "metadata": {},
   "outputs": [],
   "source": [
    "optimizer = tf.keras.optimizers.Adam(0.001)\n",
    "metrics_dict = {\n",
    "    'train_loss': tf.keras.metrics.Mean(name=\"train_loss\"),\n",
    "    'train_accuracy': tf.keras.metrics.Mean(name=\"train_accuracy\"),\n",
    "    'test_loss': tf.keras.metrics.Mean(name=\"test_loss\"),\n",
    "    'test_accuracy': tf.keras.metrics.Mean(name=\"test_accuracy\")    \n",
    "}\n",
    "\n",
    "@tf.function\n",
    "def train_step(images_x1,images_x2,images_y1,images_y2,labels_z,**kwargs):\n",
    "    # loss\n",
    "    with tf.GradientTape() as tape:\n",
    "        loss = 1.- axioms(images_x1,images_x2,images_y1,images_y2,labels_z,**kwargs)\n",
    "    gradients = tape.gradient(loss, logits_model.trainable_variables)\n",
    "    optimizer.apply_gradients(zip(gradients, logits_model.trainable_variables))\n",
    "    metrics_dict['train_loss'](loss)\n",
    "    # accuracy\n",
    "    predictions_x1 = tf.argmax(logits_model(images_x1),axis=-1, output_type=tf.int32)\n",
    "    predictions_x2 = tf.argmax(logits_model(images_x2),axis=-1, output_type=tf.int32)\n",
    "    predictions_y1 = tf.argmax(logits_model(images_y1),axis=-1, output_type=tf.int32)\n",
    "    predictions_y2 = tf.argmax(logits_model(images_y2),axis=-1, output_type=tf.int32)\n",
    "    predictions_z = 10*predictions_x1+predictions_x2+10*predictions_y1+predictions_y2\n",
    "    match = tf.equal(predictions_z,tf.cast(labels_z,predictions_z.dtype))\n",
    "    metrics_dict['train_accuracy'](tf.reduce_mean(tf.cast(match,tf.float32)))\n",
    "    \n",
    "@tf.function\n",
    "def test_step(images_x1,images_x2,images_y1,images_y2,labels_z,**kwargs):\n",
    "    # loss\n",
    "    loss = 1.- axioms(images_x1,images_x2,images_y1,images_y2,labels_z,**kwargs)\n",
    "    metrics_dict['test_loss'](loss)\n",
    "    # accuracy\n",
    "    predictions_x1 = tf.argmax(logits_model(images_x1),axis=-1, output_type=tf.int32)\n",
    "    predictions_x2 = tf.argmax(logits_model(images_x2),axis=-1, output_type=tf.int32)\n",
    "    predictions_y1 = tf.argmax(logits_model(images_y1),axis=-1, output_type=tf.int32)\n",
    "    predictions_y2 = tf.argmax(logits_model(images_y2),axis=-1, output_type=tf.int32)\n",
    "    predictions_z = 10*predictions_x1+predictions_x2+10*predictions_y1+predictions_y2\n",
    "    match = tf.equal(predictions_z,tf.cast(labels_z,predictions_z.dtype))\n",
    "    metrics_dict['test_accuracy'](tf.reduce_mean(tf.cast(match,tf.float32)))"
   ]
  },
  {
   "cell_type": "markdown",
   "metadata": {},
   "source": [
    "Training"
   ]
  },
  {
   "cell_type": "code",
   "execution_count": 6,
   "metadata": {},
   "outputs": [],
   "source": [
    "from collections import defaultdict\n",
    "\n",
    "scheduled_parameters = defaultdict(lambda: {})\n",
    "for epoch in range(0,4):\n",
    "    scheduled_parameters[epoch] = {\"p_schedule\":tf.constant(1.)}\n",
    "for epoch in range(4,8):\n",
    "    scheduled_parameters[epoch] = {\"p_schedule\":tf.constant(2.)}\n",
    "for epoch in range(8,12):\n",
    "    scheduled_parameters[epoch] = {\"p_schedule\":tf.constant(4.)}\n",
    "for epoch in range(12,20):\n",
    "    scheduled_parameters[epoch] = {\"p_schedule\":tf.constant(6.)}\n"
   ]
  },
  {
   "cell_type": "code",
   "execution_count": 7,
   "metadata": {},
   "outputs": [
    {
     "name": "stdout",
     "output_type": "stream",
     "text": [
      "Epoch 0, train_loss: 0.9951, train_accuracy: 0.2786, test_loss: 0.9886, test_accuracy: 0.5873\n",
      "Epoch 1, train_loss: 0.9865, train_accuracy: 0.7207, test_loss: 0.9863, test_accuracy: 0.7044\n",
      "Epoch 2, train_loss: 0.9845, train_accuracy: 0.8032, test_loss: 0.9861, test_accuracy: 0.7004\n",
      "Epoch 3, train_loss: 0.9840, train_accuracy: 0.8248, test_loss: 0.9849, test_accuracy: 0.7500\n",
      "Epoch 4, train_loss: 0.8967, train_accuracy: 0.8268, test_loss: 0.8972, test_accuracy: 0.7817\n",
      "Epoch 5, train_loss: 0.8885, train_accuracy: 0.8733, test_loss: 0.8995, test_accuracy: 0.7718\n",
      "Epoch 6, train_loss: 0.8857, train_accuracy: 0.8953, test_loss: 0.8927, test_accuracy: 0.8204\n",
      "Epoch 7, train_loss: 0.8833, train_accuracy: 0.9049, test_loss: 0.8933, test_accuracy: 0.8145\n",
      "Epoch 8, train_loss: 0.7024, train_accuracy: 0.8803, test_loss: 0.7283, test_accuracy: 0.7887\n",
      "Epoch 9, train_loss: 0.6943, train_accuracy: 0.8906, test_loss: 0.7250, test_accuracy: 0.7996\n",
      "Epoch 10, train_loss: 0.6826, train_accuracy: 0.9189, test_loss: 0.7182, test_accuracy: 0.8165\n",
      "Epoch 11, train_loss: 0.6781, train_accuracy: 0.9292, test_loss: 0.7036, test_accuracy: 0.8522\n",
      "Epoch 12, train_loss: 0.5563, train_accuracy: 0.9275, test_loss: 0.5974, test_accuracy: 0.8492\n",
      "Epoch 13, train_loss: 0.5461, train_accuracy: 0.9392, test_loss: 0.5897, test_accuracy: 0.8581\n",
      "Epoch 14, train_loss: 0.5510, train_accuracy: 0.9362, test_loss: 0.5966, test_accuracy: 0.8482\n",
      "Epoch 15, train_loss: 0.5395, train_accuracy: 0.9478, test_loss: 0.5929, test_accuracy: 0.8562\n",
      "Epoch 16, train_loss: 0.5371, train_accuracy: 0.9511, test_loss: 0.6166, test_accuracy: 0.8145\n",
      "Epoch 17, train_loss: 0.5366, train_accuracy: 0.9511, test_loss: 0.5905, test_accuracy: 0.8552\n",
      "Epoch 18, train_loss: 0.5333, train_accuracy: 0.9551, test_loss: 0.5789, test_accuracy: 0.8750\n",
      "Epoch 19, train_loss: 0.5316, train_accuracy: 0.9574, test_loss: 0.5829, test_accuracy: 0.8700\n"
     ]
    }
   ],
   "source": [
    "commons.train(\n",
    "    20,\n",
    "    metrics_dict,\n",
    "    ds_train,\n",
    "    ds_test,\n",
    "    train_step,\n",
    "    test_step,\n",
    "    scheduled_parameters=scheduled_parameters\n",
    ")"
   ]
  },
  {
   "cell_type": "code",
   "execution_count": null,
   "metadata": {},
   "outputs": [],
   "source": []
  }
 ],
 "metadata": {
  "interpreter": {
   "hash": "e4ccb0efa59417244fa4c3b009ecf208b78a23eccf7fe2b73b3e70fcb96685f6"
  },
  "kernelspec": {
   "display_name": "ltn",
   "language": "python",
   "name": "ltn"
  },
  "language_info": {
   "codemirror_mode": {
    "name": "ipython",
    "version": 3
   },
   "file_extension": ".py",
   "mimetype": "text/x-python",
   "name": "python",
   "nbconvert_exporter": "python",
   "pygments_lexer": "ipython3",
   "version": "3.10.6"
  }
 },
 "nbformat": 4,
 "nbformat_minor": 4
}
