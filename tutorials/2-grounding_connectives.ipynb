{
 "cells": [
  {
   "cell_type": "markdown",
   "metadata": {},
   "source": [
    "# Grounding in LTN (cont.)\n",
    "\n",
    "This tutorial explains how to ground connectives and quantifiers. It expects some familiarity with the first tutorial on grounding non-logical symbols (constants, variables, functions and predicates)."
   ]
  },
  {
   "cell_type": "code",
   "execution_count": 1,
   "metadata": {
    "ExecuteTime": {
     "end_time": "2025-04-29T17:22:10.898112400Z",
     "start_time": "2025-04-29T17:22:00.324587100Z"
    }
   },
   "outputs": [],
   "source": [
    "import ltn\n",
    "import numpy as np\n",
    "import tensorflow as tf"
   ]
  },
  {
   "cell_type": "markdown",
   "metadata": {},
   "source": [
    "## Connectives\n",
    "\n",
    "LTN suppports various logical connectives. They are grounded using fuzzy semantics. We have implemented the most common fuzzy logic operators using tensorflow primitives in `ltn.fuzzy_ops`. We recommend to use the following configuration:\n",
    "* not: the standard negation  $\\lnot u = 1-u$,\n",
    "* and: the product t-norm $u \\land v = uv$,\n",
    "* or: the product t-conorm (probabilistic sum) $u \\lor v = u+v-uv$,\n",
    "* implication: the Reichenbach implication $u \\rightarrow v = 1 - u + uv$,\n",
    "\n",
    "where $u$ and $v$ denote two truth values in $[0,1]$. For more details on choosing the right operators for your task, read the complementary notebook."
   ]
  },
  {
   "cell_type": "code",
   "execution_count": 2,
   "metadata": {
    "ExecuteTime": {
     "end_time": "2025-04-29T17:22:10.912567700Z",
     "start_time": "2025-04-29T17:22:10.898112400Z"
    }
   },
   "outputs": [],
   "source": [
    "Not = ltn.Wrapper_Connective(ltn.fuzzy_ops.Not_Std())\n",
    "And = ltn.Wrapper_Connective(ltn.fuzzy_ops.And_Prod())\n",
    "Or = ltn.Wrapper_Connective(ltn.fuzzy_ops.Or_ProbSum())\n",
    "Implies = ltn.Wrapper_Connective(ltn.fuzzy_ops.Implies_Reichenbach())"
   ]
  },
  {
   "cell_type": "markdown",
   "metadata": {},
   "source": [
    "The wrapper `ltn.Wrapper_Connective` allows to use the operators with LTN formulas. It takes care of combining sub-formulas that have different variables appearing in them (the sub-formulas may have different dimensions that need to be \"broadcasted\")."
   ]
  },
  {
   "cell_type": "code",
   "execution_count": 3,
   "metadata": {
    "ExecuteTime": {
     "end_time": "2025-04-29T17:22:11.410638100Z",
     "start_time": "2025-04-29T17:22:10.908561700Z"
    }
   },
   "outputs": [
    {
     "data": {
      "text/plain": "ltn.Formula(tensor=0.01775427535176277, free_vars=[])"
     },
     "execution_count": 3,
     "metadata": {},
     "output_type": "execute_result"
    }
   ],
   "source": [
    "x = ltn.Variable('x',np.random.normal(0.,1.,(10,2))) # 10 values in R²\n",
    "y = ltn.Variable('y',np.random.normal(0.,2.,(5,2))) # 5 values in R²\n",
    "\n",
    "c1 = ltn.Constant([0.5,0.0], trainable=False)\n",
    "c2 = ltn.Constant([4.0,2.0], trainable=False)\n",
    "\n",
    "Eq = ltn.Predicate.Lambda(lambda args: tf.exp(-tf.norm(args[0]-args[1],axis=1))) # predicate measuring similarity\n",
    "\n",
    "Eq([c1,c2])"
   ]
  },
  {
   "cell_type": "code",
   "execution_count": 4,
   "metadata": {
    "ExecuteTime": {
     "end_time": "2025-04-29T17:22:11.425707800Z",
     "start_time": "2025-04-29T17:22:11.406636200Z"
    }
   },
   "outputs": [
    {
     "data": {
      "text/plain": "ltn.Formula(tensor=0.9822457432746887, free_vars=[])"
     },
     "execution_count": 4,
     "metadata": {},
     "output_type": "execute_result"
    }
   ],
   "source": [
    "Not(Eq([c1,c2]))"
   ]
  },
  {
   "cell_type": "code",
   "execution_count": 5,
   "metadata": {
    "ExecuteTime": {
     "end_time": "2025-04-29T17:22:11.504436800Z",
     "start_time": "2025-04-29T17:22:11.421683400Z"
    }
   },
   "outputs": [
    {
     "data": {
      "text/plain": "ltn.Formula(tensor=0.9824644327163696, free_vars=[])"
     },
     "execution_count": 5,
     "metadata": {},
     "output_type": "execute_result"
    }
   ],
   "source": [
    "Implies(Eq([c1,c2]), Eq([c2,c1]))"
   ]
  },
  {
   "cell_type": "code",
   "execution_count": 6,
   "metadata": {
    "ExecuteTime": {
     "end_time": "2025-04-29T17:22:11.613746600Z",
     "start_time": "2025-04-29T17:22:11.450267100Z"
    }
   },
   "outputs": [
    {
     "data": {
      "text/plain": "ltn.Formula(tensor=[0.00901127 0.00025654 0.00037703 0.00124846 0.01122232 0.00096415\n 0.01149682 0.00820764 0.0008385  0.00942713], free_vars=['x'])"
     },
     "execution_count": 6,
     "metadata": {},
     "output_type": "execute_result"
    }
   ],
   "source": [
    "# Notice the dimension of the outcome: the result is evaluated for every x. \n",
    "And(Eq([x,c1]), Eq([x,c2]))"
   ]
  },
  {
   "cell_type": "code",
   "execution_count": 7,
   "metadata": {
    "ExecuteTime": {
     "end_time": "2025-04-29T17:22:11.634149900Z",
     "start_time": "2025-04-29T17:22:11.506436200Z"
    }
   },
   "outputs": [
    {
     "data": {
      "text/plain": "ltn.Formula(tensor=[[0.34951475 0.3872957  0.35767353 0.806755   0.46382007]\n [0.6583429  0.27672967 0.14298017 0.15572375 0.12005203]\n [0.31957358 0.86959445 0.14900982 0.2441583  0.1774343 ]\n [0.45064244 0.663148   0.2853911  0.39538488 0.29648215]\n [0.37355357 0.40507257 0.38823077 0.7561674  0.4633855 ]\n [0.29771024 0.5812746  0.21300118 0.38740093 0.27458543]\n [0.42646345 0.43158808 0.54606897 0.5007695  0.41557923]\n [0.6621703  0.67272365 0.6594818  0.70286214 0.6302545 ]\n [0.1776562  0.304664   0.14583361 0.36560005 0.32764378]\n [0.7057899  0.7391838  0.694895   0.8211547  0.70261323]], free_vars=['x', 'y'])"
     },
     "execution_count": 7,
     "metadata": {},
     "output_type": "execute_result"
    }
   ],
   "source": [
    "# Notice the dimensions of the outcome: the result is evaluated for every x and y.\n",
    "# Notice also that y did not appear in the 1st argument of `Or`; \n",
    "# the connective broadcasts the results of its two arguments to match.\n",
    "Or(Eq([x,c1]), Eq([x,y]))"
   ]
  },
  {
   "cell_type": "markdown",
   "metadata": {},
   "source": [
    "## Quantifiers\n",
    "\n",
    "LTN suppports universal and existential quantification. They are grounded using aggregation operators. We recommend using the following two operators:\n",
    "\n",
    "- existential quantification (\"exists\"):  \n",
    "the generalized mean (`pMean`) $\\mathrm{pM}(u_1,\\dots,u_n) = \\biggl( \\frac{1}{n} \\sum\\limits_{i=1}^n u_i^p \\biggr)^{\\frac{1}{p}} \\qquad p \\geq 1$,\n",
    "- universal quantification (\"for all\"):  \n",
    "the generalized mean of \"the deviations w.r.t. the truth\" (`pMeanError`) $\\mathrm{pME}(u_1,\\dots,u_n) = 1 - \\biggl( \\frac{1}{n} \\sum\\limits_{i=1}^n (1-u_i)^p \\biggr)^{\\frac{1}{p}} \\qquad p \\geq 1$,\n",
    "\n",
    "where $u_1,\\dots,u_n$ is a list of truth values in $[0,1]$. "
   ]
  },
  {
   "cell_type": "code",
   "execution_count": 8,
   "metadata": {
    "ExecuteTime": {
     "end_time": "2025-04-29T17:22:11.636148800Z",
     "start_time": "2025-04-29T17:22:11.552296Z"
    }
   },
   "outputs": [],
   "source": [
    "Forall = ltn.Wrapper_Quantifier(ltn.fuzzy_ops.Aggreg_pMeanError(p=2),semantics=\"forall\")\n",
    "Exists = ltn.Wrapper_Quantifier(ltn.fuzzy_ops.Aggreg_pMean(p=5),semantics=\"exists\")"
   ]
  },
  {
   "cell_type": "markdown",
   "metadata": {},
   "source": [
    "The wrapper `ltn.Wrapper_Quantifier` allows to use the aggregators with LTN formulas. It takes care of selecting the tensor dimensions to aggregate, given some variables in arguments."
   ]
  },
  {
   "cell_type": "code",
   "execution_count": 9,
   "metadata": {
    "ExecuteTime": {
     "end_time": "2025-04-29T17:22:11.735468400Z",
     "start_time": "2025-04-29T17:22:11.558824800Z"
    }
   },
   "outputs": [
    {
     "data": {
      "text/plain": "ltn.Formula(tensor=[[0.13913788 0.04129579 0.4505077  0.11257701 0.00570513]\n [0.07342704 0.04386092 0.8697831  0.08001148 0.00475762]\n [0.06755286 0.05555656 0.7513561  0.0610018  0.00569919]\n [0.44323435 0.04678869 0.14137983 0.07633504 0.01133329]\n [0.13209511 0.18097317 0.15823844 0.02581977 0.02677612]\n [0.08895437 0.01794552 0.33261845 0.22875914 0.00244833]\n [0.15650532 0.07605473 0.34678742 0.06287432 0.01059121]\n [0.06954765 0.1193286  0.34979942 0.0325878  0.011653  ]\n [0.09554081 0.0181297  0.3208171  0.23522575 0.00253532]\n [0.2878225  0.07486501 0.17988682 0.05629261 0.01497131]], free_vars=['x', 'y'])"
     },
     "execution_count": 9,
     "metadata": {},
     "output_type": "execute_result"
    }
   ],
   "source": [
    "x = ltn.Variable('x',np.random.normal(0.,1.,(10,2))) # 10 values in R²\n",
    "y = ltn.Variable('y',np.random.normal(0.,2.,(5,2))) # 5 values in R²\n",
    "\n",
    "Eq = ltn.Predicate.Lambda(lambda args: tf.exp(-tf.norm(args[0]-args[1],axis=1))) # predicate measuring similarity\n",
    "\n",
    "Eq([x,y])"
   ]
  },
  {
   "cell_type": "code",
   "execution_count": 10,
   "metadata": {
    "ExecuteTime": {
     "end_time": "2025-04-29T17:22:11.769671800Z",
     "start_time": "2025-04-29T17:22:11.594746300Z"
    }
   },
   "outputs": [
    {
     "data": {
      "text/plain": "ltn.Formula(tensor=[0.14764827 0.06627309 0.34765023 0.09433275 0.0096215 ], free_vars=['y'])"
     },
     "execution_count": 10,
     "metadata": {},
     "output_type": "execute_result"
    }
   ],
   "source": [
    "Forall(x,Eq([x,y]))"
   ]
  },
  {
   "cell_type": "code",
   "execution_count": 11,
   "metadata": {
    "ExecuteTime": {
     "end_time": "2025-04-29T17:22:11.816311600Z",
     "start_time": "2025-04-29T17:22:11.629143200Z"
    }
   },
   "outputs": [
    {
     "data": {
      "text/plain": "ltn.Formula(tensor=0.12535810470581055, free_vars=[])"
     },
     "execution_count": 11,
     "metadata": {},
     "output_type": "execute_result"
    }
   ],
   "source": [
    "Forall((x,y),Eq([x,y]))"
   ]
  },
  {
   "cell_type": "code",
   "execution_count": 12,
   "metadata": {
    "ExecuteTime": {
     "end_time": "2025-04-29T17:22:11.830311600Z",
     "start_time": "2025-04-29T17:22:11.653191900Z"
    }
   },
   "outputs": [
    {
     "data": {
      "text/plain": "ltn.Formula(tensor=0.436784565448761, free_vars=[])"
     },
     "execution_count": 12,
     "metadata": {},
     "output_type": "execute_result"
    }
   ],
   "source": [
    "Exists((x,y),Eq([x,y]))"
   ]
  },
  {
   "cell_type": "code",
   "execution_count": 13,
   "metadata": {
    "ExecuteTime": {
     "end_time": "2025-04-29T17:22:12.025592700Z",
     "start_time": "2025-04-29T17:22:11.675779600Z"
    }
   },
   "outputs": [
    {
     "data": {
      "text/plain": "ltn.Formula(tensor=0.30266571044921875, free_vars=[])"
     },
     "execution_count": 13,
     "metadata": {},
     "output_type": "execute_result"
    }
   ],
   "source": [
    "Forall(x, Exists(y, Eq([x,y])))"
   ]
  },
  {
   "cell_type": "markdown",
   "metadata": {},
   "source": [
    "`pMean` can be understood as a smooth-maximum that depends on the hyper-paramer $p$:\n",
    "- $p \\to 1$: the operator tends to `mean`,\n",
    "- $p \\to +\\infty$: the operator tends to `max`.\n",
    "\n",
    "Similarly, `pMeanError` can be understood as a smooth-minimum:\n",
    "- $p \\to 1$: the operator tends to `mean`,\n",
    "- $p \\to +\\infty$: the operator tends to `min`.\n",
    "\n",
    "Therefore, $p$ offers flexibility in writing more or less strict formulas, to account for outliers in the data depending on the application. Note that this can have strong implications for training (see complementary notebook). One can set a default value for $p$ when initializing the operator, or can use different values at each call of the operator."
   ]
  },
  {
   "cell_type": "code",
   "execution_count": 14,
   "metadata": {
    "ExecuteTime": {
     "end_time": "2025-04-29T17:22:12.028572300Z",
     "start_time": "2025-04-29T17:22:11.701639200Z"
    }
   },
   "outputs": [
    {
     "data": {
      "text/plain": "ltn.Formula(tensor=0.4135896563529968, free_vars=[])"
     },
     "execution_count": 14,
     "metadata": {},
     "output_type": "execute_result"
    }
   ],
   "source": [
    "Forall(x,Eq([x,c1]),p=2)"
   ]
  },
  {
   "cell_type": "code",
   "execution_count": 15,
   "metadata": {
    "ExecuteTime": {
     "end_time": "2025-04-29T17:22:12.067377800Z",
     "start_time": "2025-04-29T17:22:11.720154900Z"
    }
   },
   "outputs": [
    {
     "data": {
      "text/plain": "ltn.Formula(tensor=0.33392906188964844, free_vars=[])"
     },
     "execution_count": 15,
     "metadata": {},
     "output_type": "execute_result"
    }
   ],
   "source": [
    "Forall(x,Eq([x,c1]),p=10)"
   ]
  },
  {
   "cell_type": "code",
   "execution_count": 16,
   "metadata": {
    "ExecuteTime": {
     "end_time": "2025-04-29T17:22:12.080370200Z",
     "start_time": "2025-04-29T17:22:11.739472800Z"
    }
   },
   "outputs": [
    {
     "data": {
      "text/plain": "ltn.Formula(tensor=0.4701123833656311, free_vars=[])"
     },
     "execution_count": 16,
     "metadata": {},
     "output_type": "execute_result"
    }
   ],
   "source": [
    "Exists(x,Eq([x,c1]),p=2)"
   ]
  },
  {
   "cell_type": "code",
   "execution_count": 17,
   "metadata": {
    "ExecuteTime": {
     "end_time": "2025-04-29T17:22:12.099370800Z",
     "start_time": "2025-04-29T17:22:11.758670Z"
    }
   },
   "outputs": [
    {
     "data": {
      "text/plain": "ltn.Formula(tensor=0.6751344799995422, free_vars=[])"
     },
     "execution_count": 17,
     "metadata": {},
     "output_type": "execute_result"
    }
   ],
   "source": [
    "Exists(x,Eq([x,c1]),p=10)"
   ]
  },
  {
   "cell_type": "markdown",
   "metadata": {},
   "source": [
    "## Diagonal Quantification\n",
    "\n",
    "Given 2 (or more) variables, there are scenarios where one wants to express statements about specific pairs (or tuples) only, such that the $i$-th tuple contains the $i$-th instances of the variables. We allow this using `ltn.diag`. **Note**: diagonal quantification assumes that the variables have the same number of individuals.\n",
    "\n",
    "In simplified pseudo-code, the usual quantification would compute:\n",
    "```python\n",
    "for x_i in x:\n",
    "    for y_j in y:\n",
    "        results.append(P(x_i,y_j))\n",
    "aggregate(results)\n",
    "```\n",
    "In contrast, diagonal quantification would compute:\n",
    "```python\n",
    "for x_i, y_i in zip(x,y):\n",
    "    results.append(P(x_i,y_i))\n",
    "aggregate(results)\n",
    "```\n",
    "\n",
    "We illustrate `ltn.diag` in the following setting: \n",
    "- the variable $x$ denotes 100 individuals in $\\mathbb{R}^{2\\times2}$, \n",
    "- the variable $l$ denotes 100 one-hot labels in $\\mathbb{N}^3$ (3 possible classes),\n",
    "- $l$ is grounded according to $x$ such that each pair $(x_i,l_i)$, for $i=0..100$ denotes one correct example from the dataset,\n",
    "- the classifier $C(x,l)$ gives a confidence value in $[0,1]$ of the sample $x$ corresponding to the label $l$."
   ]
  },
  {
   "cell_type": "code",
   "execution_count": 18,
   "metadata": {
    "ExecuteTime": {
     "end_time": "2025-04-29T17:22:12.113372900Z",
     "start_time": "2025-04-29T17:22:11.781917100Z"
    }
   },
   "outputs": [],
   "source": [
    "# The values are generated at random, for the sake of illustration.\n",
    "# In a real scenario, they would come from a dataset.\n",
    "samples = np.random.rand(100,2,2) # 100 R^{2x2} values \n",
    "labels = np.random.randint(3, size=100) # 100 labels (class 0/1/2) that correspond to each sample \n",
    "onehot_labels = tf.one_hot(labels,depth=3)\n",
    "\n",
    "x = ltn.Variable(\"x\",samples) \n",
    "l = ltn.Variable(\"l\",onehot_labels)\n",
    "\n",
    "class ModelC(tf.keras.Model):\n",
    "    def __init__(self):\n",
    "        super(ModelC, self).__init__()\n",
    "        self.flatten = tf.keras.layers.Flatten()\n",
    "        self.dense1 = tf.keras.layers.Dense(5, activation=tf.nn.elu)\n",
    "        self.dense2 = tf.keras.layers.Dense(3, activation=tf.nn.softmax)\n",
    "    def call(self, inputs):\n",
    "        x, l = inputs[0], inputs[1]\n",
    "        x = self.flatten(x)\n",
    "        x = self.dense1(x)\n",
    "        x = self.dense2(x)\n",
    "        return tf.math.reduce_sum(x*l,axis=1)\n",
    "\n",
    "C = ltn.Predicate(ModelC())"
   ]
  },
  {
   "cell_type": "markdown",
   "metadata": {},
   "source": [
    "If some variables are marked using `ltn.diag`, LTN will only compute their \"zipped\" results (instead of the usual \"broadcasting\")."
   ]
  },
  {
   "cell_type": "code",
   "execution_count": 19,
   "metadata": {
    "ExecuteTime": {
     "end_time": "2025-04-29T17:22:12.151373200Z",
     "start_time": "2025-04-29T17:22:11.812312500Z"
    }
   },
   "outputs": [
    {
     "name": "stdout",
     "output_type": "stream",
     "text": [
      "(100, 100)\n",
      "(100,)\n",
      "(100, 100)\n"
     ]
    }
   ],
   "source": [
    "print(C([x,l]).tensor.shape) # Computes the 100x100 combinations\n",
    "ltn.diag(x,l) # sets the diag behavior for x and l\n",
    "print(C([x,l]).tensor.shape) # Computes the 100 zipped combinations\n",
    "ltn.undiag(x,l) # resets the normal behavior\n",
    "print(C([x,l]).tensor.shape) # Computes the 100x100 combinations"
   ]
  },
  {
   "cell_type": "markdown",
   "metadata": {},
   "source": [
    "In practice, `ltn.diag` is designed to be used with quantifiers. \n",
    "Every quantifier automatically calls `ltn.undiag` after the aggregation is performed, so that the variables keep their normal behavior outside of the formula.\n",
    "Therefore, it is recommended to use `ltn.diag` only in quantified formulas as follows."
   ]
  },
  {
   "cell_type": "code",
   "execution_count": 20,
   "metadata": {
    "ExecuteTime": {
     "end_time": "2025-04-29T17:22:12.154365200Z",
     "start_time": "2025-04-29T17:22:11.999432200Z"
    }
   },
   "outputs": [
    {
     "data": {
      "text/plain": "ltn.Formula(tensor=0.33387333154678345, free_vars=[])"
     },
     "execution_count": 20,
     "metadata": {},
     "output_type": "execute_result"
    }
   ],
   "source": [
    "Forall(ltn.diag(x,l), C([x,l])) # Aggregates only on the 100 \"zipped\" pairs.\n",
    "                                # Automatically calls `ltn.undiag` so the behavior of x/l is unchanged outside of this formula."
   ]
  },
  {
   "cell_type": "markdown",
   "metadata": {},
   "source": [
    "## Guarded Quantifiers\n",
    "\n",
    "One may wish to quantify over a set of elements whose grounding satisfy some **boolean** condition. Let us assume $x$ is a variable from some domain and $m$ is a mask function that returns boolean values (that is, $0$ or $1$, not continuous truth degrees in $[0,1]$) for each element of the domain.   \n",
    "In guarded quantification, one has quantifications of the form\n",
    "$$\n",
    "(\\forall x: m(x)) \\phi(x)\n",
    "$$\n",
    "which means \"every x satisfying $m(x)$ also satisfies $\\phi(x)$\", or\n",
    "$$\n",
    "(\\exists x: m(x)) \\phi(x)\n",
    "$$\n",
    "which means \"some x satisfying $m(x)$ also satisfies $\\phi(x)$\".\n",
    "\n",
    "The mask $m$ can also depend on other variables in the formula. For instance, the quantification $\\exists y (\\forall x:m(x,y)) \\phi(x,y)$ is also a valid sentence.\n",
    "\n",
    "Let us consider the following example, that states that there exists an euclidian distance $d$ below which all pairs of points $x$, $y$ should be considered as similar:\n",
    "$\\exists d \\ \\forall x,y : \\mathrm{dist}(x,y) < d \\ ( \\mathrm{Eq}(x,y))) $"
   ]
  },
  {
   "cell_type": "code",
   "execution_count": 21,
   "metadata": {
    "ExecuteTime": {
     "end_time": "2025-04-29T17:22:12.449393800Z",
     "start_time": "2025-04-29T17:22:12.019570Z"
    }
   },
   "outputs": [],
   "source": [
    "Eq = ltn.Predicate.Lambda(lambda args: tf.exp(-tf.norm(args[0]-args[1],axis=1))) # predicate measuring similarity\n",
    "\n",
    "points = np.random.rand(50,2) # 50 values in [0,1]^2\n",
    "x = ltn.Variable(\"x\",points)\n",
    "y = ltn.Variable(\"y\",points)\n",
    "d = ltn.Variable(\"d\",[.1,.2,.3,.4,.5,.6,.7,.8,.9])"
   ]
  },
  {
   "cell_type": "code",
   "execution_count": 22,
   "metadata": {
    "ExecuteTime": {
     "end_time": "2025-04-29T17:22:12.533400900Z",
     "start_time": "2025-04-29T17:22:12.038369100Z"
    }
   },
   "outputs": [
    {
     "data": {
      "text/plain": "ltn.Formula(tensor=0.7804231643676758, free_vars=[])"
     },
     "execution_count": 22,
     "metadata": {},
     "output_type": "execute_result"
    }
   ],
   "source": [
    "is_greater_than = ltn.Predicate.Lambda(lambda inputs: inputs[0] > inputs[1]) # boolean predicate measuring greater than\n",
    "eucl_dist = ltn.Function.Lambda(\n",
    "      lambda inputs: tf.expand_dims(tf.norm(inputs[0]-inputs[1],axis=1),axis=1)\n",
    ") # function measuring euclidian distance\n",
    "\n",
    "\n",
    "Exists(d, \n",
    "      Forall([x,y],\n",
    "            Eq([x,y]),\n",
    "            mask = is_greater_than([d, eucl_dist([x,y])])\n",
    "      )\n",
    ")"
   ]
  },
  {
   "cell_type": "markdown",
   "metadata": {},
   "source": [
    "The guarded option is particularly useful to propagate gradients (see notebook on learning) over only a subset of the domains, that verifies the condition $m$."
   ]
  }
 ],
 "metadata": {
  "interpreter": {
   "hash": "889985fd10eb245a43f2ae5f5aa0c555254f5b898fe16071f1c89d06fa8d76a2"
  },
  "kernelspec": {
   "name": "python3",
   "language": "python",
   "display_name": "Python 3 (ipykernel)"
  },
  "language_info": {
   "codemirror_mode": {
    "name": "ipython",
    "version": 3
   },
   "file_extension": ".py",
   "mimetype": "text/x-python",
   "name": "python",
   "nbconvert_exporter": "python",
   "pygments_lexer": "ipython3",
   "version": "3.9.6"
  }
 },
 "nbformat": 4,
 "nbformat_minor": 4
}
